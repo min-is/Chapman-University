{
 "cells": [
  {
   "cell_type": "code",
   "execution_count": 1,
   "metadata": {},
   "outputs": [],
   "source": [
    "import pip\n",
    "\n",
    "def install(package):\n",
    "  pip.main(['install', package])\n",
    "\n",
    "try:\n",
    "  import warnings\n",
    "  warnings.filterwarnings('ignore')\n",
    "  import pandas as pd\n",
    "  import numpy as np\n",
    "  import uuid\n",
    "  import random\n",
    "  import datetime\n",
    "\n",
    "  from plotnine import *\n",
    "  import statsmodels.api as sm\n",
    "  import sys\n",
    "  from sklearn.linear_model import LogisticRegression \n",
    "  from sklearn.preprocessing import StandardScaler \n",
    "  from sklearn.metrics import mean_squared_error, mean_absolute_error, r2_score\n",
    "  from sklearn.model_selection import train_test_split\n",
    "  from sklearn.model_selection import KFold\n",
    "  from sklearn.model_selection import LeaveOneOut\n",
    "  import seaborn as sns\n",
    "  import csv\n",
    "  %matplotlib inline\n",
    "except ImportError:\n",
    "  print('Modules not installed')\n",
    "  install('pandas')\n",
    "  install('sklearn')\n",
    "  install('matplotlib')\n",
    "  install('plotnine')\n",
    "  install('statsmodels')\n",
    "  install('seaborn')"
   ]
  },
  {
   "cell_type": "code",
   "execution_count": 2,
   "metadata": {},
   "outputs": [
    {
     "data": {
      "text/html": [
       "<div>\n",
       "<style scoped>\n",
       "    .dataframe tbody tr th:only-of-type {\n",
       "        vertical-align: middle;\n",
       "    }\n",
       "\n",
       "    .dataframe tbody tr th {\n",
       "        vertical-align: top;\n",
       "    }\n",
       "\n",
       "    .dataframe thead th {\n",
       "        text-align: right;\n",
       "    }\n",
       "</style>\n",
       "<table border=\"1\" class=\"dataframe\">\n",
       "  <thead>\n",
       "    <tr style=\"text-align: right;\">\n",
       "      <th></th>\n",
       "      <th>Club</th>\n",
       "      <th>Distance</th>\n",
       "      <th>Confidence</th>\n",
       "      <th>Ball Flight</th>\n",
       "    </tr>\n",
       "  </thead>\n",
       "  <tbody>\n",
       "    <tr>\n",
       "      <th>0</th>\n",
       "      <td>driver</td>\n",
       "      <td>253</td>\n",
       "      <td>8</td>\n",
       "      <td>fade</td>\n",
       "    </tr>\n",
       "    <tr>\n",
       "      <th>1</th>\n",
       "      <td>driver</td>\n",
       "      <td>256</td>\n",
       "      <td>9</td>\n",
       "      <td>straight</td>\n",
       "    </tr>\n",
       "    <tr>\n",
       "      <th>2</th>\n",
       "      <td>9 iron</td>\n",
       "      <td>124</td>\n",
       "      <td>9</td>\n",
       "      <td>straight</td>\n",
       "    </tr>\n",
       "  </tbody>\n",
       "</table>\n",
       "</div>"
      ],
      "text/plain": [
       "     Club  Distance  Confidence Ball Flight\n",
       "0  driver       253           8        fade\n",
       "1  driver       256           9    straight\n",
       "2  9 iron       124           9    straight"
      ]
     },
     "execution_count": 2,
     "metadata": {},
     "output_type": "execute_result"
    }
   ],
   "source": [
    "url = 'https://raw.githubusercontent.com/min-is/Chapman-University/main/Personal%20Projects/test.csv'\n",
    "\n",
    "dfxd = pd.read_csv(url)\n",
    "\n",
    "dfxd"
   ]
  }
 ],
 "metadata": {
  "kernelspec": {
   "display_name": "Python 3.9.1 64-bit",
   "language": "python",
   "name": "python3"
  },
  "language_info": {
   "codemirror_mode": {
    "name": "ipython",
    "version": 3
   },
   "file_extension": ".py",
   "mimetype": "text/x-python",
   "name": "python",
   "nbconvert_exporter": "python",
   "pygments_lexer": "ipython3",
   "version": "3.9.1"
  },
  "orig_nbformat": 4,
  "vscode": {
   "interpreter": {
    "hash": "222e7bf3b72099166641929ad5df5e59e5d5040fd0a9d7b9ad2af72bf6bc4526"
   }
  }
 },
 "nbformat": 4,
 "nbformat_minor": 2
}

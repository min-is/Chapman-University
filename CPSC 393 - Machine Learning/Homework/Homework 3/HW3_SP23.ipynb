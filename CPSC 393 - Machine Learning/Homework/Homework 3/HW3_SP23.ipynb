{
  "cells": [
    {
      "cell_type": "markdown",
      "metadata": {
        "id": "6f_gLhXU5Z4r"
      },
      "source": [
        "# Homework 3 (Convolutional Neural Networks)\n",
        "\n",
        "Choose a dataset that you're interested in from among these options (or choose your own data set as long as it's large enough and **you check with me** in advance to make sure it'll work):\n",
        "\n",
        "- [Grape Disease Detection Data](https://www.kaggle.com/datasets/rm1000/augmented-grape-disease-detection-dataset)\n",
        "- [Indian Bird Data](https://www.kaggle.com/datasets/arjunbasandrai/25-indian-bird-species-with-226k-images)\n",
        "- [Skin Cancer Classification](https://www.kaggle.com/datasets/kylegraupe/skin-cancer-binary-classification-dataset)\n",
        "- [Fruit and Veg Detection Data](https://www.kaggle.com/datasets/kritikseth/fruit-and-vegetable-image-recognition)\n",
        "- [Large Scale Fish Data](https://www.kaggle.com/datasets/crowww/a-large-scale-fish-dataset)\n",
        "- [Berkeley Segmentation Data](https://www.kaggle.com/datasets/balraj98/berkeley-segmentation-dataset-500-bsds500)\n",
        "\n",
        "Then Build a Deep CONVOLUTIONAL Neural Network (No Recurrent Layers, no Transfer Learning unless approved by Dr. P ahead of time, no Generative Models) using keras/tensorflow (at least 5 Convolutional Layers, and at least 3 Pooling Layers) to do one of the following tasks:\n",
        "\n",
        "- Classify Images (e.g. Hot Dog vs. Not a Hot Dog)\n",
        "- Compress Images (e.g. with a Denoising Convolutional AutoEncoder)\n",
        "- Detect/Segment Objects (e.g. what pixels in the image contain a cat?)\n",
        "\n",
        "Make sure that:\n",
        "\n",
        "- your NN has some sort of regularization (or multiple types if needed)\n",
        "- you've properly formatted and inputted your data into the network\n",
        "- your model architechture and loss function are appropriate for the problem\n",
        "- you print out at least 2 metrics for both train and test data to examine\n",
        "\n",
        "\n",
        "Then create a **technical report** discussing your model building process, the results, and your reflection on it. The report should follow the format in the example including an Introduction, Analysis, Methods, Results, and Reflection section."
      ]
    },
    {
      "cell_type": "markdown",
      "metadata": {
        "id": "MO94-Ovd5Z4t"
      },
      "source": [
        "# Introduction\n",
        "An introduction should introduce the problem you're working on, give some background and relevant detail for the reader, and explain why it is important. \n",
        "\n",
        "# Analysis \n",
        "Any exploratory analysis of your data, and general summarization of the data (e.g. summary statistics, correlation heatmaps, graphs, information about the data...). This can also include any cleaning and joining you did. \n",
        "\n",
        "# Methods\n",
        "Explain the structure of your model and your approach to building it. This can also include changes you made to your model in the process of building it. Someone should be able to read your methods section and *generally* be able to tell exactly what architechture you used. \n",
        "\n",
        "# Results\n",
        "Detailed discussion of how your model performed, and your discussion of how your model performed.\n",
        "\n",
        "# Reflection\n",
        "Reflections on what you learned/discovered in the process of doing the assignment. Things you would do differently in the future, ways you'll approach similar problems in the future, etc.\n"
      ]
    },
    {
      "cell_type": "markdown",
      "metadata": {
        "id": "NAswDZMj5Z4t"
      },
      "source": [
        "# What to Turn In\n",
        "\n",
        "- PDF of your technical report\n",
        "- your code as a .py, .ipynb, or link to github (you must turn it in either as a file, or a link to something that has timestamps of when the file was last edited)\n",
        "- a README file as a .txt or .md"
      ]
    },
    {
      "cell_type": "code",
      "execution_count": 1,
      "metadata": {},
      "outputs": [],
      "source": [
        "import warnings\n",
        "warnings.filterwarnings('ignore')\n",
        "\n",
        "import pandas as pd\n",
        "import numpy as np\n",
        "\n",
        "import tensorflow as tf\n",
        "import tensorflow.keras as kb\n",
        "from tensorflow.keras import backend"
      ]
    },
    {
      "cell_type": "code",
      "execution_count": null,
      "metadata": {},
      "outputs": [],
      "source": []
    }
  ],
  "metadata": {
    "colab": {
      "provenance": []
    },
    "interpreter": {
      "hash": "aee8b7b246df8f9039afb4144a1f6fd8d2ca17a180786b69acc140d282b71a49"
    },
    "kernelspec": {
      "display_name": "Python 3.8.5 64-bit",
      "language": "python",
      "name": "python3"
    },
    "language_info": {
      "codemirror_mode": {
        "name": "ipython",
        "version": 3
      },
      "file_extension": ".py",
      "mimetype": "text/x-python",
      "name": "python",
      "nbconvert_exporter": "python",
      "pygments_lexer": "ipython3",
      "version": "3.8.5"
    },
    "orig_nbformat": 4
  },
  "nbformat": 4,
  "nbformat_minor": 0
}

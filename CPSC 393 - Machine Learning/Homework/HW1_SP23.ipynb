{
  "cells": [
    {
      "attachments": {},
      "cell_type": "markdown",
      "metadata": {},
      "source": [
        "## Homework 1"
      ]
    },
    {
      "cell_type": "code",
      "execution_count": 12,
      "metadata": {
        "id": "kLq_2qVqIVU9"
      },
      "outputs": [],
      "source": [
        "# importing packages\n",
        "\n",
        "import warnings\n",
        "warnings.filterwarnings('ignore')\n",
        "\n",
        "# data and plotting\n",
        "import pandas as pd\n",
        "import numpy as np\n",
        "from plotnine import *\n",
        "\n",
        "# preprocessing\n",
        "from sklearn.preprocessing import StandardScaler #Z-score variables\n",
        "from sklearn.model_selection import train_test_split\n",
        "\n",
        "# metrics\n",
        "from sklearn.metrics import accuracy_score, roc_auc_score, recall_score, plot_confusion_matrix\n",
        "\n",
        "# models\n",
        "from sklearn.linear_model import LogisticRegression\n",
        "from sklearn.neighbors import KNeighborsClassifier\n",
        "from sklearn.svm import SVC\n",
        "\n",
        "# pipelines\n",
        "from sklearn.pipeline import make_pipeline\n",
        "from sklearn.compose import make_column_transformer\n",
        "from sklearn.model_selection import GridSearchCV"
      ]
    },
    {
      "cell_type": "markdown",
      "metadata": {},
      "source": [
        "### A. Loading Data with a 80/20 Train Test Split"
      ]
    },
    {
      "cell_type": "code",
      "execution_count": 13,
      "metadata": {},
      "outputs": [
        {
          "data": {
            "text/html": [
              "<div>\n",
              "<style scoped>\n",
              "    .dataframe tbody tr th:only-of-type {\n",
              "        vertical-align: middle;\n",
              "    }\n",
              "\n",
              "    .dataframe tbody tr th {\n",
              "        vertical-align: top;\n",
              "    }\n",
              "\n",
              "    .dataframe thead th {\n",
              "        text-align: right;\n",
              "    }\n",
              "</style>\n",
              "<table border=\"1\" class=\"dataframe\">\n",
              "  <thead>\n",
              "    <tr style=\"text-align: right;\">\n",
              "      <th></th>\n",
              "      <th>X1</th>\n",
              "      <th>X2</th>\n",
              "      <th>X3</th>\n",
              "      <th>X4</th>\n",
              "      <th>X5</th>\n",
              "      <th>X6</th>\n",
              "      <th>X7</th>\n",
              "      <th>X8</th>\n",
              "      <th>Group</th>\n",
              "    </tr>\n",
              "  </thead>\n",
              "  <tbody>\n",
              "    <tr>\n",
              "      <th>0</th>\n",
              "      <td>-0.604285</td>\n",
              "      <td>-0.610629</td>\n",
              "      <td>0.026014</td>\n",
              "      <td>0.019710</td>\n",
              "      <td>0.406532</td>\n",
              "      <td>0.678796</td>\n",
              "      <td>0.524360</td>\n",
              "      <td>0.404739</td>\n",
              "      <td>B</td>\n",
              "    </tr>\n",
              "    <tr>\n",
              "      <th>1</th>\n",
              "      <td>-0.111772</td>\n",
              "      <td>-1.125178</td>\n",
              "      <td>0.744157</td>\n",
              "      <td>0.078315</td>\n",
              "      <td>0.088176</td>\n",
              "      <td>0.891009</td>\n",
              "      <td>0.018460</td>\n",
              "      <td>0.536511</td>\n",
              "      <td>B</td>\n",
              "    </tr>\n",
              "    <tr>\n",
              "      <th>2</th>\n",
              "      <td>-0.916802</td>\n",
              "      <td>1.965494</td>\n",
              "      <td>0.150022</td>\n",
              "      <td>0.388770</td>\n",
              "      <td>0.179276</td>\n",
              "      <td>0.064449</td>\n",
              "      <td>0.159279</td>\n",
              "      <td>0.951204</td>\n",
              "      <td>B</td>\n",
              "    </tr>\n",
              "    <tr>\n",
              "      <th>3</th>\n",
              "      <td>-0.280479</td>\n",
              "      <td>0.920669</td>\n",
              "      <td>0.208949</td>\n",
              "      <td>0.940153</td>\n",
              "      <td>0.854437</td>\n",
              "      <td>0.688172</td>\n",
              "      <td>0.365126</td>\n",
              "      <td>0.985259</td>\n",
              "      <td>A</td>\n",
              "    </tr>\n",
              "    <tr>\n",
              "      <th>4</th>\n",
              "      <td>1.856025</td>\n",
              "      <td>1.043214</td>\n",
              "      <td>0.167088</td>\n",
              "      <td>0.207002</td>\n",
              "      <td>0.979049</td>\n",
              "      <td>0.641019</td>\n",
              "      <td>0.628764</td>\n",
              "      <td>0.045912</td>\n",
              "      <td>B</td>\n",
              "    </tr>\n",
              "  </tbody>\n",
              "</table>\n",
              "</div>"
            ],
            "text/plain": [
              "         X1        X2        X3        X4        X5        X6        X7  \\\n",
              "0 -0.604285 -0.610629  0.026014  0.019710  0.406532  0.678796  0.524360   \n",
              "1 -0.111772 -1.125178  0.744157  0.078315  0.088176  0.891009  0.018460   \n",
              "2 -0.916802  1.965494  0.150022  0.388770  0.179276  0.064449  0.159279   \n",
              "3 -0.280479  0.920669  0.208949  0.940153  0.854437  0.688172  0.365126   \n",
              "4  1.856025  1.043214  0.167088  0.207002  0.979049  0.641019  0.628764   \n",
              "\n",
              "         X8 Group  \n",
              "0  0.404739     B  \n",
              "1  0.536511     B  \n",
              "2  0.951204     B  \n",
              "3  0.985259     A  \n",
              "4  0.045912     B  "
            ]
          },
          "execution_count": 13,
          "metadata": {},
          "output_type": "execute_result"
        }
      ],
      "source": [
        "# importing CSV\n",
        "\n",
        "url = \"https://raw.githubusercontent.com/cmparlettpelleriti/CPSC393ParlettPelleriti/main/Data/hw1.csv\"\n",
        "df = pd.read_csv(url)\n",
        "df.head()"
      ]
    },
    {
      "cell_type": "code",
      "execution_count": 14,
      "metadata": {},
      "outputs": [
        {
          "data": {
            "text/plain": [
              "X1       0\n",
              "X2       0\n",
              "X3       0\n",
              "X4       0\n",
              "X5       0\n",
              "X6       0\n",
              "X7       0\n",
              "X8       0\n",
              "Group    0\n",
              "dtype: int64"
            ]
          },
          "execution_count": 14,
          "metadata": {},
          "output_type": "execute_result"
        }
      ],
      "source": [
        "# checking for missing data\n",
        "df.isnull().sum()"
      ]
    },
    {
      "cell_type": "code",
      "execution_count": 15,
      "metadata": {},
      "outputs": [],
      "source": [
        "predictors = [\"X1\", \"X2\", \"X3\", \"X4\", \"X5\",\"X6\", \"X7\", \"X8\"]\n",
        "\n",
        "X = df[predictors]\n",
        "y = df[\"Group\"]\n",
        "\n",
        "X_train, X_test, y_train, y_test = train_test_split(X, y, test_size = 0.2)"
      ]
    },
    {
      "cell_type": "markdown",
      "metadata": {},
      "source": [
        "### B. SVM Model"
      ]
    },
    {
      "cell_type": "code",
      "execution_count": 16,
      "metadata": {},
      "outputs": [
        {
          "name": "stdout",
          "output_type": "stream",
          "text": [
            "Best hyperparameters:  {'svc__C': 1, 'svc__gamma': 0.1, 'svc__kernel': 'rbf'}\n",
            "Train Acc: 0.81125\n",
            "Test Acc : 0.76\n",
            "Train AUC: 0.888258708387188\n",
            "Test AUC : 0.8298611111111112\n"
          ]
        }
      ],
      "source": [
        "# Z scoring\n",
        "z = make_column_transformer((StandardScaler(), predictors),\n",
        "                            remainder = \"passthrough\")\n",
        "\n",
        "# Creating SVM model\n",
        "svm = SVC(probability = True)\n",
        "\n",
        "pipe = make_pipeline(z,svm)\n",
        "\n",
        "param_grid = {\n",
        "    'svc__kernel': ['linear', 'rbf'], \n",
        "    'svc__C': [0.001, 0.01, 1, 5, 25, 50], \n",
        "    'svc__gamma': [0.001, 0.01, 0.1, 0.5, 1, 2, 5]\n",
        "}\n",
        "\n",
        "# GridSearchCV for Hyperparameter Tuning\n",
        "grid = GridSearchCV(pipe, param_grid = param_grid, scoring = \"accuracy\", cv = 5, refit = True)\n",
        "\n",
        "# Fitting Model\n",
        "grid.fit(X_train, y_train)\n",
        "\n",
        "# Best Parameters\n",
        "print(\"Best hyperparameters: \", grid.best_params_)\n",
        "\n",
        "# Accuracy of SVM Model for train and test sets\n",
        "print(\"Train Acc:\", accuracy_score(y_train, grid.predict(X_train)))\n",
        "print(\"Test Acc :\", accuracy_score(y_test, grid.predict(X_test)))\n",
        "\n",
        "# ROC/AUC for train and test sets\n",
        "print(\"Train AUC:\", roc_auc_score(y_train, grid.predict_proba(X_train)[:,1]))\n",
        "print(\"Test AUC :\", roc_auc_score(y_test, grid.predict_proba(X_test)[:,1]))\n"
      ]
    },
    {
      "cell_type": "code",
      "execution_count": 17,
      "metadata": {},
      "outputs": [
        {
          "data": {
            "text/plain": [
              "<sklearn.metrics._plot.confusion_matrix.ConfusionMatrixDisplay at 0x12fbfa490>"
            ]
          },
          "execution_count": 17,
          "metadata": {},
          "output_type": "execute_result"
        },
        {
          "data": {
            "image/png": "[encoded data removed]",
            "text/plain": [
              "<Figure size 432x288 with 2 Axes>"
            ]
          },
          "metadata": {
            "needs_background": "light"
          },
          "output_type": "display_data"
        },
        {
          "data": {
            "image/png": "[encoded data removed]",
            "text/plain": [
              "<Figure size 432x288 with 2 Axes>"
            ]
          },
          "metadata": {
            "needs_background": "light"
          },
          "output_type": "display_data"
        }
      ],
      "source": [
        "# Confusion matrix of train set\n",
        "plot_confusion_matrix(grid, X_train, y_train)\n",
        "\n",
        "# Confusion matrix of test set\n",
        "plot_confusion_matrix(grid, X_test, y_test)\n"
      ]
    },
    {
      "attachments": {},
      "cell_type": "markdown",
      "metadata": {},
      "source": [
        "### C. Selected Hyperparameters\n",
        "\n",
        "GridSearch found that the kernel \"rbf\" with a C of \"1\" and a gamma of \"0.1\" was the best."
      ]
    },
    {
      "cell_type": "markdown",
      "metadata": {},
      "source": [
        "### D. Logistic Regression Model\n",
        "\n",
        "D. 💻 Use sklearn to build a Logistic Regression on the same data with the same train/test set. Print out the train and test accuracies and ROC/AUCs, and plot the train and test confusion matrices."
      ]
    },
    {
      "cell_type": "code",
      "execution_count": 18,
      "metadata": {},
      "outputs": [
        {
          "name": "stdout",
          "output_type": "stream",
          "text": [
            "The accuracy score of the train set is:  0.7625\n",
            "The accuracy score of the test set is:  0.79\n",
            "Train AUC: 0.8441396428548463\n",
            "Test AUC : 0.8426649305555556\n"
          ]
        },
        {
          "data": {
            "text/plain": [
              "<sklearn.metrics._plot.confusion_matrix.ConfusionMatrixDisplay at 0x105807040>"
            ]
          },
          "execution_count": 18,
          "metadata": {},
          "output_type": "execute_result"
        },
        {
          "data": {
            "image/png": "[encoded data removed]",
            "text/plain": [
              "<Figure size 432x288 with 2 Axes>"
            ]
          },
          "metadata": {
            "needs_background": "light"
          },
          "output_type": "display_data"
        },
        {
          "data": {
            "image/png": "[encoded data removed]",
            "text/plain": [
              "<Figure size 432x288 with 2 Axes>"
            ]
          },
          "metadata": {
            "needs_background": "light"
          },
          "output_type": "display_data"
        }
      ],
      "source": [
        "# Logistic Regression Model\n",
        "\n",
        "# Creating model\n",
        "lr = LogisticRegression(penalty = \"none\")\n",
        "\n",
        "# Z-scoring\n",
        "z = StandardScaler()\n",
        "z.fit(X_train)\n",
        "z_train = z.transform(X_train)\n",
        "z_test = z.transform(X_test)\n",
        "\n",
        "# Fitting model\n",
        "lr_model = lr.fit(X_train, y_train)\n",
        "\n",
        "# Accuracy of the train and test set\n",
        "accuracy_train = accuracy_score(y_train, lr_model.predict(X_train))\n",
        "accuracy_test = accuracy_score(y_test, lr_model.predict(X_test))\n",
        "print('The accuracy score of the train set is: ', accuracy_train)\n",
        "print('The accuracy score of the test set is: ', accuracy_test)\n",
        "\n",
        "# ROC/AUC of the train and test set\n",
        "print(\"Train AUC:\", roc_auc_score(y_train, lr_model.predict_proba(X_train)[:,1]))\n",
        "print(\"Test AUC :\", roc_auc_score(y_test, lr_model.predict_proba(X_test)[:,1]))\n",
        "\n",
        "# Confusion matrix of train set\n",
        "plot_confusion_matrix(lr_model, X_train, y_train)\n",
        "\n",
        "# Confusion matrix of test set\n",
        "plot_confusion_matrix(lr_model, X_test, y_test)\n",
        "\n"
      ]
    },
    {
      "cell_type": "markdown",
      "metadata": {},
      "source": [
        "### E. K-Nearest Neighbors\n",
        "\n",
        "Use sklearn to build a KNearest Neighbors model on the same data with the same train/test set (use GridSearch to choose `n_neighbors`).Print out the train and test accuracies and ROC/AUCs, and plot the train and test confusion matrices.   ([CPSC 392 code](https://github.com/cmparlettpelleriti/CPSC392ParlettPelleriti/blob/master/Lectures/LectureNotebooks/KNN--Class_14.ipynb))"
      ]
    },
    {
      "cell_type": "code",
      "execution_count": 19,
      "metadata": {},
      "outputs": [
        {
          "name": "stdout",
          "output_type": "stream",
          "text": [
            "Train:  0.76\n",
            "Test :  0.75\n",
            "Train AUC: 0.8448984316222004\n",
            "Test AUC : 0.8301866319444444\n"
          ]
        },
        {
          "data": {
            "text/plain": [
              "<sklearn.metrics._plot.confusion_matrix.ConfusionMatrixDisplay at 0x12fe300a0>"
            ]
          },
          "execution_count": 19,
          "metadata": {},
          "output_type": "execute_result"
        },
        {
          "data": {
            "image/png": "[encoded data removed]",
            "text/plain": [
              "<Figure size 432x288 with 2 Axes>"
            ]
          },
          "metadata": {
            "needs_background": "light"
          },
          "output_type": "display_data"
        },
        {
          "data": {
            "image/png": "[encoded data removed]",
            "text/plain": [
              "<Figure size 432x288 with 2 Axes>"
            ]
          },
          "metadata": {
            "needs_background": "light"
          },
          "output_type": "display_data"
        }
      ],
      "source": [
        "# K-Nearest Neighbors\n",
        "\n",
        "# Creating model\n",
        "knn = KNeighborsClassifier()\n",
        "\n",
        "# Z-scoring\n",
        "z = make_column_transformer((StandardScaler(), predictors),\n",
        "                            remainder = \"passthrough\")\n",
        "\n",
        "# Create pipeline\n",
        "pipe = make_pipeline(z, knn)\n",
        "ks = {\"kneighborsclassifier__n_neighbors\": range(1, 30)}\n",
        "\n",
        "# GridSearchCV\n",
        "grid = GridSearchCV(pipe, ks, cv = 5, scoring = 'accuracy', refit = True)\n",
        "grid.fit(X_train, y_train)\n",
        "\n",
        "# Accuracy of the train and test set\n",
        "print(\"Train: \", accuracy_score(y_train, grid.predict(X_train)))\n",
        "print(\"Test : \", accuracy_score(y_test, grid.predict(X_test)))\n",
        "\n",
        "# ROC/AUC of the train and test set\n",
        "print(\"Train AUC:\", roc_auc_score(y_train, grid.predict_proba(X_train)[:,1]))\n",
        "print(\"Test AUC :\", roc_auc_score(y_test, grid.predict_proba(X_test)[:,1]))\n",
        "\n",
        "# Confusion Matrices for the train and test set\n",
        "plot_confusion_matrix(grid, X_train, y_train)\n",
        "plot_confusion_matrix(grid, X_test, y_test)"
      ]
    },
    {
      "attachments": {},
      "cell_type": "markdown",
      "metadata": {},
      "source": [
        "### F. Model Performance\n",
        "\n",
        "Three machine learning models were constructed for this project and the performance of each was measured. The results of the following models will be shared: Support Vector Machine (SVM), Logistic Regression, and K-Nearest Neighbors (KNN). The SVM model was the first model used. First the accuracy of this model was determined. Accuracy scores range from 0.00 (0%) and 1.00 (100%). The training accuracy was 0.81125, which signifies that this model was able to correctly predict the \"Group\" approximately 81.13% of the time. The test accuracy was 0.76, which signifies that this model was able to correctly predict the \"Group\" 76.00% of the time. In addition to the accuracy metrics, the performance examined the ROC-AUC metric, which reflects efficiency and demonstrates if the model is simply guessing or perfectly classifying the data. Scores range from 0.5 to 1, where a higher value is favored. In the SVM model, the training set ROC-AUC was calculated to be approximately 0.888 and the testing set ROC-AUC was approximately 0.830. A confusion matrix was also created to specifically see how many of the cases the model was able to predict. In the confusion matrix, the top left and bottom right cell are of primary interest as they reflect how many cases were 'true positives' and 'true negatives.' True positives and negatives are scenarios when the outcome predicted match the actual outcome (e.g.g., a model predicts \"A\" when it is actually \"A\"). The two other cells demonstrate the number of false positive and false negatives (e.g., a model predicts \"A\" when it is actually \"B\"). In this model's confusion matrix, we see that the majority of the cases were classified correctly. Overall, this model performed reasonably well is classifying the dataset into its positive and negative cases. However, other models were examiend to determine their effectiveness."
      ]
    },
    {
      "attachments": {},
      "cell_type": "markdown",
      "metadata": {},
      "source": [
        "The Logistic Regression was also employed for this dataset to predict the \"Group\" based on the dataset given. In this model, the accuracy of the training data was 0.7625, or 76.25%, while the accuracy of the testing data was 0.79, or 79.00%. The ROC-AUC of the training set was 0.844, while the ROC-AUC of the testing set was 0.843. In this model's confusion matrix, we see that the majority of the cases were classified correctly. From these metrics, we see that this model performed slightly better than the SVM model. Although the ROC-AUC scores were roughly similar, the accuracy of the testing set was higher in the Logistic Regression Model than the SVM model."
      ]
    },
    {
      "attachments": {},
      "cell_type": "markdown",
      "metadata": {},
      "source": [
        "The final model used for this dataset was the K-Nearest Neighbors model. In this model, the accuracy of the training data was 0.76, or 76.00%, while the accuracy of the testing data was 0.75, or 75.00%. The ROC-AUC of the training set was approximately 0.845 while the ROC-AUC of the testing set was approximately 0.830. In this model's confusion matrix, we see that the majority of the cases were classified correctly. These metrics when compared to the other models suggest that the KNN model was similar in accuracy to the SVM model, but had a worse AUC-AUC than the Logistic Regression model."
      ]
    },
    {
      "attachments": {},
      "cell_type": "markdown",
      "metadata": {},
      "source": [
        "Based on these results, I would recommend utilizing the Logistic Regression model for the project as it demonstrated the highest test accuracy out of these three models, which is important in determining the correct \"group\" for new incoming data. This model also had the highest ROC-AUC scores, which is favorable. This model is also computationally efficient, which is also favorable."
      ]
    },
    {
      "attachments": {},
      "cell_type": "markdown",
      "metadata": {},
      "source": [
        "### G. Logistic Regression Versus KNN in Production\n",
        "\n",
        "In production, computational efficiency and accuracy are equally important. The logistic regression model attempts to solve a linear equation to find the best or most optimal coefficients. SVM attempts to solve a quadratic equation to find the best or most optimal hyperplane that separates the classes, which can become computationally expensive for large datasets. KNN calculates the distances between each point (\"neighbor\") in a dataset, which can also become computationally expensive. In production, the datasets may be substantially larger than the one utilized for this project, making future predictions computationally expensive. Thus, the logistic regression model is favored in this aspect. In terms of accuracy, the logistic regresion model was determined to yield the highest accuracy score while all of the models had relatively similar ROC-AUC scores. This information combined suggests that the most optimal model for production would be the logistic regression model."
      ]
    }
  ],
  "metadata": {
    "colab": {
      "provenance": []
    },
    "kernelspec": {
      "display_name": "Python 3",
      "language": "python",
      "name": "python3"
    },
    "language_info": {
      "codemirror_mode": {
        "name": "ipython",
        "version": 3
      },
      "file_extension": ".py",
      "mimetype": "text/x-python",
      "name": "python",
      "nbconvert_exporter": "python",
      "pygments_lexer": "ipython3",
      "version": "3.11.2"
    },
    "orig_nbformat": 4,
    "vscode": {
      "interpreter": {
        "hash": "aee8b7b246df8f9039afb4144a1f6fd8d2ca17a180786b69acc140d282b71a49"
      }
    }
  },
  "nbformat": 4,
  "nbformat_minor": 0
}

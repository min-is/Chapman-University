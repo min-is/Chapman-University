{
  "cells": [
    {
      "cell_type": "markdown",
      "metadata": {
        "id": "Z1SCkF3wIVU8"
      },
      "source": [
        "# Homework 1 (Support Vector Machines)\n",
        "\n",
        "Using the data [here](https://raw.githubusercontent.com/cmparlettpelleriti/CPSC393ParlettPelleriti/main/Data/hw1.csv), build a series of SVM models as described. Make sure that data is **z score appropriately** before fitting your models. Due to the number of models you're fitting with GridSearch, this make take a while to run.\n",
        "\n",
        "- A. 💻 Load your data and do a 80/20 Train Test Split\n",
        "- B. 💻 Use sklearn to build an SVM model. Use `GridSearchCV` to choose the `kernel` (choose from `linear` and `rbf`), `C` (choose from `[0.001, 0.01, 1, 5, 25, 50]`), and `gamma` (choose from `[0.001,0.01, 0.1, 0.5, 1,2,5]`). Print out the train and test accuracies and ROC/AUCs, and plot the train and test confusion matrices. \n",
        "- C. ✍️ What hyperparameters did GridSearch choose? (in a TEXT CELL)\n",
        "- D. 💻 Use sklearn to build a Logistic Regression on the same data with the same train/test set. Print out the train and test accuracies and ROC/AUCs, and plot the train and test confusion matrices. ([CPSC 392 code](https://github.com/cmparlettpelleriti/CPSC392ParlettPelleriti/blob/master/Lectures/LectureNotebooks/Logistic_Regression_II--Class9.ipynb))\n",
        "- E. 💻 Use sklearn to build a KNearest Neighbors model on the same data with the same train/test set (use GridSearch to choose `n_neighbors`).Print out the train and test accuracies and ROC/AUCs, and plot the train and test confusion matrices.   ([CPSC 392 code](https://github.com/cmparlettpelleriti/CPSC392ParlettPelleriti/blob/master/Lectures/LectureNotebooks/KNN--Class_14.ipynb))\n",
        "- F. ✍️ Discuss in detail how your models performed based on the metrics you printed. Write this discussion as if you are presenting your results to a CEO/Stakeholder (in a TEXT CELL)\n",
        "- G. ✍️ Compare the performance of your model to the Logistic Regression and KNN model, and provide a justification for which model you want to use \"in production\" (in a TEXT CELL)"
      ]
    },
    {
      "cell_type": "code",
      "execution_count": 2,
      "metadata": {
        "id": "kLq_2qVqIVU9"
      },
      "outputs": [],
      "source": [
        "import warnings\n",
        "warnings.filterwarnings('ignore')\n",
        "\n",
        "# data and plotting\n",
        "import pandas as pd\n",
        "import numpy as np\n",
        "from plotnine import *\n",
        "\n",
        "# preprocessing\n",
        "from sklearn.preprocessing import StandardScaler #Z-score variables\n",
        "from sklearn.model_selection import train_test_split\n",
        "\n",
        "# metrics\n",
        "from sklearn.metrics import accuracy_score, plot_confusion_matrix, roc_auc_score, recall_score\n",
        "\n",
        "# models\n",
        "from sklearn.linear_model import LogisticRegression\n",
        "from sklearn.neighbors import KNeighborsClassifier\n",
        "from sklearn.svm import SVC\n",
        "\n",
        "# pipelines\n",
        "from sklearn.pipeline import make_pipeline\n",
        "from sklearn.compose import make_column_transformer\n",
        "from sklearn.model_selection import GridSearchCV"
      ]
    },
    {
      "cell_type": "markdown",
      "metadata": {},
      "source": [
        "### A. Loading Data with a 80/20 Train Test Split"
      ]
    },
    {
      "cell_type": "code",
      "execution_count": 3,
      "metadata": {},
      "outputs": [
        {
          "data": {
            "text/html": [
              "<div>\n",
              "<style scoped>\n",
              "    .dataframe tbody tr th:only-of-type {\n",
              "        vertical-align: middle;\n",
              "    }\n",
              "\n",
              "    .dataframe tbody tr th {\n",
              "        vertical-align: top;\n",
              "    }\n",
              "\n",
              "    .dataframe thead th {\n",
              "        text-align: right;\n",
              "    }\n",
              "</style>\n",
              "<table border=\"1\" class=\"dataframe\">\n",
              "  <thead>\n",
              "    <tr style=\"text-align: right;\">\n",
              "      <th></th>\n",
              "      <th>X1</th>\n",
              "      <th>X2</th>\n",
              "      <th>X3</th>\n",
              "      <th>X4</th>\n",
              "      <th>X5</th>\n",
              "      <th>X6</th>\n",
              "      <th>X7</th>\n",
              "      <th>X8</th>\n",
              "      <th>Group</th>\n",
              "    </tr>\n",
              "  </thead>\n",
              "  <tbody>\n",
              "    <tr>\n",
              "      <th>0</th>\n",
              "      <td>-0.604285</td>\n",
              "      <td>-0.610629</td>\n",
              "      <td>0.026014</td>\n",
              "      <td>0.019710</td>\n",
              "      <td>0.406532</td>\n",
              "      <td>0.678796</td>\n",
              "      <td>0.524360</td>\n",
              "      <td>0.404739</td>\n",
              "      <td>B</td>\n",
              "    </tr>\n",
              "    <tr>\n",
              "      <th>1</th>\n",
              "      <td>-0.111772</td>\n",
              "      <td>-1.125178</td>\n",
              "      <td>0.744157</td>\n",
              "      <td>0.078315</td>\n",
              "      <td>0.088176</td>\n",
              "      <td>0.891009</td>\n",
              "      <td>0.018460</td>\n",
              "      <td>0.536511</td>\n",
              "      <td>B</td>\n",
              "    </tr>\n",
              "    <tr>\n",
              "      <th>2</th>\n",
              "      <td>-0.916802</td>\n",
              "      <td>1.965494</td>\n",
              "      <td>0.150022</td>\n",
              "      <td>0.388770</td>\n",
              "      <td>0.179276</td>\n",
              "      <td>0.064449</td>\n",
              "      <td>0.159279</td>\n",
              "      <td>0.951204</td>\n",
              "      <td>B</td>\n",
              "    </tr>\n",
              "    <tr>\n",
              "      <th>3</th>\n",
              "      <td>-0.280479</td>\n",
              "      <td>0.920669</td>\n",
              "      <td>0.208949</td>\n",
              "      <td>0.940153</td>\n",
              "      <td>0.854437</td>\n",
              "      <td>0.688172</td>\n",
              "      <td>0.365126</td>\n",
              "      <td>0.985259</td>\n",
              "      <td>A</td>\n",
              "    </tr>\n",
              "    <tr>\n",
              "      <th>4</th>\n",
              "      <td>1.856025</td>\n",
              "      <td>1.043214</td>\n",
              "      <td>0.167088</td>\n",
              "      <td>0.207002</td>\n",
              "      <td>0.979049</td>\n",
              "      <td>0.641019</td>\n",
              "      <td>0.628764</td>\n",
              "      <td>0.045912</td>\n",
              "      <td>B</td>\n",
              "    </tr>\n",
              "  </tbody>\n",
              "</table>\n",
              "</div>"
            ],
            "text/plain": [
              "         X1        X2        X3        X4        X5        X6        X7  \\\n",
              "0 -0.604285 -0.610629  0.026014  0.019710  0.406532  0.678796  0.524360   \n",
              "1 -0.111772 -1.125178  0.744157  0.078315  0.088176  0.891009  0.018460   \n",
              "2 -0.916802  1.965494  0.150022  0.388770  0.179276  0.064449  0.159279   \n",
              "3 -0.280479  0.920669  0.208949  0.940153  0.854437  0.688172  0.365126   \n",
              "4  1.856025  1.043214  0.167088  0.207002  0.979049  0.641019  0.628764   \n",
              "\n",
              "         X8 Group  \n",
              "0  0.404739     B  \n",
              "1  0.536511     B  \n",
              "2  0.951204     B  \n",
              "3  0.985259     A  \n",
              "4  0.045912     B  "
            ]
          },
          "execution_count": 3,
          "metadata": {},
          "output_type": "execute_result"
        }
      ],
      "source": [
        "# importing CSV\n",
        "\n",
        "url = \"https://raw.githubusercontent.com/cmparlettpelleriti/CPSC393ParlettPelleriti/main/Data/hw1.csv\"\n",
        "df = pd.read_csv(url)\n",
        "df.head()"
      ]
    },
    {
      "cell_type": "code",
      "execution_count": 4,
      "metadata": {},
      "outputs": [
        {
          "data": {
            "text/plain": [
              "X1       0\n",
              "X2       0\n",
              "X3       0\n",
              "X4       0\n",
              "X5       0\n",
              "X6       0\n",
              "X7       0\n",
              "X8       0\n",
              "Group    0\n",
              "dtype: int64"
            ]
          },
          "execution_count": 4,
          "metadata": {},
          "output_type": "execute_result"
        }
      ],
      "source": [
        "# checking for missing data\n",
        "df.isnull().sum()"
      ]
    },
    {
      "cell_type": "code",
      "execution_count": 7,
      "metadata": {},
      "outputs": [],
      "source": [
        "predictors = [\"X1\", \"X2\", \"X3\", \"X4\", \"X5\",\"X6\", \"X7\", \"X8\"]\n",
        "\n",
        "X = df[predictors]\n",
        "y = df[\"Group\"]\n",
        "\n",
        "X_train, X_test, y_train, y_test = train_test_split(X, y, test_size = 0.2)"
      ]
    },
    {
      "cell_type": "markdown",
      "metadata": {},
      "source": [
        "### B. Using SKlearn to Build a SVM Model"
      ]
    },
    {
      "cell_type": "code",
      "execution_count": 8,
      "metadata": {},
      "outputs": [
        {
          "name": "stdout",
          "output_type": "stream",
          "text": [
            "Best hyperparameters:  {'svc__C': 5, 'svc__gamma': 0.1, 'svc__kernel': 'rbf'}\n",
            "rbf\n",
            "5\n",
            "0.1\n",
            "Train Acc: 0.85625\n",
            "Test Acc : 0.735\n",
            "Train AUC: 0.9418105263157895\n",
            "Test AUC : 0.8183333333333332\n"
          ]
        }
      ],
      "source": [
        "z = make_column_transformer((StandardScaler(), predictors),\n",
        "                            remainder = \"passthrough\")\n",
        "\n",
        "svc = SVC(probability = True)\n",
        "\n",
        "pipe = make_pipeline(z,svc)\n",
        "\n",
        "param_grid = {\n",
        "    'svc__kernel': ['linear', 'rbf'], \n",
        "    'svc__C': [0.001, 0.01, 1, 5, 25, 50], \n",
        "    'svc__gamma': [0.001, 0.01, 0.1, 0.5, 1, 2, 5]\n",
        "}\n",
        "\n",
        "# GridSearchCV for Hyperparameter Tuning\n",
        "grid = GridSearchCV(pipe, param_grid = param_grid, cv = 5, refit = True)\n",
        "\n",
        "# Fitting Model\n",
        "grid.fit(X_train, y_train)\n",
        "\n",
        "# Best Parameters\n",
        "print(\"Best hyperparameters: \", grid.best_params_)\n",
        "\n",
        "print(grid.best_estimator_.get_params()[\"svc__kernel\"])\n",
        "print(grid.best_estimator_.get_params()[\"svc__C\"])\n",
        "print(grid.best_estimator_.get_params()[\"svc__gamma\"])\n",
        "\n",
        "print(\"Train Acc:\", accuracy_score(y_train, grid.predict(X_train)))\n",
        "print(\"Test Acc :\", accuracy_score(y_test, grid.predict(X_test)))\n",
        "\n",
        "print(\"Train AUC:\", roc_auc_score(y_train, grid.predict_proba(X_train)[:,1]))\n",
        "print(\"Test AUC :\", roc_auc_score(y_test, grid.predict_proba(X_test)[:,1]))\n"
      ]
    }
  ],
  "metadata": {
    "colab": {
      "provenance": []
    },
    "kernelspec": {
      "display_name": "Python 3",
      "language": "python",
      "name": "python3"
    },
    "language_info": {
      "codemirror_mode": {
        "name": "ipython",
        "version": 3
      },
      "file_extension": ".py",
      "mimetype": "text/x-python",
      "name": "python",
      "nbconvert_exporter": "python",
      "pygments_lexer": "ipython3",
      "version": "3.8.5"
    },
    "orig_nbformat": 4,
    "vscode": {
      "interpreter": {
        "hash": "aee8b7b246df8f9039afb4144a1f6fd8d2ca17a180786b69acc140d282b71a49"
      }
    }
  },
  "nbformat": 4,
  "nbformat_minor": 0
}

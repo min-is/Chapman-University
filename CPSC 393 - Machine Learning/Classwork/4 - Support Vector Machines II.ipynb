{
  "cells": [
    {
      "cell_type": "code",
      "execution_count": null,
      "metadata": {
        "id": "I9Jxy886xWWy"
      },
      "outputs": [],
      "source": [
        "import warnings\n",
        "warnings.filterwarnings('ignore')\n",
        "\n",
        "# data and plotting\n",
        "import pandas as pd\n",
        "import numpy as np\n",
        "from plotnine import *\n",
        "\n",
        "# preprocessing\n",
        "from sklearn.preprocessing import StandardScaler #Z-score variables\n",
        "from sklearn.model_selection import train_test_split\n",
        "# metrics\n",
        "from sklearn.metrics import accuracy_score, confusion_matrix, mean_squared_error, plot_confusion_matrix, roc_auc_score, recall_score, precision_score\n",
        "\n",
        "# models\n",
        "from sklearn.svm import SVC\n"
      ]
    },
    {
      "cell_type": "markdown",
      "metadata": {
        "id": "-KkdEcctxWW0"
      },
      "source": [
        "# Review\n",
        "In the last lecture we learned about kernels and The Kernel Trick that allow us to use a linear classifier like SVCs on non-linearly separable data. \n",
        "\n",
        "Remember, a Kernel is a function that calculates the relationship (dot product) between two vectors *as if* they are in a higher dimensional space *without actually having to calculate that higher dimensional space*.\n",
        "\n",
        "We talked about two main kernels:\n",
        "\n",
        "## Polynomial Kernel\n",
        "\n",
        "$$K(x,y) = (x*y + r)^d$$\n",
        "\n",
        "The hyperparameters $r$ and $d$ can be chosen via hyperparameter tuning. $d$ controls the maximum dimensions of the space we're projecting our data to (e.g. when $d=2$ we're at most projecting to a 2D space). \n",
        "\n",
        "For example:\n",
        "\n",
        "$$K(x,y) = (x*y + \\frac{1}{2})^2$$\n",
        "$$(x*y + \\frac{1}{2})^2 = (x*y + \\frac{1}{2})(x*y + \\frac{1}{2})$$\n",
        "$$ = xy + x^2y^2 + \\frac{1}{4}$$\n",
        "\n",
        "Notice that $xy + x^2y^2 + \\frac{1}{4}$ is the same value we'd get if we took the dot product of the two vectors: $x' = (x,x^2, \\frac{1}{2})$ and $y' = (y,y^2, \\frac{1}{2})$. Thus, the kernel $K(x,y)$ calculates the same value as the dot product between two *transformed* points $x'$ and $y'$ which have 2 dimensions. The first dimension is the original variable, the second dimension is the variable squared (we ignore the 3rd dimension because it is the same for all data points, and thus does not give us any useful information).\n",
        "\n",
        "BUT NOTICE, when we plug $x$ and $y$ into the kernel function $K(x,y)$, we NEVER actually had to calculate $x'$ and $y'$!! Which saves us a lot of time. This is true no matter the $r$ and $d$ values you use for the polynomial kernel.\n",
        "\n",
        "\n",
        "## Radial Kernel (Radial Basis Function)\n",
        "\n",
        "$$ K(x,y) = e^{-\\gamma(x-y)^2}$$\n",
        "\n",
        "This whole calculates-the-dot-product-without-calculating-the-transformed-data thing is especially useful when the transformation transforms the data into *infinite* dimensions like the Radial Kernel. \n",
        "\n",
        "We proved using Taylor Series Expansion that the radial kernel calculates the dot product of two data points *as if* they were projected into infinite dimensions. This causes the SVM to act like a weighted KNN model, and gives us a huge amount of flexibility with what our groups of data look like.\n",
        "\n",
        "# SVC's in sklearn\n",
        "\n",
        "We'll use this Pulsar Star Data from [Kaggle](https://www.kaggle.com/datasets/colearninglounge/predicting-pulsar-starintermediate?resource=download).\n",
        "\n",
        "Download the data, then upload it using the upload button to Colab. \n"
      ]
    },
    {
      "cell_type": "code",
      "execution_count": null,
      "metadata": {
        "id": "JIrL6F2CxWW1"
      },
      "outputs": [],
      "source": [
        "from sklearn.pipeline import make_pipeline\n",
        "from sklearn.compose import make_column_transformer\n",
        "from sklearn.model_selection import GridSearchCV"
      ]
    },
    {
      "cell_type": "code",
      "execution_count": null,
      "metadata": {
        "id": "F7FQAdISxWW2"
      },
      "outputs": [],
      "source": [
        "star = pd.read_csv(\"/Users/chelseaparlett/Downloads/archive/pulsar_data_train.csv\")\n",
        "star.head()\n",
        "star = star.dropna()"
      ]
    },
    {
      "cell_type": "code",
      "execution_count": null,
      "metadata": {
        "id": "rWj-OVIcxWW2"
      },
      "outputs": [],
      "source": [
        "# organize and split data"
      ]
    },
    {
      "cell_type": "code",
      "execution_count": null,
      "metadata": {
        "id": "cEz1S1EZxWW2"
      },
      "outputs": [],
      "source": [
        "# build parts of pipeline\n",
        "\n",
        "# build pipeline\n",
        "\n",
        "# parameters dict\n",
        "\n",
        "# grid search\n",
        "\n",
        "# fit and check"
      ]
    },
    {
      "cell_type": "markdown",
      "metadata": {
        "id": "xiwkV6ZfxWW3"
      },
      "source": [
        "# Building an SVM with radial kernel\n",
        "\n",
        "Let's look at that data we tried (and failed) to classify using a linear kernel last time.\n",
        "- load in the data\n",
        "- plot the data using a scatter plot\n",
        "- do an 80/20 TTS\n",
        "- zscore your data\n",
        "- build an `SVC()` model with `kernel = \"rbf\"` and `C = 1`\n",
        "- grab the train/test accuracy and ROC/AUC\n",
        "- use the `plotSVM2D()` function I wrote for you to plot the decision boundary for your model for both train and test (just change the first two arguments, no need to refit the model)"
      ]
    },
    {
      "cell_type": "code",
      "execution_count": null,
      "metadata": {
        "id": "q69JRaILxWW3",
        "outputId": "295674da-f188-44c9-a532-d78bbefa0090"
      },
      "outputs": [
        {
          "data": {
            "text/html": [
              "<div>\n",
              "<style scoped>\n",
              "    .dataframe tbody tr th:only-of-type {\n",
              "        vertical-align: middle;\n",
              "    }\n",
              "\n",
              "    .dataframe tbody tr th {\n",
              "        vertical-align: top;\n",
              "    }\n",
              "\n",
              "    .dataframe thead th {\n",
              "        text-align: right;\n",
              "    }\n",
              "</style>\n",
              "<table border=\"1\" class=\"dataframe\">\n",
              "  <thead>\n",
              "    <tr style=\"text-align: right;\">\n",
              "      <th></th>\n",
              "      <th>X1</th>\n",
              "      <th>X2</th>\n",
              "      <th>y</th>\n",
              "    </tr>\n",
              "  </thead>\n",
              "  <tbody>\n",
              "    <tr>\n",
              "      <th>0</th>\n",
              "      <td>-1.203055</td>\n",
              "      <td>-1.309099</td>\n",
              "      <td>a</td>\n",
              "    </tr>\n",
              "    <tr>\n",
              "      <th>1</th>\n",
              "      <td>-1.486382</td>\n",
              "      <td>-0.159741</td>\n",
              "      <td>a</td>\n",
              "    </tr>\n",
              "    <tr>\n",
              "      <th>2</th>\n",
              "      <td>-0.832017</td>\n",
              "      <td>0.246909</td>\n",
              "      <td>a</td>\n",
              "    </tr>\n",
              "    <tr>\n",
              "      <th>3</th>\n",
              "      <td>-1.411230</td>\n",
              "      <td>1.565836</td>\n",
              "      <td>a</td>\n",
              "    </tr>\n",
              "    <tr>\n",
              "      <th>4</th>\n",
              "      <td>-1.154422</td>\n",
              "      <td>-0.144092</td>\n",
              "      <td>a</td>\n",
              "    </tr>\n",
              "  </tbody>\n",
              "</table>\n",
              "</div>"
            ],
            "text/plain": [
              "         X1        X2  y\n",
              "0 -1.203055 -1.309099  a\n",
              "1 -1.486382 -0.159741  a\n",
              "2 -0.832017  0.246909  a\n",
              "3 -1.411230  1.565836  a\n",
              "4 -1.154422 -0.144092  a"
            ]
          },
          "execution_count": 6,
          "metadata": {},
          "output_type": "execute_result"
        }
      ],
      "source": [
        "# load data\n",
        "d = pd.read_csv(\"https://raw.githubusercontent.com/cmparlettpelleriti/CPSC393ParlettPelleriti/main/Data/svmcw.csv\")\n",
        "d.head()"
      ]
    },
    {
      "cell_type": "code",
      "execution_count": null,
      "metadata": {
        "id": "g05RFRnSxWW4"
      },
      "outputs": [],
      "source": [
        "# scatter plot\n"
      ]
    },
    {
      "cell_type": "code",
      "execution_count": null,
      "metadata": {
        "id": "DMezQ5jJxWW4"
      },
      "outputs": [],
      "source": [
        "# Do your train test split, and z score\n"
      ]
    },
    {
      "cell_type": "code",
      "execution_count": null,
      "metadata": {
        "id": "tcdgZuqGxWW5"
      },
      "outputs": [],
      "source": [
        "### YOUR CODE HERE ###\n"
      ]
    },
    {
      "cell_type": "code",
      "execution_count": null,
      "metadata": {
        "id": "LXXJ1OnexWW5"
      },
      "outputs": [],
      "source": [
        "# DONT CHANGE ANYTHING JUST RUN\n",
        "\n",
        "def plotSVM2D(Xdf,y,model):\n",
        "    x0_name = Xdf.columns[0]\n",
        "    x1_name = Xdf.columns[1]\n",
        "    #grab the range of features for each feature\n",
        "    x0_range = np.linspace(min(Xdf[x0_name]) - np.std(Xdf[x0_name]),\n",
        "                           max(Xdf[x0_name]) + np.std(Xdf[x0_name]), num = 100)\n",
        "    x1_range = np.linspace(min(Xdf[x1_name]) - np.std(Xdf[x1_name]),\n",
        "                           max(Xdf[x1_name]) + np.std(Xdf[x1_name]), num = 100)\n",
        "\n",
        "    #get all possible points on graph\n",
        "    x0 = np.repeat(x0_range,100)\n",
        "    x1 = np.tile(x1_range,100)\n",
        "    x_grid = pd.DataFrame({x0_name: x0,x1_name: x1})\n",
        "\n",
        "    # bredict all background points\n",
        "    p = model.predict(x_grid)\n",
        "    x_grid[\"p\"] = p #add to dataframe\n",
        "    \n",
        "    #build the plot\n",
        "    bound = (ggplot(x_grid, aes(x = x0_name, y = x1_name, color = \"factor(p)\")) +\n",
        "                 geom_point(alpha = 0.2, size = 0.2) + theme_minimal() +\n",
        "                 scale_color_manual(name = \"Class\", values = [\"#E69F00\", \"#0072B2\"]) +\n",
        "                 geom_point(data = Xdf, mapping = aes(x = x0_name, y = x1_name, color = \"factor(y)\"), size = 2))\n",
        "    print(bound)"
      ]
    },
    {
      "cell_type": "code",
      "execution_count": null,
      "metadata": {
        "id": "FsStcAx9xWW5"
      },
      "outputs": [],
      "source": [
        "# plotSVM2D"
      ]
    },
    {
      "cell_type": "markdown",
      "metadata": {
        "id": "S5SZS5_xxWW5"
      },
      "source": [
        "### Question\n",
        "<img src=\"https://drive.google.com/uc?export=view&id=1ghyQPx1N8dmU3MV4TrANvqNhGwnLni72\" alt=\"Q\" width = \"200\"/>\n",
        "\n",
        "How does the model do? How does it differ from the model you built using a linear kernel last class?\n",
        "\n",
        "\n",
        "## The Gamma Hyperparameter\n",
        "the Gamma parameter scales the amount of influence two data points have on each other. The bigger $\\gamma$ is, the smaller the influence two data points have on each other. \n",
        "\n",
        "- Re-run your model above but set `gamma = 25`  \n",
        "\n",
        "### Question\n",
        "<img src=\"https://drive.google.com/uc?export=view&id=1ghyQPx1N8dmU3MV4TrANvqNhGwnLni72\" alt=\"Q\" width = \"200\"/>\n",
        "\n",
        "How did changing `gamma` change the decision boundary? Did the boundary get smoother or more jagged? Do jagged boundaries more often lead to **overfitting** or **underfitting**"
      ]
    },
    {
      "cell_type": "code",
      "execution_count": null,
      "metadata": {
        "id": "GKFQtiZ9xWW6"
      },
      "outputs": [],
      "source": [
        "### YOUR CODE HERE ###\n",
        "\n",
        "\n"
      ]
    },
    {
      "cell_type": "code",
      "execution_count": null,
      "metadata": {
        "id": "BJXXKWUXxWW6"
      },
      "outputs": [],
      "source": [
        "# plotSVM2D"
      ]
    },
    {
      "cell_type": "markdown",
      "metadata": {
        "id": "g1DXiC0-xWW6"
      },
      "source": [
        "- Now re-run your model with `gamma = 0.1`.\n",
        "\n",
        "### Question\n",
        "<img src=\"https://drive.google.com/uc?export=view&id=1ghyQPx1N8dmU3MV4TrANvqNhGwnLni72\" alt=\"Q\" width = \"200\"/>\n",
        "\n",
        "How is your model doing?"
      ]
    },
    {
      "cell_type": "code",
      "execution_count": null,
      "metadata": {
        "id": "cxhVRupCxWW6"
      },
      "outputs": [],
      "source": [
        "### YOUR CODE HERE ###\n"
      ]
    },
    {
      "cell_type": "code",
      "execution_count": null,
      "metadata": {
        "id": "eC2PnpTZxWW6"
      },
      "outputs": [],
      "source": [
        "# plotSVM2D"
      ]
    },
    {
      "cell_type": "markdown",
      "metadata": {
        "id": "-5_bmXmJxWW7"
      },
      "source": [
        "# Building an SVM with a polynomial kernel\n",
        "Let's see if we can classify this data with a polynomial kernel.\n",
        "\n",
        "- build an `SVC()` model with `kernel = \"poly\"`, `degree = 2`, `gamma = 1`, and `C = 1` (FYI for some odd reason sklearn calles the $r$ coefficient hyperparameter `gamma`)\n",
        "- grab the train/test accuracy and ROC/AUC\n",
        "- use the `plotSVM2D()` function I wrote for you to plot the decision boundary for your model for both train and test (just change the first two arguments, no need to refit the model)\n",
        "\n",
        "\n",
        "### Question\n",
        "<img src=\"https://drive.google.com/uc?export=view&id=1ghyQPx1N8dmU3MV4TrANvqNhGwnLni72\" alt=\"Q\" width = \"200\"/>\n",
        "\n",
        "How does your model do? What does the decision boundary look like?"
      ]
    },
    {
      "cell_type": "code",
      "execution_count": null,
      "metadata": {
        "id": "gUw7ZuJ0xWW7"
      },
      "outputs": [],
      "source": [
        "### YOUR CODE HERE ###\n"
      ]
    },
    {
      "cell_type": "code",
      "execution_count": null,
      "metadata": {
        "id": "dcFT8l6hxWW7"
      },
      "outputs": [],
      "source": [
        "# plotSVM2D"
      ]
    },
    {
      "cell_type": "markdown",
      "metadata": {
        "id": "_jHq6AeCxWW7"
      },
      "source": [
        "- Play around with the `C`, `degree` and `gamma` parameters.\n",
        "\n",
        "### Question\n",
        "<img src=\"https://drive.google.com/uc?export=view&id=1ghyQPx1N8dmU3MV4TrANvqNhGwnLni72\" alt=\"Q\" width = \"200\"/>\n",
        "\n",
        "How do they change the performance and decision boundary of the model?"
      ]
    },
    {
      "cell_type": "markdown",
      "metadata": {
        "id": "TprJPdRfxWW7"
      },
      "source": [
        "## Now with Messier Data\n",
        "\n",
        "While the previous data was CLEARLY non-linear and needed the help of a kernel, it was still fairly separable. Let's try a messier dataset [here](https://raw.githubusercontent.com/cmparlettpelleriti/CPSC393ParlettPelleriti/main/Data/svmcw2.csv).\n",
        "\n",
        "- load the data\n",
        "- plot the data with a scatterplot\n",
        "- do a 80/20 TTS\n",
        "- use a `rbf` kernel, and use GridSearch to chooose `C` (options should be `[0.001, 0.01, 0.1, 0.5, 1]`), and `gamma` (options should be `[0.001, 0.01, 0.1, 0.5, 1,2,5,10,25,50]`)\n",
        "- (make sure you z score *appropriately*)\n",
        "- print out the train/test accuracy and ROC/AUC.\n",
        "- plot the decision boundary for the full model for train and test using `plotSVM2D()`\n",
        "\n",
        "### Question\n",
        "<img src=\"https://drive.google.com/uc?export=view&id=1ghyQPx1N8dmU3MV4TrANvqNhGwnLni72\" alt=\"Q\" width = \"200\"/>\n",
        "\n",
        "What hyperparameter values did GridSearch choose? How did your model perform? What does the decision boundary look like?"
      ]
    },
    {
      "cell_type": "code",
      "execution_count": null,
      "metadata": {
        "id": "P23K5C0sxWW8"
      },
      "outputs": [],
      "source": [
        "from sklearn.pipeline import make_pipeline\n",
        "from sklearn.compose import make_column_transformer\n",
        "from sklearn.model_selection import GridSearchCV\n"
      ]
    },
    {
      "cell_type": "code",
      "execution_count": null,
      "metadata": {
        "id": "Ge86rA3ixWW8"
      },
      "outputs": [],
      "source": [
        "# load data"
      ]
    },
    {
      "cell_type": "code",
      "execution_count": null,
      "metadata": {
        "id": "PMf7IxtXxWW8"
      },
      "outputs": [],
      "source": [
        "# Do your train test split, and z score\n"
      ]
    },
    {
      "cell_type": "code",
      "execution_count": null,
      "metadata": {
        "id": "U9uobJcExWW8"
      },
      "outputs": [],
      "source": [
        "### YOUR CODE HERE ###\n",
        "\n",
        "\n"
      ]
    },
    {
      "cell_type": "code",
      "execution_count": null,
      "metadata": {
        "id": "W_Q2VCckxWW8"
      },
      "outputs": [],
      "source": [
        "# plotSVM2D"
      ]
    }
  ],
  "metadata": {
    "kernelspec": {
      "display_name": "Python 3",
      "language": "python",
      "name": "python3"
    },
    "language_info": {
      "codemirror_mode": {
        "name": "ipython",
        "version": 3
      },
      "file_extension": ".py",
      "mimetype": "text/x-python",
      "name": "python",
      "nbconvert_exporter": "python",
      "pygments_lexer": "ipython3",
      "version": "3.9.6"
    },
    "orig_nbformat": 4,
    "vscode": {
      "interpreter": {
        "hash": "aee8b7b246df8f9039afb4144a1f6fd8d2ca17a180786b69acc140d282b71a49"
      }
    },
    "colab": {
      "provenance": []
    }
  },
  "nbformat": 4,
  "nbformat_minor": 0
}
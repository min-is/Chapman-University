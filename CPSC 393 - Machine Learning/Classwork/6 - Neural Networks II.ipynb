{
  "cells": [
    {
      "cell_type": "code",
      "execution_count": 1,
      "metadata": {
        "id": "nHz_DBhIeDIS"
      },
      "outputs": [],
      "source": [
        "import warnings\n",
        "warnings.filterwarnings('ignore')\n",
        "\n",
        "import numpy as np\n",
        "import pandas as pd\n",
        "\n",
        "from keras.datasets import mnist\n",
        "import tensorflow.keras as kb\n",
        "from tensorflow.keras import backend\n",
        "import tensorflow as tf\n",
        "from sklearn.preprocessing import LabelBinarizer\n",
        "\n",
        "\n",
        "from plotnine import *\n",
        "\n",
        "from sklearn.metrics import mean_squared_error, mean_absolute_error, roc_auc_score\n",
        "\n",
        "from sklearn.linear_model import LinearRegression # Linear Regression Model\n",
        "from sklearn.preprocessing import StandardScaler #Z-score variables\n",
        "\n",
        "from sklearn.model_selection import train_test_split # simple TT split cv\n",
        "from sklearn.model_selection import KFold # k-fold cv\n",
        "from sklearn.model_selection import LeaveOneOut #LOO cv\n"
      ]
    },
    {
      "cell_type": "markdown",
      "metadata": {
        "id": "e3tWTNISeDIU"
      },
      "source": [
        "# Optimizers\n",
        "\n",
        "In the lecture we talked about different methods for optimizing our loss function\n",
        "\n",
        "- **Gradient Descent**\n",
        "- Gradient Descent with **Momentum**\n",
        "- **AdaGrad**\n",
        "- **RMSP**\n",
        "- **Adam**\n",
        "\n",
        "All of these are (or are based off of) the basic updating rule from Gradient Desent:\n",
        "\n",
        "$$ w_t = w_{t-1} - \\alpha * g_t $$\n",
        "\n",
        "Which says that the new weights ($w_t$) are the old weights ($w_{t-1}$) minus some adjustment which is the product of the learning rate ($\\alpha$) and the gradient ($g_t$). \n",
        "\n",
        "\n",
        "**Momentum** affects the gradient part of the update rule. Rather than updating based on just the current gradient, we update based on the *moving average* of past gradients. This allows us to \"build up\" speed as we \"roll\" down the gradient, but also smooths out any osscilating steps that we might take. \n",
        "\n",
        "$$ w_t = w_{t-1} - \\alpha * m_t $$\n",
        "$$ m_t = \\beta * m_{t-1} + (1 - \\beta) * g_t$$\n",
        "\n",
        "**AdaGrad** and **RMSP** both affect the learning rate part of the update rule. Both optimizers allow us to\n",
        "\n",
        "1. use different learning rates for different weights/parameters\n",
        "2. **ada**pt the learning rate throughout the process\n",
        "\n",
        "AdaGrad:\n",
        "$$ w_t = w_{t-1} - \\frac{\\alpha}{\\sqrt{\\epsilon + \\sum g_t^2}} * g_t $$\n",
        "\n",
        "RMSP:\n",
        "$$ w_t = w_{t-1} - \\frac{\\alpha}{\\sqrt{\\epsilon + \\nu_t}} * g_t $$\n",
        "$$ \\nu_t = \\beta * \\nu_{t-1} + (1 - \\beta) * g_t^2$$\n",
        "AdaGrad updates the learning rate based on the sum of the squared past gradients, whereas RMSP updates the learning rate based on the moving average of the past squared gradients. \n",
        "\n",
        "**Adam** combines the changes Momentum makes to the gradient part of the update rule, and the changes RMSP makes to the learning rate. It also unbiases the momentum and learning rate parameters so that they are not as strongly affected by the fact that we initialize the past gradients to be 0. \n",
        "\n",
        "$$ w_t = w_{t-1} - \\frac{\\alpha}{\\sqrt{\\epsilon + \\hat{\\nu_t}}} * \\hat{m_t} $$\n",
        "$$ \\nu_t = \\beta_2 * \\nu_{t-1} + (1 - \\beta_2) * g_t^2$$\n",
        "$$m_t = \\beta_1 * m_{t-1} + (1 - \\beta_1) * g_t$$\n",
        "$$ \\hat{\\nu_t} = \\frac{\\nu_t}{1 - \\beta_2^t},\\; \\hat{m_t} = \\frac{m_t}{1 - \\beta_1^t}$$\n",
        "\n",
        "## Using Different Optimizers in Keras/Tensorflow\n"
      ]
    },
    {
      "cell_type": "code",
      "execution_count": null,
      "metadata": {
        "id": "jL_khFT2eDIW"
      },
      "outputs": [],
      "source": []
    },
    {
      "cell_type": "markdown",
      "metadata": {
        "id": "yKEpTsdeeDIW"
      },
      "source": [
        "## Previously\n",
        "\n",
        "In a past lecture, we looked at a python implementation of Gradient Descent for a simple linear regression model using a Sum of Square Errors loss function. The function below, `stepGradient()` takes in four arguments:\n",
        "- `b0_current`: the current value for the `b0` intercept parameter\n",
        "- `b1_current`: the current value for the `b1` slope parameter\n",
        "- `point` a DataFrame of the points we're using to claculate the gradient\n",
        "- `learningRate` a constant value representing the learning rate (how big of a step we should take at each step)\n",
        "\n",
        "\n",
        "### Question\n",
        "<img src=\"https://drive.google.com/uc?export=view&id=1ghyQPx1N8dmU3MV4TrANvqNhGwnLni72\" alt=\"Q\" width = \"200\"/>\n",
        "\n",
        "Take a moment to study this function and map it to the process that we learned about for gradient descent. Call this function using `b0_current` = 0, `b1_current` = 0, `points` = `df`, and `learningRate` = 0.1"
      ]
    },
    {
      "cell_type": "code",
      "execution_count": 2,
      "metadata": {
        "id": "452Gd3yneDIX"
      },
      "outputs": [],
      "source": [
        "def stepGradient(b0_current, b1_current, points, learningRate):\n",
        "    # initialize gradient to 0\n",
        "    b0_gradient = 0\n",
        "    b1_gradient = 0\n",
        "\n",
        "    # for each data point, calculate gradient and add \n",
        "    for i in range(0, len(points)):\n",
        "        b0_gradient += -2 * (points.iloc[i].y - ((b1_current*points.iloc[i].x) + b0_current))\n",
        "        b1_gradient += -2 * points.iloc[i].x * (points.iloc[i].y - ((b1_current * points.iloc[i].x) + b0_current))\n",
        "\n",
        "    b0_gradient = b0_gradient/points.shape[0]\n",
        "    b1_gradient = b1_gradient/points.shape[0]\n",
        "    # update parameter values\n",
        "    new_b0 = b0_current - (learningRate * b0_gradient)\n",
        "    new_b1 = b1_current - (learningRate * b1_gradient)\n",
        "    return [np.round(new_b0,5), np.round(new_b1,5)]\n",
        "\n",
        "#based on https://spin.atomicobject.com/2014/06/24/gradient-descent-linear-regression/"
      ]
    },
    {
      "cell_type": "code",
      "execution_count": 4,
      "metadata": {
        "id": "s0Xk3ezfeDIX"
      },
      "outputs": [
        {
          "data": {
            "text/html": [
              "<div>\n",
              "<style scoped>\n",
              "    .dataframe tbody tr th:only-of-type {\n",
              "        vertical-align: middle;\n",
              "    }\n",
              "\n",
              "    .dataframe tbody tr th {\n",
              "        vertical-align: top;\n",
              "    }\n",
              "\n",
              "    .dataframe thead th {\n",
              "        text-align: right;\n",
              "    }\n",
              "</style>\n",
              "<table border=\"1\" class=\"dataframe\">\n",
              "  <thead>\n",
              "    <tr style=\"text-align: right;\">\n",
              "      <th></th>\n",
              "      <th>x</th>\n",
              "      <th>y</th>\n",
              "    </tr>\n",
              "  </thead>\n",
              "  <tbody>\n",
              "    <tr>\n",
              "      <th>0</th>\n",
              "      <td>0.471435</td>\n",
              "      <td>2.044103</td>\n",
              "    </tr>\n",
              "    <tr>\n",
              "      <th>1</th>\n",
              "      <td>-1.190976</td>\n",
              "      <td>0.985353</td>\n",
              "    </tr>\n",
              "    <tr>\n",
              "      <th>2</th>\n",
              "      <td>1.432707</td>\n",
              "      <td>2.730632</td>\n",
              "    </tr>\n",
              "    <tr>\n",
              "      <th>3</th>\n",
              "      <td>-0.312652</td>\n",
              "      <td>1.517582</td>\n",
              "    </tr>\n",
              "    <tr>\n",
              "      <th>4</th>\n",
              "      <td>-0.720589</td>\n",
              "      <td>1.284063</td>\n",
              "    </tr>\n",
              "    <tr>\n",
              "      <th>...</th>\n",
              "      <td>...</td>\n",
              "      <td>...</td>\n",
              "    </tr>\n",
              "    <tr>\n",
              "      <th>95</th>\n",
              "      <td>-0.081947</td>\n",
              "      <td>1.528786</td>\n",
              "    </tr>\n",
              "    <tr>\n",
              "      <th>96</th>\n",
              "      <td>-0.344766</td>\n",
              "      <td>1.406779</td>\n",
              "    </tr>\n",
              "    <tr>\n",
              "      <th>97</th>\n",
              "      <td>0.528288</td>\n",
              "      <td>2.201785</td>\n",
              "    </tr>\n",
              "    <tr>\n",
              "      <th>98</th>\n",
              "      <td>-1.068989</td>\n",
              "      <td>1.011453</td>\n",
              "    </tr>\n",
              "    <tr>\n",
              "      <th>99</th>\n",
              "      <td>-0.511881</td>\n",
              "      <td>1.116732</td>\n",
              "    </tr>\n",
              "  </tbody>\n",
              "</table>\n",
              "<p>100 rows × 2 columns</p>\n",
              "</div>"
            ],
            "text/plain": [
              "           x         y\n",
              "0   0.471435  2.044103\n",
              "1  -1.190976  0.985353\n",
              "2   1.432707  2.730632\n",
              "3  -0.312652  1.517582\n",
              "4  -0.720589  1.284063\n",
              "..       ...       ...\n",
              "95 -0.081947  1.528786\n",
              "96 -0.344766  1.406779\n",
              "97  0.528288  2.201785\n",
              "98 -1.068989  1.011453\n",
              "99 -0.511881  1.116732\n",
              "\n",
              "[100 rows x 2 columns]"
            ]
          },
          "execution_count": 4,
          "metadata": {},
          "output_type": "execute_result"
        }
      ],
      "source": [
        "# create data frame \n",
        "np.random.seed(1234)\n",
        "x = np.random.normal(loc = 0, scale = 1, size = 100)\n",
        "y = 1.67 + 0.67*x + np.random.normal(loc = 0, scale = 0.2, size = 100)\n",
        "df = pd.DataFrame({\"x\": x, \"y\": y})\n",
        "df"
      ]
    },
    {
      "cell_type": "code",
      "execution_count": 6,
      "metadata": {
        "id": "TLGBB92NeDIY"
      },
      "outputs": [
        {
          "name": "stdout",
          "output_type": "stream",
          "text": [
            "0.3367 0.1479\n",
            "1.522 0.63978\n",
            "1.64503 0.68249\n",
            "1.65789 0.686\n",
            "1.65923 0.68627\n",
            "1.65938 0.68627\n",
            "1.65938 0.68627\n",
            "1.65938 0.68627\n",
            "1.65938 0.68627\n",
            "1.65938 0.68627\n",
            "1.65938 0.68627\n",
            "1.65938 0.68627\n",
            "1.65938 0.68627\n",
            "1.65938 0.68627\n",
            "1.65938 0.68627\n",
            "1.65938 0.68627\n",
            "1.65938 0.68627\n",
            "1.65938 0.68627\n",
            "1.65938 0.68627\n",
            "1.65938 0.68627\n",
            "1.65938 0.68627\n",
            "1.65938 0.68627\n",
            "1.65938 0.68627\n",
            "1.65938 0.68627\n",
            "1.65938 0.68627\n",
            "1.65938 0.68627\n",
            "1.65938 0.68627\n",
            "1.65938 0.68627\n",
            "1.65938 0.68627\n",
            "1.65938 0.68627\n",
            "1.65938 0.68627\n",
            "1.65938 0.68627\n",
            "1.65938 0.68627\n",
            "1.65938 0.68627\n",
            "1.65938 0.68627\n",
            "1.65938 0.68627\n",
            "1.65938 0.68627\n",
            "1.65938 0.68627\n",
            "1.65938 0.68627\n",
            "1.65938 0.68627\n",
            "1.65938 0.68627\n",
            "1.65938 0.68627\n",
            "1.65938 0.68627\n",
            "1.65938 0.68627\n",
            "1.65938 0.68627\n",
            "1.65938 0.68627\n",
            "1.65938 0.68627\n",
            "1.65938 0.68627\n",
            "1.65938 0.68627\n",
            "1.65938 0.68627\n"
          ]
        }
      ],
      "source": [
        "# GD\n",
        "a = 0\n",
        "b = 0\n",
        "\n",
        "# run 500 updates\n",
        "for i in range(0,500):\n",
        "  a,b = stepGradient(a,b, df, 0.1)\n",
        "\n",
        "  # every 10 updates, print the current parameter values\n",
        "  if i%10 == 0:\n",
        "    print(a,b)"
      ]
    },
    {
      "cell_type": "markdown",
      "metadata": {
        "id": "gs49CnZUeDIY"
      },
      "source": [
        "## Momentum\n",
        "Now that we've learned about momentum, let's modify our `stepGradient()` function to incorporate momentum. \n",
        "\n",
        "Remember momentum is calculated based on a decaying sum of the past gradients\n",
        "\n",
        "$$w_t = w_{t-1} - \\alpha * m_t$$\n",
        "$$m_t = \\beta * m_{t-1} + (1-\\beta)* g_t$$\n",
        "\n",
        "This new `stepMomentum()` function will need to take in **three** additional arguments:\n",
        "\n",
        "- `b0_mt`: $m_t$; the sum of the gradients for `b0` from the previous step\n",
        "- `b1_mt`: $m_t$; the sum of the gradients for `b1` from the previous step\n",
        "- `beta`: moving average parameter that controlls how much of the previous gradient is remembered (set to a default value of `0.9`)\n",
        "\n",
        "\n",
        "### Question\n",
        "<img src=\"https://drive.google.com/uc?export=view&id=1ghyQPx1N8dmU3MV4TrANvqNhGwnLni72\" alt=\"Q\" width = \"200\"/>\n",
        "\n",
        "I have added these arguments to the function definition for you. Take a moment to look at the lecture slides and understand the difference between Gradient Descent and Gradient Descent *with* momentum. \n",
        "\n",
        "Then, modify the function below (which contains the same code as the `stepGradient()` function) to implement Gradient Descent *with* momentum."
      ]
    },
    {
      "cell_type": "code",
      "execution_count": 42,
      "metadata": {
        "id": "MUhrpvaYeDIY"
      },
      "outputs": [],
      "source": [
        "### YOUR CODE HERE ###\n",
        "# Change this function so it does GD with momentum, right now it just does GD\n",
        "\n",
        "def stepMomentum(b0_current, b1_current, points, learningRate, b0_mt, b1_mt, beta):\n",
        "    # initialize gradient to 0\n",
        "    b0_gradient = 0\n",
        "    b1_gradient = 0\n",
        "\n",
        "    # for each data point, calculate gradient and add \n",
        "    for i in range(0, len(points)):\n",
        "        b0_gradient += -2 * (points.iloc[i].y - ((b1_current*points.iloc[i].x) + b0_current))\n",
        "        b1_gradient += -2 * points.iloc[i].x * (points.iloc[i].y - ((b1_current * points.iloc[i].x) + b0_current))\n",
        "    \n",
        "    b0_gradient = b0_gradient/points.shape[0]\n",
        "    b1_gradient = b1_gradient/points.shape[0]\n",
        "\n",
        "    # calculate momentum\n",
        "    b0_mt += (beta*b0_mt) + (1-beta) * b0_gradient\n",
        "    b1_mt += (beta*b1_mt) + (1-beta) * b1_gradient\n",
        "    # update parameter values\n",
        "    new_b0 = b0_current - (learningRate * b0_mt)\n",
        "    new_b1 = b1_current - (learningRate * b1_mt)\n",
        "    return [np.round(new_b0,5), np.round(new_b1,5), b0_mt, b1_mt]\n",
        "\n",
        "#based on https://spin.atomicobject.com/2014/06/24/gradient-descent-linear-regression/"
      ]
    },
    {
      "cell_type": "markdown",
      "metadata": {
        "id": "DJzoTPd6eDIZ"
      },
      "source": [
        "## Try it Out\n",
        "\n",
        "Once you've created and tested your `stepMomentum()` function, try it out with this dataset, `df` and compare it to the output of the `stepGradient()` function on the same data.\n",
        "\n",
        "Initialize `b0_mt` and `b1_mt` both to 0.\n",
        "\n",
        "### Question\n",
        "<img src=\"https://drive.google.com/uc?export=view&id=1ghyQPx1N8dmU3MV4TrANvqNhGwnLni72\" alt=\"Q\" width = \"200\"/>\n",
        "\n",
        "What's different about the updates you got?"
      ]
    },
    {
      "cell_type": "code",
      "execution_count": 43,
      "metadata": {
        "id": "pIZFsUileDIZ"
      },
      "outputs": [
        {
          "name": "stdout",
          "output_type": "stream",
          "text": [
            "0.03367 0.01479\n",
            "78.35358 34.10995\n",
            "38290.13814 16438.71037\n",
            "18571363.56721 7859048.0438\n",
            "9007612841.96131 3756055878.67012\n",
            "4369164019963.7124 1794581384436.3945\n",
            "2119385451778623.5 857152572524545.8\n",
            "1.0281221401266062e+18 4.0927147099141466e+17\n"
          ]
        },
        {
          "ename": "KeyboardInterrupt",
          "evalue": "",
          "output_type": "error",
          "traceback": [
            "\u001b[0;31m---------------------------------------------------------------------------\u001b[0m",
            "\u001b[0;31mKeyboardInterrupt\u001b[0m                         Traceback (most recent call last)",
            "\u001b[1;32m/min-is/Chapman-University/CPSC 393 - Machine Learning/Classwork/6 - Neural Networks II.ipynb Cell 11'\u001b[0m in \u001b[0;36m<cell line: 10>\u001b[0;34m()\u001b[0m\n\u001b[1;32m      <a href='vscode-notebook-cell://github/min-is/Chapman-University/CPSC%20393%20-%20Machine%20Learning/Classwork/6%20-%20Neural%20Networks%20II.ipynb#ch0000010vscode-vfs?line=8'>9</a>\u001b[0m \u001b[39m# run 500 updates\u001b[39;00m\n\u001b[1;32m     <a href='vscode-notebook-cell://github/min-is/Chapman-University/CPSC%20393%20-%20Machine%20Learning/Classwork/6%20-%20Neural%20Networks%20II.ipynb#ch0000010vscode-vfs?line=9'>10</a>\u001b[0m \u001b[39mfor\u001b[39;00m i \u001b[39min\u001b[39;00m \u001b[39mrange\u001b[39m(\u001b[39m0\u001b[39m,\u001b[39m500\u001b[39m):\n\u001b[0;32m---> <a href='vscode-notebook-cell://github/min-is/Chapman-University/CPSC%20393%20-%20Machine%20Learning/Classwork/6%20-%20Neural%20Networks%20II.ipynb#ch0000010vscode-vfs?line=10'>11</a>\u001b[0m   a,b,c,d \u001b[39m=\u001b[39m stepMomentum(a,b, df, \u001b[39m0.1\u001b[39;49m, c, d, \u001b[39m0.9\u001b[39;49m)\n\u001b[1;32m     <a href='vscode-notebook-cell://github/min-is/Chapman-University/CPSC%20393%20-%20Machine%20Learning/Classwork/6%20-%20Neural%20Networks%20II.ipynb#ch0000010vscode-vfs?line=12'>13</a>\u001b[0m   \u001b[39m# every 10 updates, print the current parameter values\u001b[39;00m\n\u001b[1;32m     <a href='vscode-notebook-cell://github/min-is/Chapman-University/CPSC%20393%20-%20Machine%20Learning/Classwork/6%20-%20Neural%20Networks%20II.ipynb#ch0000010vscode-vfs?line=13'>14</a>\u001b[0m   \u001b[39mif\u001b[39;00m i\u001b[39m%\u001b[39m\u001b[39m10\u001b[39m \u001b[39m==\u001b[39m \u001b[39m0\u001b[39m:\n",
            "\u001b[1;32m/min-is/Chapman-University/CPSC 393 - Machine Learning/Classwork/6 - Neural Networks II.ipynb Cell 9'\u001b[0m in \u001b[0;36mstepMomentum\u001b[0;34m(b0_current, b1_current, points, learningRate, b0_mt, b1_mt, beta)\u001b[0m\n\u001b[1;32m     <a href='vscode-notebook-cell://github/min-is/Chapman-University/CPSC%20393%20-%20Machine%20Learning/Classwork/6%20-%20Neural%20Networks%20II.ipynb#ch0000008vscode-vfs?line=9'>10</a>\u001b[0m \u001b[39mfor\u001b[39;00m i \u001b[39min\u001b[39;00m \u001b[39mrange\u001b[39m(\u001b[39m0\u001b[39m, \u001b[39mlen\u001b[39m(points)):\n\u001b[1;32m     <a href='vscode-notebook-cell://github/min-is/Chapman-University/CPSC%20393%20-%20Machine%20Learning/Classwork/6%20-%20Neural%20Networks%20II.ipynb#ch0000008vscode-vfs?line=10'>11</a>\u001b[0m     b0_gradient \u001b[39m+\u001b[39m\u001b[39m=\u001b[39m \u001b[39m-\u001b[39m\u001b[39m2\u001b[39m \u001b[39m*\u001b[39m (points\u001b[39m.\u001b[39miloc[i]\u001b[39m.\u001b[39my \u001b[39m-\u001b[39m ((b1_current\u001b[39m*\u001b[39mpoints\u001b[39m.\u001b[39miloc[i]\u001b[39m.\u001b[39mx) \u001b[39m+\u001b[39m b0_current))\n\u001b[0;32m---> <a href='vscode-notebook-cell://github/min-is/Chapman-University/CPSC%20393%20-%20Machine%20Learning/Classwork/6%20-%20Neural%20Networks%20II.ipynb#ch0000008vscode-vfs?line=11'>12</a>\u001b[0m     b1_gradient \u001b[39m+\u001b[39m\u001b[39m=\u001b[39m \u001b[39m-\u001b[39m\u001b[39m2\u001b[39m \u001b[39m*\u001b[39m points\u001b[39m.\u001b[39;49miloc[i]\u001b[39m.\u001b[39mx \u001b[39m*\u001b[39m (points\u001b[39m.\u001b[39miloc[i]\u001b[39m.\u001b[39my \u001b[39m-\u001b[39m ((b1_current \u001b[39m*\u001b[39m points\u001b[39m.\u001b[39miloc[i]\u001b[39m.\u001b[39mx) \u001b[39m+\u001b[39m b0_current))\n\u001b[1;32m     <a href='vscode-notebook-cell://github/min-is/Chapman-University/CPSC%20393%20-%20Machine%20Learning/Classwork/6%20-%20Neural%20Networks%20II.ipynb#ch0000008vscode-vfs?line=13'>14</a>\u001b[0m b0_gradient \u001b[39m=\u001b[39m b0_gradient\u001b[39m/\u001b[39mpoints\u001b[39m.\u001b[39mshape[\u001b[39m0\u001b[39m]\n\u001b[1;32m     <a href='vscode-notebook-cell://github/min-is/Chapman-University/CPSC%20393%20-%20Machine%20Learning/Classwork/6%20-%20Neural%20Networks%20II.ipynb#ch0000008vscode-vfs?line=14'>15</a>\u001b[0m b1_gradient \u001b[39m=\u001b[39m b1_gradient\u001b[39m/\u001b[39mpoints\u001b[39m.\u001b[39mshape[\u001b[39m0\u001b[39m]\n",
            "File \u001b[0;32m/usr/local/lib/python3.8/site-packages/pandas/core/indexing.py:967\u001b[0m, in \u001b[0;36m_LocationIndexer.__getitem__\u001b[0;34m(self, key)\u001b[0m\n\u001b[1;32m    <a href='file:///usr/local/lib/python3.8/site-packages/pandas/core/indexing.py?line=963'>964</a>\u001b[0m axis \u001b[39m=\u001b[39m \u001b[39mself\u001b[39m\u001b[39m.\u001b[39maxis \u001b[39mor\u001b[39;00m \u001b[39m0\u001b[39m\n\u001b[1;32m    <a href='file:///usr/local/lib/python3.8/site-packages/pandas/core/indexing.py?line=965'>966</a>\u001b[0m maybe_callable \u001b[39m=\u001b[39m com\u001b[39m.\u001b[39mapply_if_callable(key, \u001b[39mself\u001b[39m\u001b[39m.\u001b[39mobj)\n\u001b[0;32m--> <a href='file:///usr/local/lib/python3.8/site-packages/pandas/core/indexing.py?line=966'>967</a>\u001b[0m \u001b[39mreturn\u001b[39;00m \u001b[39mself\u001b[39;49m\u001b[39m.\u001b[39;49m_getitem_axis(maybe_callable, axis\u001b[39m=\u001b[39;49maxis)\n",
            "File \u001b[0;32m/usr/local/lib/python3.8/site-packages/pandas/core/indexing.py:1522\u001b[0m, in \u001b[0;36m_iLocIndexer._getitem_axis\u001b[0;34m(self, key, axis)\u001b[0m\n\u001b[1;32m   <a href='file:///usr/local/lib/python3.8/site-packages/pandas/core/indexing.py?line=1518'>1519</a>\u001b[0m \u001b[39m# validate the location\u001b[39;00m\n\u001b[1;32m   <a href='file:///usr/local/lib/python3.8/site-packages/pandas/core/indexing.py?line=1519'>1520</a>\u001b[0m \u001b[39mself\u001b[39m\u001b[39m.\u001b[39m_validate_integer(key, axis)\n\u001b[0;32m-> <a href='file:///usr/local/lib/python3.8/site-packages/pandas/core/indexing.py?line=1521'>1522</a>\u001b[0m \u001b[39mreturn\u001b[39;00m \u001b[39mself\u001b[39;49m\u001b[39m.\u001b[39;49mobj\u001b[39m.\u001b[39;49m_ixs(key, axis\u001b[39m=\u001b[39;49maxis)\n",
            "File \u001b[0;32m/usr/local/lib/python3.8/site-packages/pandas/core/frame.py:3427\u001b[0m, in \u001b[0;36mDataFrame._ixs\u001b[0;34m(self, i, axis)\u001b[0m\n\u001b[1;32m   <a href='file:///usr/local/lib/python3.8/site-packages/pandas/core/frame.py?line=3423'>3424</a>\u001b[0m new_values \u001b[39m=\u001b[39m \u001b[39mself\u001b[39m\u001b[39m.\u001b[39m_mgr\u001b[39m.\u001b[39mfast_xs(i)\n\u001b[1;32m   <a href='file:///usr/local/lib/python3.8/site-packages/pandas/core/frame.py?line=3425'>3426</a>\u001b[0m \u001b[39m# if we are a copy, mark as such\u001b[39;00m\n\u001b[0;32m-> <a href='file:///usr/local/lib/python3.8/site-packages/pandas/core/frame.py?line=3426'>3427</a>\u001b[0m copy \u001b[39m=\u001b[39m \u001b[39misinstance\u001b[39;49m(new_values, np\u001b[39m.\u001b[39;49mndarray) \u001b[39mand\u001b[39;00m new_values\u001b[39m.\u001b[39mbase \u001b[39mis\u001b[39;00m \u001b[39mNone\u001b[39;00m\n\u001b[1;32m   <a href='file:///usr/local/lib/python3.8/site-packages/pandas/core/frame.py?line=3427'>3428</a>\u001b[0m result \u001b[39m=\u001b[39m \u001b[39mself\u001b[39m\u001b[39m.\u001b[39m_constructor_sliced(\n\u001b[1;32m   <a href='file:///usr/local/lib/python3.8/site-packages/pandas/core/frame.py?line=3428'>3429</a>\u001b[0m     new_values,\n\u001b[1;32m   <a href='file:///usr/local/lib/python3.8/site-packages/pandas/core/frame.py?line=3429'>3430</a>\u001b[0m     index\u001b[39m=\u001b[39m\u001b[39mself\u001b[39m\u001b[39m.\u001b[39mcolumns,\n\u001b[1;32m   <a href='file:///usr/local/lib/python3.8/site-packages/pandas/core/frame.py?line=3430'>3431</a>\u001b[0m     name\u001b[39m=\u001b[39m\u001b[39mself\u001b[39m\u001b[39m.\u001b[39mindex[i],\n\u001b[1;32m   <a href='file:///usr/local/lib/python3.8/site-packages/pandas/core/frame.py?line=3431'>3432</a>\u001b[0m     dtype\u001b[39m=\u001b[39mnew_values\u001b[39m.\u001b[39mdtype,\n\u001b[1;32m   <a href='file:///usr/local/lib/python3.8/site-packages/pandas/core/frame.py?line=3432'>3433</a>\u001b[0m )\n\u001b[1;32m   <a href='file:///usr/local/lib/python3.8/site-packages/pandas/core/frame.py?line=3433'>3434</a>\u001b[0m result\u001b[39m.\u001b[39m_set_is_copy(\u001b[39mself\u001b[39m, copy\u001b[39m=\u001b[39mcopy)\n",
            "\u001b[0;31mKeyboardInterrupt\u001b[0m: "
          ]
        }
      ],
      "source": [
        "### YOUR CODE HERE ###\n",
        "\n",
        "# GD with Momentum\n",
        "a = 0\n",
        "b = 0\n",
        "c = 0\n",
        "d = 0\n",
        "\n",
        "# run 500 updates\n",
        "for i in range(0,500):\n",
        "  a,b,c,d = stepMomentum(a, b, df, 0.1, c, d, 0.9)\n",
        "\n",
        "  # every 10 updates, print the current parameter values\n",
        "  if i%10 == 0:\n",
        "    print(a,b)"
      ]
    },
    {
      "cell_type": "markdown",
      "metadata": {
        "id": "KMFqKHQyeDIa"
      },
      "source": [
        "### Question\n",
        "<img src=\"https://drive.google.com/uc?export=view&id=1ghyQPx1N8dmU3MV4TrANvqNhGwnLni72\" alt=\"Q\" width = \"200\"/>\n",
        "\n",
        "What do you think the potential downside of initializing `b0_mt` and `b1_mt` to `0` is?"
      ]
    },
    {
      "cell_type": "markdown",
      "metadata": {
        "id": "4qFBXZmSeDIa"
      },
      "source": [
        "## AdaGrad\n",
        "\n",
        "We also learned about an upgraded version of Gradient Descent called **AdaGrad**. AdaGrad updates the learning rate for each parameter separately by scaling a baseline learning rate, $\\alpha$ by the square root of the sum of the previous gradients.\n",
        "\n",
        "Similarly to what we did with momentum, update the code from the `stepGradient()` function below to implement AdaGrad. \n",
        "\n",
        "The AdaGrad will need two extra arguments:\n",
        "- `b0_squared_gradient_sum`: the sum of the previous squared gradients for `b0`\n",
        "- `b1_squared_gradient_sum`: the sum of the previous squared gradients for `b1`\n",
        "\n",
        "(Set $\\epsilon$ to be 0.0001)"
      ]
    },
    {
      "cell_type": "code",
      "execution_count": 39,
      "metadata": {
        "id": "O9Pr7kvSeDIa"
      },
      "outputs": [],
      "source": [
        "def stepAda(b0_current, b1_current, points, learningRate, b0_squared_gradient_sum, b1_squared_gradient_sum ):\n",
        "\n",
        "    # initialize gradient to 0\n",
        "    b0_gradient = 0\n",
        "    b1_gradient = 0\n",
        "\n",
        "    # for each data point, calculate gradient and add \n",
        "    for i in range(0, len(points)):\n",
        "        b0_gradient += -2 * (points.iloc[i].y - ((b1_current*points.iloc[i].x) + b0_current))\n",
        "        b1_gradient += -2 * points.iloc[i].x * (points.iloc[i].y - ((b1_current * points.iloc[i].x) + b0_current))\n",
        "\n",
        "    b0_gradient = b0_gradient/points.shape[0]\n",
        "    b1_gradient = b1_gradient/points.shape[0]\n",
        "\n",
        "    b0_squared_gradient_sum += b0_gradient**2\n",
        "    b1_squared_gradient_sum += b1_gradient**2\n",
        "\n",
        "    # square root\n",
        "\n",
        "    epsilon = 0.0001\n",
        "    sr_b0 = np.sqrt(epsilon + b0_squared_gradient_sum)\n",
        "    sr_b1 = np.sqrt(epsilon + b1_squared_gradient_sum)\n",
        "\n",
        "    # update parameter values\n",
        "    new_b0 = b0_current - (learningRate/sr_b0) * b0_gradient\n",
        "    new_b1 = b1_current - (learningRate/sr_b1) * b1_gradient\n",
        "    return [np.round(new_b0,5), np.round(new_b1,5), b0_squared_gradient_sum, b1_squared_gradient_sum]"
      ]
    },
    {
      "cell_type": "code",
      "execution_count": 41,
      "metadata": {},
      "outputs": [
        {
          "name": "stdout",
          "output_type": "stream",
          "text": [
            "0.1 0.1\n",
            "0.49547 0.43944\n",
            "0.69902 0.56767\n",
            "0.84517 0.63311\n",
            "0.95969 0.66766\n",
            "1.05324 0.68564\n",
            "1.1315 0.69455\n",
            "1.198 0.69853\n",
            "1.2551 0.69985\n",
            "1.30447 0.69979\n",
            "1.34738 0.69905\n",
            "1.3848 0.69801\n",
            "1.41754 0.69691\n",
            "1.44625 0.69581\n",
            "1.47147 0.69476\n",
            "1.49365 0.6938\n",
            "1.51317 0.69294\n",
            "1.53036 0.69217\n",
            "1.54551 0.69148\n",
            "1.55887 0.69088\n",
            "1.57067 0.69035\n",
            "1.58107 0.68986\n",
            "1.59025 0.68946\n",
            "1.59833 0.68907\n",
            "1.60549 0.68877\n",
            "1.6118 0.68847\n",
            "1.61737 0.68822\n",
            "1.62228 0.68802\n",
            "1.62663 0.68782\n",
            "1.63048 0.68762\n",
            "1.63386 0.68746\n",
            "1.63685 0.68735\n",
            "1.6395 0.68725\n",
            "1.64183 0.68715\n",
            "1.64388 0.68705\n",
            "1.64569 0.68695\n",
            "1.6473 0.68685\n",
            "1.64872 0.68675\n",
            "1.64997 0.68671\n",
            "1.65108 0.68667\n",
            "1.65205 0.68663\n",
            "1.65291 0.6866\n",
            "1.65367 0.68657\n",
            "1.65434 0.68655\n",
            "1.65494 0.68653\n",
            "1.65545 0.68651\n",
            "1.65592 0.68649\n",
            "1.65632 0.68648\n",
            "1.65669 0.68647\n",
            "1.65699 0.68646\n"
          ]
        }
      ],
      "source": [
        "### YOUR CODE HERE ###\n",
        "\n",
        "# GD with Momentum\n",
        "a = 0\n",
        "b = 0\n",
        "c = 0\n",
        "d = 0\n",
        "\n",
        "# run 500 updates\n",
        "for i in range(0,500):\n",
        "  a,b,c,d = stepAda(a,b, df, 0.1, c, d)\n",
        "\n",
        "  # every 10 updates, print the current parameter values\n",
        "  if i%10 == 0:\n",
        "      print(a,b)"
      ]
    },
    {
      "cell_type": "markdown",
      "metadata": {
        "id": "VZgnHdKaeDIb"
      },
      "source": [
        "## RMSProp\n",
        "\n",
        "We also learned about another algorithm, RMSProp which:\n",
        "\n",
        "- scales the learning rate by the moving average of the squared past gradients\n",
        "- tailors the learning rate for each parameter separately\n",
        "\n"
      ]
    },
    {
      "cell_type": "code",
      "execution_count": 20,
      "metadata": {
        "id": "1RLuicCTeDIb"
      },
      "outputs": [],
      "source": [
        "def stepRMSP(b0_current, b1_current, points, learningRate,b0_squared_gradient_sum, b1_squared_gradient_sum, beta ):\n",
        "    # initialize gradient to 0\n",
        "    b0_gradient = 0\n",
        "    b1_gradient = 0\n",
        "\n",
        "    # for each data point, calculate gradient and add \n",
        "    for i in range(0, len(points)):\n",
        "        b0_gradient += (1/10000) * -2 * (points.iloc[i].y - ((b1_current*points.iloc[i].x) + b0_current))\n",
        "        b1_gradient += (1/10000) * -2 * points.iloc[i].x * (points.iloc[i].y - ((b1_current * points.iloc[i].x) + b0_current))\n",
        "    b0_gradient = b0_gradient/points.shape[0]\n",
        "    b1_gradient = b1_gradient/points.shape[0]\n",
        "    \n",
        "    # new learning rates\n",
        "    b0_squared_gradient_sum = (beta *b0_squared_gradient_sum) + ((1-beta) * b0_gradient**2)\n",
        "    b1_squared_gradient_sum = (beta *b1_squared_gradient_sum) + ((1-beta) * b1_gradient**2)\n",
        "\n",
        "    b0_learningRate = learningRate/(np.sqrt(0.0001 + b0_squared_gradient_sum))\n",
        "    b1_learningRate = learningRate/(np.sqrt(0.0001 + b1_squared_gradient_sum))\n",
        "\n",
        "    \n",
        "    # update parameter values\n",
        "    new_b0 = b0_current - (b0_learningRate * b0_gradient)\n",
        "    new_b1 = b1_current - (b1_learningRate * b1_gradient)\n",
        "    return [np.round(new_b0,5), np.round(new_b1,5), b0_squared_gradient_sum, b1_squared_gradient_sum]\n",
        "#based on https://spin.atomicobject.com/2014/06/24/gradient-descent-linear-regression/"
      ]
    },
    {
      "cell_type": "code",
      "execution_count": 26,
      "metadata": {},
      "outputs": [
        {
          "name": "stdout",
          "output_type": "stream",
          "text": [
            "0.00337 0.00148\n",
            "0.03667 0.0161\n",
            "0.0693 0.03041\n",
            "0.10127 0.04441\n",
            "0.13259 0.05811\n",
            "0.16329 0.07152\n",
            "0.19337 0.08465\n",
            "0.22284 0.0975\n",
            "0.25171 0.11008\n",
            "0.28001 0.12238\n",
            "0.30774 0.13443\n",
            "0.33491 0.14623\n",
            "0.36154 0.15778\n",
            "0.38764 0.16908\n",
            "0.41319 0.18013\n",
            "0.43824 0.19095\n",
            "0.46279 0.20154\n",
            "0.48684 0.21191\n",
            "0.5104 0.22205\n",
            "0.5335 0.23198\n",
            "0.55613 0.24169\n",
            "0.57831 0.2512\n",
            "0.60003 0.26051\n",
            "0.62132 0.26962\n",
            "0.64219 0.27853\n",
            "0.66263 0.28726\n",
            "0.68266 0.2958\n",
            "0.70228 0.30415\n",
            "0.72152 0.31233\n",
            "0.74037 0.32033\n",
            "0.75883 0.32817\n",
            "0.77693 0.33583\n",
            "0.79467 0.34333\n",
            "0.81205 0.35068\n",
            "0.82907 0.35786\n",
            "0.84575 0.3649\n",
            "0.8621 0.37178\n",
            "0.87812 0.37852\n",
            "0.89381 0.38511\n",
            "0.90919 0.39156\n",
            "0.92426 0.39789\n",
            "0.93903 0.40406\n",
            "0.9535 0.41011\n",
            "0.96769 0.41604\n",
            "0.98159 0.42184\n",
            "0.9952 0.42751\n",
            "1.00854 0.43306\n",
            "1.02162 0.43849\n",
            "1.03443 0.44381\n",
            "1.04698 0.44902\n"
          ]
        }
      ],
      "source": [
        "### YOUR CODE HERE ###\n",
        "\n",
        "# GD with Momentum\n",
        "a = 0\n",
        "b = 0\n",
        "\n",
        "# run 500 updates\n",
        "for i in range(0,500):\n",
        "  a,b, b0_squared_gradient_sum, b1_squared_gradient_sum = stepRMSP(a,b, df, 0.1, 0, 0, 0.9)\n",
        "\n",
        "  # every 10 updates, print the current parameter values\n",
        "  if i%10 == 0:\n",
        "      print(a,b)"
      ]
    },
    {
      "cell_type": "markdown",
      "metadata": {
        "id": "32c3dngdeDIb"
      },
      "source": [
        "## Adam\n",
        "\n",
        "Finally, we learned about Adam, which combines Momentum and RMSP.\n",
        "\n",
        "I won't make you figure this one out on your own, but the code is below!"
      ]
    },
    {
      "cell_type": "code",
      "execution_count": 32,
      "metadata": {
        "id": "U5dcRKijeDIc"
      },
      "outputs": [],
      "source": [
        "def stepAdam(b0_current, b1_current, points, learningRate,\n",
        "             b0_squared_gradient_sum, b1_squared_gradient_sum,\n",
        "             b0_mt, b1_mt, beta1, beta2,t ):\n",
        "    # initialize gradient to 0\n",
        "    b0_gradient = 0\n",
        "    b1_gradient = 0\n",
        "\n",
        "    # for each data point, calculate gradient and add \n",
        "    for i in range(0, len(points)):\n",
        "        b0_gradient += (1/10000) * -2 * (points.iloc[i].y - ((b1_current*points.iloc[i].x) + b0_current))\n",
        "        b1_gradient += (1/10000) * -2 * points.iloc[i].x * (points.iloc[i].y - ((b1_current * points.iloc[i].x) + b0_current))\n",
        "    \n",
        "    b0_gradient = b0_gradient/points.shape[0]\n",
        "    b1_gradient = b1_gradient/points.shape[0]\n",
        "\n",
        "    # calculate mts\n",
        "    b0_mt = (beta1*b0_mt) + ((1-beta1)*b0_gradient)\n",
        "    b1_mt = (beta1*b1_mt) + ((1-beta1)*b1_gradient)\n",
        "\n",
        "    # unbias these estimates\n",
        "    b0_mt_unbiased = b0_mt/(1-beta1**t)\n",
        "    b1_mt_unbiased = b1_mt/(1-beta1**t)\n",
        "\n",
        "    # new learning rates\n",
        "    b0_squared_gradient_sum = (beta2 *b0_squared_gradient_sum) + ((1-beta2) * b0_gradient**2)\n",
        "    b1_squared_gradient_sum = (beta2 *b1_squared_gradient_sum) + ((1-beta2) * b1_gradient**2)\n",
        "\n",
        "    # unbias these estimates\n",
        "    b0_squared_gradient_sum_unbiased = b0_squared_gradient_sum/(1-beta2**t)\n",
        "    b1_squared_gradient_sum_unbiased = b1_squared_gradient_sum/(1-beta2**t)\n",
        "\n",
        "    b0_learningRate = learningRate/(np.sqrt(0.0001 + b0_squared_gradient_sum_unbiased))\n",
        "    b1_learningRate = learningRate/(np.sqrt(0.0001 + b1_squared_gradient_sum_unbiased))\n",
        "\n",
        "    \n",
        "    # update parameter values\n",
        "    new_b0 = b0_current - (b0_learningRate * b0_mt_unbiased)\n",
        "    new_b1 = b1_current - (b1_learningRate * b1_mt_unbiased)\n",
        "    return [np.round(new_b0,5), np.round(new_b1,5), b0_squared_gradient_sum, b1_squared_gradient_sum, b0_mt, b1_mt]\n",
        "#based on https://spin.atomicobject.com/2014/06/24/gradient-descent-linear-regression/"
      ]
    },
    {
      "cell_type": "markdown",
      "metadata": {
        "id": "BLoOB2CGeDIc"
      },
      "source": [
        "## Linear Regression (Comparison)\n",
        "\n",
        "Just for comparison, since this is a simple model, let's see what Linear Regression comes up with for this model!\n",
        "\n",
        "### Question\n",
        "<img src=\"https://drive.google.com/uc?export=view&id=1ghyQPx1N8dmU3MV4TrANvqNhGwnLni72\" alt=\"Q\" width = \"200\"/>\n",
        "\n",
        "How close did our various methods of Gradient Descent get to Linear Regression's parameter estimates?"
      ]
    },
    {
      "cell_type": "code",
      "execution_count": 22,
      "metadata": {
        "id": "eGpAlXDpeDIc"
      },
      "outputs": [
        {
          "name": "stdout",
          "output_type": "stream",
          "text": [
            "1.6593974456567318 0.6862828977798419\n"
          ]
        }
      ],
      "source": [
        "from sklearn.linear_model import LinearRegression \n",
        "lr = LinearRegression()\n",
        "\n",
        "lr.fit(df[[\"x\"]], df[\"y\"])\n",
        "print(lr.intercept_, lr.coef_[0])"
      ]
    }
  ],
  "metadata": {
    "colab": {
      "provenance": []
    },
    "kernelspec": {
      "display_name": "Python 3",
      "language": "python",
      "name": "python3"
    },
    "language_info": {
      "codemirror_mode": {
        "name": "ipython",
        "version": 3
      },
      "file_extension": ".py",
      "mimetype": "text/x-python",
      "name": "python",
      "nbconvert_exporter": "python",
      "pygments_lexer": "ipython3",
      "version": "3.8.5"
    },
    "orig_nbformat": 4,
    "vscode": {
      "interpreter": {
        "hash": "aee8b7b246df8f9039afb4144a1f6fd8d2ca17a180786b69acc140d282b71a49"
      }
    }
  },
  "nbformat": 4,
  "nbformat_minor": 0
}

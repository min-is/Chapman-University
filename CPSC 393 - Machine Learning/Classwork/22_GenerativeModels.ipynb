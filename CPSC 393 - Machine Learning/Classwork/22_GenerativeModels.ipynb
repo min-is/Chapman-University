{
  "cells": [
    {
      "cell_type": "markdown",
      "metadata": {
        "id": "rlnZb3fSuTpv"
      },
      "source": [
        "# Generative Models\n",
        "\n",
        "Generative models are increasingly popular, especially in public spheres where generative models like GPT, DALL-E (and other AI Art models) provide easy to use APIs for the public to interact with generative models. \n",
        "\n",
        "The goal of generative modelling is to learn how to create new inputs (images, tabular data...etc) that have similar properties to the training data. Generally this can be accomplished in two ways:\n",
        "\n",
        "- **Density Estimation**: where the model learns an explicit probability density function that it can sample from (e.g. Naive Bayes, Gaussian Mixture Models, and Variational Autoencoders)\n",
        "- **Sample Generation**: where the model learns a function that can generate new stimuli without explicity density estimation (such as Generative Adversarial Networks which we'll cover next.)\n",
        "\n",
        "## Naive Bayes\n",
        "In Naive Bayes modles, we model a probability distribution that tells us the probability of data points having a given feature.\n",
        "\n",
        "For categorical variables, we can do this by simple calculation the proportion of rows with each feature."
      ]
    },
    {
      "cell_type": "code",
      "execution_count": 1,
      "metadata": {
        "id": "SFpQ_CfeuTpx",
        "outputId": "c72cf6fd-3b7d-44e8-e5a2-9b212af1b036"
      },
      "outputs": [
        {
          "data": {
            "text/html": [
              "<div>\n",
              "<style scoped>\n",
              "    .dataframe tbody tr th:only-of-type {\n",
              "        vertical-align: middle;\n",
              "    }\n",
              "\n",
              "    .dataframe tbody tr th {\n",
              "        vertical-align: top;\n",
              "    }\n",
              "\n",
              "    .dataframe thead th {\n",
              "        text-align: right;\n",
              "    }\n",
              "</style>\n",
              "<table border=\"1\" class=\"dataframe\">\n",
              "  <thead>\n",
              "    <tr style=\"text-align: right;\">\n",
              "      <th></th>\n",
              "      <th>hair_color</th>\n",
              "      <th>eye_color</th>\n",
              "      <th>gender_presentation</th>\n",
              "      <th>hair_style</th>\n",
              "    </tr>\n",
              "  </thead>\n",
              "  <tbody>\n",
              "    <tr>\n",
              "      <th>0</th>\n",
              "      <td>brown</td>\n",
              "      <td>brown</td>\n",
              "      <td>masculine</td>\n",
              "      <td>short</td>\n",
              "    </tr>\n",
              "    <tr>\n",
              "      <th>1</th>\n",
              "      <td>blonde</td>\n",
              "      <td>blue</td>\n",
              "      <td>feminine</td>\n",
              "      <td>short</td>\n",
              "    </tr>\n",
              "    <tr>\n",
              "      <th>2</th>\n",
              "      <td>brown</td>\n",
              "      <td>hazel</td>\n",
              "      <td>masculine</td>\n",
              "      <td>medium</td>\n",
              "    </tr>\n",
              "    <tr>\n",
              "      <th>3</th>\n",
              "      <td>brown</td>\n",
              "      <td>brown</td>\n",
              "      <td>feminine</td>\n",
              "      <td>long</td>\n",
              "    </tr>\n",
              "    <tr>\n",
              "      <th>4</th>\n",
              "      <td>red</td>\n",
              "      <td>brown</td>\n",
              "      <td>feminine</td>\n",
              "      <td>short</td>\n",
              "    </tr>\n",
              "  </tbody>\n",
              "</table>\n",
              "</div>"
            ],
            "text/plain": [
              "  hair_color eye_color gender_presentation hair_style\n",
              "0      brown     brown           masculine      short\n",
              "1     blonde      blue            feminine      short\n",
              "2      brown     hazel           masculine     medium\n",
              "3      brown     brown            feminine       long\n",
              "4        red     brown            feminine      short"
            ]
          },
          "execution_count": 1,
          "metadata": {},
          "output_type": "execute_result"
        }
      ],
      "source": [
        "import pandas as pd\n",
        "import numpy as np\n",
        "\n",
        "df = pd.read_csv(\"https://raw.githubusercontent.com/cmparlettpelleriti/CPSC393ParlettPelleriti/main/Data/nbgenerative.csv\")\n",
        "df.head()"
      ]
    },
    {
      "cell_type": "markdown",
      "metadata": {
        "id": "ImNLz0GiuTpy"
      },
      "source": [
        "Let's calculate our probability distribution based on these 4 characteristics for emoticons."
      ]
    },
    {
      "cell_type": "code",
      "execution_count": 2,
      "metadata": {
        "id": "ayvuibo6uTpy"
      },
      "outputs": [],
      "source": [
        "hair_probs = df.groupby(\"hair_color\")[\"hair_color\"].count()/df.shape[0]\n",
        "\n",
        "eye_probs = df.groupby(\"eye_color\")[\"eye_color\"].count()/df.shape[0]\n",
        "\n",
        "gender_probs = df.groupby(\"gender_presentation\")[\"gender_presentation\"].count()/df.shape[0]\n",
        "\n",
        "style_probs = df.groupby(\"hair_style\")[\"hair_style\"].count()/df.shape[0]\n",
        "\n",
        "# print(pd.DataFrame(hair_probs).to_markdown(tablefmt=\"grid\"))\n",
        "# print(pd.DataFrame(eye_probs).to_markdown(tablefmt=\"grid\"))\n",
        "# print(pd.DataFrame(gender_probs).to_markdown(tablefmt=\"grid\"))\n",
        "# print(pd.DataFrame(style_probs).to_markdown(tablefmt=\"grid\"))\n"
      ]
    },
    {
      "cell_type": "markdown",
      "metadata": {
        "id": "JQW08afmuTpy"
      },
      "source": [
        "+--------------+--------------+\n",
        "| hair_color   |   hair_color |\n",
        "+==============+==============+\n",
        "| black        |         0.05 |\n",
        "+--------------+--------------+\n",
        "| blonde       |         0.21 |\n",
        "+--------------+--------------+\n",
        "| blue         |         0.01 |\n",
        "+--------------+--------------+\n",
        "| brown        |         0.51 |\n",
        "+--------------+--------------+\n",
        "| purple       |         0.07 |\n",
        "+--------------+--------------+\n",
        "| red          |         0.12 |\n",
        "+--------------+--------------+\n",
        "| white        |         0.03 |\n",
        "+--------------+--------------+\n",
        "\n",
        "\n",
        "\n",
        "+-------------+-------------+\n",
        "| eye_color   |   eye_color |\n",
        "+=============+=============+\n",
        "| blue        |        0.16 |\n",
        "+-------------+-------------+\n",
        "| brown       |        0.52 |\n",
        "+-------------+-------------+\n",
        "| green       |        0.11 |\n",
        "+-------------+-------------+\n",
        "| hazel       |        0.21 |\n",
        "+-------------+-------------+\n",
        "\n",
        "\n",
        "\n",
        "+-----------------------+-----------------------+\n",
        "| gender_presentation   |   gender_presentation |\n",
        "+=======================+=======================+\n",
        "| androgenous           |                  0.09 |\n",
        "+-----------------------+-----------------------+\n",
        "| feminine              |                  0.53 |\n",
        "+-----------------------+-----------------------+\n",
        "| masculine             |                  0.38 |\n",
        "+-----------------------+-----------------------+\n",
        "\n",
        "\n",
        "\n",
        "+--------------+--------------+\n",
        "| hair_style   |   hair_style |\n",
        "+==============+==============+\n",
        "| long         |         0.47 |\n",
        "+--------------+--------------+\n",
        "| medium       |         0.26 |\n",
        "+--------------+--------------+\n",
        "| short        |         0.27 |\n",
        "+--------------+--------------+\n",
        "\n"
      ]
    },
    {
      "cell_type": "markdown",
      "metadata": {
        "id": "_AmUKHnHuTpz"
      },
      "source": [
        "Now, let's generate some new data by sampling from the probability distribution we just calculated. Notice that we're assuming that these features (hair color, eye color, gender presentation, and hair style) are *independent* even though that may not be true."
      ]
    },
    {
      "cell_type": "code",
      "execution_count": 3,
      "metadata": {
        "id": "UNVVOnoNuTpz",
        "outputId": "856e1759-bd04-491a-e383-0f9b2faf8381"
      },
      "outputs": [
        {
          "data": {
            "text/html": [
              "<div>\n",
              "<style scoped>\n",
              "    .dataframe tbody tr th:only-of-type {\n",
              "        vertical-align: middle;\n",
              "    }\n",
              "\n",
              "    .dataframe tbody tr th {\n",
              "        vertical-align: top;\n",
              "    }\n",
              "\n",
              "    .dataframe thead th {\n",
              "        text-align: right;\n",
              "    }\n",
              "</style>\n",
              "<table border=\"1\" class=\"dataframe\">\n",
              "  <thead>\n",
              "    <tr style=\"text-align: right;\">\n",
              "      <th></th>\n",
              "      <th>hair_color</th>\n",
              "      <th>eye_color</th>\n",
              "      <th>gender_presentation</th>\n",
              "      <th>hair_style</th>\n",
              "    </tr>\n",
              "  </thead>\n",
              "  <tbody>\n",
              "    <tr>\n",
              "      <th>0</th>\n",
              "      <td>blonde</td>\n",
              "      <td>brown</td>\n",
              "      <td>feminine</td>\n",
              "      <td>short</td>\n",
              "    </tr>\n",
              "    <tr>\n",
              "      <th>1</th>\n",
              "      <td>brown</td>\n",
              "      <td>brown</td>\n",
              "      <td>feminine</td>\n",
              "      <td>long</td>\n",
              "    </tr>\n",
              "    <tr>\n",
              "      <th>2</th>\n",
              "      <td>brown</td>\n",
              "      <td>green</td>\n",
              "      <td>androgenous</td>\n",
              "      <td>short</td>\n",
              "    </tr>\n",
              "    <tr>\n",
              "      <th>3</th>\n",
              "      <td>purple</td>\n",
              "      <td>green</td>\n",
              "      <td>feminine</td>\n",
              "      <td>long</td>\n",
              "    </tr>\n",
              "    <tr>\n",
              "      <th>4</th>\n",
              "      <td>brown</td>\n",
              "      <td>brown</td>\n",
              "      <td>masculine</td>\n",
              "      <td>medium</td>\n",
              "    </tr>\n",
              "    <tr>\n",
              "      <th>5</th>\n",
              "      <td>brown</td>\n",
              "      <td>brown</td>\n",
              "      <td>masculine</td>\n",
              "      <td>medium</td>\n",
              "    </tr>\n",
              "    <tr>\n",
              "      <th>6</th>\n",
              "      <td>brown</td>\n",
              "      <td>brown</td>\n",
              "      <td>feminine</td>\n",
              "      <td>long</td>\n",
              "    </tr>\n",
              "    <tr>\n",
              "      <th>7</th>\n",
              "      <td>purple</td>\n",
              "      <td>blue</td>\n",
              "      <td>masculine</td>\n",
              "      <td>short</td>\n",
              "    </tr>\n",
              "    <tr>\n",
              "      <th>8</th>\n",
              "      <td>red</td>\n",
              "      <td>green</td>\n",
              "      <td>feminine</td>\n",
              "      <td>long</td>\n",
              "    </tr>\n",
              "    <tr>\n",
              "      <th>9</th>\n",
              "      <td>red</td>\n",
              "      <td>hazel</td>\n",
              "      <td>feminine</td>\n",
              "      <td>short</td>\n",
              "    </tr>\n",
              "  </tbody>\n",
              "</table>\n",
              "</div>"
            ],
            "text/plain": [
              "  hair_color eye_color gender_presentation hair_style\n",
              "0     blonde     brown            feminine      short\n",
              "1      brown     brown            feminine       long\n",
              "2      brown     green         androgenous      short\n",
              "3     purple     green            feminine       long\n",
              "4      brown     brown           masculine     medium\n",
              "5      brown     brown           masculine     medium\n",
              "6      brown     brown            feminine       long\n",
              "7     purple      blue           masculine      short\n",
              "8        red     green            feminine       long\n",
              "9        red     hazel            feminine      short"
            ]
          },
          "execution_count": 3,
          "metadata": {},
          "output_type": "execute_result"
        }
      ],
      "source": [
        "np.random.seed(1234)\n",
        "new_hair = np.random.choice(hair_probs.index, size = 10, p = hair_probs, replace = True)\n",
        "new_eyes = np.random.choice(eye_probs.index, size = 10, p = eye_probs, replace = True)\n",
        "new_gender = np.random.choice(gender_probs.index, size = 10, p = gender_probs, replace = True)\n",
        "new_style = np.random.choice(style_probs.index, size = 10, p = style_probs, replace = True)\n",
        "\n",
        "new_data = pd.DataFrame({\"hair_color\": new_hair, \n",
        "                         \"eye_color\": new_eyes,\n",
        "                         \"gender_presentation\": new_gender,\n",
        "                         \"hair_style\": new_style})\n",
        "\n",
        "new_data"
      ]
    },
    {
      "cell_type": "markdown",
      "metadata": {
        "id": "gSCMhLGBuTpz"
      },
      "source": [
        "We've built a generative model! Let's see if our generative model created any never-before-seen emoji people. We can do this by finding rows that only appear in `new_data` and not `df`.\n"
      ]
    },
    {
      "cell_type": "code",
      "execution_count": 4,
      "metadata": {
        "id": "QTqvDXl6uTp0",
        "outputId": "6e2be20c-479b-4c01-c7ec-51b3e4581308"
      },
      "outputs": [
        {
          "data": {
            "text/html": [
              "<div>\n",
              "<style scoped>\n",
              "    .dataframe tbody tr th:only-of-type {\n",
              "        vertical-align: middle;\n",
              "    }\n",
              "\n",
              "    .dataframe tbody tr th {\n",
              "        vertical-align: top;\n",
              "    }\n",
              "\n",
              "    .dataframe thead th {\n",
              "        text-align: right;\n",
              "    }\n",
              "</style>\n",
              "<table border=\"1\" class=\"dataframe\">\n",
              "  <thead>\n",
              "    <tr style=\"text-align: right;\">\n",
              "      <th></th>\n",
              "      <th>hair_color</th>\n",
              "      <th>eye_color</th>\n",
              "      <th>gender_presentation</th>\n",
              "      <th>hair_style</th>\n",
              "      <th>_merge</th>\n",
              "    </tr>\n",
              "  </thead>\n",
              "  <tbody>\n",
              "    <tr>\n",
              "      <th>113</th>\n",
              "      <td>brown</td>\n",
              "      <td>green</td>\n",
              "      <td>androgenous</td>\n",
              "      <td>short</td>\n",
              "      <td>right_only</td>\n",
              "    </tr>\n",
              "    <tr>\n",
              "      <th>114</th>\n",
              "      <td>purple</td>\n",
              "      <td>green</td>\n",
              "      <td>feminine</td>\n",
              "      <td>long</td>\n",
              "      <td>right_only</td>\n",
              "    </tr>\n",
              "    <tr>\n",
              "      <th>115</th>\n",
              "      <td>purple</td>\n",
              "      <td>blue</td>\n",
              "      <td>masculine</td>\n",
              "      <td>short</td>\n",
              "      <td>right_only</td>\n",
              "    </tr>\n",
              "    <tr>\n",
              "      <th>116</th>\n",
              "      <td>red</td>\n",
              "      <td>green</td>\n",
              "      <td>feminine</td>\n",
              "      <td>long</td>\n",
              "      <td>right_only</td>\n",
              "    </tr>\n",
              "    <tr>\n",
              "      <th>117</th>\n",
              "      <td>red</td>\n",
              "      <td>hazel</td>\n",
              "      <td>feminine</td>\n",
              "      <td>short</td>\n",
              "      <td>right_only</td>\n",
              "    </tr>\n",
              "  </tbody>\n",
              "</table>\n",
              "</div>"
            ],
            "text/plain": [
              "    hair_color eye_color gender_presentation hair_style      _merge\n",
              "113      brown     green         androgenous      short  right_only\n",
              "114     purple     green            feminine       long  right_only\n",
              "115     purple      blue           masculine      short  right_only\n",
              "116        red     green            feminine       long  right_only\n",
              "117        red     hazel            feminine      short  right_only"
            ]
          },
          "execution_count": 4,
          "metadata": {},
          "output_type": "execute_result"
        }
      ],
      "source": [
        "# find rows only located in new_data OR df\n",
        "find_new_rows = pd.merge(df, new_data, on = ['hair_color', 'eye_color', 'gender_presentation', 'hair_style'], \\\n",
        "         how = \"outer\", indicator= True)\n",
        "\n",
        "# pull rows in new_data that never occur in df\n",
        "find_new_rows[find_new_rows[\"_merge\"] == \"right_only\"]"
      ]
    },
    {
      "cell_type": "markdown",
      "metadata": {
        "id": "srwlWDVZuTp0"
      },
      "source": [
        "Wow! It looks like we generated a few never-before-seen emoji people!"
      ]
    },
    {
      "cell_type": "markdown",
      "metadata": {
        "id": "Cw_K-ISIuTp0"
      },
      "source": [
        "\n",
        "## Gaussian Mixture Models\n",
        "\n",
        "We also learned that Gaussian Mixture Models can be generative models. In GMM we ask the model to learn the mean and covariance of all of our clusters. Once we have the multi-variate normal distributions created by the model, we can sample new data from them. In fact, `sklearn` has a function for that `.sample()`!\n"
      ]
    },
    {
      "cell_type": "code",
      "execution_count": 5,
      "metadata": {
        "id": "M61dxOGwuTp0",
        "outputId": "0c3fa035-b95b-4687-eb7f-8273f744b3a5"
      },
      "outputs": [
        {
          "data": {
            "text/html": [
              "<div>\n",
              "<style scoped>\n",
              "    .dataframe tbody tr th:only-of-type {\n",
              "        vertical-align: middle;\n",
              "    }\n",
              "\n",
              "    .dataframe tbody tr th {\n",
              "        vertical-align: top;\n",
              "    }\n",
              "\n",
              "    .dataframe thead th {\n",
              "        text-align: right;\n",
              "    }\n",
              "</style>\n",
              "<table border=\"1\" class=\"dataframe\">\n",
              "  <thead>\n",
              "    <tr style=\"text-align: right;\">\n",
              "      <th></th>\n",
              "      <th>Unnamed: 0</th>\n",
              "      <th>species</th>\n",
              "      <th>island</th>\n",
              "      <th>bill_length_mm</th>\n",
              "      <th>bill_depth_mm</th>\n",
              "      <th>flipper_length_mm</th>\n",
              "      <th>body_mass_g</th>\n",
              "      <th>sex</th>\n",
              "      <th>year</th>\n",
              "    </tr>\n",
              "  </thead>\n",
              "  <tbody>\n",
              "    <tr>\n",
              "      <th>0</th>\n",
              "      <td>0</td>\n",
              "      <td>Adelie</td>\n",
              "      <td>Torgersen</td>\n",
              "      <td>39.1</td>\n",
              "      <td>18.7</td>\n",
              "      <td>181.0</td>\n",
              "      <td>3750.0</td>\n",
              "      <td>male</td>\n",
              "      <td>2007</td>\n",
              "    </tr>\n",
              "    <tr>\n",
              "      <th>1</th>\n",
              "      <td>1</td>\n",
              "      <td>Adelie</td>\n",
              "      <td>Torgersen</td>\n",
              "      <td>39.5</td>\n",
              "      <td>17.4</td>\n",
              "      <td>186.0</td>\n",
              "      <td>3800.0</td>\n",
              "      <td>female</td>\n",
              "      <td>2007</td>\n",
              "    </tr>\n",
              "    <tr>\n",
              "      <th>2</th>\n",
              "      <td>2</td>\n",
              "      <td>Adelie</td>\n",
              "      <td>Torgersen</td>\n",
              "      <td>40.3</td>\n",
              "      <td>18.0</td>\n",
              "      <td>195.0</td>\n",
              "      <td>3250.0</td>\n",
              "      <td>female</td>\n",
              "      <td>2007</td>\n",
              "    </tr>\n",
              "    <tr>\n",
              "      <th>4</th>\n",
              "      <td>4</td>\n",
              "      <td>Adelie</td>\n",
              "      <td>Torgersen</td>\n",
              "      <td>36.7</td>\n",
              "      <td>19.3</td>\n",
              "      <td>193.0</td>\n",
              "      <td>3450.0</td>\n",
              "      <td>female</td>\n",
              "      <td>2007</td>\n",
              "    </tr>\n",
              "    <tr>\n",
              "      <th>5</th>\n",
              "      <td>5</td>\n",
              "      <td>Adelie</td>\n",
              "      <td>Torgersen</td>\n",
              "      <td>39.3</td>\n",
              "      <td>20.6</td>\n",
              "      <td>190.0</td>\n",
              "      <td>3650.0</td>\n",
              "      <td>male</td>\n",
              "      <td>2007</td>\n",
              "    </tr>\n",
              "  </tbody>\n",
              "</table>\n",
              "</div>"
            ],
            "text/plain": [
              "   Unnamed: 0 species     island  bill_length_mm  bill_depth_mm  \\\n",
              "0           0  Adelie  Torgersen            39.1           18.7   \n",
              "1           1  Adelie  Torgersen            39.5           17.4   \n",
              "2           2  Adelie  Torgersen            40.3           18.0   \n",
              "4           4  Adelie  Torgersen            36.7           19.3   \n",
              "5           5  Adelie  Torgersen            39.3           20.6   \n",
              "\n",
              "   flipper_length_mm  body_mass_g     sex  year  \n",
              "0              181.0       3750.0    male  2007  \n",
              "1              186.0       3800.0  female  2007  \n",
              "2              195.0       3250.0  female  2007  \n",
              "4              193.0       3450.0  female  2007  \n",
              "5              190.0       3650.0    male  2007  "
            ]
          },
          "execution_count": 5,
          "metadata": {},
          "output_type": "execute_result"
        }
      ],
      "source": [
        "penguins = pd.read_csv(\"https://raw.githubusercontent.com/cmparlettpelleriti/CPSC392ParlettPelleriti/master/Data/penguins.csv\")\n",
        "penguins.dropna(inplace = True)\n",
        "penguins.head()"
      ]
    },
    {
      "cell_type": "markdown",
      "metadata": {
        "id": "w2_dkW3fuTp0"
      },
      "source": [
        "First, we'll fit a Gaussian Mixture model on the `bill_length_mm` and `bill_depth_mm` features. Then we'll use the built-in `sample` method to generate new samples from each group."
      ]
    },
    {
      "cell_type": "code",
      "execution_count": 6,
      "metadata": {
        "id": "cQ7Wy-EGuTp1",
        "outputId": "1d3dbce1-eb59-48d5-cdf0-c77dbdbe7e02"
      },
      "outputs": [
        {
          "data": {
            "text/html": [
              "<div>\n",
              "<style scoped>\n",
              "    .dataframe tbody tr th:only-of-type {\n",
              "        vertical-align: middle;\n",
              "    }\n",
              "\n",
              "    .dataframe tbody tr th {\n",
              "        vertical-align: top;\n",
              "    }\n",
              "\n",
              "    .dataframe thead th {\n",
              "        text-align: right;\n",
              "    }\n",
              "</style>\n",
              "<table border=\"1\" class=\"dataframe\">\n",
              "  <thead>\n",
              "    <tr style=\"text-align: right;\">\n",
              "      <th></th>\n",
              "      <th>bill_length_mm</th>\n",
              "      <th>bill_depth_mm</th>\n",
              "      <th>cluster</th>\n",
              "    </tr>\n",
              "  </thead>\n",
              "  <tbody>\n",
              "    <tr>\n",
              "      <th>0</th>\n",
              "      <td>37.183855</td>\n",
              "      <td>19.643451</td>\n",
              "      <td>0</td>\n",
              "    </tr>\n",
              "    <tr>\n",
              "      <th>1</th>\n",
              "      <td>38.320232</td>\n",
              "      <td>17.649347</td>\n",
              "      <td>0</td>\n",
              "    </tr>\n",
              "    <tr>\n",
              "      <th>2</th>\n",
              "      <td>40.024318</td>\n",
              "      <td>16.129391</td>\n",
              "      <td>0</td>\n",
              "    </tr>\n",
              "    <tr>\n",
              "      <th>3</th>\n",
              "      <td>39.415598</td>\n",
              "      <td>17.634835</td>\n",
              "      <td>0</td>\n",
              "    </tr>\n",
              "    <tr>\n",
              "      <th>4</th>\n",
              "      <td>40.234191</td>\n",
              "      <td>20.041773</td>\n",
              "      <td>0</td>\n",
              "    </tr>\n",
              "  </tbody>\n",
              "</table>\n",
              "</div>"
            ],
            "text/plain": [
              "   bill_length_mm  bill_depth_mm  cluster\n",
              "0       37.183855      19.643451        0\n",
              "1       38.320232      17.649347        0\n",
              "2       40.024318      16.129391        0\n",
              "3       39.415598      17.634835        0\n",
              "4       40.234191      20.041773        0"
            ]
          },
          "execution_count": 6,
          "metadata": {},
          "output_type": "execute_result"
        }
      ],
      "source": [
        "from sklearn.mixture import GaussianMixture\n",
        "\n",
        "# grab data\n",
        "features = [\"bill_length_mm\", \"bill_depth_mm\"]\n",
        "X = penguins[features]\n",
        "\n",
        "# fit model\n",
        "gmm = GaussianMixture(n_components = 3)\n",
        "gmm.fit(X)\n",
        "\n",
        "# sample new data\n",
        "samples = gmm.sample(20)\n",
        "new_penguins = pd.DataFrame(samples[0])\n",
        "new_penguins.columns = features\n",
        "new_penguins[\"cluster\"] = samples[1]\n",
        "\n",
        "new_penguins.head()\n"
      ]
    },
    {
      "cell_type": "markdown",
      "metadata": {
        "id": "l5wIbn9-uTp1"
      },
      "source": [
        "looks like we've generated some new, realistic looking penguins!"
      ]
    },
    {
      "cell_type": "code",
      "execution_count": 7,
      "metadata": {
        "id": "_Kx28IbyuTp1",
        "outputId": "4ad60e87-a3ca-49ae-82b0-0389fd38bc1e"
      },
      "outputs": [
        {
          "data": {
            "image/png": "[encoded data removed]",
            "text/plain": [
              "<Figure size 640x480 with 1 Axes>"
            ]
          },
          "metadata": {
            "needs_background": "light"
          },
          "output_type": "display_data"
        },
        {
          "data": {
            "text/plain": [
              "<ggplot: (316562655)>"
            ]
          },
          "execution_count": 7,
          "metadata": {},
          "output_type": "execute_result"
        }
      ],
      "source": [
        "# plot\n",
        "from plotnine import *\n",
        "\n",
        "(ggplot(penguins, aes(x = \"bill_length_mm\", y = \"bill_depth_mm\")) + geom_point() + \n",
        "geom_point(data = new_penguins, mapping = aes(color = \"factor(cluster)\"), size = 3) + \n",
        "labs(x = \"Bill Length (in mm)\", y = \"Bill Depth (in mm)\", \n",
        "     title = \"Penguins and New Penguins\")  + \n",
        "     theme_minimal() + \n",
        "     scale_color_discrete(name = \"Cluster\")) \n"
      ]
    },
    {
      "cell_type": "markdown",
      "metadata": {
        "id": "hmr1sfsGuTp1"
      },
      "source": [
        "## Variational Autoencoders\n",
        "\n",
        "Naive Bayes and GMM are simple generative models that learn explicity probability distributions for our data, allowing us to sample from these distributions. \n",
        "\n",
        "Variational Autoencoders work similarly. Like a regular Autoencoder, VAEs use an encoder to learn how to represent input data using a **hiddent representation** in a **latent space** in a way that allows the decoder to recrate that input using only the hidden representation. But unlike regular Autoencoders, we want to encourage VAEs to learn a **hidden representation** that has nice properties. Specifically we want this latent space to have:\n",
        "\n",
        "- **Good Representation**: the model learns a hidden representation that allows the model to accurately recreate the input\n",
        "- **Good Realisim**: the model learns a latent space where any point in the latent space creates a *valid* looking sample\n",
        "- **Good Smoothness**: the model learns a latent space where we can sample points between two inputs in order to get a smooth morphing from one input to the other\n",
        "\n",
        "\n",
        "In order to enforce these properties, variational autoencoders do two important things to distinguish themselves from regular autoencoders:\n",
        "\n",
        "### 1. Probabilistic Hidden Representations\n",
        "\n",
        "Instead of learning a deterministic hidden representation (like a single vector of numbers), VAEs learn a *probabilistic* hidden representation by learning a vector of *means* ($\\mu$) and a vector of variances ($\\sigma^2$). These represent a multivariate normal probability distribution that we can sample hidden representation vectors from by using the formula: \n",
        "\n",
        "$$ \\text{hidden representation} = \\mu + \\sigma * \\zeta $$\n",
        "\n",
        "where $\\mu$ and $\\sigma$ are learned by the encoder, and $\\zeta$ is randomly sampled noise that is not learned by the model. \n",
        "\n",
        "Because we still expect the decoder to recreate the orginal input despite the addition of randomness, this forces the VAE to learn that similar hidden representations should produce similar outputs (this is a similar idea to **Contractive Autoencoders** where we penalized the derivative of the encoder so that small changes in the input didn't result in large changes in the output: aka similar inputs should have similar hidden representations). \n",
        "\n",
        "\n",
        "### 2. Regularization Loss\n",
        "\n",
        "In a typical Autoencoder, there's nothing in the loss function that says that the latent space of our hidden representations should be well behaved, but we'd like them to be well behaved. So, we add a term to our loss function. \n",
        "\n",
        "An Autoencoder typically uses only the **Reconstruction Loss** to train the model. This measures the MSE comparing the input to the re-created output. The closer these two things are, the better our Autoencoder is. \n",
        "\n",
        "$$ \\text{AE loss} = || x = \\hat{x}||^2 $$\n",
        "\n",
        "VAEs also use reconstruction loss (after all, we still care that our inputs can be recreated) but we also want a nice latent space, so we add a regularizing term to the loss function.\n",
        "\n",
        "$$ \\text{VAE loss} = || x = \\hat{x}||^2 + KL(N(\\mu, \\sigma), N(0,1)) $$\n",
        "\n",
        "Remember, **KL Divergence** measures the similarity between two distributions. So our penalty term penalizes the model if the $\\mu$ and $\\sigma$ that the model learns are far away from $0$ and $1$. This does NOT mean that the values it learns *can't* be far away from $0$ and $1$, but if they are, they must commensurately improve the reconstruction loss. \n",
        "\n",
        "Let's look at a [modified example from Keras](https://colab.research.google.com/drive/1vjwM48on5X-ZsNkmtQq0QtgPK13rIVaX?usp=sharing), where we build a Variational Autoencoder on the Fashion MNIST dataset. Read through and run the code then discuss the following with your group:\n",
        "\n",
        "<img src=\"https://drive.google.com/uc?export=view&id=1ghyQPx1N8dmU3MV4TrANvqNhGwnLni72\" alt=\"Q\" width = \"200\"/>\n",
        "\n",
        "1. What kinds of layers does the encoder have?\n",
        "- 2D convolutional layers\n",
        "- Dense layers\n",
        "\n",
        "2. What does the encoder output (is it more than one thing?)\n",
        "3. What does the encoder use to *downsample* the input image? Why, according to the lecture, do we make that choice?\n",
        "4. Can you figure out what the `Sampling()` function does? \n",
        "5. What does the decoder take in? What does it output?\n",
        "6. How is the decoder *upsampling* the hidden representation to make its output the same shape as our original image?\n",
        "7. We have to define a custom loss function for this VAE (see `line 32` under the **Define the VAE as a `Model` with custom `train_step`** section), what does this custom loss function include?\n",
        "8. Look at the plot under the cell **Display a grid of sampled clothes**. Does our latent space have the property of **Smoothness**?\n",
        "9. (this is a bit of a tough question, feel free to use outside resources) Looking at the plot under the cell **Display how the latent space clusters different clothes classes**, does our latent space look like you expect it to? If so: what about our model helped it look that way? If not: what would we change about our model in order for it to look the way we expect?"
      ]
    }
  ],
  "metadata": {
    "colab": {
      "provenance": []
    },
    "kernelspec": {
      "display_name": "Python 3",
      "language": "python",
      "name": "python3"
    },
    "language_info": {
      "codemirror_mode": {
        "name": "ipython",
        "version": 3
      },
      "file_extension": ".py",
      "mimetype": "text/x-python",
      "name": "python",
      "nbconvert_exporter": "python",
      "pygments_lexer": "ipython3",
      "version": "3.8.5"
    },
    "orig_nbformat": 4
  },
  "nbformat": 4,
  "nbformat_minor": 0
}

{
  "cells": [
    {
      "cell_type": "code",
      "execution_count": 1,
      "metadata": {
        "id": "OeB_htqe4hBw"
      },
      "outputs": [],
      "source": [
        "import warnings\n",
        "warnings.filterwarnings('ignore')\n",
        "\n",
        "import numpy as np\n",
        "import pandas as pd\n",
        "\n",
        "from keras.datasets import mnist, fashion_mnist\n",
        "import tensorflow.keras as kb\n",
        "from tensorflow.keras import backend\n",
        "import tensorflow as tf"
      ]
    },
    {
      "cell_type": "markdown",
      "metadata": {
        "id": "ITKuCVRc4hBx"
      },
      "source": [
        "# Advanced CNN Techniques\n",
        "- Data Augmentation\n",
        "- Residual Connections\n",
        "- Depthwise Separable Connections\n",
        "- Visualizing Layer Activations\n",
        "- Visualizing Filters\n",
        "- Grad CAM\n"
      ]
    },
    {
      "cell_type": "markdown",
      "metadata": {
        "id": "lR5DiXiO4hBy"
      },
      "source": [
        "## Data Augmentation\n",
        "\n",
        "Data Augmentation is a method specific to CNNs that allows us to regularize our Network by showing the network the same image over and over with *slight* changes to things like:\n",
        "\n",
        "- rotation\n",
        "- crop\n",
        "- zoom\n",
        "- translation\n",
        "\n",
        "This is also helpful because we want our CNN to be able to recognize images even when they're shifted a little bit. \n",
        "\n",
        "Keras has a bunch of [`Random_*` layers](https://keras.io/api/layers/preprocessing_layers/image_augmentation/) which perform data augmentation for us. We can add a stack of them to a CNN before the first layer in order to perform data augmentation. "
      ]
    },
    {
      "cell_type": "code",
      "execution_count": 2,
      "metadata": {
        "id": "2f-9ZUjS4hBy",
        "outputId": "8437cd3a-c52a-446c-a897-0c5ccd2bfad2"
      },
      "outputs": [
        {
          "name": "stdout",
          "output_type": "stream",
          "text": [
            "x_train shape: (60000, 28, 28, 1)\n",
            "60000 train samples\n",
            "10000 test samples\n"
          ]
        }
      ],
      "source": [
        "# Load the data and split it between train and test sets\n",
        "(x_train, y_train), (x_test, y_test) = fashion_mnist.load_data()\n",
        "\n",
        "# Scale images to the [0, 1] range\n",
        "x_train = x_train.astype(\"float32\") / 255\n",
        "x_test = x_test.astype(\"float32\") / 255\n",
        "\n",
        "# Make sure images have shape (28, 28, 1)\n",
        "x_train = np.expand_dims(x_train, -1)\n",
        "x_test = np.expand_dims(x_test, -1)\n",
        "\n",
        "print(\"x_train shape:\", x_train.shape)\n",
        "print(x_train.shape[0], \"train samples\")\n",
        "print(x_test.shape[0], \"test samples\")\n",
        "\n",
        "\n",
        "# convert class vectors to binary class matrices\n",
        "y_train = kb.utils.to_categorical(y_train, 10)\n",
        "y_test = kb.utils.to_categorical(y_test, 10)"
      ]
    },
    {
      "cell_type": "code",
      "execution_count": 3,
      "metadata": {
        "id": "2CXiClGB4hBz",
        "outputId": "cb2502ab-98bc-4695-f117-7a8943857ed1"
      },
      "outputs": [
        {
          "name": "stdout",
          "output_type": "stream",
          "text": [
            "Model: \"sequential\"\n",
            "_________________________________________________________________\n",
            " Layer (type)                Output Shape              Param #   \n",
            "=================================================================\n",
            " random_flip (RandomFlip)    (None, 28, 28, 1)         0         \n",
            "                                                                 \n",
            " random_zoom (RandomZoom)    (None, 28, 28, 1)         0         \n",
            "                                                                 \n",
            " random_rotation (RandomRota  (None, 28, 28, 1)        0         \n",
            " tion)                                                           \n",
            "                                                                 \n",
            " conv2d (Conv2D)             (None, 28, 28, 32)        320       \n",
            "                                                                 \n",
            " conv2d_1 (Conv2D)           (None, 28, 28, 64)        18496     \n",
            "                                                                 \n",
            " max_pooling2d (MaxPooling2D  (None, 14, 14, 64)       0         \n",
            " )                                                               \n",
            "                                                                 \n",
            " flatten (Flatten)           (None, 12544)             0         \n",
            "                                                                 \n",
            " dense (Dense)               (None, 100)               1254500   \n",
            "                                                                 \n",
            " dense_1 (Dense)             (None, 10)                1010      \n",
            "                                                                 \n"
          ]
        },
        {
          "name": "stderr",
          "output_type": "stream",
          "text": [
            "2023-03-09 11:45:55.267614: I tensorflow/core/platform/cpu_feature_guard.cc:151] This TensorFlow binary is optimized with oneAPI Deep Neural Network Library (oneDNN) to use the following CPU instructions in performance-critical operations:  AVX2 FMA\n",
            "To enable them in other operations, rebuild TensorFlow with the appropriate compiler flags.\n"
          ]
        },
        {
          "name": "stdout",
          "output_type": "stream",
          "text": [
            "=================================================================\n",
            "Total params: 1,274,326\n",
            "Trainable params: 1,274,326\n",
            "Non-trainable params: 0\n",
            "_________________________________________________________________\n"
          ]
        }
      ],
      "source": [
        "model = kb.Sequential([\n",
        "    kb.layers.InputLayer(input_shape =(28,28,1)),\n",
        "    kb.layers.RandomFlip(),\n",
        "    kb.layers.RandomZoom(0.2),\n",
        "    kb.layers.RandomRotation(0.1),\n",
        "    kb.layers.Conv2D(32, (3, 3), activation='relu', padding = \"same\"),\n",
        "    kb.layers.Conv2D(64, (3, 3), activation='relu', padding = \"same\"),\n",
        "    kb.layers.MaxPooling2D((2, 2)),\n",
        "    kb.layers.Flatten(),\n",
        "    kb.layers.Dense(100, activation='relu'),\n",
        "    kb.layers.Dense(10, activation='softmax'),\n",
        "])\n",
        "\n",
        "model.summary()"
      ]
    },
    {
      "cell_type": "code",
      "execution_count": 4,
      "metadata": {
        "id": "mQtYUh8n4hBz",
        "outputId": "8cdcd2a3-1d99-4f1b-9bbc-d25e92836aa5"
      },
      "outputs": [
        {
          "name": "stdout",
          "output_type": "stream",
          "text": [
            "1875/1875 [==============================] - 88s 46ms/step - loss: 0.7238 - accuracy: 0.7315 - val_loss: 0.6714 - val_accuracy: 0.7631\n"
          ]
        },
        {
          "data": {
            "text/plain": [
              "<keras.callbacks.History at 0x12b05b520>"
            ]
          },
          "execution_count": 4,
          "metadata": {},
          "output_type": "execute_result"
        }
      ],
      "source": [
        "model.compile(loss=\"categorical_crossentropy\", optimizer=\"adam\", metrics=[\"accuracy\"])\n",
        "\n",
        "model.fit(x_train, y_train, epochs=1, validation_data = (x_test, y_test))"
      ]
    },
    {
      "cell_type": "markdown",
      "metadata": {
        "id": "BXz-Kwf-4hB0"
      },
      "source": [
        "## Residual Connections\n",
        "\n",
        "Residual Connections create two paths for data to flow through:\n",
        "\n",
        "1. the traditional path which pushes the input image through the convolutional + pooling layers\n",
        "2. a non-destructive path that passes the image through unchanged (though we may reduce the size to match the output of the other path)\n",
        "\n",
        "These two paths are then added together before passing the output through to the next block of conv + pool layers. \n",
        "\n",
        "Because we're no longer using a simple, sequential stack of layers, we have to use the Functional API to define this architechture rather than `Sequential()`. 😭"
      ]
    },
    {
      "cell_type": "code",
      "execution_count": null,
      "metadata": {
        "id": "vELdRrlk4hB0",
        "outputId": "158bc40b-883c-47d1-e454-1e1c76879893"
      },
      "outputs": [
        {
          "name": "stdout",
          "output_type": "stream",
          "text": [
            "Model: \"model\"\n",
            "__________________________________________________________________________________________________\n",
            " Layer (type)                   Output Shape         Param #     Connected to                     \n",
            "==================================================================================================\n",
            " input_2 (InputLayer)           [(None, 28, 28, 1)]  0           []                               \n",
            "                                                                                                  \n",
            " conv2d_2 (Conv2D)              (None, 26, 26, 32)   320         ['input_2[0][0]']                \n",
            "                                                                                                  \n",
            " conv2d_3 (Conv2D)              (None, 26, 26, 64)   18496       ['conv2d_2[0][0]']               \n",
            "                                                                                                  \n",
            " conv2d_4 (Conv2D)              (None, 26, 26, 64)   2112        ['conv2d_2[0][0]']               \n",
            "                                                                                                  \n",
            " add (Add)                      (None, 26, 26, 64)   0           ['conv2d_3[0][0]',               \n",
            "                                                                  'conv2d_4[0][0]']               \n",
            "                                                                                                  \n",
            " max_pooling2d_1 (MaxPooling2D)  (None, 13, 13, 64)  0           ['add[0][0]']                    \n",
            "                                                                                                  \n",
            " flatten_1 (Flatten)            (None, 10816)        0           ['max_pooling2d_1[0][0]']        \n",
            "                                                                                                  \n",
            " dense_2 (Dense)                (None, 100)          1081700     ['flatten_1[0][0]']              \n",
            "                                                                                                  \n",
            " dense_3 (Dense)                (None, 10)           1010        ['dense_2[0][0]']                \n",
            "                                                                                                  \n",
            "==================================================================================================\n",
            "Total params: 1,103,638\n",
            "Trainable params: 1,103,638\n",
            "Non-trainable params: 0\n",
            "__________________________________________________________________________________________________\n"
          ]
        }
      ],
      "source": [
        "input = kb.Input(shape = (28,28,1))\n",
        "x = kb.layers.Conv2D(32, (3,3), activation = \"relu\")(input)\n",
        "residual = x\n",
        "x = kb.layers.Conv2D(64, (3,3), padding = \"same\", activation = \"relu\")(x)\n",
        "residual = kb.layers.Conv2D(64,(1,1))(residual)\n",
        "x = kb.layers.add([x,residual])\n",
        "x = kb.layers.MaxPooling2D((2, 2))(x)\n",
        "x = kb.layers.Flatten()(x)\n",
        "x = kb.layers.Dense(100, activation='relu')(x)\n",
        "output = kb.layers.Dense(10, activation='softmax')(x)\n",
        "\n",
        "model = kb.Model(inputs = input, outputs = output)\n",
        "\n",
        "model.summary()"
      ]
    },
    {
      "cell_type": "code",
      "execution_count": null,
      "metadata": {
        "id": "j9d8xZSM4hB0",
        "outputId": "7e9f5b5e-9b16-4838-abe8-9af8a82e6279"
      },
      "outputs": [
        {
          "name": "stdout",
          "output_type": "stream",
          "text": [
            "1875/1875 [==============================] - 66s 35ms/step - loss: 0.3487 - accuracy: 0.8759 - val_loss: 0.2613 - val_accuracy: 0.9020\n"
          ]
        },
        {
          "data": {
            "text/plain": [
              "<keras.callbacks.History at 0x7fed49d15eb0>"
            ]
          },
          "execution_count": 6,
          "metadata": {},
          "output_type": "execute_result"
        }
      ],
      "source": [
        "model.compile(loss=\"categorical_crossentropy\", optimizer=\"adam\", metrics=[\"accuracy\"])\n",
        "\n",
        "model.fit(x_train, y_train, epochs=1, validation_data = (x_test, y_test))"
      ]
    },
    {
      "cell_type": "markdown",
      "metadata": {
        "id": "WKA1Bvy94hB1"
      },
      "source": [
        "## Depthwise Separable Convolutions\n",
        "\n",
        "[Depthwise Separable Convolutions](https://keras.io/api/layers/convolution_layers/separable_convolution2d/) are a way to reduce the computational cost of performing a convolution. DSC's apply a filter to each channel in an input image *separately* and then convolve those outputs together. This does assume that the different channels in the input are highly independent, but that's often true so it typically won't reduce the performance of your model unless that assumption is violated.\n",
        "\n",
        "Luckily, `SeparableConv2D()` is a drop-in replacement for `Conv2D()`."
      ]
    },
    {
      "cell_type": "code",
      "execution_count": null,
      "metadata": {
        "id": "qK0Pz3QT4hB1",
        "outputId": "e8ab23fb-a628-45d6-9213-667233420781"
      },
      "outputs": [
        {
          "name": "stdout",
          "output_type": "stream",
          "text": [
            "Model: \"sequential_1\"\n",
            "_________________________________________________________________\n",
            " Layer (type)                Output Shape              Param #   \n",
            "=================================================================\n",
            " separable_conv2d (Separable  (None, 28, 28, 32)       73        \n",
            " Conv2D)                                                         \n",
            "                                                                 \n",
            " separable_conv2d_1 (Separab  (None, 28, 28, 64)       2400      \n",
            " leConv2D)                                                       \n",
            "                                                                 \n",
            " max_pooling2d_2 (MaxPooling  (None, 14, 14, 64)       0         \n",
            " 2D)                                                             \n",
            "                                                                 \n",
            " flatten_2 (Flatten)         (None, 12544)             0         \n",
            "                                                                 \n",
            " dense_4 (Dense)             (None, 100)               1254500   \n",
            "                                                                 \n",
            " dense_5 (Dense)             (None, 10)                1010      \n",
            "                                                                 \n",
            "=================================================================\n",
            "Total params: 1,257,983\n",
            "Trainable params: 1,257,983\n",
            "Non-trainable params: 0\n",
            "_________________________________________________________________\n"
          ]
        }
      ],
      "source": [
        "model = kb.Sequential([\n",
        "    kb.layers.InputLayer(input_shape =(28,28,1)),\n",
        "    kb.layers.SeparableConv2D(32, (3, 3), activation='relu', padding = \"same\"),\n",
        "    kb.layers.SeparableConv2D(64, (3, 3), activation='relu', padding = \"same\"),\n",
        "    kb.layers.MaxPooling2D((2, 2)),\n",
        "    kb.layers.Flatten(),\n",
        "    kb.layers.Dense(100, activation='relu'),\n",
        "    kb.layers.Dense(10, activation='softmax'),\n",
        "])\n",
        "\n",
        "model.summary()"
      ]
    },
    {
      "cell_type": "code",
      "execution_count": null,
      "metadata": {
        "id": "rPE6EDyq4hB1",
        "outputId": "91350934-fd51-443e-c694-db4867531d1f"
      },
      "outputs": [
        {
          "name": "stdout",
          "output_type": "stream",
          "text": [
            "1875/1875 [==============================] - 52s 27ms/step - loss: 0.4368 - accuracy: 0.8426 - val_loss: 0.3605 - val_accuracy: 0.8738\n"
          ]
        },
        {
          "data": {
            "text/plain": [
              "<keras.callbacks.History at 0x7fed3a0e43d0>"
            ]
          },
          "execution_count": 8,
          "metadata": {},
          "output_type": "execute_result"
        }
      ],
      "source": [
        "model.compile(loss=\"categorical_crossentropy\", optimizer=\"adam\", metrics=[\"accuracy\"])\n",
        "\n",
        "model.fit(x_train, y_train, epochs=1, validation_data = (x_test, y_test))"
      ]
    },
    {
      "cell_type": "markdown",
      "metadata": {
        "id": "n5wMIHMi4hB1"
      },
      "source": [
        "## Visualizations"
      ]
    },
    {
      "cell_type": "markdown",
      "metadata": {
        "id": "dKn6Jh0B4hB2"
      },
      "source": [
        "### Visualizing Layer Activations"
      ]
    },
    {
      "cell_type": "code",
      "execution_count": null,
      "metadata": {
        "id": "0_SSrDbM4hB2"
      },
      "outputs": [],
      "source": [
        "# model = kb.Sequential([\n",
        "#     kb.layers.InputLayer(input_shape =(28,28,1)),\n",
        "#     kb.layers.Conv2D(32, (3, 3), activation='relu', padding = \"same\"),\n",
        "#     kb.layers.Conv2D(64, (3, 3), activation='relu', padding = \"same\"),\n",
        "#     kb.layers.MaxPooling2D((2, 2)),\n",
        "#     kb.layers.Flatten(),\n",
        "#     kb.layers.Dense(10, activation='softmax'),\n",
        "# ])\n",
        "\n",
        "# model.summary()\n",
        "\n"
      ]
    },
    {
      "cell_type": "code",
      "execution_count": null,
      "metadata": {
        "id": "xD7E9Zmn4hB2"
      },
      "outputs": [],
      "source": [
        "# model.compile(loss=\"categorical_crossentropy\", optimizer=\"adam\", metrics=[\"accuracy\"])\n",
        "\n",
        "# model.fit(x_train, y_train, epochs=25, validation_data = (x_test, y_test))\n",
        "# model.save(\"11_smallConvNet\")\n",
        "\n",
        "model = kb.models.load_model(\"11_smallConvNet\")"
      ]
    },
    {
      "cell_type": "code",
      "execution_count": null,
      "metadata": {
        "id": "n5nS7sP54hB2",
        "outputId": "1f283e02-54bb-4d22-e212-fa6af38a050e"
      },
      "outputs": [
        {
          "name": "stdout",
          "output_type": "stream",
          "text": [
            "Model: \"model_1\"\n",
            "_________________________________________________________________\n",
            " Layer (type)                Output Shape              Param #   \n",
            "=================================================================\n",
            " input_3 (InputLayer)        [(None, 28, 28, 1)]       0         \n",
            "                                                                 \n",
            " conv2d_4 (Conv2D)           (None, 28, 28, 32)        320       \n",
            "                                                                 \n",
            " conv2d_5 (Conv2D)           (None, 28, 28, 64)        18496     \n",
            "                                                                 \n",
            " max_pooling2d_2 (MaxPooling  (None, 14, 14, 64)       0         \n",
            " 2D)                                                             \n",
            "                                                                 \n",
            "=================================================================\n",
            "Total params: 18,816\n",
            "Trainable params: 18,816\n",
            "Non-trainable params: 0\n",
            "_________________________________________________________________\n"
          ]
        }
      ],
      "source": [
        "layer_out = []\n",
        "layer_name = []\n",
        "\n",
        "for layer in model.layers:\n",
        "    if isinstance(layer, (kb.layers.Conv2D, kb.layers.MaxPooling2D)):\n",
        "        layer_out.append(layer.output)\n",
        "        layer_name.append(layer.name)\n",
        "\n",
        "layer_activations = kb.Model(inputs = model.input, outputs = layer_out)\n",
        "\n",
        "layer_activations.summary()"
      ]
    },
    {
      "cell_type": "code",
      "execution_count": null,
      "metadata": {
        "id": "rWIvXYxY4hB2",
        "outputId": "6c3234f7-66eb-4a77-afb4-b65ccbb4f6ff"
      },
      "outputs": [
        {
          "name": "stdout",
          "output_type": "stream",
          "text": [
            "1/1 [==============================] - 0s 65ms/step\n"
          ]
        }
      ],
      "source": [
        "img = kb.utils.img_to_array(x_train[0])\n",
        "img = np.expand_dims(img, axis = 0)\n",
        "activations = layer_activations.predict(img)\n"
      ]
    },
    {
      "cell_type": "code",
      "execution_count": null,
      "metadata": {
        "id": "M823J_NX4hB3",
        "outputId": "ef6f9f99-d3be-4e7f-e570-66fd4b0d423a"
      },
      "outputs": [
        {
          "data": {
            "text/plain": [
              "<matplotlib.image.AxesImage at 0x7fed6b1c1370>"
            ]
          },
          "execution_count": 13,
          "metadata": {},
          "output_type": "execute_result"
        },
        {
          "data": {
            "image/png": "[encoded data removed]",
            "text/plain": [
              "<Figure size 432x288 with 1 Axes>"
            ]
          },
          "metadata": {
            "needs_background": "light"
          },
          "output_type": "display_data"
        }
      ],
      "source": [
        "import matplotlib.pyplot as plt\n",
        "\n",
        "# which layer and channel you want to look at\n",
        "layer = 0\n",
        "channel = 3\n",
        "\n",
        "# grab layer and channel and plot\n",
        "layer_act = activations[layer]\n",
        "plt.imshow(layer_act[0,:,:,channel], cmap = \"Greys\")"
      ]
    },
    {
      "cell_type": "markdown",
      "metadata": {
        "id": "Q8gHEJrC4hB3"
      },
      "source": [
        "### Visualizing Filters\n",
        "\n",
        "We can also visualize the filters learned by your CNN by using *gradient **ascent*** to find an image that *maximally* activates the filter as it's slid across an input. \n",
        "\n",
        "We start with a blank image and then make iterative changes that maximize the filter output more and more at each step.\n",
        "\n",
        "\n",
        "First, let's pull the names of the Convolutional Layers in our Model so we know what they're called."
      ]
    },
    {
      "cell_type": "code",
      "execution_count": null,
      "metadata": {
        "id": "PwR6hSxj4hB3",
        "outputId": "9dd0c8d8-fe83-42b7-dbba-d0f58e466cfa"
      },
      "outputs": [
        {
          "data": {
            "text/plain": [
              "['conv2d_4', 'conv2d_5']"
            ]
          },
          "execution_count": 14,
          "metadata": {},
          "output_type": "execute_result"
        }
      ],
      "source": [
        "layer_name2 = []\n",
        "\n",
        "for layer in model.layers:\n",
        "    if isinstance(layer, (kb.layers.Conv2D)):\n",
        "        layer_name2.append(layer.name)\n",
        "\n",
        "layer_name2"
      ]
    },
    {
      "cell_type": "markdown",
      "metadata": {
        "id": "Xi65Nkag4hB3"
      },
      "source": [
        "Then, we'll pull the layer from the model and create a NEW model that returns the output of that layer."
      ]
    },
    {
      "cell_type": "code",
      "execution_count": null,
      "metadata": {
        "id": "3mmY5ly74hB4"
      },
      "outputs": [],
      "source": [
        "layer_name = \"conv2d_5\"\n",
        "\n",
        "layer = model.get_layer(layer_name)\n",
        "\n",
        "feature_extractor = kb.Model(inputs = model.input, outputs = layer.output)"
      ]
    },
    {
      "cell_type": "markdown",
      "metadata": {
        "id": "u8S-8cOW4hB4"
      },
      "source": [
        "Then we'll define some functions to do the gradient ascent (modified from Chapter 9 in your book), but adapt it to work with a 1D image."
      ]
    },
    {
      "cell_type": "code",
      "execution_count": null,
      "metadata": {
        "id": "GLsU2ZXY4hB4"
      },
      "outputs": [],
      "source": [
        "def compute_loss(input_image, filter_index):\n",
        "    activation = feature_extractor(input_image)\n",
        "    # We avoid border artifacts by only involving non-border pixels in the loss.\n",
        "    filter_activation = activation[:, 2:-2, 2:-2, filter_index]\n",
        "    return tf.reduce_mean(filter_activation)\n",
        "\n",
        "@tf.function\n",
        "def gradient_ascent_step(img, filter_index, learning_rate):\n",
        "    with tf.GradientTape() as tape:\n",
        "        tape.watch(img)\n",
        "        loss = compute_loss(img, filter_index)\n",
        "    # Compute gradients.\n",
        "    grads = tape.gradient(loss, img)\n",
        "    # Normalize gradients.\n",
        "    grads = tf.math.l2_normalize(grads)\n",
        "    img += learning_rate * grads\n",
        "    return loss, img\n",
        "\n",
        "\n",
        "def initialize_image():\n",
        "    # We start from a gray image with some random noise\n",
        "    img = tf.random.uniform((1, 28, 28, 1))\n",
        "    # ResNet50V2 expects inputs in the range [-1, +1].\n",
        "    # Here we scale our random inputs to [-0.125, +0.125]\n",
        "    return (img - 0.5) * 0.25\n",
        "\n",
        "\n",
        "def visualize_filter(filter_index):\n",
        "    # We run gradient ascent for 20 steps\n",
        "    iterations = 30\n",
        "    learning_rate = 10.0\n",
        "    img = initialize_image()\n",
        "    for iteration in range(iterations):\n",
        "        loss, img = gradient_ascent_step(img, filter_index, learning_rate)\n",
        "\n",
        "    # Decode the resulting input image\n",
        "    img = deprocess_image(img[0].numpy())\n",
        "    return loss, img\n",
        "\n",
        "\n",
        "def deprocess_image(img):\n",
        "    # Normalize array: center on 0., ensure variance is 0.15\n",
        "    img -= img.mean()\n",
        "    img /= img.std() + 1e-5\n",
        "    img *= 0.15\n",
        "\n",
        "    # Center crop\n",
        "    img = img[2:-2, 2:-2, :]\n",
        "\n",
        "    # Clip to [0, 1]\n",
        "    img += 0.5\n",
        "    img = np.clip(img, 0, 1)\n",
        "\n",
        "    # Convert to RGB array\n",
        "    img *= 255\n",
        "    img = np.clip(img, 0, 255).astype(\"uint8\")\n",
        "    return img\n",
        "    image -= image.mean()\n",
        "    image /= image.std()\n",
        "    image *= 64\n",
        "    image += 128\n",
        "    image = np.clip(image, 0, 255).astype(\"uint8\")\n",
        "    image = image[25:-25, 25:-25, :]\n",
        "    return(image)"
      ]
    },
    {
      "cell_type": "markdown",
      "metadata": {
        "id": "G8yXbWNZ4hB4"
      },
      "source": [
        "Finally, let's use those functions to visualze the filters."
      ]
    },
    {
      "cell_type": "code",
      "execution_count": null,
      "metadata": {
        "id": "F4RQ7naV4hB4",
        "outputId": "501f5fa5-99e1-4cc5-a67e-0f9d6fc97ba5"
      },
      "outputs": [
        {
          "data": {
            "text/plain": [
              "<matplotlib.image.AxesImage at 0x7fed3a1ff2e0>"
            ]
          },
          "execution_count": 17,
          "metadata": {},
          "output_type": "execute_result"
        },
        {
          "data": {
            "image/png": "[encoded data removed]",
            "text/plain": [
              "<Figure size 432x288 with 1 Axes>"
            ]
          },
          "metadata": {
            "needs_background": "light"
          },
          "output_type": "display_data"
        }
      ],
      "source": [
        "filter_no = 20\n",
        "loss, img = visualize_filter(filter_no)\n",
        "\n",
        "plt.imshow(img.reshape((24,24)), cmap = \"Greys\")"
      ]
    },
    {
      "cell_type": "markdown",
      "metadata": {
        "id": "uCUpShWV4hB5"
      },
      "source": [
        "### Visualizing Class Activation Heatmaps\n",
        "\n",
        "Class activation heatmaps (CAM) are really helpful in showing us what in an image is causing the model to make it's classification. \n",
        "\n",
        "We do this by combining two things:\n",
        "\n",
        "- how much our image activates the various features learned by our last convolutional layer\n",
        "- how important those features are to classifying an image as a certain category\n",
        "\n"
      ]
    },
    {
      "cell_type": "code",
      "execution_count": null,
      "metadata": {
        "id": "UJ8ehoA64hB5",
        "outputId": "f3611a91-8fc6-46a3-cb3b-56336d6638d4"
      },
      "outputs": [
        {
          "data": {
            "text/plain": [
              "<matplotlib.image.AxesImage at 0x7fed6b2784c0>"
            ]
          },
          "execution_count": 18,
          "metadata": {},
          "output_type": "execute_result"
        },
        {
          "data": {
            "image/png": "[encoded data removed]",
            "text/plain": [
              "<Figure size 432x288 with 1 Axes>"
            ]
          },
          "metadata": {
            "needs_background": "light"
          },
          "output_type": "display_data"
        }
      ],
      "source": [
        "img_size = (28, 28)\n",
        "last_conv_layer_name = \"conv2d_5\"\n",
        "\n",
        "img = np.expand_dims(x_train[78], 0)\n",
        "img.shape\n",
        "\n",
        "plt.imshow(img.reshape((28,28)), cmap = \"Greys\")\n"
      ]
    },
    {
      "cell_type": "code",
      "execution_count": null,
      "metadata": {
        "id": "JoVesij34hB5"
      },
      "outputs": [],
      "source": [
        "\n",
        "def get_img_array(img, size):\n",
        "    # `array` is a float32 Numpy array of shape (28, 28, 1)\n",
        "    array = kb.preprocessing.image.img_to_array(img)\n",
        "    # We add a dimension to transform our array into a \"batch\"\n",
        "    array = np.expand_dims(array, axis=0)\n",
        "    return array\n",
        "\n",
        "\n",
        "def make_gradcam_heatmap(img_array, model, last_conv_layer_name, pred_index=None):\n",
        "    # First, we create a model that maps the input image to the activations\n",
        "    # of the last conv layer as well as the output predictions\n",
        "    grad_model = kb.models.Model(\n",
        "        [model.inputs], [model.get_layer(last_conv_layer_name).output,\n",
        "         model.output]\n",
        "    )\n",
        "\n",
        "    # Then, we compute the gradient of the top predicted class for our input image\n",
        "    # with respect to the activations of the last conv layer\n",
        "    with tf.GradientTape() as tape:\n",
        "        last_conv_layer_output, preds = grad_model(img_array)\n",
        "        if pred_index is None:\n",
        "            pred_index = tf.argmax(preds[0])\n",
        "        class_channel = preds[:, pred_index]\n",
        "\n",
        "    # This is the gradient of the output neuron (top predicted or chosen)\n",
        "    # with regard to the output feature map of the last conv layer\n",
        "    grads = tape.gradient(class_channel, last_conv_layer_output)\n",
        "\n",
        "    # This is a vector where each entry is the mean intensity of the gradient\n",
        "    # over a specific feature map channel\n",
        "    pooled_grads = tf.reduce_mean(grads, axis=(0, 1))\n",
        "\n",
        "    # We multiply each channel in the feature map array\n",
        "    # by \"how important this channel is\" with regard to the top predicted class\n",
        "    # then sum all the channels to obtain the heatmap class activation\n",
        "    last_conv_layer_output = last_conv_layer_output[0]\n",
        "    heatmap = last_conv_layer_output @ pooled_grads[..., tf.newaxis]\n",
        "    heatmap = tf.squeeze(heatmap)\n",
        "\n",
        "    # For visualization purpose, we will also normalize the heatmap between 0 & 1\n",
        "    heatmap = tf.maximum(heatmap, 0) / tf.math.reduce_max(heatmap)\n",
        "    return heatmap.numpy()\n"
      ]
    },
    {
      "cell_type": "code",
      "execution_count": null,
      "metadata": {
        "id": "GahpMuji4hB5",
        "outputId": "7c0e20a8-637e-40fa-a604-9197d273dc7a"
      },
      "outputs": [
        {
          "name": "stdout",
          "output_type": "stream",
          "text": [
            "1/1 [==============================] - 0s 45ms/step\n"
          ]
        },
        {
          "data": {
            "image/png": "[encoded data removed]",
            "text/plain": [
              "<Figure size 288x288 with 1 Axes>"
            ]
          },
          "metadata": {
            "needs_background": "light"
          },
          "output_type": "display_data"
        }
      ],
      "source": [
        "# Remove last layer's softmax\n",
        "model.layers[-1].activation = None\n",
        "\n",
        "# Print what the top predicted class is\n",
        "preds = model.predict(img)\n",
        "\n",
        "# Generate class activation heatmap\n",
        "heatmap = make_gradcam_heatmap(img, model, last_conv_layer_name)\n",
        "\n",
        "# Display heatmap\n",
        "plt.matshow(heatmap)\n",
        "plt.show()"
      ]
    },
    {
      "cell_type": "markdown",
      "metadata": {
        "id": "FSbd9cYF4hB5"
      },
      "source": [
        "## Upsampling After Convolution\n",
        "\n",
        "In the lecture I *briefly* mentioned that for image segmentation, we want to produce a mask that is the *same size* as our input image, because each pixel of the mask tells us what category each pixel in the image should be. \n",
        "\n",
        "However we've been learning that CNNs typically reduce the size of the input image (or *downsample*) one or more times with Pooling layers. So if we want to get our input to its original shape, we need to *upsample* the image.\n",
        "\n",
        "We can do this with `Conv2DTranspose()` layers (learn more [here](https://www.tensorflow.org/api_docs/python/tf/keras/layers/Conv2DTranspose)). \n",
        "\n",
        "\n",
        "`Conv2DTranspose()` layers *essentially* learn to undo `Conv2D()` layers. For example, if you have a `(100,100,64)` input and put it through a `Conv2D(128, (3,3), padding = \"same\", stride = 2)` layer, your output will be `(50,50,128)`. To make that `(100,100,64)` again we'd need to put it through a `Conv2DTranspose(64, (3,3), padding = \"same\", stride = 2)` layer. \n",
        "\n",
        "<img src=\"https://drive.google.com/uc?export=view&id=1jPHABc6LNHIBUFppsUXfB-Lm6TtH4AF-\" alt=\"Q\" width = \"400\"/>\n",
        "<img src=\"https://drive.google.com/uc?export=view&id=1Lbs1XzStTqkCOVxKK_FsWQzAaPZqktGV\" alt=\"Q\" width = \"400\"/>\n",
        "\n",
        "\n",
        "\n",
        "(Images from: https://stackoverflow.com/questions/68976745/in-keras-what-is-the-difference-between-conv2dtranspose-and-conv2d)\n"
      ]
    },
    {
      "cell_type": "code",
      "execution_count": null,
      "metadata": {
        "id": "d0lNeRqe4hB6"
      },
      "outputs": [],
      "source": [
        "# example from your book Deep Learning with Python by Chollet\n",
        "def get_model(img_size, num_classes):\n",
        "    inputs = keras.Input(shape=img_size + (3,))\n",
        "    x = kb.layers.Rescaling(1./255)(inputs)\n",
        "\n",
        "    x = kb.layers.Conv2D(64, 3, strides=2, activation=\"relu\", padding=\"same\")(x)\n",
        "    x = kb.layers.Conv2D(64, 3, activation=\"relu\", padding=\"same\")(x)\n",
        "    x = kb.layers.Conv2D(128, 3, strides=2, activation=\"relu\", padding=\"same\")(x)\n",
        "    x = kb.layers.Conv2D(128, 3, activation=\"relu\", padding=\"same\")(x)\n",
        "    x = kb.layers.Conv2D(256, 3, strides=2, padding=\"same\", activation=\"relu\")(x)\n",
        "    x = kb.layers.Conv2D(256, 3, activation=\"relu\", padding=\"same\")(x)\n",
        "\n",
        "    x = kb.layers.Conv2DTranspose(256, 3, activation=\"relu\", padding=\"same\")(x)\n",
        "    x = kb.layers.Conv2DTranspose(256, 3, activation=\"relu\", padding=\"same\", strides=2)(x)\n",
        "    x = kb.layers.Conv2DTranspose(128, 3, activation=\"relu\", padding=\"same\")(x)\n",
        "    x = kb.layers.Conv2DTranspose(128, 3, activation=\"relu\", padding=\"same\", strides=2)(x)\n",
        "    x = kb.layers.Conv2DTranspose(64, 3, activation=\"relu\", padding=\"same\")(x)\n",
        "    x = kb.layers.Conv2DTranspose(64, 3, activation=\"relu\", padding=\"same\", strides=2)(x)\n",
        "\n",
        "    outputs = kb.layers.Conv2D(num_classes, 3, activation=\"softmax\", padding=\"same\")(x)\n",
        "\n",
        "    model = kb..Model(inputs, outputs)\n",
        "    return model"
      ]
    },
    {
      "cell_type": "markdown",
      "metadata": {
        "id": "duRDAZqr4hB6"
      },
      "source": [
        "# In Class\n",
        "\n",
        "Read Through and play around with [this Grad-CAM example](https://keras.io/examples/vision/grad_cam/) from Keras' website (this is the code used to generate the Grad CAM images in your book). You can click \"View in Colab\" to play with it in Google Cola. These look a LOT better than the ones we just made because the images are larger and full color images instead of gray-scale."
      ]
    }
  ],
  "metadata": {
    "colab": {
      "provenance": []
    },
    "kernelspec": {
      "display_name": "Python 3",
      "language": "python",
      "name": "python3"
    },
    "language_info": {
      "codemirror_mode": {
        "name": "ipython",
        "version": 3
      },
      "file_extension": ".py",
      "mimetype": "text/x-python",
      "name": "python",
      "nbconvert_exporter": "python",
      "pygments_lexer": "ipython3",
      "version": "3.8.5"
    },
    "orig_nbformat": 4,
    "vscode": {
      "interpreter": {
        "hash": "aee8b7b246df8f9039afb4144a1f6fd8d2ca17a180786b69acc140d282b71a49"
      }
    }
  },
  "nbformat": 4,
  "nbformat_minor": 0
}

{
  "cells": [
    {
      "cell_type": "code",
      "execution_count": 2,
      "metadata": {
        "id": "Vge_oUXdt_eY"
      },
      "outputs": [],
      "source": [
        "import warnings\n",
        "warnings.filterwarnings('ignore')\n",
        "\n",
        "# data and plotting\n",
        "import pandas as pd\n",
        "import numpy as np\n",
        "from plotnine import *\n",
        "\n",
        "# preprocessing\n",
        "from sklearn.preprocessing import StandardScaler #Z-score variables\n",
        "from sklearn.model_selection import train_test_split\n",
        "# metrics\n",
        "from sklearn.metrics import accuracy_score, confusion_matrix, mean_squared_error, plot_confusion_matrix, roc_auc_score, recall_score, precision_score\n",
        "\n",
        "# models\n",
        "from sklearn.svm import SVC\n"
      ]
    },
    {
      "cell_type": "markdown",
      "metadata": {
        "id": "d7CxZqSpt_ea"
      },
      "source": [
        "# Support Vector Machines I\n",
        "\n",
        "<center><img src=\"https://drive.google.com/uc?export=view&id=1mSJFRHbiydTf3EvIIJr_kgw6Tfz1EXnb\" alt=\"hyperplane plot\" width = \"400\" class=\"center\"/> </center>\n",
        "\n",
        "In the lecture, we learned about Maximal Margin Classifiers, and Support Vector Classifiers. Both use hyperplanes (aka \"flat affine subspaces\") that divide our data into two sections.\n",
        "\n",
        "<center><img src=\"https://drive.google.com/uc?export=view&id=1zAWlFxIOJchpnJRF3DGiIpv3VdFfq-ci\" alt=\"hyperplane plot\" width = \"800\" class=\"center\"/> </center>\n",
        "\n",
        "But if the data are linearly separable, there are infinite hyperplanes...HOW DO WE CHOOSE?\n",
        "\n",
        "\n",
        "<center><img src=\"https://drive.google.com/uc?export=view&id=1m5GZObdjAFCjMwldvfyfSJkZPABYZr9c\" alt=\"hyperplane plot\" width = \"400\" class=\"center\"/> </center>\n",
        "\n",
        "### Question\n",
        "<img src=\"https://drive.google.com/uc?export=view&id=1ghyQPx1N8dmU3MV4TrANvqNhGwnLni72\" alt=\"Q\" width = \"200\" class=\"center\"/>\n",
        "\n",
        "Why is it beneficial to maximize the margin as a way to separate two groups with a hyper plane?\n",
        "\n",
        "</br>\n",
        "</br>\n",
        "</br>\n",
        "But Maximal Margin Classifiers have a problem...\n",
        "\n",
        "### Question\n",
        "<img src=\"https://drive.google.com/uc?export=view&id=1ghyQPx1N8dmU3MV4TrANvqNhGwnLni72\" alt=\"Q\" width = \"200\" class=\"center\"/>\n",
        "\n",
        "How to SVCs solve the major issue with MMCs?\n",
        "\n",
        "\n",
        "<center><img src=\"https://drive.google.com/uc?export=view&id=13OZpzK4-BCqjVsquR7XClrvHf64cGGaC\" alt=\"Q\" width = \"400\" class=\"center\"/> </center>\n"
      ]
    },
    {
      "cell_type": "markdown",
      "metadata": {
        "id": "BL-SJEbPt_eb"
      },
      "source": [
        "\n",
        "## Constraint vs. Penalty Formulation\n",
        "\n",
        "We can think of SVCs in two ways:\n",
        "\n",
        "1. As a penalty on the slack variables ($\\xi_i$)\n",
        "\n",
        "$$ \\text{arg min} \\frac{1}{2}\\left | \\bold{w} \\right |^2 + C \\sum_{i=0}^N \\xi_i$$\n",
        "\n",
        "Where $C$ controls how strongly we penalize non-zero slack variables.\n",
        "\n",
        "2. As a constraint on the sum of the slack variables ($\\xi_i$)\n",
        "$$ \\text{arg min} \\frac{1}{2}\\left | \\bold{w} \\right |^2 \\text{ subject to } \\sum_{i=0}^N \\xi_i \\leq C_{budget}$$\n",
        "\n",
        "(this is similar to how we can think of LASSO/Ridge as a penalty on the coefficients OR as a constraint/budget on how large our coefficients can be)"
      ]
    },
    {
      "cell_type": "markdown",
      "metadata": {
        "id": "wc4Liw0et_ec"
      },
      "source": [
        "## SVC in sklearn\n",
        "Let's build a Support Vector Classifier together using the `df_together` data."
      ]
    },
    {
      "cell_type": "code",
      "execution_count": 3,
      "metadata": {
        "id": "noDQ3WUft_ee"
      },
      "outputs": [],
      "source": [
        "from sklearn.datasets import make_blobs\n",
        "\n",
        "blobs = make_blobs(n_samples = 100, random_state= 1234, centers = 2)\n",
        "df_together = pd.DataFrame(blobs[0])\n",
        "df_together.columns = [\"X1\", \"X2\"]\n",
        "df_together[\"y\"] = blobs[1]\n"
      ]
    },
    {
      "cell_type": "code",
      "execution_count": 4,
      "metadata": {
        "id": "7iSxOzfLt_ef"
      },
      "outputs": [
        {
          "data": {
            "image/png": "[encoded data removed]",
            "text/plain": [
              "<Figure size 640x480 with 1 Axes>"
            ]
          },
          "metadata": {},
          "output_type": "display_data"
        },
        {
          "data": {
            "text/plain": [
              "<ggplot: (322088551)>"
            ]
          },
          "execution_count": 4,
          "metadata": {},
          "output_type": "execute_result"
        }
      ],
      "source": [
        "# plot data\n",
        "\n",
        "(ggplot(df_together, aes(x='X1',y='X2',color = 'factor(y)')) + geom_point())"
      ]
    },
    {
      "cell_type": "code",
      "execution_count": 5,
      "metadata": {
        "id": "HTpo4mxdt_ef"
      },
      "outputs": [],
      "source": [
        "# split and organize data\n",
        "\n",
        "predictors = ['X1', 'X2']\n",
        "\n",
        "X = df_together[predictors]\n",
        "y = df_together['y']\n",
        "\n",
        "X_train, X_test, y_train, y_test = train_test_split(X,y, test_size = 0.2)\n",
        "\n",
        "z = StandardScaler()\n",
        "\n",
        "X_train[predictors] = z.fit_transform(X_train[predictors])\n",
        "X_test[predictors] = z.transform(X_test[predictors])"
      ]
    },
    {
      "cell_type": "code",
      "execution_count": 11,
      "metadata": {
        "id": "kCzAaX7Zt_eg"
      },
      "outputs": [
        {
          "name": "stdout",
          "output_type": "stream",
          "text": [
            "Train Accuracy:  1.0\n",
            "Test Accuracy:  1.0\n",
            "Train AUC:  1.0\n",
            "Test AUC:  1.0\n"
          ]
        }
      ],
      "source": [
        "# build empty model\n",
        "\n",
        "svm = SVC(kernel = 'linear', C = 0.1, probability = True)\n",
        "\n",
        "# fit model\n",
        "\n",
        "svm.fit(X_train, y_train)\n",
        "\n",
        "\n",
        "# assess performance\n",
        "y_pred_train = svm.predict(X_train)\n",
        "y_pred_test = svm.predict(X_test)\n",
        "\n",
        "y_pred_train_p = svm.predict_proba(X_train)[:,1]\n",
        "y_pred_test_p = svm.predict_proba(X_test)[:,1]\n",
        "\n",
        "print('Train Accuracy: ', accuracy_score(y_train, y_pred_train))\n",
        "print('Test Accuracy: ', accuracy_score(y_test, y_pred_test))\n",
        "\n",
        "print('Train AUC: ', roc_auc_score(y_train, y_pred_train_p))\n",
        "print('Test AUC: ', roc_auc_score(y_test, y_pred_test_p))"
      ]
    },
    {
      "cell_type": "markdown",
      "metadata": {
        "id": "GK0L2Y4Bt_eg"
      },
      "source": [
        "# Classwork"
      ]
    },
    {
      "cell_type": "code",
      "execution_count": 7,
      "metadata": {
        "id": "6FyrY7tIt_eg"
      },
      "outputs": [
        {
          "data": {
            "text/html": [
              "<div>\n",
              "<style scoped>\n",
              "    .dataframe tbody tr th:only-of-type {\n",
              "        vertical-align: middle;\n",
              "    }\n",
              "\n",
              "    .dataframe tbody tr th {\n",
              "        vertical-align: top;\n",
              "    }\n",
              "\n",
              "    .dataframe thead th {\n",
              "        text-align: right;\n",
              "    }\n",
              "</style>\n",
              "<table border=\"1\" class=\"dataframe\">\n",
              "  <thead>\n",
              "    <tr style=\"text-align: right;\">\n",
              "      <th></th>\n",
              "      <th>Unnamed: 0</th>\n",
              "      <th>species</th>\n",
              "      <th>island</th>\n",
              "      <th>bill_length_mm</th>\n",
              "      <th>bill_depth_mm</th>\n",
              "      <th>flipper_length_mm</th>\n",
              "      <th>body_mass_g</th>\n",
              "      <th>sex</th>\n",
              "      <th>year</th>\n",
              "    </tr>\n",
              "  </thead>\n",
              "  <tbody>\n",
              "    <tr>\n",
              "      <th>0</th>\n",
              "      <td>0</td>\n",
              "      <td>Adelie</td>\n",
              "      <td>Torgersen</td>\n",
              "      <td>39.1</td>\n",
              "      <td>18.7</td>\n",
              "      <td>181.0</td>\n",
              "      <td>3750.0</td>\n",
              "      <td>male</td>\n",
              "      <td>2007</td>\n",
              "    </tr>\n",
              "    <tr>\n",
              "      <th>1</th>\n",
              "      <td>1</td>\n",
              "      <td>Adelie</td>\n",
              "      <td>Torgersen</td>\n",
              "      <td>39.5</td>\n",
              "      <td>17.4</td>\n",
              "      <td>186.0</td>\n",
              "      <td>3800.0</td>\n",
              "      <td>female</td>\n",
              "      <td>2007</td>\n",
              "    </tr>\n",
              "    <tr>\n",
              "      <th>2</th>\n",
              "      <td>2</td>\n",
              "      <td>Adelie</td>\n",
              "      <td>Torgersen</td>\n",
              "      <td>40.3</td>\n",
              "      <td>18.0</td>\n",
              "      <td>195.0</td>\n",
              "      <td>3250.0</td>\n",
              "      <td>female</td>\n",
              "      <td>2007</td>\n",
              "    </tr>\n",
              "    <tr>\n",
              "      <th>3</th>\n",
              "      <td>3</td>\n",
              "      <td>Adelie</td>\n",
              "      <td>Torgersen</td>\n",
              "      <td>NaN</td>\n",
              "      <td>NaN</td>\n",
              "      <td>NaN</td>\n",
              "      <td>NaN</td>\n",
              "      <td>NaN</td>\n",
              "      <td>2007</td>\n",
              "    </tr>\n",
              "    <tr>\n",
              "      <th>4</th>\n",
              "      <td>4</td>\n",
              "      <td>Adelie</td>\n",
              "      <td>Torgersen</td>\n",
              "      <td>36.7</td>\n",
              "      <td>19.3</td>\n",
              "      <td>193.0</td>\n",
              "      <td>3450.0</td>\n",
              "      <td>female</td>\n",
              "      <td>2007</td>\n",
              "    </tr>\n",
              "  </tbody>\n",
              "</table>\n",
              "</div>"
            ],
            "text/plain": [
              "   Unnamed: 0 species     island  bill_length_mm  bill_depth_mm  \\\n",
              "0           0  Adelie  Torgersen            39.1           18.7   \n",
              "1           1  Adelie  Torgersen            39.5           17.4   \n",
              "2           2  Adelie  Torgersen            40.3           18.0   \n",
              "3           3  Adelie  Torgersen             NaN            NaN   \n",
              "4           4  Adelie  Torgersen            36.7           19.3   \n",
              "\n",
              "   flipper_length_mm  body_mass_g     sex  year  \n",
              "0              181.0       3750.0    male  2007  \n",
              "1              186.0       3800.0  female  2007  \n",
              "2              195.0       3250.0  female  2007  \n",
              "3                NaN          NaN     NaN  2007  \n",
              "4              193.0       3450.0  female  2007  "
            ]
          },
          "execution_count": 7,
          "metadata": {},
          "output_type": "execute_result"
        }
      ],
      "source": [
        "df = pd.read_csv(\"https://raw.githubusercontent.com/cmparlettpelleriti/CPSC392ParlettPelleriti/master/Data/penguins.csv\")\n",
        "\n",
        "# get rid of chinstrap penguins\n",
        "df = df.loc[(df.species == \"Adelie\") |  (df.species == \"Gentoo\")]\n",
        "df.head()"
      ]
    },
    {
      "cell_type": "markdown",
      "metadata": {
        "id": "tP6QPneMt_eg"
      },
      "source": [
        "## Try it Out\n",
        "Here's a simplified penguin dataset that only has Gentoo and Adelie Penguins (Chinstrap penguins have been removed).\n",
        "\n",
        "- Using ggplot, make a scatterplot of the bill length and bill depth data, coloring the points by species ([review of ggplot](https://github.com/cmparlettpelleriti/CPSC392ParlettPelleriti/blob/master/Lectures/LectureNotebooks/Visualization%20I--Class%204.ipynb))\n",
        "- Looking at the ggplot, imagine where YOU would draw a line separating these two groups\n",
        "\n",
        "### Question\n",
        "<img src=\"https://drive.google.com/uc?export=view&id=1ghyQPx1N8dmU3MV4TrANvqNhGwnLni72\" alt=\"Q\" width = \"200\"/>\n",
        "\n",
        "Looking at the data, can you see any reason why a Support Vector Classifier might be more desireable here than a Maximal Margin Classifier? Why? \n",
        "\n",
        "Where would the MMC put the dividing hyperplane? Where could SVC put it?"
      ]
    },
    {
      "cell_type": "code",
      "execution_count": null,
      "metadata": {
        "id": "8KBIDCr3t_eh"
      },
      "outputs": [],
      "source": [
        "df = df.dropna()\n",
        "\n",
        "\n",
        "# plot the ggplot\n",
        "### YOUR CODE HERE ###\n"
      ]
    },
    {
      "cell_type": "markdown",
      "metadata": {
        "id": "TcEkbO5Jt_eh"
      },
      "source": [
        "- Split your data into a train/test split (80/20)\n",
        "- z-score your predictors\n",
        "- Build an empty `SVC()` model with `kernel = \"linear\"` and `C = 0.1`.\n",
        "- fit the model\n",
        "- plot the model using the function `plot_hyperplane()` that I wrote below\n",
        "- print out the train/test accuracies, and roc aucs. \n",
        "\n",
        "### Question\n",
        "<img src=\"https://drive.google.com/uc?export=view&id=1ghyQPx1N8dmU3MV4TrANvqNhGwnLni72\" alt=\"Q\" width = \"200\"/>\n",
        "\n",
        "If you change the hyperparameter `C` to be 0.01, or 1, what happens to the margin? How many support vectors (points surrounded in red) are there with the different values of C?"
      ]
    },
    {
      "cell_type": "code",
      "execution_count": null,
      "metadata": {
        "id": "EIbfzf2It_eh"
      },
      "outputs": [],
      "source": [
        "### YOUR CODE HERE ###\n",
        "# organize and split data"
      ]
    },
    {
      "cell_type": "code",
      "execution_count": null,
      "metadata": {
        "id": "FPArEaMpt_eh"
      },
      "outputs": [],
      "source": [
        "### YOUR CODE HERE ###\n",
        "# build fit assess model"
      ]
    },
    {
      "cell_type": "code",
      "execution_count": null,
      "metadata": {
        "id": "d9Mlz0prt_ei"
      },
      "outputs": [],
      "source": [
        "###################### DON'T CHANGE JUST RUN TO LOAD FUNCTION ######################\n",
        "def plot_hyperplane(svm, X):\n",
        "    weights = svm.coef_[0]\n",
        "    bias = svm.intercept_[0]\n",
        "    slope = -weights[0]/weights[1]\n",
        "    intercept = -bias/weights[1]\n",
        "\n",
        "    margin = 1/np.sqrt(np.sum(weights**2))\n",
        "    lower_inter = intercept - (np.sqrt(1 + slope**2) * margin)\n",
        "    upper_inter = intercept + (np.sqrt(1 + slope**2) * margin)\n",
        "    \n",
        "    cols = X.columns\n",
        "    sv_df = pd.DataFrame(svm.support_vectors_)\n",
        "    sv_df.columns = cols\n",
        "    nice_cols = [c.replace(\"_\", \" \").title() for c in cols]\n",
        "    \n",
        "\n",
        "    a = (ggplot(X, aes(x = cols[0], y = cols[1])) +\n",
        "    geom_point() +\n",
        "    geom_abline(slope = slope, intercept = intercept,\n",
        "                color = \"red\", linetype = \"solid\", size = 1) + \n",
        "        geom_abline(slope = slope, intercept = lower_inter,\n",
        "                color = \"gray\", linetype = \"dotted\") +\n",
        "        geom_abline(slope = slope, intercept = upper_inter,\n",
        "                color = \"gray\", linetype = \"dotted\") + \n",
        "        theme_minimal() + \n",
        "        geom_point(data = sv_df, color = \"red\", size = 4, shape = \"o\", alpha = 0.25 ) + \n",
        "        labs(x = nice_cols[0],\n",
        "        y = nice_cols[1],\n",
        "        title = \"Hyperplane and Margins\") +\n",
        "        theme(legend_position= element_blank())) \n",
        "    return(a)"
      ]
    },
    {
      "cell_type": "code",
      "execution_count": null,
      "metadata": {
        "id": "j_cuHCN4t_ei"
      },
      "outputs": [],
      "source": [
        "# Call the plot_hyperplane function with your model and X_train\n",
        "\n",
        "### YOUR CODE HERE ###\n"
      ]
    },
    {
      "cell_type": "markdown",
      "metadata": {
        "id": "57ZXMUmrt_ei"
      },
      "source": [
        "### Question\n",
        "<img src=\"https://drive.google.com/uc?export=view&id=1ghyQPx1N8dmU3MV4TrANvqNhGwnLni72\" alt=\"Q\" width = \"200\"/>\n",
        "\n",
        "Try a few more values for C that are bigger than our biggest C and smaller than our smallest C, Which values of C lead you to have something that looks more like a Maximal Margin Classifier?"
      ]
    },
    {
      "cell_type": "markdown",
      "metadata": {
        "id": "lxx7oWTGt_ei"
      },
      "source": [
        "## Another SVM Example\n",
        "\n",
        "This time, use [this](https://raw.githubusercontent.com/cmparlettpelleriti/CPSC392ParlettPelleriti/master/Data/iris.csv) dataset to build a support vector machine using `sepal_width` and `sepal_length` to predict whether an iris flower is a `setosa` (coded as `1`), or `virginica` (coded as `-1`).\n",
        "\n",
        "We can pull the intercept (bias) and coefficients (weights) from the SVM using `model.coef_` and `model.intercept_` just like we did for Linear and Logistic Regression in CPSC 392!\n",
        "\n",
        "- Drop missing data (if any)\n",
        "- Split your data into a train/test split (80/20)\n",
        "- z-score your predictors\n",
        "- Build an empty `SVC()` model with `kernel = \"linear\"` and `C = 0.1`.\n",
        "- fit the model\n",
        "- print out the train/test accuracies, and roc aucs.\n"
      ]
    },
    {
      "cell_type": "code",
      "execution_count": null,
      "metadata": {
        "id": "mZ5N5tMjt_ej"
      },
      "outputs": [],
      "source": [
        "### YOUR CODE HERE ###\n",
        "iris = pd.read_csv(\"https://raw.githubusercontent.com/cmparlettpelleriti/CPSC392ParlettPelleriti/master/Data/iris.csv\")\n",
        "# get rid of chinstrap penguins\n",
        "\n",
        "# grab only Versi and Set irises\n",
        "iris = iris.loc[(iris.species == \"versicolor\") |  (iris.species == \"setosa\")]\n",
        "\n",
        "# head\n",
        "iris.head()\n",
        "\n",
        "# Do your train test split, and z score\n"
      ]
    },
    {
      "cell_type": "code",
      "execution_count": null,
      "metadata": {
        "id": "Z_lTEKect_ej"
      },
      "outputs": [],
      "source": [
        "### YOUR CODE HERE ###\n",
        "# build fit assess\n",
        "\n"
      ]
    },
    {
      "cell_type": "markdown",
      "metadata": {
        "id": "8ZbvRtjet_ej"
      },
      "source": [
        "### Margin Width\n",
        "\n",
        "The formula for the margin width is:\n",
        "\n",
        "$$ \\frac{2}{\\lVert \\bold{w} \\rVert}$$\n",
        "\n",
        "Where $\\lVert \\bold{w} \\rVert$ refers to the L2 norm of the weights $\\bold{w} = \\begin{bmatrix} w_1 \\\\ w_2 \\\\ ... \\\\ w_N\\end{bmatrix}$.\n",
        "\n",
        "Remember the L2 norm is calculated by:\n",
        "\n",
        "$$ L_2 \\text{ norm} = \\sqrt{\\sum_{i=1}^N w_i^2}$$\n",
        "\n",
        "\n",
        "Using this math, use `model.coef_` to grab the weights/coefficients and calculate the width of the margin for your model using python (Hint: take advantage of `numpy`'s many vectorized functions e.g. `np.sqrt()`)"
      ]
    },
    {
      "cell_type": "code",
      "execution_count": null,
      "metadata": {
        "id": "470JdLKkt_ej"
      },
      "outputs": [],
      "source": [
        "# Calculate the width of the margin\n",
        "### YOUR CODE HERE ###\n"
      ]
    },
    {
      "cell_type": "markdown",
      "metadata": {
        "id": "z9y7qPwUt_ek"
      },
      "source": [
        "## Some Math\n",
        "\n",
        "### Making New Predictions\n",
        "In both Support Vector Classifiers and Maximal Margin classifiers, we classify a data point by multiplying its predictors by the weights ($\\bold{w}$) and adding the bias ($b$) and checking whether the value is > 0 (positive case, $t_n = 1$), or < 0 (negative case, $t_n = -1$).\n",
        "\n",
        "In math terms, we calculate $\\bold{w} \\cdot x_n + b$ and see if it is > 0 or < 0."
      ]
    },
    {
      "cell_type": "markdown",
      "metadata": {
        "id": "_S_kmT6et_ek"
      },
      "source": [
        "\n",
        "### Slack Variables\n",
        "Remember that Support Vector Classifiers improve upon Maximal Margin Classifiers by introducing slack variables $\\xi_i$ that allow data points to violate the margin or even be on the wrong side of the hyperplane. \n",
        "\n",
        "Using the model you built for the last question to calculate the slack variables for the data point $z$ which is a random sample from our training data. \n",
        "\n",
        "Slack variables are calculated as:\n",
        "\n",
        "$$\\xi_i = max(0, \\left |t_i - y(x_i) \\right |)$$\n",
        "\n",
        "Where $y(x_i)$ is the value $\\bold{w}*x_n + b$. \n",
        "\n",
        "- Use the `plot_hyperplane()` function I wrote to plot the hyperplane for the iris dataset. Then discuss with your group:\n",
        "\n",
        "1. Which regions of the graph have $\\bold{w}*x_n + b > 0$? Which regions have $\\bold{w}*x_n + b < 0$?\n",
        "2. Which regions have slack variables ($\\xi_i$) that are 0?\n",
        "3. Which regions have slack variables ($\\xi_i$) that are between 0 and 1?\n",
        "4. What would have to happen for a slack variable ($\\xi_i$) to be < 1?"
      ]
    },
    {
      "cell_type": "code",
      "execution_count": null,
      "metadata": {
        "id": "7KT7UygUt_ek"
      },
      "outputs": [],
      "source": [
        "### YOUR CODE HERE ###\n",
        "plot_hyperplane(svm_i, X_train)"
      ]
    },
    {
      "cell_type": "markdown",
      "metadata": {
        "id": "8Jg8hxbTt_ek"
      },
      "source": [
        "## Yet Another SVC Example\n",
        "\n",
        "Using [this](https://raw.githubusercontent.com/cmparlettpelleriti/CPSC393ParlettPelleriti/main/Data/svmcw.csv) dataset, plot the data using ggplot to make a scatterplot of `X1` and `X2`, colored by `y` (the group of each data point).\n",
        "### Question\n",
        "<img src=\"https://drive.google.com/uc?export=view&id=1ghyQPx1N8dmU3MV4TrANvqNhGwnLni72\" alt=\"Q\" width = \"200\"/>\n",
        "\n",
        "Is an SVM *able* to do a good job on this dataset?\n",
        "\n",
        "\n",
        "Then, build an Support Vector Classifier to try to classify the data. How does it do?\n",
        "\n",
        "- Drop missing data (if any)\n",
        "- Split your data into a train/test split (80/20)\n",
        "- z-score your predictors\n",
        "- Build an empty `SVC()` model with `kernel = \"linear\"` and `C = 0.001`.\n",
        "- fit the model\n",
        "- print out the train/test accuracies, and roc aucs."
      ]
    },
    {
      "cell_type": "code",
      "execution_count": null,
      "metadata": {
        "id": "-BcTD4cmt_el"
      },
      "outputs": [],
      "source": [
        "### YOUR CODE HERE ###\n",
        "\n"
      ]
    },
    {
      "cell_type": "code",
      "execution_count": null,
      "metadata": {
        "id": "0cJxPud1t_el"
      },
      "outputs": [],
      "source": [
        "# plot\n",
        "\n",
        "### YOUR PLOT HERE ###\n"
      ]
    },
    {
      "cell_type": "code",
      "execution_count": null,
      "metadata": {
        "id": "lECmH3vQt_el"
      },
      "outputs": [],
      "source": [
        "# Do your train test split, and z score\n"
      ]
    },
    {
      "cell_type": "code",
      "execution_count": null,
      "metadata": {
        "id": "NEBs9QDnt_el"
      },
      "outputs": [],
      "source": [
        "### YOUR CODE HERE ###\n",
        "\n",
        "\n"
      ]
    }
  ],
  "metadata": {
    "colab": {
      "provenance": []
    },
    "kernelspec": {
      "display_name": "Python 3",
      "language": "python",
      "name": "python3"
    },
    "language_info": {
      "codemirror_mode": {
        "name": "ipython",
        "version": 3
      },
      "file_extension": ".py",
      "mimetype": "text/x-python",
      "name": "python",
      "nbconvert_exporter": "python",
      "pygments_lexer": "ipython3",
      "version": "3.8.5"
    },
    "orig_nbformat": 4,
    "vscode": {
      "interpreter": {
        "hash": "aee8b7b246df8f9039afb4144a1f6fd8d2ca17a180786b69acc140d282b71a49"
      }
    }
  },
  "nbformat": 4,
  "nbformat_minor": 0
}

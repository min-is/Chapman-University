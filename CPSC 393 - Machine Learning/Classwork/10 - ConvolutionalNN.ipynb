{
  "cells": [
    {
      "cell_type": "code",
      "execution_count": null,
      "metadata": {
        "id": "yUhJfXbkjwer"
      },
      "outputs": [],
      "source": [
        "import warnings\n",
        "warnings.filterwarnings('ignore')\n",
        "\n",
        "import numpy as np\n",
        "import pandas as pd\n",
        "\n",
        "from keras.datasets import mnist, fashion_mnist\n",
        "import tensorflow.keras as kb\n",
        "from tensorflow.keras import backend\n",
        "import tensorflow as tf"
      ]
    },
    {
      "cell_type": "markdown",
      "metadata": {
        "id": "xYMLdxcPjwes"
      },
      "source": [
        "# CNNs\n",
        "\n",
        "In the lecture we learned about two different kinds of layers that allow us to directly consider spatial relationships in data (e.g. images). \n",
        "\n",
        "- Convolutional Layers (`Conv2D`)\n",
        "- Pooling Layers (`MaxPool2D`)\n",
        "\n",
        " ## Convolutional Layers\n",
        "Convolutional Layers slide multiple filters/kernels across an input image and return the output. \n",
        "\n",
        "Four things you need to think about are:\n",
        "\n",
        "- number of filters\n",
        "- size of filters (usually 3x3 or 5x5)\n",
        "- stride (>0: but we tend not to use this)\n",
        "- padding (options: `\"valid\", \"same\"`)\n",
        "\n",
        "\n",
        " ## Pooling Layers\n",
        "\n",
        " Pooling Layers Downsample our image to make it smaller. Typically we will use Max Pooling. We'll typically use a `(2,2)` filter. You can read more about Pooling Filter options [here](https://keras.io/api/layers/pooling_layers/).\n"
      ]
    },
    {
      "cell_type": "markdown",
      "metadata": {
        "id": "4jC2vN6hjwet"
      },
      "source": [
        "# Together\n",
        "\n",
        "Let's build a very simple ConvNet together (Honestly it'll probably be too simple to do too well)."
      ]
    },
    {
      "cell_type": "code",
      "execution_count": null,
      "metadata": {
        "id": "G_bQijJLjwet"
      },
      "outputs": [],
      "source": [
        "# Load the data and split it between train and test sets\n",
        "(x_train, y_train), (x_test, y_test) = fashion_mnist.load_data()\n",
        "\n",
        "# Scale images to the [0, 1] range\n",
        "x_train = x_train.astype(\"float32\") / 255\n",
        "x_test = x_test.astype(\"float32\") / 255"
      ]
    },
    {
      "cell_type": "code",
      "execution_count": null,
      "metadata": {
        "id": "cFMWXiucjwet",
        "outputId": "e3b21a98-a256-4924-e8d9-3abbdd0ed2c8"
      },
      "outputs": [
        {
          "data": {
            "image/png": "[encoded data removed]",
            "text/plain": [
              "<Figure size 432x288 with 9 Axes>"
            ]
          },
          "metadata": {
            "needs_background": "light"
          },
          "output_type": "display_data"
        }
      ],
      "source": [
        "# example of loading the fashion mnist dataset\n",
        "from matplotlib import pyplot\n",
        "\n",
        "# plot first few images\n",
        "for i in range(9):\n",
        " # define subplot\n",
        " pyplot.subplot(330 + 1 + i)\n",
        " # plot raw pixel data\n",
        " pyplot.imshow(x_train[i], cmap=pyplot.get_cmap('gray'))\n",
        "# show the figure\n",
        "pyplot.show()"
      ]
    },
    {
      "cell_type": "code",
      "execution_count": null,
      "metadata": {
        "id": "n_Kpn_nijweu",
        "outputId": "a28c8c11-f808-4e20-9a32-2d49e35e4e3f"
      },
      "outputs": [
        {
          "name": "stdout",
          "output_type": "stream",
          "text": [
            "x_train shape: (60000, 28, 28, 1)\n",
            "60000 train samples\n",
            "10000 test samples\n"
          ]
        }
      ],
      "source": [
        "# Make sure images have shape (28, 28, 1)\n",
        "x_train = np.expand_dims(x_train, -1)\n",
        "x_test = np.expand_dims(x_test, -1)\n",
        "\n",
        "print(\"x_train shape:\", x_train.shape)\n",
        "print(x_train.shape[0], \"train samples\")\n",
        "print(x_test.shape[0], \"test samples\")\n",
        "\n",
        "\n",
        "# convert class vectors to binary class matrices\n",
        "y_train = kb.utils.to_categorical(y_train, 10)\n",
        "y_test = kb.utils.to_categorical(y_test, 10)"
      ]
    },
    {
      "cell_type": "code",
      "execution_count": null,
      "metadata": {
        "id": "lTJj7ut4jweu"
      },
      "outputs": [],
      "source": [
        "model = kb.Sequential([\n",
        "    kb.layers.Conv2D(32, (3, 3), activation='relu', padding = \"same\", input_shape=(28, 28, 1)),\n",
        "    kb.layers.Conv2D(64, (3, 3), activation='relu', padding = \"same\"),\n",
        "    kb.layers.MaxPooling2D((2, 2)),\n",
        "    kb.layers.Flatten(),\n",
        "    kb.layers.Dense(100, activation='relu'),\n",
        "    kb.layers.Dense(10, activation='softmax'),\n",
        "])"
      ]
    },
    {
      "cell_type": "code",
      "execution_count": null,
      "metadata": {
        "id": "e88SIK1sjwev",
        "outputId": "4cda5d01-760e-4715-912b-8dc9be3d18bf"
      },
      "outputs": [
        {
          "name": "stdout",
          "output_type": "stream",
          "text": [
            "Train on 60000 samples, validate on 10000 samples\n",
            "Epoch 1/5\n",
            "60000/60000 [==============================] - 118s 2ms/step - loss: 0.3547 - acc: 0.8747 - val_loss: 0.2873 - val_acc: 0.8978\n",
            "Epoch 2/5\n",
            "60000/60000 [==============================] - 121s 2ms/step - loss: 0.2204 - acc: 0.9193 - val_loss: 0.2703 - val_acc: 0.9028\n",
            "Epoch 3/5\n",
            "60000/60000 [==============================] - 120s 2ms/step - loss: 0.1724 - acc: 0.9352 - val_loss: 0.2341 - val_acc: 0.9172\n",
            "Epoch 4/5\n",
            "60000/60000 [==============================] - 126s 2ms/step - loss: 0.1319 - acc: 0.9505 - val_loss: 0.2346 - val_acc: 0.9219\n",
            "Epoch 5/5\n",
            "60000/60000 [==============================] - 139s 2ms/step - loss: 0.0983 - acc: 0.9634 - val_loss: 0.2648 - val_acc: 0.9200\n"
          ]
        },
        {
          "data": {
            "text/plain": [
              "<tensorflow.python.keras.callbacks.History at 0x7ff2a6435340>"
            ]
          },
          "execution_count": 22,
          "metadata": {},
          "output_type": "execute_result"
        }
      ],
      "source": [
        "model.compile(loss=\"categorical_crossentropy\", optimizer=\"adam\", metrics=[\"accuracy\"])\n",
        "\n",
        "model.fit(x_train, y_train, epochs=5, validation_data = (x_test, y_test))"
      ]
    },
    {
      "cell_type": "markdown",
      "metadata": {
        "id": "DgWcm6Jkjwev"
      },
      "source": [
        "\n",
        "\n",
        " # In Class\n",
        "\n",
        "Today we're going to try to run our first model on the server! We're going to build a ConvNet that does digit recognition using the MNIST data set we used in Classwork 5, but instead of running it in Colab or on your computer, you're going to run it on the server!\n",
        "\n",
        "The famous dataset, MNIST, contains thousands of black and white pictures of handwritten digits. \n",
        "\n",
        "So let's build a CNN that classifies handwritten digits.\n",
        "\n",
        "<center><img src=\"https://drive.google.com/uc?export=view&id=1xZhgplIHkTkbKoL6SuWGHn_DL0AbNSPh\" alt=\"mnist data\" width = \"500px\" /></center>"
      ]
    },
    {
      "cell_type": "code",
      "execution_count": null,
      "metadata": {
        "id": "SIRMa2kbjwev",
        "outputId": "0796f0a9-1935-4f81-df70-7b649a5b5cb7"
      },
      "outputs": [
        {
          "name": "stdout",
          "output_type": "stream",
          "text": [
            "x_train shape: (60000, 28, 28, 1)\n",
            "60000 train samples\n",
            "10000 test samples\n"
          ]
        }
      ],
      "source": [
        "# Load the data and split it between train and test sets\n",
        "(x_train, y_train), (x_test, y_test) = mnist.load_data()\n",
        "\n",
        "# Scale images to the [0, 1] range\n",
        "x_train = x_train.astype(\"float32\") / 255\n",
        "x_test = x_test.astype(\"float32\") / 255\n",
        "\n",
        "# Make sure images have shape (28, 28, 1)\n",
        "x_train = np.expand_dims(x_train, -1)\n",
        "x_test = np.expand_dims(x_test, -1)\n",
        "\n",
        "print(\"x_train shape:\", x_train.shape)\n",
        "print(x_train.shape[0], \"train samples\")\n",
        "print(x_test.shape[0], \"test samples\")\n",
        "\n",
        "\n",
        "# convert class vectors to binary class matrices\n",
        "y_train = kb.utils.to_categorical(y_train, 10)\n",
        "y_test = kb.utils.to_categorical(y_test, 10)"
      ]
    },
    {
      "cell_type": "markdown",
      "metadata": {
        "id": "U0V1-i8pjwew"
      },
      "source": [
        "Build a ConvNet with your choice of architechture that includes:\n",
        "\n",
        "- at least 4 Conv layers\n",
        "- relu activations for your Conv layers\n",
        "- pooling layers for at LEAST every 3 Conv layers (e.g. you could do Conv-Conv-Conv-Pool but don't do more than 3 Conv layers in a row without a Pool)\n",
        "- has at least 1 Dense layer with a softmax activation to make the final prediction about which digit it is"
      ]
    },
    {
      "cell_type": "code",
      "execution_count": null,
      "metadata": {
        "id": "b_Sc9DHojwew"
      },
      "outputs": [],
      "source": [
        "### YOUR MODEL HERE ###"
      ]
    },
    {
      "cell_type": "markdown",
      "metadata": {
        "id": "wPqIwwf2jwew"
      },
      "source": [
        "If you'd like to work ahead, save your .ipynb file as a .py file (or just copy all the code into a separate .py file) and put it on the server either using `scp` or by connecting through VSCode using the SSH Remote extension.\n",
        "\n",
        "Once your file is on the server, you can follow the instructions in the Server Google Doc to try to run it **inside a docker container**. "
      ]
    }
  ],
  "metadata": {
    "kernelspec": {
      "display_name": "Python 3",
      "language": "python",
      "name": "python3"
    },
    "language_info": {
      "codemirror_mode": {
        "name": "ipython",
        "version": 3
      },
      "file_extension": ".py",
      "mimetype": "text/x-python",
      "name": "python",
      "nbconvert_exporter": "python",
      "pygments_lexer": "ipython3",
      "version": "3.8.1"
    },
    "orig_nbformat": 4,
    "colab": {
      "provenance": []
    }
  },
  "nbformat": 4,
  "nbformat_minor": 0
}
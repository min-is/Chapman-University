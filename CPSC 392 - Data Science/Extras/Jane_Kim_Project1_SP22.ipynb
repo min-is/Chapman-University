{
 "cells": [
  {
   "cell_type": "markdown",
   "metadata": {
    "id": "J_8O1DK0pNtJ"
   },
   "source": [
    "# Project 1\n",
    "\n",
    "[This dataset](https://raw.githubusercontent.com/cmparlettpelleriti/CPSC392ParlettPelleriti/master/Data/Proj1.csv) is adapted from the World Health Organization on Strokes (it's based on real data but is NOT REAL). Use this dataset to answer the following questions and perform the following tasks. Feel free to add extra cells as needed, but <strong>clearly identify where each question is answered, both the code and Markdown cells</strong>. Please remove any superflous code. Please put any written/typed responses in MARKDOWN CELLS.\n",
    "\n",
    "## Data Information\n",
    "\n",
    "- `reg_to_vote`: 0 if no, 1 if yes.\n",
    "- `age`: age of the patient in years.\n",
    "- `hypertension`: 0 if the patient doesn't have hypertension, 1 if the patient has hypertension.\n",
    "- `heart_disease`: 0 if the patient doesn't have any heart diseases, 1 if the patient has a heart disease.\n",
    "- `ever_married`: 0 if no, 1 if yes.\n",
    "- `Residence_type`: 0 for Rural, 1 for Urban.\n",
    "- `avg_glucose_level`: average glucose level in blood.\n",
    "- `bmi`: body mass index.\n",
    "- `smoking_status_smokes`, `smoking_status_formerly`: Whether or not the person smokes, or formerly smoked. If a person has 0's for both these columns, they never smoked.\n",
    "- `stroke`: 1 if the patient had a stroke or 0 if not.\n",
    "- `dog_owner`: 0 if no, 1 if yes.\n",
    "- `income_in_k`: income in thousands\n",
    "- `er_visits`: number of recorded Emergency Room visits in lifetime.\n",
    "- `raccoons_to_fight`: number of racoons the patient belives they could fight off at once.\n",
    "- `fast_food_budget_month`: amount (in US dollars) spent on fast food per month.\n",
    "\n",
    "\n",
    "## Part I: Logistic Regression\n",
    "Build a logistic regression model to predict whether or not someone had a `stroke` based on **all** the other variables in the dataset.\n",
    "\n",
    "1. Count the missing data per column, and remove rows with missing data (if any).\n",
    "2. Use 10 fold cross validation for your model validation. Z-score your continuous/interval variables only. Store both the train and test accuracies to check for overfitting. **Is the model overfit? How can you tell?**\n",
    "3. After completing steps 1-2, fit another logistic regression model on ALL of the data (no model validation; but do z score) using the same predictors as before, and put the coefficients into a dataframe called `coef`.\n",
    "4. print out a confusion matrix for the model you made in part 3. **What does this confusion matrix tell you about your model? How can you tell?**\n",
    "\n",
    "## Part II: Data Exploration\n",
    "The WHO has asked the following five questions, create **at least 1 ggplot graph per question** (using the above data + model when needed) to help answer each question, and **explicitly answer the question in a Markdown cell** below your graph. You may use other calculations to help support your answer but MUST pair it with a graph. Write your answer as if you were explaining it to a non-data scientist. You will be graded on the effectiveness and clarity of your graph, as well as the completeness, clarity, and correctness of your responses and justifications.\n",
    "\n",
    "1. In this specific data set, do dog-owners over 50 have a higher average probability of stoke than non-dog owners who currently smoke? How can you tell? (Do not use the model for this question, it's asking you to compare the observed probability of having a stroke in the two groups described).\n",
    "2. What is the relationship between average blood glucose and BMI? Is the relationship between those two variables different for people who are and are not registered to vote? How can you tell?\n",
    "3. Is your logistic regression model most accurate for people who make less than 30k, between 30-90k, or over 90k? Discuss the potential accuracy *and* ethical implications if your model *were* more accurate for different groups (you can use the full model from part I-3 to check accuracy for each of these groups; DO NOT create/fit new models for each income range, use the model from part I-3 to calculate the accuracy for each of these groups.)\n",
    "4. Which of the following variables is the strongest predictor of having a stroke (owning a dog, residence type, marriage, being registered to vote)? How were you able to tell?\n",
    "5. Create a variable `er_visits_per_year` that calculates the # of visits to the ER that a person has had per year of life. Store this variable in your data frame (no need to include this variable in the previous logistic regression model). Is the # of ER visits per year different for stroke and non-stroke patients? How can you tell?"
   ]
  },
  {
   "cell_type": "code",
   "execution_count": 41,
   "metadata": {
    "id": "_nvT5rmXpNtS"
   },
   "outputs": [],
   "source": [
    "import warnings\n",
    "warnings.filterwarnings('ignore')\n",
    "\n",
    "\n",
    "import pandas as pd\n",
    "import numpy as np\n",
    "from plotnine import *\n",
    "\n",
    "from sklearn.linear_model import LogisticRegression # Logistic Regression Model\n",
    "from sklearn.preprocessing import StandardScaler #Z-score variables\n",
    "from sklearn.metrics import accuracy_score, confusion_matrix, plot_confusion_matrix\n",
    "\n",
    "import matplotlib.pyplot as plt\n",
    "\n",
    "from sklearn.model_selection import train_test_split # simple TT split cv\n",
    "from sklearn.model_selection import KFold # k-fold cv\n",
    "from sklearn.model_selection import LeaveOneOut #LOO cv\n",
    "from sklearn.model_selection import cross_val_score # cross validation metrics\n",
    "from sklearn.model_selection import cross_val_predict # cross validation metrics"
   ]
  },
  {
   "cell_type": "code",
   "execution_count": 42,
   "metadata": {
    "colab": {
     "base_uri": "https://localhost:8080/",
     "height": 270
    },
    "id": "IkBvnWKppguX",
    "outputId": "724d6fe2-49b1-4b55-8eb9-eec73f038109"
   },
   "outputs": [
    {
     "data": {
      "text/html": [
       "\n",
       "  <div id=\"df-8ad0fc60-1fd0-409f-85c3-e66dd4a9cc8e\">\n",
       "    <div class=\"colab-df-container\">\n",
       "      <div>\n",
       "<style scoped>\n",
       "    .dataframe tbody tr th:only-of-type {\n",
       "        vertical-align: middle;\n",
       "    }\n",
       "\n",
       "    .dataframe tbody tr th {\n",
       "        vertical-align: top;\n",
       "    }\n",
       "\n",
       "    .dataframe thead th {\n",
       "        text-align: right;\n",
       "    }\n",
       "</style>\n",
       "<table border=\"1\" class=\"dataframe\">\n",
       "  <thead>\n",
       "    <tr style=\"text-align: right;\">\n",
       "      <th></th>\n",
       "      <th>age</th>\n",
       "      <th>hypertension</th>\n",
       "      <th>heart_disease</th>\n",
       "      <th>ever_married</th>\n",
       "      <th>Residence_type</th>\n",
       "      <th>avg_glucose_level</th>\n",
       "      <th>bmi</th>\n",
       "      <th>stroke</th>\n",
       "      <th>smoking_status_smokes</th>\n",
       "      <th>smoking_status_formerly</th>\n",
       "      <th>reg_to_vote</th>\n",
       "      <th>dog_owner</th>\n",
       "      <th>raccoons_to_fight</th>\n",
       "      <th>fast_food_budget_month</th>\n",
       "      <th>income_in_k</th>\n",
       "      <th>er_visits</th>\n",
       "    </tr>\n",
       "  </thead>\n",
       "  <tbody>\n",
       "    <tr>\n",
       "      <th>0</th>\n",
       "      <td>60.0</td>\n",
       "      <td>1.0</td>\n",
       "      <td>0.0</td>\n",
       "      <td>0.0</td>\n",
       "      <td>1.0</td>\n",
       "      <td>73.00</td>\n",
       "      <td>25.2</td>\n",
       "      <td>0</td>\n",
       "      <td>1</td>\n",
       "      <td>0</td>\n",
       "      <td>1.0</td>\n",
       "      <td>1.0</td>\n",
       "      <td>10.0</td>\n",
       "      <td>209.19</td>\n",
       "      <td>51.553645</td>\n",
       "      <td>9.0</td>\n",
       "    </tr>\n",
       "    <tr>\n",
       "      <th>1</th>\n",
       "      <td>4.0</td>\n",
       "      <td>0.0</td>\n",
       "      <td>0.0</td>\n",
       "      <td>0.0</td>\n",
       "      <td>0.0</td>\n",
       "      <td>110.15</td>\n",
       "      <td>17.1</td>\n",
       "      <td>0</td>\n",
       "      <td>0</td>\n",
       "      <td>0</td>\n",
       "      <td>0.0</td>\n",
       "      <td>1.0</td>\n",
       "      <td>13.0</td>\n",
       "      <td>176.46</td>\n",
       "      <td>45.405414</td>\n",
       "      <td>5.0</td>\n",
       "    </tr>\n",
       "    <tr>\n",
       "      <th>2</th>\n",
       "      <td>77.0</td>\n",
       "      <td>0.0</td>\n",
       "      <td>0.0</td>\n",
       "      <td>1.0</td>\n",
       "      <td>1.0</td>\n",
       "      <td>68.38</td>\n",
       "      <td>27.8</td>\n",
       "      <td>0</td>\n",
       "      <td>0</td>\n",
       "      <td>0</td>\n",
       "      <td>0.0</td>\n",
       "      <td>1.0</td>\n",
       "      <td>6.0</td>\n",
       "      <td>213.00</td>\n",
       "      <td>94.865174</td>\n",
       "      <td>8.0</td>\n",
       "    </tr>\n",
       "    <tr>\n",
       "      <th>3</th>\n",
       "      <td>37.0</td>\n",
       "      <td>0.0</td>\n",
       "      <td>0.0</td>\n",
       "      <td>1.0</td>\n",
       "      <td>1.0</td>\n",
       "      <td>95.08</td>\n",
       "      <td>30.1</td>\n",
       "      <td>0</td>\n",
       "      <td>0</td>\n",
       "      <td>0</td>\n",
       "      <td>1.0</td>\n",
       "      <td>1.0</td>\n",
       "      <td>12.0</td>\n",
       "      <td>161.90</td>\n",
       "      <td>84.123775</td>\n",
       "      <td>8.0</td>\n",
       "    </tr>\n",
       "    <tr>\n",
       "      <th>4</th>\n",
       "      <td>44.0</td>\n",
       "      <td>0.0</td>\n",
       "      <td>0.0</td>\n",
       "      <td>0.0</td>\n",
       "      <td>0.0</td>\n",
       "      <td>103.78</td>\n",
       "      <td>40.9</td>\n",
       "      <td>0</td>\n",
       "      <td>1</td>\n",
       "      <td>0</td>\n",
       "      <td>1.0</td>\n",
       "      <td>1.0</td>\n",
       "      <td>11.0</td>\n",
       "      <td>261.29</td>\n",
       "      <td>74.794596</td>\n",
       "      <td>11.0</td>\n",
       "    </tr>\n",
       "  </tbody>\n",
       "</table>\n",
       "</div>\n",
       "      <button class=\"colab-df-convert\" onclick=\"convertToInteractive('df-8ad0fc60-1fd0-409f-85c3-e66dd4a9cc8e')\"\n",
       "              title=\"Convert this dataframe to an interactive table.\"\n",
       "              style=\"display:none;\">\n",
       "        \n",
       "  <svg xmlns=\"http://www.w3.org/2000/svg\" height=\"24px\"viewBox=\"0 0 24 24\"\n",
       "       width=\"24px\">\n",
       "    <path d=\"M0 0h24v24H0V0z\" fill=\"none\"/>\n",
       "    <path d=\"M18.56 5.44l.94 2.06.94-2.06 2.06-.94-2.06-.94-.94-2.06-.94 2.06-2.06.94zm-11 1L8.5 8.5l.94-2.06 2.06-.94-2.06-.94L8.5 2.5l-.94 2.06-2.06.94zm10 10l.94 2.06.94-2.06 2.06-.94-2.06-.94-.94-2.06-.94 2.06-2.06.94z\"/><path d=\"M17.41 7.96l-1.37-1.37c-.4-.4-.92-.59-1.43-.59-.52 0-1.04.2-1.43.59L10.3 9.45l-7.72 7.72c-.78.78-.78 2.05 0 2.83L4 21.41c.39.39.9.59 1.41.59.51 0 1.02-.2 1.41-.59l7.78-7.78 2.81-2.81c.8-.78.8-2.07 0-2.86zM5.41 20L4 18.59l7.72-7.72 1.47 1.35L5.41 20z\"/>\n",
       "  </svg>\n",
       "      </button>\n",
       "      \n",
       "  <style>\n",
       "    .colab-df-container {\n",
       "      display:flex;\n",
       "      flex-wrap:wrap;\n",
       "      gap: 12px;\n",
       "    }\n",
       "\n",
       "    .colab-df-convert {\n",
       "      background-color: #E8F0FE;\n",
       "      border: none;\n",
       "      border-radius: 50%;\n",
       "      cursor: pointer;\n",
       "      display: none;\n",
       "      fill: #1967D2;\n",
       "      height: 32px;\n",
       "      padding: 0 0 0 0;\n",
       "      width: 32px;\n",
       "    }\n",
       "\n",
       "    .colab-df-convert:hover {\n",
       "      background-color: #E2EBFA;\n",
       "      box-shadow: 0px 1px 2px rgba(60, 64, 67, 0.3), 0px 1px 3px 1px rgba(60, 64, 67, 0.15);\n",
       "      fill: #174EA6;\n",
       "    }\n",
       "\n",
       "    [theme=dark] .colab-df-convert {\n",
       "      background-color: #3B4455;\n",
       "      fill: #D2E3FC;\n",
       "    }\n",
       "\n",
       "    [theme=dark] .colab-df-convert:hover {\n",
       "      background-color: #434B5C;\n",
       "      box-shadow: 0px 1px 3px 1px rgba(0, 0, 0, 0.15);\n",
       "      filter: drop-shadow(0px 1px 2px rgba(0, 0, 0, 0.3));\n",
       "      fill: #FFFFFF;\n",
       "    }\n",
       "  </style>\n",
       "\n",
       "      <script>\n",
       "        const buttonEl =\n",
       "          document.querySelector('#df-8ad0fc60-1fd0-409f-85c3-e66dd4a9cc8e button.colab-df-convert');\n",
       "        buttonEl.style.display =\n",
       "          google.colab.kernel.accessAllowed ? 'block' : 'none';\n",
       "\n",
       "        async function convertToInteractive(key) {\n",
       "          const element = document.querySelector('#df-8ad0fc60-1fd0-409f-85c3-e66dd4a9cc8e');\n",
       "          const dataTable =\n",
       "            await google.colab.kernel.invokeFunction('convertToInteractive',\n",
       "                                                     [key], {});\n",
       "          if (!dataTable) return;\n",
       "\n",
       "          const docLinkHtml = 'Like what you see? Visit the ' +\n",
       "            '<a target=\"_blank\" href=https://colab.research.google.com/notebooks/data_table.ipynb>data table notebook</a>'\n",
       "            + ' to learn more about interactive tables.';\n",
       "          element.innerHTML = '';\n",
       "          dataTable['output_type'] = 'display_data';\n",
       "          await google.colab.output.renderOutput(dataTable, element);\n",
       "          const docLink = document.createElement('div');\n",
       "          docLink.innerHTML = docLinkHtml;\n",
       "          element.appendChild(docLink);\n",
       "        }\n",
       "      </script>\n",
       "    </div>\n",
       "  </div>\n",
       "  "
      ],
      "text/plain": [
       "    age  hypertension  heart_disease  ever_married  Residence_type  \\\n",
       "0  60.0           1.0            0.0           0.0             1.0   \n",
       "1   4.0           0.0            0.0           0.0             0.0   \n",
       "2  77.0           0.0            0.0           1.0             1.0   \n",
       "3  37.0           0.0            0.0           1.0             1.0   \n",
       "4  44.0           0.0            0.0           0.0             0.0   \n",
       "\n",
       "   avg_glucose_level   bmi  stroke  smoking_status_smokes  \\\n",
       "0              73.00  25.2       0                      1   \n",
       "1             110.15  17.1       0                      0   \n",
       "2              68.38  27.8       0                      0   \n",
       "3              95.08  30.1       0                      0   \n",
       "4             103.78  40.9       0                      1   \n",
       "\n",
       "   smoking_status_formerly  reg_to_vote  dog_owner  raccoons_to_fight  \\\n",
       "0                        0          1.0        1.0               10.0   \n",
       "1                        0          0.0        1.0               13.0   \n",
       "2                        0          0.0        1.0                6.0   \n",
       "3                        0          1.0        1.0               12.0   \n",
       "4                        0          1.0        1.0               11.0   \n",
       "\n",
       "   fast_food_budget_month  income_in_k  er_visits  \n",
       "0                  209.19    51.553645        9.0  \n",
       "1                  176.46    45.405414        5.0  \n",
       "2                  213.00    94.865174        8.0  \n",
       "3                  161.90    84.123775        8.0  \n",
       "4                  261.29    74.794596       11.0  "
      ]
     },
     "execution_count": 42,
     "metadata": {},
     "output_type": "execute_result"
    }
   ],
   "source": [
    "# data\n",
    "DF = pd.read_csv(\"https://raw.githubusercontent.com/cmparlettpelleriti/CPSC392ParlettPelleriti/master/Data/Proj1.csv\")\n",
    "\n",
    "DF.head()"
   ]
  },
  {
   "cell_type": "markdown",
   "metadata": {
    "id": "oMKZsp-WQtbl"
   },
   "source": [
    "# Part 1: Logistic Regression"
   ]
  },
  {
   "cell_type": "markdown",
   "metadata": {
    "id": "JLx1YfNs2mvK"
   },
   "source": [
    "# 1."
   ]
  },
  {
   "cell_type": "code",
   "execution_count": 43,
   "metadata": {
    "colab": {
     "base_uri": "https://localhost:8080/"
    },
    "id": "97g9WPq5w5Vr",
    "outputId": "f11050e3-8935-4a2b-e769-376d960feb58"
   },
   "outputs": [
    {
     "data": {
      "text/plain": [
       "age                         13\n",
       "hypertension                12\n",
       "heart_disease               21\n",
       "ever_married                 9\n",
       "Residence_type              21\n",
       "avg_glucose_level           31\n",
       "bmi                        575\n",
       "stroke                       0\n",
       "smoking_status_smokes        0\n",
       "smoking_status_formerly      0\n",
       "reg_to_vote                 14\n",
       "dog_owner                   21\n",
       "raccoons_to_fight           27\n",
       "fast_food_budget_month       8\n",
       "income_in_k                 21\n",
       "er_visits                   15\n",
       "dtype: int64"
      ]
     },
     "execution_count": 43,
     "metadata": {},
     "output_type": "execute_result"
    }
   ],
   "source": [
    "# count missing data\n",
    "\n",
    "DF.isnull().sum()"
   ]
  },
  {
   "cell_type": "code",
   "execution_count": 44,
   "metadata": {
    "colab": {
     "base_uri": "https://localhost:8080/"
    },
    "id": "lcUPOwZjxIop",
    "outputId": "16c4064d-9d15-4384-fc8e-35a292a493c1"
   },
   "outputs": [
    {
     "data": {
      "text/plain": [
       "age                        0\n",
       "hypertension               0\n",
       "heart_disease              0\n",
       "ever_married               0\n",
       "Residence_type             0\n",
       "avg_glucose_level          0\n",
       "bmi                        0\n",
       "stroke                     0\n",
       "smoking_status_smokes      0\n",
       "smoking_status_formerly    0\n",
       "reg_to_vote                0\n",
       "dog_owner                  0\n",
       "raccoons_to_fight          0\n",
       "fast_food_budget_month     0\n",
       "income_in_k                0\n",
       "er_visits                  0\n",
       "dtype: int64"
      ]
     },
     "execution_count": 44,
     "metadata": {},
     "output_type": "execute_result"
    }
   ],
   "source": [
    "# drop the missing data\n",
    "\n",
    "DF = DF.dropna()\n",
    "DF.isnull().sum()"
   ]
  },
  {
   "cell_type": "markdown",
   "metadata": {
    "id": "qdIqFX3o2uzV"
   },
   "source": [
    "# 2. "
   ]
  },
  {
   "cell_type": "code",
   "execution_count": 45,
   "metadata": {
    "id": "adVBOXA7rAtt"
   },
   "outputs": [],
   "source": [
    " # Split Data\n",
    "predictors = [\"age\", \"hypertension\", \"heart_disease\", \"ever_married\", \n",
    "              \"Residence_type\", \"avg_glucose_level\", \"bmi\", \"smoking_status_smokes\", \n",
    "              \"smoking_status_formerly\", \"reg_to_vote\", \"dog_owner\", \n",
    "              \"raccoons_to_fight\", \"fast_food_budget_month\", \"income_in_k\", \"er_visits\"]\n",
    "\n",
    "# zscore for continuous/interval variables only\n",
    "continuous_interval = [\"age\", \"avg_glucose_level\", \"bmi\", \"raccoons_to_fight\", \n",
    "                       \"fast_food_budget_month\", \"income_in_k\", \"er_visits\"]"
   ]
  },
  {
   "cell_type": "code",
   "execution_count": 46,
   "metadata": {
    "id": "Dt7A3yJFzkBz"
   },
   "outputs": [],
   "source": [
    "# Kfold\n",
    "\n",
    "X = DF[predictors]\n",
    "y = DF[\"stroke\"]\n",
    "\n",
    "# create k-fold object\n",
    "kf = KFold(n_splits = 10)\n",
    "kf.split(X)\n",
    "\n",
    "# create model\n",
    "lr = LogisticRegression() \n",
    "\n",
    "#create empty list to store accuracy for each fold\n",
    "acc_train = [] \n",
    "acc_test = []"
   ]
  },
  {
   "cell_type": "code",
   "execution_count": 47,
   "metadata": {
    "id": "fvpsS87hzlFa"
   },
   "outputs": [],
   "source": [
    "# Use a for loop to loop through each fold and train a model, \n",
    "# then add the accuracy to acc.\n",
    "\n",
    "for train_indices, test_indices in kf.split(X):\n",
    "    # Get your train/test for this fold\n",
    "    X_train = X.iloc[train_indices]\n",
    "    X_test  = X.iloc[test_indices]\n",
    "    y_train = y.iloc[train_indices]\n",
    "    y_test  = y.iloc[test_indices]\n",
    "    \n",
    "    # z\n",
    "    zscore = StandardScaler()\n",
    "    zscore.fit(X_train)\n",
    "    Xz_train = zscore.transform(X_train)\n",
    "    Xz_test = zscore.transform(X_test)\n",
    "\n",
    "    # model\n",
    "    model = lr.fit(X_train, y_train)\n",
    "    # record accuracy\n",
    "    acc_train.append(accuracy_score(y_train, model.predict(X_train)))\n",
    "    acc_test.append(accuracy_score(y_test, model.predict(X_test)))"
   ]
  },
  {
   "cell_type": "code",
   "execution_count": 48,
   "metadata": {
    "colab": {
     "base_uri": "https://localhost:8080/"
    },
    "id": "vcHgfg5q1KX_",
    "outputId": "661610fa-2406-42d9-f058-9e9d779d682f"
   },
   "outputs": [
    {
     "data": {
      "text/plain": [
       "0.9582649779767951"
      ]
     },
     "execution_count": 48,
     "metadata": {},
     "output_type": "execute_result"
    }
   ],
   "source": [
    "np.mean(acc_train)"
   ]
  },
  {
   "cell_type": "code",
   "execution_count": 49,
   "metadata": {
    "colab": {
     "base_uri": "https://localhost:8080/"
    },
    "id": "9dYVP-W41Qpg",
    "outputId": "08660bcb-7ffb-443b-f7ed-2efa69720ab2"
   },
   "outputs": [
    {
     "data": {
      "text/plain": [
       "0.9581640973636846"
      ]
     },
     "execution_count": 49,
     "metadata": {},
     "output_type": "execute_result"
    }
   ],
   "source": [
    "np.mean(acc_test)"
   ]
  },
  {
   "cell_type": "markdown",
   "metadata": {
    "id": "Mo7is7Cx1ZV1"
   },
   "source": [
    "This model is not overfitting; the train and tset set are similar. When the model has a low error rate in training data but a high error rate in testing data, we can say the model is overfitting"
   ]
  },
  {
   "cell_type": "markdown",
   "metadata": {
    "id": "K-Cn8FFN3LN6"
   },
   "source": [
    "# 3. "
   ]
  },
  {
   "cell_type": "code",
   "execution_count": 50,
   "metadata": {
    "colab": {
     "base_uri": "https://localhost:8080/"
    },
    "id": "T2Xq565mPlKX",
    "outputId": "e87051bc-0e5b-4733-a57f-136495d7b04f"
   },
   "outputs": [
    {
     "data": {
      "text/plain": [
       "LogisticRegression()"
      ]
     },
     "execution_count": 50,
     "metadata": {},
     "output_type": "execute_result"
    }
   ],
   "source": [
    "X = DF[predictors]\n",
    "y = DF[\"stroke\"]\n",
    "\n",
    "X[continuous_interval] = zscore.fit_transform(X[continuous_interval])\n",
    "\n",
    "lr = LogisticRegression() \n",
    "lr.fit(X, y)"
   ]
  },
  {
   "cell_type": "code",
   "execution_count": 51,
   "metadata": {
    "colab": {
     "base_uri": "https://localhost:8080/",
     "height": 519
    },
    "id": "0HpOkzAZ3Mbq",
    "outputId": "4df2d4d7-70ac-4ff5-9931-8e07eb593150"
   },
   "outputs": [
    {
     "data": {
      "text/html": [
       "\n",
       "  <div id=\"df-a33c0a4a-a7da-4f30-8e4e-57f21b3f6a6f\">\n",
       "    <div class=\"colab-df-container\">\n",
       "      <div>\n",
       "<style scoped>\n",
       "    .dataframe tbody tr th:only-of-type {\n",
       "        vertical-align: middle;\n",
       "    }\n",
       "\n",
       "    .dataframe tbody tr th {\n",
       "        vertical-align: top;\n",
       "    }\n",
       "\n",
       "    .dataframe thead th {\n",
       "        text-align: right;\n",
       "    }\n",
       "</style>\n",
       "<table border=\"1\" class=\"dataframe\">\n",
       "  <thead>\n",
       "    <tr style=\"text-align: right;\">\n",
       "      <th></th>\n",
       "      <th>Coefs</th>\n",
       "      <th>Names</th>\n",
       "    </tr>\n",
       "  </thead>\n",
       "  <tbody>\n",
       "    <tr>\n",
       "      <th>0</th>\n",
       "      <td>1.613121</td>\n",
       "      <td>age</td>\n",
       "    </tr>\n",
       "    <tr>\n",
       "      <th>1</th>\n",
       "      <td>0.249543</td>\n",
       "      <td>hypertension</td>\n",
       "    </tr>\n",
       "    <tr>\n",
       "      <th>2</th>\n",
       "      <td>0.423396</td>\n",
       "      <td>heart_disease</td>\n",
       "    </tr>\n",
       "    <tr>\n",
       "      <th>3</th>\n",
       "      <td>-0.187965</td>\n",
       "      <td>ever_married</td>\n",
       "    </tr>\n",
       "    <tr>\n",
       "      <th>4</th>\n",
       "      <td>-0.019790</td>\n",
       "      <td>Residence_type</td>\n",
       "    </tr>\n",
       "    <tr>\n",
       "      <th>5</th>\n",
       "      <td>0.242798</td>\n",
       "      <td>avg_glucose_level</td>\n",
       "    </tr>\n",
       "    <tr>\n",
       "      <th>6</th>\n",
       "      <td>0.111694</td>\n",
       "      <td>bmi</td>\n",
       "    </tr>\n",
       "    <tr>\n",
       "      <th>7</th>\n",
       "      <td>0.294617</td>\n",
       "      <td>smoking_status_smokes</td>\n",
       "    </tr>\n",
       "    <tr>\n",
       "      <th>8</th>\n",
       "      <td>0.145672</td>\n",
       "      <td>smoking_status_formerly</td>\n",
       "    </tr>\n",
       "    <tr>\n",
       "      <th>9</th>\n",
       "      <td>-0.059925</td>\n",
       "      <td>reg_to_vote</td>\n",
       "    </tr>\n",
       "    <tr>\n",
       "      <th>10</th>\n",
       "      <td>0.015419</td>\n",
       "      <td>dog_owner</td>\n",
       "    </tr>\n",
       "    <tr>\n",
       "      <th>11</th>\n",
       "      <td>-0.010345</td>\n",
       "      <td>raccoons_to_fight</td>\n",
       "    </tr>\n",
       "    <tr>\n",
       "      <th>12</th>\n",
       "      <td>0.708555</td>\n",
       "      <td>fast_food_budget_month</td>\n",
       "    </tr>\n",
       "    <tr>\n",
       "      <th>13</th>\n",
       "      <td>0.126058</td>\n",
       "      <td>income_in_k</td>\n",
       "    </tr>\n",
       "    <tr>\n",
       "      <th>14</th>\n",
       "      <td>0.056757</td>\n",
       "      <td>er_visits</td>\n",
       "    </tr>\n",
       "  </tbody>\n",
       "</table>\n",
       "</div>\n",
       "      <button class=\"colab-df-convert\" onclick=\"convertToInteractive('df-a33c0a4a-a7da-4f30-8e4e-57f21b3f6a6f')\"\n",
       "              title=\"Convert this dataframe to an interactive table.\"\n",
       "              style=\"display:none;\">\n",
       "        \n",
       "  <svg xmlns=\"http://www.w3.org/2000/svg\" height=\"24px\"viewBox=\"0 0 24 24\"\n",
       "       width=\"24px\">\n",
       "    <path d=\"M0 0h24v24H0V0z\" fill=\"none\"/>\n",
       "    <path d=\"M18.56 5.44l.94 2.06.94-2.06 2.06-.94-2.06-.94-.94-2.06-.94 2.06-2.06.94zm-11 1L8.5 8.5l.94-2.06 2.06-.94-2.06-.94L8.5 2.5l-.94 2.06-2.06.94zm10 10l.94 2.06.94-2.06 2.06-.94-2.06-.94-.94-2.06-.94 2.06-2.06.94z\"/><path d=\"M17.41 7.96l-1.37-1.37c-.4-.4-.92-.59-1.43-.59-.52 0-1.04.2-1.43.59L10.3 9.45l-7.72 7.72c-.78.78-.78 2.05 0 2.83L4 21.41c.39.39.9.59 1.41.59.51 0 1.02-.2 1.41-.59l7.78-7.78 2.81-2.81c.8-.78.8-2.07 0-2.86zM5.41 20L4 18.59l7.72-7.72 1.47 1.35L5.41 20z\"/>\n",
       "  </svg>\n",
       "      </button>\n",
       "      \n",
       "  <style>\n",
       "    .colab-df-container {\n",
       "      display:flex;\n",
       "      flex-wrap:wrap;\n",
       "      gap: 12px;\n",
       "    }\n",
       "\n",
       "    .colab-df-convert {\n",
       "      background-color: #E8F0FE;\n",
       "      border: none;\n",
       "      border-radius: 50%;\n",
       "      cursor: pointer;\n",
       "      display: none;\n",
       "      fill: #1967D2;\n",
       "      height: 32px;\n",
       "      padding: 0 0 0 0;\n",
       "      width: 32px;\n",
       "    }\n",
       "\n",
       "    .colab-df-convert:hover {\n",
       "      background-color: #E2EBFA;\n",
       "      box-shadow: 0px 1px 2px rgba(60, 64, 67, 0.3), 0px 1px 3px 1px rgba(60, 64, 67, 0.15);\n",
       "      fill: #174EA6;\n",
       "    }\n",
       "\n",
       "    [theme=dark] .colab-df-convert {\n",
       "      background-color: #3B4455;\n",
       "      fill: #D2E3FC;\n",
       "    }\n",
       "\n",
       "    [theme=dark] .colab-df-convert:hover {\n",
       "      background-color: #434B5C;\n",
       "      box-shadow: 0px 1px 3px 1px rgba(0, 0, 0, 0.15);\n",
       "      filter: drop-shadow(0px 1px 2px rgba(0, 0, 0, 0.3));\n",
       "      fill: #FFFFFF;\n",
       "    }\n",
       "  </style>\n",
       "\n",
       "      <script>\n",
       "        const buttonEl =\n",
       "          document.querySelector('#df-a33c0a4a-a7da-4f30-8e4e-57f21b3f6a6f button.colab-df-convert');\n",
       "        buttonEl.style.display =\n",
       "          google.colab.kernel.accessAllowed ? 'block' : 'none';\n",
       "\n",
       "        async function convertToInteractive(key) {\n",
       "          const element = document.querySelector('#df-a33c0a4a-a7da-4f30-8e4e-57f21b3f6a6f');\n",
       "          const dataTable =\n",
       "            await google.colab.kernel.invokeFunction('convertToInteractive',\n",
       "                                                     [key], {});\n",
       "          if (!dataTable) return;\n",
       "\n",
       "          const docLinkHtml = 'Like what you see? Visit the ' +\n",
       "            '<a target=\"_blank\" href=https://colab.research.google.com/notebooks/data_table.ipynb>data table notebook</a>'\n",
       "            + ' to learn more about interactive tables.';\n",
       "          element.innerHTML = '';\n",
       "          dataTable['output_type'] = 'display_data';\n",
       "          await google.colab.output.renderOutput(dataTable, element);\n",
       "          const docLink = document.createElement('div');\n",
       "          docLink.innerHTML = docLinkHtml;\n",
       "          element.appendChild(docLink);\n",
       "        }\n",
       "      </script>\n",
       "    </div>\n",
       "  </div>\n",
       "  "
      ],
      "text/plain": [
       "       Coefs                    Names\n",
       "0   1.613121                      age\n",
       "1   0.249543             hypertension\n",
       "2   0.423396            heart_disease\n",
       "3  -0.187965             ever_married\n",
       "4  -0.019790           Residence_type\n",
       "5   0.242798        avg_glucose_level\n",
       "6   0.111694                      bmi\n",
       "7   0.294617    smoking_status_smokes\n",
       "8   0.145672  smoking_status_formerly\n",
       "9  -0.059925              reg_to_vote\n",
       "10  0.015419                dog_owner\n",
       "11 -0.010345        raccoons_to_fight\n",
       "12  0.708555   fast_food_budget_month\n",
       "13  0.126058              income_in_k\n",
       "14  0.056757                er_visits"
      ]
     },
     "execution_count": 51,
     "metadata": {},
     "output_type": "execute_result"
    }
   ],
   "source": [
    "coef = pd.DataFrame({\"Coefs\": lr.coef_[0],\n",
    "                     \"Names\": predictors})\n",
    "coef"
   ]
  },
  {
   "cell_type": "markdown",
   "metadata": {
    "id": "TvHF75g8Qi4D"
   },
   "source": [
    "# 4."
   ]
  },
  {
   "cell_type": "code",
   "execution_count": 52,
   "metadata": {
    "colab": {
     "base_uri": "https://localhost:8080/",
     "height": 313
    },
    "id": "b1wPkQEuP4ci",
    "outputId": "cd4a6782-a89e-41e6-92b0-ffb6ecc048b7"
   },
   "outputs": [
    {
     "data": {
      "text/plain": [
       "Text(0.5, 1.0, 'Confusion matrix of the classifier')"
      ]
     },
     "execution_count": 52,
     "metadata": {},
     "output_type": "execute_result"
    },
    {
     "data": {
      "image/png": "[encoded data removed]",
      "text/plain": [
       "<Figure size 432x288 with 2 Axes>"
      ]
     },
     "metadata": {
      "needs_background": "light"
     },
     "output_type": "display_data"
    }
   ],
   "source": [
    "plot_confusion_matrix(lr, X, y)\n",
    "plt.title('Confusion matrix of the classifier')"
   ]
  },
  {
   "cell_type": "markdown",
   "metadata": {
    "id": "I58skA2IQmEk"
   },
   "source": [
    " This confusion matrix tells the accuracy of the model between two variables. \n",
    " There are high accuracy of 13635 where the patients did not have a stroke and were predicted not to have a stroke (top left). This indicates that the prediction is strongly supported. "
   ]
  },
  {
   "cell_type": "markdown",
   "metadata": {
    "id": "R5bPkpQRQzeg"
   },
   "source": [
    "# Part 2: Data Exploration"
   ]
  },
  {
   "cell_type": "markdown",
   "metadata": {
    "id": "i6z82i5TQ6iZ"
   },
   "source": [
    "# 1. "
   ]
  },
  {
   "cell_type": "code",
   "execution_count": 53,
   "metadata": {
    "colab": {
     "base_uri": "https://localhost:8080/"
    },
    "id": "hFAY8f4-6a1L",
    "outputId": "1b62b838-467a-46d2-aa45-e6ac12e241e2"
   },
   "outputs": [
    {
     "name": "stdout",
     "output_type": "stream",
     "text": [
      "The probability of dog owners over 50 having a stroke is  0.08617290903970712\n"
     ]
    }
   ],
   "source": [
    "# Probability of dog owners over 50 having a stroke\n",
    "dog50 = (DF[\"dog_owner\"] == 1) & (DF[\"age\"] > 50)\n",
    "dog50_mean = DF.loc[dog50, \"stroke\"].mean()\n",
    "\n",
    "print(\"The probability of dog owners over 50 having a stroke is \", dog50_mean)"
   ]
  },
  {
   "cell_type": "code",
   "execution_count": 54,
   "metadata": {
    "colab": {
     "base_uri": "https://localhost:8080/"
    },
    "id": "KAOyrCOh6b12",
    "outputId": "8e827ad5-345c-4804-a8a4-e10a516aca18"
   },
   "outputs": [
    {
     "name": "stdout",
     "output_type": "stream",
     "text": [
      "The probability of non dog owners who currently smoke having a stroke is  0.0387409200968523\n"
     ]
    }
   ],
   "source": [
    "# Probability of non dog owners who currently smoke having a stroke\n",
    "nonDogSmoke = (DF[\"dog_owner\"] == 0) & (DF[\"smoking_status_smokes\"] == 1)\n",
    "nonDogSmoke_mean = DF.loc[nonDogSmoke, \"stroke\"].mean()\n",
    "\n",
    "print(\"The probability of non dog owners who currently smoke having a stroke is \", nonDogSmoke_mean)"
   ]
  },
  {
   "cell_type": "code",
   "execution_count": 55,
   "metadata": {
    "id": "1oqGp1OtaGfN"
   },
   "outputs": [],
   "source": [
    "category = [\"Dog Owners over 50\", \"Non Dog Owners who currently smoke\"]\n",
    "Prob = [dog50_mean, nonDogSmoke_mean]\n",
    "\n",
    "DF1 = pd.DataFrame({\"Name\": category, \"Probability\": Prob})"
   ]
  },
  {
   "cell_type": "code",
   "execution_count": 56,
   "metadata": {
    "colab": {
     "base_uri": "https://localhost:8080/",
     "height": 478
    },
    "id": "j7uTHfY-rlPr",
    "outputId": "7535722f-8baf-4694-ab80-22483373ac56"
   },
   "outputs": [
    {
     "data": {
      "image/png": "[encoded data removed]",
      "text/plain": [
       "<Figure size 640x480 with 1 Axes>"
      ]
     },
     "metadata": {
      "needs_background": "light"
     },
     "output_type": "display_data"
    },
    {
     "data": {
      "text/plain": [
       "<ggplot: (8772422790341)>"
      ]
     },
     "execution_count": 56,
     "metadata": {},
     "output_type": "execute_result"
    }
   ],
   "source": [
    "# ggplot\n",
    "(ggplot(DF1, aes(x = \"Name\", weight = \"Probability\", fill = \"Name\")) \n",
    "+ geom_bar() + theme_minimal()) "
   ]
  },
  {
   "cell_type": "markdown",
   "metadata": {
    "id": "Zj38Drqq7wD3"
   },
   "source": [
    "Dog owner over 50 has a twice greater probability of having a stroke compared to non dog owners who currently smoke. Therefore, dog owner over 50 has a higher average probability of stroke than non-dog owners who currently smoke. "
   ]
  },
  {
   "cell_type": "markdown",
   "metadata": {
    "id": "3wXTI097a1In"
   },
   "source": [
    "# 2."
   ]
  },
  {
   "cell_type": "code",
   "execution_count": 57,
   "metadata": {
    "colab": {
     "base_uri": "https://localhost:8080/",
     "height": 486
    },
    "id": "8i6wxZjpmx1-",
    "outputId": "03ef1bf5-e4da-43aa-8919-67262ed169b6"
   },
   "outputs": [
    {
     "data": {
      "image/png": "[encoded data removed]",
      "text/plain": [
       "<Figure size 640x480 with 2 Axes>"
      ]
     },
     "metadata": {},
     "output_type": "display_data"
    },
    {
     "data": {
      "text/plain": [
       "<ggplot: (8772422810089)>"
      ]
     },
     "execution_count": 57,
     "metadata": {},
     "output_type": "execute_result"
    }
   ],
   "source": [
    "# ggplot\n",
    "(ggplot(DF, aes(x = \"avg_glucose_level\", y = \"bmi\")) + geom_point() \n",
    "+ facet_wrap(\"~reg_to_vote\"))"
   ]
  },
  {
   "cell_type": "markdown",
   "metadata": {
    "id": "blLxshhP9bpO"
   },
   "source": [
    "The relationships between aveage blood glucose and BMI for people who are registered to vote and are not registered to vote have no significant differences. Therefore, the registration to vote does not have a significant relationship to average blood glucose and BMI. "
   ]
  },
  {
   "cell_type": "markdown",
   "metadata": {
    "id": "fL2vFi34myN3"
   },
   "source": [
    "# 3."
   ]
  },
  {
   "cell_type": "code",
   "execution_count": 58,
   "metadata": {
    "colab": {
     "base_uri": "https://localhost:8080/"
    },
    "id": "WXP6uygUm0RU",
    "outputId": "af3bcc5e-e54b-4971-8792-f130fda0e2d2"
   },
   "outputs": [
    {
     "data": {
      "text/plain": [
       "1.0"
      ]
     },
     "execution_count": 58,
     "metadata": {},
     "output_type": "execute_result"
    }
   ],
   "source": [
    "# less than 30k\n",
    "less_30k = DF[\"income_in_k\"] < 30\n",
    "df1 = DF.loc[less_30k]\n",
    "X = df1[predictors]\n",
    "y = df1[\"stroke\"]\n",
    "X[continuous_interval] = zscore.fit_transform(X[continuous_interval])\n",
    "ac1 = accuracy_score(y, lr.predict(X))\n",
    "ac1"
   ]
  },
  {
   "cell_type": "code",
   "execution_count": 59,
   "metadata": {
    "colab": {
     "base_uri": "https://localhost:8080/"
    },
    "id": "S_8JUXu8_OAH",
    "outputId": "184e2e94-b0ed-4e77-d5ba-ca37149b537f"
   },
   "outputs": [
    {
     "data": {
      "text/plain": [
       "0.9613199891804165"
      ]
     },
     "execution_count": 59,
     "metadata": {},
     "output_type": "execute_result"
    }
   ],
   "source": [
    "# between 30 to 90k \n",
    "btn_30to90k = (DF[\"income_in_k\"] > 30) & (DF[\"income_in_k\"] < 90)\n",
    "df2 = DF.loc[btn_30to90k]\n",
    "X = df2[predictors]\n",
    "y = df2[\"stroke\"]\n",
    "X[continuous_interval] = zscore.fit_transform(X[continuous_interval])\n",
    "ac2 = accuracy_score(y, lr.predict(X))\n",
    "ac2"
   ]
  },
  {
   "cell_type": "code",
   "execution_count": 60,
   "metadata": {
    "colab": {
     "base_uri": "https://localhost:8080/"
    },
    "id": "NTRzbCS3_Nxg",
    "outputId": "78214513-26c2-437c-9fb1-2a96ef6775e5"
   },
   "outputs": [
    {
     "data": {
      "text/plain": [
       "0.9540428472702143"
      ]
     },
     "execution_count": 60,
     "metadata": {},
     "output_type": "execute_result"
    }
   ],
   "source": [
    "# over 90k\n",
    "over_90k = DF[\"income_in_k\"] > 90\n",
    "df3 = DF.loc[over_90k]\n",
    "X = df3[predictors]\n",
    "y = df3[\"stroke\"]\n",
    "X[continuous_interval] = zscore.fit_transform(X[continuous_interval])\n",
    "ac3 = accuracy_score(y, lr.predict(X))\n",
    "ac3"
   ]
  },
  {
   "cell_type": "code",
   "execution_count": 74,
   "metadata": {
    "colab": {
     "base_uri": "https://localhost:8080/",
     "height": 478
    },
    "id": "_9u9RLS7QyQP",
    "outputId": "30988118-9137-4de1-ad57-363a824eac09"
   },
   "outputs": [
    {
     "data": {
      "image/png": "[encoded data removed]",
      "text/plain": [
       "<Figure size 640x480 with 1 Axes>"
      ]
     },
     "metadata": {
      "needs_background": "light"
     },
     "output_type": "display_data"
    },
    {
     "data": {
      "text/plain": [
       "<ggplot: (8772425359365)>"
      ]
     },
     "execution_count": 74,
     "metadata": {},
     "output_type": "execute_result"
    }
   ],
   "source": [
    "income = [\"less_30k\", \"btn_30to90k\", \"over_90k\"]\n",
    "accuracy = [ac1, ac2, ac3]\n",
    "df_accuracy = pd.DataFrame({\"Income\": income, \n",
    "                            \"Accuracy Scores\": accuracy})\n",
    "\n",
    "# ggplot\n",
    "(ggplot(df_accuracy, aes(x = \"Income\", \n",
    "                         y = \"Accuracy Scores\")) \n",
    "+ stat_summary(geom = \"bar\") + theme_minimal()) "
   ]
  },
  {
   "cell_type": "markdown",
   "metadata": {
    "id": "gZSoUw91Jg4R"
   },
   "source": [
    "Based on the accuracy score, people who make less than 30k has the most accurate logistic. The accuracy score was 1.0 which is suspicious but can be possibly caused by small amount of data (overfit). Income between 30 to 90k has the accuracy of 0.961 and over 90k has the accuracy of 0.954 which are also highly accurate. Therefore, it's hard to determine the most accurate logistic accuracy where all three variables have the high accuracy scores. "
   ]
  },
  {
   "cell_type": "markdown",
   "metadata": {
    "id": "CEQKS5fzm0gv"
   },
   "source": [
    "# 4. "
   ]
  },
  {
   "cell_type": "code",
   "execution_count": 62,
   "metadata": {
    "colab": {
     "base_uri": "https://localhost:8080/",
     "height": 175
    },
    "id": "QDTlGEAfm1pM",
    "outputId": "68038447-6ad9-46d3-c779-dbd45b120ac3"
   },
   "outputs": [
    {
     "data": {
      "text/html": [
       "\n",
       "  <div id=\"df-fca5f90d-3e5a-4838-b53a-426a4f7546d1\">\n",
       "    <div class=\"colab-df-container\">\n",
       "      <div>\n",
       "<style scoped>\n",
       "    .dataframe tbody tr th:only-of-type {\n",
       "        vertical-align: middle;\n",
       "    }\n",
       "\n",
       "    .dataframe tbody tr th {\n",
       "        vertical-align: top;\n",
       "    }\n",
       "\n",
       "    .dataframe thead th {\n",
       "        text-align: right;\n",
       "    }\n",
       "</style>\n",
       "<table border=\"1\" class=\"dataframe\">\n",
       "  <thead>\n",
       "    <tr style=\"text-align: right;\">\n",
       "      <th></th>\n",
       "      <th>Coefs</th>\n",
       "      <th>Names</th>\n",
       "    </tr>\n",
       "  </thead>\n",
       "  <tbody>\n",
       "    <tr>\n",
       "      <th>3</th>\n",
       "      <td>-0.187965</td>\n",
       "      <td>ever_married</td>\n",
       "    </tr>\n",
       "    <tr>\n",
       "      <th>4</th>\n",
       "      <td>-0.019790</td>\n",
       "      <td>Residence_type</td>\n",
       "    </tr>\n",
       "    <tr>\n",
       "      <th>9</th>\n",
       "      <td>-0.059925</td>\n",
       "      <td>reg_to_vote</td>\n",
       "    </tr>\n",
       "    <tr>\n",
       "      <th>10</th>\n",
       "      <td>0.015419</td>\n",
       "      <td>dog_owner</td>\n",
       "    </tr>\n",
       "  </tbody>\n",
       "</table>\n",
       "</div>\n",
       "      <button class=\"colab-df-convert\" onclick=\"convertToInteractive('df-fca5f90d-3e5a-4838-b53a-426a4f7546d1')\"\n",
       "              title=\"Convert this dataframe to an interactive table.\"\n",
       "              style=\"display:none;\">\n",
       "        \n",
       "  <svg xmlns=\"http://www.w3.org/2000/svg\" height=\"24px\"viewBox=\"0 0 24 24\"\n",
       "       width=\"24px\">\n",
       "    <path d=\"M0 0h24v24H0V0z\" fill=\"none\"/>\n",
       "    <path d=\"M18.56 5.44l.94 2.06.94-2.06 2.06-.94-2.06-.94-.94-2.06-.94 2.06-2.06.94zm-11 1L8.5 8.5l.94-2.06 2.06-.94-2.06-.94L8.5 2.5l-.94 2.06-2.06.94zm10 10l.94 2.06.94-2.06 2.06-.94-2.06-.94-.94-2.06-.94 2.06-2.06.94z\"/><path d=\"M17.41 7.96l-1.37-1.37c-.4-.4-.92-.59-1.43-.59-.52 0-1.04.2-1.43.59L10.3 9.45l-7.72 7.72c-.78.78-.78 2.05 0 2.83L4 21.41c.39.39.9.59 1.41.59.51 0 1.02-.2 1.41-.59l7.78-7.78 2.81-2.81c.8-.78.8-2.07 0-2.86zM5.41 20L4 18.59l7.72-7.72 1.47 1.35L5.41 20z\"/>\n",
       "  </svg>\n",
       "      </button>\n",
       "      \n",
       "  <style>\n",
       "    .colab-df-container {\n",
       "      display:flex;\n",
       "      flex-wrap:wrap;\n",
       "      gap: 12px;\n",
       "    }\n",
       "\n",
       "    .colab-df-convert {\n",
       "      background-color: #E8F0FE;\n",
       "      border: none;\n",
       "      border-radius: 50%;\n",
       "      cursor: pointer;\n",
       "      display: none;\n",
       "      fill: #1967D2;\n",
       "      height: 32px;\n",
       "      padding: 0 0 0 0;\n",
       "      width: 32px;\n",
       "    }\n",
       "\n",
       "    .colab-df-convert:hover {\n",
       "      background-color: #E2EBFA;\n",
       "      box-shadow: 0px 1px 2px rgba(60, 64, 67, 0.3), 0px 1px 3px 1px rgba(60, 64, 67, 0.15);\n",
       "      fill: #174EA6;\n",
       "    }\n",
       "\n",
       "    [theme=dark] .colab-df-convert {\n",
       "      background-color: #3B4455;\n",
       "      fill: #D2E3FC;\n",
       "    }\n",
       "\n",
       "    [theme=dark] .colab-df-convert:hover {\n",
       "      background-color: #434B5C;\n",
       "      box-shadow: 0px 1px 3px 1px rgba(0, 0, 0, 0.15);\n",
       "      filter: drop-shadow(0px 1px 2px rgba(0, 0, 0, 0.3));\n",
       "      fill: #FFFFFF;\n",
       "    }\n",
       "  </style>\n",
       "\n",
       "      <script>\n",
       "        const buttonEl =\n",
       "          document.querySelector('#df-fca5f90d-3e5a-4838-b53a-426a4f7546d1 button.colab-df-convert');\n",
       "        buttonEl.style.display =\n",
       "          google.colab.kernel.accessAllowed ? 'block' : 'none';\n",
       "\n",
       "        async function convertToInteractive(key) {\n",
       "          const element = document.querySelector('#df-fca5f90d-3e5a-4838-b53a-426a4f7546d1');\n",
       "          const dataTable =\n",
       "            await google.colab.kernel.invokeFunction('convertToInteractive',\n",
       "                                                     [key], {});\n",
       "          if (!dataTable) return;\n",
       "\n",
       "          const docLinkHtml = 'Like what you see? Visit the ' +\n",
       "            '<a target=\"_blank\" href=https://colab.research.google.com/notebooks/data_table.ipynb>data table notebook</a>'\n",
       "            + ' to learn more about interactive tables.';\n",
       "          element.innerHTML = '';\n",
       "          dataTable['output_type'] = 'display_data';\n",
       "          await google.colab.output.renderOutput(dataTable, element);\n",
       "          const docLink = document.createElement('div');\n",
       "          docLink.innerHTML = docLinkHtml;\n",
       "          element.appendChild(docLink);\n",
       "        }\n",
       "      </script>\n",
       "    </div>\n",
       "  </div>\n",
       "  "
      ],
      "text/plain": [
       "       Coefs           Names\n",
       "3  -0.187965    ever_married\n",
       "4  -0.019790  Residence_type\n",
       "9  -0.059925     reg_to_vote\n",
       "10  0.015419       dog_owner"
      ]
     },
     "execution_count": 62,
     "metadata": {},
     "output_type": "execute_result"
    }
   ],
   "source": [
    "variables = (coef[\"Names\"] == \"dog_owner\") | (coef[\"Names\"] == \"Residence_type\") | (coef[\"Names\"] == \"ever_married\") | (coef[\"Names\"] == \"reg_to_vote\")\n",
    "\n",
    "coef2 = coef.loc[variables]\n",
    "coef2"
   ]
  },
  {
   "cell_type": "code",
   "execution_count": 63,
   "metadata": {
    "colab": {
     "base_uri": "https://localhost:8080/",
     "height": 504
    },
    "id": "RIk9A9q0EbGX",
    "outputId": "9153bb76-48df-499c-e7d0-4e7017383a02"
   },
   "outputs": [
    {
     "data": {
      "image/png": "[encoded data removed]",
      "text/plain": [
       "<Figure size 640x480 with 1 Axes>"
      ]
     },
     "metadata": {
      "needs_background": "light"
     },
     "output_type": "display_data"
    },
    {
     "data": {
      "text/plain": [
       "<ggplot: (8772422602789)>"
      ]
     },
     "execution_count": 63,
     "metadata": {},
     "output_type": "execute_result"
    }
   ],
   "source": [
    "# ggplot\n",
    "(ggplot(coef2, aes(x = \"Names\", y = \"Coefs\", fill = \"Names\"))  \n",
    "+ theme_minimal() + geom_bar(stat = \"identity\") + ggtitle(\"Coefficients\"))"
   ]
  },
  {
   "cell_type": "markdown",
   "metadata": {
    "id": "PPUJcViyGGMW"
   },
   "source": [
    "Between variables, marraige had the strongest predictor of having a stroke which had the greatest coefficient compared to other variables. As ever_married unit increases by 1, the coefficient decreases by 0.188 which is the greatest among the variables. "
   ]
  },
  {
   "cell_type": "markdown",
   "metadata": {
    "id": "sjSwGnKwm2Nz"
   },
   "source": [
    "# 5."
   ]
  },
  {
   "cell_type": "code",
   "execution_count": 64,
   "metadata": {
    "colab": {
     "base_uri": "https://localhost:8080/",
     "height": 487
    },
    "id": "srVZxuhMm3Op",
    "outputId": "b88fdf5a-ca71-4560-f86a-27bdff782764"
   },
   "outputs": [
    {
     "data": {
      "text/html": [
       "\n",
       "  <div id=\"df-e8c78ce6-547f-4b8f-9dfa-dd32c339bd6c\">\n",
       "    <div class=\"colab-df-container\">\n",
       "      <div>\n",
       "<style scoped>\n",
       "    .dataframe tbody tr th:only-of-type {\n",
       "        vertical-align: middle;\n",
       "    }\n",
       "\n",
       "    .dataframe tbody tr th {\n",
       "        vertical-align: top;\n",
       "    }\n",
       "\n",
       "    .dataframe thead th {\n",
       "        text-align: right;\n",
       "    }\n",
       "</style>\n",
       "<table border=\"1\" class=\"dataframe\">\n",
       "  <thead>\n",
       "    <tr style=\"text-align: right;\">\n",
       "      <th></th>\n",
       "      <th>age</th>\n",
       "      <th>hypertension</th>\n",
       "      <th>heart_disease</th>\n",
       "      <th>ever_married</th>\n",
       "      <th>Residence_type</th>\n",
       "      <th>avg_glucose_level</th>\n",
       "      <th>bmi</th>\n",
       "      <th>stroke</th>\n",
       "      <th>smoking_status_smokes</th>\n",
       "      <th>smoking_status_formerly</th>\n",
       "      <th>reg_to_vote</th>\n",
       "      <th>dog_owner</th>\n",
       "      <th>raccoons_to_fight</th>\n",
       "      <th>fast_food_budget_month</th>\n",
       "      <th>income_in_k</th>\n",
       "      <th>er_visits</th>\n",
       "      <th>er_visits_per_year</th>\n",
       "    </tr>\n",
       "  </thead>\n",
       "  <tbody>\n",
       "    <tr>\n",
       "      <th>0</th>\n",
       "      <td>60.0</td>\n",
       "      <td>1.0</td>\n",
       "      <td>0.0</td>\n",
       "      <td>0.0</td>\n",
       "      <td>1.0</td>\n",
       "      <td>73.00</td>\n",
       "      <td>25.2</td>\n",
       "      <td>0</td>\n",
       "      <td>1</td>\n",
       "      <td>0</td>\n",
       "      <td>1.0</td>\n",
       "      <td>1.0</td>\n",
       "      <td>10.0</td>\n",
       "      <td>209.19</td>\n",
       "      <td>51.553645</td>\n",
       "      <td>9.0</td>\n",
       "      <td>0.150000</td>\n",
       "    </tr>\n",
       "    <tr>\n",
       "      <th>1</th>\n",
       "      <td>4.0</td>\n",
       "      <td>0.0</td>\n",
       "      <td>0.0</td>\n",
       "      <td>0.0</td>\n",
       "      <td>0.0</td>\n",
       "      <td>110.15</td>\n",
       "      <td>17.1</td>\n",
       "      <td>0</td>\n",
       "      <td>0</td>\n",
       "      <td>0</td>\n",
       "      <td>0.0</td>\n",
       "      <td>1.0</td>\n",
       "      <td>13.0</td>\n",
       "      <td>176.46</td>\n",
       "      <td>45.405414</td>\n",
       "      <td>5.0</td>\n",
       "      <td>1.250000</td>\n",
       "    </tr>\n",
       "    <tr>\n",
       "      <th>2</th>\n",
       "      <td>77.0</td>\n",
       "      <td>0.0</td>\n",
       "      <td>0.0</td>\n",
       "      <td>1.0</td>\n",
       "      <td>1.0</td>\n",
       "      <td>68.38</td>\n",
       "      <td>27.8</td>\n",
       "      <td>0</td>\n",
       "      <td>0</td>\n",
       "      <td>0</td>\n",
       "      <td>0.0</td>\n",
       "      <td>1.0</td>\n",
       "      <td>6.0</td>\n",
       "      <td>213.00</td>\n",
       "      <td>94.865174</td>\n",
       "      <td>8.0</td>\n",
       "      <td>0.103896</td>\n",
       "    </tr>\n",
       "    <tr>\n",
       "      <th>3</th>\n",
       "      <td>37.0</td>\n",
       "      <td>0.0</td>\n",
       "      <td>0.0</td>\n",
       "      <td>1.0</td>\n",
       "      <td>1.0</td>\n",
       "      <td>95.08</td>\n",
       "      <td>30.1</td>\n",
       "      <td>0</td>\n",
       "      <td>0</td>\n",
       "      <td>0</td>\n",
       "      <td>1.0</td>\n",
       "      <td>1.0</td>\n",
       "      <td>12.0</td>\n",
       "      <td>161.90</td>\n",
       "      <td>84.123775</td>\n",
       "      <td>8.0</td>\n",
       "      <td>0.216216</td>\n",
       "    </tr>\n",
       "    <tr>\n",
       "      <th>4</th>\n",
       "      <td>44.0</td>\n",
       "      <td>0.0</td>\n",
       "      <td>0.0</td>\n",
       "      <td>0.0</td>\n",
       "      <td>0.0</td>\n",
       "      <td>103.78</td>\n",
       "      <td>40.9</td>\n",
       "      <td>0</td>\n",
       "      <td>1</td>\n",
       "      <td>0</td>\n",
       "      <td>1.0</td>\n",
       "      <td>1.0</td>\n",
       "      <td>11.0</td>\n",
       "      <td>261.29</td>\n",
       "      <td>74.794596</td>\n",
       "      <td>11.0</td>\n",
       "      <td>0.250000</td>\n",
       "    </tr>\n",
       "    <tr>\n",
       "      <th>...</th>\n",
       "      <td>...</td>\n",
       "      <td>...</td>\n",
       "      <td>...</td>\n",
       "      <td>...</td>\n",
       "      <td>...</td>\n",
       "      <td>...</td>\n",
       "      <td>...</td>\n",
       "      <td>...</td>\n",
       "      <td>...</td>\n",
       "      <td>...</td>\n",
       "      <td>...</td>\n",
       "      <td>...</td>\n",
       "      <td>...</td>\n",
       "      <td>...</td>\n",
       "      <td>...</td>\n",
       "      <td>...</td>\n",
       "      <td>...</td>\n",
       "    </tr>\n",
       "    <tr>\n",
       "      <th>14995</th>\n",
       "      <td>52.0</td>\n",
       "      <td>1.0</td>\n",
       "      <td>0.0</td>\n",
       "      <td>0.0</td>\n",
       "      <td>1.0</td>\n",
       "      <td>106.22</td>\n",
       "      <td>29.0</td>\n",
       "      <td>0</td>\n",
       "      <td>0</td>\n",
       "      <td>0</td>\n",
       "      <td>0.0</td>\n",
       "      <td>0.0</td>\n",
       "      <td>1.0</td>\n",
       "      <td>179.77</td>\n",
       "      <td>74.826197</td>\n",
       "      <td>9.0</td>\n",
       "      <td>0.173077</td>\n",
       "    </tr>\n",
       "    <tr>\n",
       "      <th>14996</th>\n",
       "      <td>56.0</td>\n",
       "      <td>0.0</td>\n",
       "      <td>0.0</td>\n",
       "      <td>1.0</td>\n",
       "      <td>1.0</td>\n",
       "      <td>63.18</td>\n",
       "      <td>26.5</td>\n",
       "      <td>0</td>\n",
       "      <td>0</td>\n",
       "      <td>0</td>\n",
       "      <td>1.0</td>\n",
       "      <td>0.0</td>\n",
       "      <td>15.0</td>\n",
       "      <td>143.61</td>\n",
       "      <td>52.280949</td>\n",
       "      <td>16.0</td>\n",
       "      <td>0.285714</td>\n",
       "    </tr>\n",
       "    <tr>\n",
       "      <th>14997</th>\n",
       "      <td>60.0</td>\n",
       "      <td>1.0</td>\n",
       "      <td>0.0</td>\n",
       "      <td>1.0</td>\n",
       "      <td>0.0</td>\n",
       "      <td>100.20</td>\n",
       "      <td>28.6</td>\n",
       "      <td>0</td>\n",
       "      <td>0</td>\n",
       "      <td>0</td>\n",
       "      <td>0.0</td>\n",
       "      <td>1.0</td>\n",
       "      <td>17.0</td>\n",
       "      <td>64.87</td>\n",
       "      <td>92.427118</td>\n",
       "      <td>24.0</td>\n",
       "      <td>0.400000</td>\n",
       "    </tr>\n",
       "    <tr>\n",
       "      <th>14998</th>\n",
       "      <td>77.0</td>\n",
       "      <td>0.0</td>\n",
       "      <td>0.0</td>\n",
       "      <td>1.0</td>\n",
       "      <td>0.0</td>\n",
       "      <td>90.00</td>\n",
       "      <td>32.0</td>\n",
       "      <td>0</td>\n",
       "      <td>0</td>\n",
       "      <td>0</td>\n",
       "      <td>0.0</td>\n",
       "      <td>0.0</td>\n",
       "      <td>11.0</td>\n",
       "      <td>205.92</td>\n",
       "      <td>53.042139</td>\n",
       "      <td>6.0</td>\n",
       "      <td>0.077922</td>\n",
       "    </tr>\n",
       "    <tr>\n",
       "      <th>14999</th>\n",
       "      <td>44.0</td>\n",
       "      <td>0.0</td>\n",
       "      <td>0.0</td>\n",
       "      <td>1.0</td>\n",
       "      <td>0.0</td>\n",
       "      <td>74.91</td>\n",
       "      <td>26.9</td>\n",
       "      <td>0</td>\n",
       "      <td>0</td>\n",
       "      <td>0</td>\n",
       "      <td>0.0</td>\n",
       "      <td>0.0</td>\n",
       "      <td>8.0</td>\n",
       "      <td>184.14</td>\n",
       "      <td>70.317707</td>\n",
       "      <td>4.0</td>\n",
       "      <td>0.090909</td>\n",
       "    </tr>\n",
       "  </tbody>\n",
       "</table>\n",
       "<p>14222 rows × 17 columns</p>\n",
       "</div>\n",
       "      <button class=\"colab-df-convert\" onclick=\"convertToInteractive('df-e8c78ce6-547f-4b8f-9dfa-dd32c339bd6c')\"\n",
       "              title=\"Convert this dataframe to an interactive table.\"\n",
       "              style=\"display:none;\">\n",
       "        \n",
       "  <svg xmlns=\"http://www.w3.org/2000/svg\" height=\"24px\"viewBox=\"0 0 24 24\"\n",
       "       width=\"24px\">\n",
       "    <path d=\"M0 0h24v24H0V0z\" fill=\"none\"/>\n",
       "    <path d=\"M18.56 5.44l.94 2.06.94-2.06 2.06-.94-2.06-.94-.94-2.06-.94 2.06-2.06.94zm-11 1L8.5 8.5l.94-2.06 2.06-.94-2.06-.94L8.5 2.5l-.94 2.06-2.06.94zm10 10l.94 2.06.94-2.06 2.06-.94-2.06-.94-.94-2.06-.94 2.06-2.06.94z\"/><path d=\"M17.41 7.96l-1.37-1.37c-.4-.4-.92-.59-1.43-.59-.52 0-1.04.2-1.43.59L10.3 9.45l-7.72 7.72c-.78.78-.78 2.05 0 2.83L4 21.41c.39.39.9.59 1.41.59.51 0 1.02-.2 1.41-.59l7.78-7.78 2.81-2.81c.8-.78.8-2.07 0-2.86zM5.41 20L4 18.59l7.72-7.72 1.47 1.35L5.41 20z\"/>\n",
       "  </svg>\n",
       "      </button>\n",
       "      \n",
       "  <style>\n",
       "    .colab-df-container {\n",
       "      display:flex;\n",
       "      flex-wrap:wrap;\n",
       "      gap: 12px;\n",
       "    }\n",
       "\n",
       "    .colab-df-convert {\n",
       "      background-color: #E8F0FE;\n",
       "      border: none;\n",
       "      border-radius: 50%;\n",
       "      cursor: pointer;\n",
       "      display: none;\n",
       "      fill: #1967D2;\n",
       "      height: 32px;\n",
       "      padding: 0 0 0 0;\n",
       "      width: 32px;\n",
       "    }\n",
       "\n",
       "    .colab-df-convert:hover {\n",
       "      background-color: #E2EBFA;\n",
       "      box-shadow: 0px 1px 2px rgba(60, 64, 67, 0.3), 0px 1px 3px 1px rgba(60, 64, 67, 0.15);\n",
       "      fill: #174EA6;\n",
       "    }\n",
       "\n",
       "    [theme=dark] .colab-df-convert {\n",
       "      background-color: #3B4455;\n",
       "      fill: #D2E3FC;\n",
       "    }\n",
       "\n",
       "    [theme=dark] .colab-df-convert:hover {\n",
       "      background-color: #434B5C;\n",
       "      box-shadow: 0px 1px 3px 1px rgba(0, 0, 0, 0.15);\n",
       "      filter: drop-shadow(0px 1px 2px rgba(0, 0, 0, 0.3));\n",
       "      fill: #FFFFFF;\n",
       "    }\n",
       "  </style>\n",
       "\n",
       "      <script>\n",
       "        const buttonEl =\n",
       "          document.querySelector('#df-e8c78ce6-547f-4b8f-9dfa-dd32c339bd6c button.colab-df-convert');\n",
       "        buttonEl.style.display =\n",
       "          google.colab.kernel.accessAllowed ? 'block' : 'none';\n",
       "\n",
       "        async function convertToInteractive(key) {\n",
       "          const element = document.querySelector('#df-e8c78ce6-547f-4b8f-9dfa-dd32c339bd6c');\n",
       "          const dataTable =\n",
       "            await google.colab.kernel.invokeFunction('convertToInteractive',\n",
       "                                                     [key], {});\n",
       "          if (!dataTable) return;\n",
       "\n",
       "          const docLinkHtml = 'Like what you see? Visit the ' +\n",
       "            '<a target=\"_blank\" href=https://colab.research.google.com/notebooks/data_table.ipynb>data table notebook</a>'\n",
       "            + ' to learn more about interactive tables.';\n",
       "          element.innerHTML = '';\n",
       "          dataTable['output_type'] = 'display_data';\n",
       "          await google.colab.output.renderOutput(dataTable, element);\n",
       "          const docLink = document.createElement('div');\n",
       "          docLink.innerHTML = docLinkHtml;\n",
       "          element.appendChild(docLink);\n",
       "        }\n",
       "      </script>\n",
       "    </div>\n",
       "  </div>\n",
       "  "
      ],
      "text/plain": [
       "        age  hypertension  heart_disease  ever_married  Residence_type  \\\n",
       "0      60.0           1.0            0.0           0.0             1.0   \n",
       "1       4.0           0.0            0.0           0.0             0.0   \n",
       "2      77.0           0.0            0.0           1.0             1.0   \n",
       "3      37.0           0.0            0.0           1.0             1.0   \n",
       "4      44.0           0.0            0.0           0.0             0.0   \n",
       "...     ...           ...            ...           ...             ...   \n",
       "14995  52.0           1.0            0.0           0.0             1.0   \n",
       "14996  56.0           0.0            0.0           1.0             1.0   \n",
       "14997  60.0           1.0            0.0           1.0             0.0   \n",
       "14998  77.0           0.0            0.0           1.0             0.0   \n",
       "14999  44.0           0.0            0.0           1.0             0.0   \n",
       "\n",
       "       avg_glucose_level   bmi  stroke  smoking_status_smokes  \\\n",
       "0                  73.00  25.2       0                      1   \n",
       "1                 110.15  17.1       0                      0   \n",
       "2                  68.38  27.8       0                      0   \n",
       "3                  95.08  30.1       0                      0   \n",
       "4                 103.78  40.9       0                      1   \n",
       "...                  ...   ...     ...                    ...   \n",
       "14995             106.22  29.0       0                      0   \n",
       "14996              63.18  26.5       0                      0   \n",
       "14997             100.20  28.6       0                      0   \n",
       "14998              90.00  32.0       0                      0   \n",
       "14999              74.91  26.9       0                      0   \n",
       "\n",
       "       smoking_status_formerly  reg_to_vote  dog_owner  raccoons_to_fight  \\\n",
       "0                            0          1.0        1.0               10.0   \n",
       "1                            0          0.0        1.0               13.0   \n",
       "2                            0          0.0        1.0                6.0   \n",
       "3                            0          1.0        1.0               12.0   \n",
       "4                            0          1.0        1.0               11.0   \n",
       "...                        ...          ...        ...                ...   \n",
       "14995                        0          0.0        0.0                1.0   \n",
       "14996                        0          1.0        0.0               15.0   \n",
       "14997                        0          0.0        1.0               17.0   \n",
       "14998                        0          0.0        0.0               11.0   \n",
       "14999                        0          0.0        0.0                8.0   \n",
       "\n",
       "       fast_food_budget_month  income_in_k  er_visits  er_visits_per_year  \n",
       "0                      209.19    51.553645        9.0            0.150000  \n",
       "1                      176.46    45.405414        5.0            1.250000  \n",
       "2                      213.00    94.865174        8.0            0.103896  \n",
       "3                      161.90    84.123775        8.0            0.216216  \n",
       "4                      261.29    74.794596       11.0            0.250000  \n",
       "...                       ...          ...        ...                 ...  \n",
       "14995                  179.77    74.826197        9.0            0.173077  \n",
       "14996                  143.61    52.280949       16.0            0.285714  \n",
       "14997                   64.87    92.427118       24.0            0.400000  \n",
       "14998                  205.92    53.042139        6.0            0.077922  \n",
       "14999                  184.14    70.317707        4.0            0.090909  \n",
       "\n",
       "[14222 rows x 17 columns]"
      ]
     },
     "execution_count": 64,
     "metadata": {},
     "output_type": "execute_result"
    }
   ],
   "source": [
    "DF[\"er_visits_per_year\"] = DF[\"er_visits\"]/DF[\"age\"]\n",
    "DF"
   ]
  },
  {
   "cell_type": "code",
   "execution_count": 65,
   "metadata": {
    "colab": {
     "base_uri": "https://localhost:8080/",
     "height": 486
    },
    "id": "mvUEvPo5GOIR",
    "outputId": "9c1b34c4-0a38-44ea-fdec-cd85e97a9b7e"
   },
   "outputs": [
    {
     "data": {
      "image/png": "[encoded data removed]",
      "text/plain": [
       "<Figure size 640x480 with 2 Axes>"
      ]
     },
     "metadata": {},
     "output_type": "display_data"
    },
    {
     "data": {
      "text/plain": [
       "<ggplot: (8772422727833)>"
      ]
     },
     "execution_count": 65,
     "metadata": {},
     "output_type": "execute_result"
    }
   ],
   "source": [
    "# ggplot\n",
    "(ggplot(DF, aes(x = \"er_visits_per_year\")) + geom_histogram() \n",
    "+ facet_wrap(\"~stroke\") + xlim(0,10))"
   ]
  },
  {
   "cell_type": "markdown",
   "metadata": {
    "id": "PStk2R66IMtZ"
   },
   "source": [
    "The number of visits to the ER was higher for non-stroke patients than the stroke patients. Non-stroke patients had the greater number of ER visits per year compared to stroke patients' number of ER visits per year. "
   ]
  }
 ],
 "metadata": {
  "colab": {
   "collapsed_sections": [],
   "name": "Jane Kim - Project1_SP22.ipynb",
   "provenance": []
  },
  "hide_input": false,
  "kernelspec": {
   "display_name": "Python 3 (ipykernel)",
   "language": "python",
   "name": "python3"
  },
  "language_info": {
   "codemirror_mode": {
    "name": "ipython",
    "version": 3
   },
   "file_extension": ".py",
   "mimetype": "text/x-python",
   "name": "python",
   "nbconvert_exporter": "python",
   "pygments_lexer": "ipython3",
   "version": "3.9.6"
  },
  "toc": {
   "base_numbering": 1,
   "nav_menu": {},
   "number_sections": true,
   "sideBar": true,
   "skip_h1_title": false,
   "title_cell": "Table of Contents",
   "title_sidebar": "Contents",
   "toc_cell": false,
   "toc_position": {},
   "toc_section_display": true,
   "toc_window_display": false
  }
 },
 "nbformat": 4,
 "nbformat_minor": 1
}

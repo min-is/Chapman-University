{
 "cells": [
  {
   "cell_type": "markdown",
   "metadata": {
    "id": "J_8O1DK0pNtJ"
   },
   "source": [
    "# Project 1\n",
    "\n",
    "[This dataset](https://raw.githubusercontent.com/cmparlettpelleriti/CPSC392ParlettPelleriti/master/Data/Proj1.csv) is adapted from the World Health Organization on Strokes (it's based on real data but is NOT REAL). Use this dataset to answer the following questions and perform the following tasks. Feel free to add extra cells as needed, but <strong>clearly identify where each question is answered, both the code and Markdown cells</strong>. Please remove any superflous code. Please put any written/typed responses in MARKDOWN CELLS.\n",
    "\n",
    "## Data Information\n",
    "\n",
    "- `reg_to_vote`: 0 if no, 1 if yes.\n",
    "- `age`: age of the patient in years.\n",
    "- `hypertension`: 0 if the patient doesn't have hypertension, 1 if the patient has hypertension.\n",
    "- `heart_disease`: 0 if the patient doesn't have any heart diseases, 1 if the patient has a heart disease.\n",
    "- `ever_married`: 0 if no, 1 if yes.\n",
    "- `Residence_type`: 0 for Rural, 1 for Urban.\n",
    "- `avg_glucose_level`: average glucose level in blood.\n",
    "- `bmi`: body mass index.\n",
    "- `smoking_status_smokes`, `smoking_status_formerly`: Whether or not the person smokes, or formerly smoked. If a person has 0's for both these columns, they never smoked.\n",
    "- `stroke`: 1 if the patient had a stroke or 0 if not.\n",
    "- `dog_owner`: 0 if no, 1 if yes.\n",
    "- `income_in_k`: income in thousands\n",
    "- `er_visits`: number of recorded Emergency Room visits in lifetime.\n",
    "- `raccoons_to_fight`: number of racoons the patient belives they could fight off at once.\n",
    "- `fast_food_budget_month`: amount (in US dollars) spent on fast food per month.\n",
    "\n",
    "\n",
    "## Part I: Logistic Regression\n",
    "Build a logistic regression model to predict whether or not someone had a `stroke` based on **all** the other variables in the dataset.\n",
    "\n",
    "1. Count the missing data per column, and remove rows with missing data (if any).\n",
    "2. Use 10 fold cross validation for your model validation. Z-score your continuous/interval variables only. Store both the train and test accuracies to check for overfitting. **Is the model overfit? How can you tell?**\n",
    "3. After completing steps 1-2, fit another logistic regression model on ALL of the data (no model validation; but do z score) using the same predictors as before, and put the coefficients into a dataframe called `coef`.\n",
    "4. print out a confusion matrix for the model you made in part 3. **What does this confusion matrix tell you about your model? How can you tell?**\n",
    "\n",
    "## Part II: Data Exploration\n",
    "The WHO has asked the following five questions, create **at least 1 ggplot graph per question** (using the above data + model when needed) to help answer each question, and **explicitly answer the question in a Markdown cell** below your graph. You may use other calculations to help support your answer but MUST pair it with a graph. Write your answer as if you were explaining it to a non-data scientist. You will be graded on the effectiveness and clarity of your graph, as well as the completeness, clarity, and correctness of your responses and justifications.\n",
    "\n",
    "1. In this specific data set, do dog-owners over 50 have a higher average probability of stoke than non-dog owners who currently smoke? How can you tell? (Do not use the model for this question, it's asking you to compare the observed probability of having a stroke in the two groups described).\n",
    "2. What is the relationship between average blood glucose and BMI? Is the relationship between those two variables different for people who are and are not registered to vote? How can you tell?\n",
    "3. Is your logistic regression model most accurate for people who make less than 30k, between 30-90k, or over 90k? Discuss the potential accuracy *and* ethical implications if your model *were* more accurate for different groups (you can use the full model from part I-3 to check accuracy for each of these groups; DO NOT create/fit new models for each income range, use the model from part I-3 to calculate the accuracy for each of these groups.)\n",
    "4. Which of the following variables is the strongest predictor of having a stroke (owning a dog, residence type, marriage, being registered to vote)? How were you able to tell?\n",
    "5. Create a variable `er_visits_per_year` that calculates the # of visits to the ER that a person has had per year of life. Store this variable in your data frame (no need to include this variable in the previous logistic regression model). Is the # of ER visits per year different for stroke and non-stroke patients? How can you tell?"
   ]
  },
  {
   "cell_type": "code",
   "execution_count": 1,
   "metadata": {
    "id": "_nvT5rmXpNtS"
   },
   "outputs": [],
   "source": [
    "import warnings\n",
    "warnings.filterwarnings('ignore')\n",
    "\n",
    "\n",
    "import pandas as pd\n",
    "import numpy as np\n",
    "from plotnine import *\n",
    "\n",
    "from sklearn.linear_model import LogisticRegression # Logistic Regression Model\n",
    "from sklearn.preprocessing import StandardScaler #Z-score variables\n",
    "from sklearn.metrics import accuracy_score, confusion_matrix, plot_confusion_matrix\n",
    "\n",
    "import matplotlib.pyplot as plt\n",
    "\n",
    "from sklearn.model_selection import train_test_split # simple TT split cv\n",
    "from sklearn.model_selection import KFold # k-fold cv\n",
    "from sklearn.model_selection import LeaveOneOut #LOO cv\n",
    "from sklearn.model_selection import cross_val_score # cross validation metrics\n",
    "from sklearn.model_selection import cross_val_predict # cross validation metrics"
   ]
  },
  {
   "cell_type": "code",
   "execution_count": 2,
   "metadata": {
    "colab": {
     "base_uri": "https://localhost:8080/",
     "height": 270
    },
    "id": "IkBvnWKppguX",
    "outputId": "724d6fe2-49b1-4b55-8eb9-eec73f038109"
   },
   "outputs": [
    {
     "data": {
      "text/html": [
       "<div>\n",
       "<style scoped>\n",
       "    .dataframe tbody tr th:only-of-type {\n",
       "        vertical-align: middle;\n",
       "    }\n",
       "\n",
       "    .dataframe tbody tr th {\n",
       "        vertical-align: top;\n",
       "    }\n",
       "\n",
       "    .dataframe thead th {\n",
       "        text-align: right;\n",
       "    }\n",
       "</style>\n",
       "<table border=\"1\" class=\"dataframe\">\n",
       "  <thead>\n",
       "    <tr style=\"text-align: right;\">\n",
       "      <th></th>\n",
       "      <th>age</th>\n",
       "      <th>hypertension</th>\n",
       "      <th>heart_disease</th>\n",
       "      <th>ever_married</th>\n",
       "      <th>Residence_type</th>\n",
       "      <th>avg_glucose_level</th>\n",
       "      <th>bmi</th>\n",
       "      <th>stroke</th>\n",
       "      <th>smoking_status_smokes</th>\n",
       "      <th>smoking_status_formerly</th>\n",
       "      <th>reg_to_vote</th>\n",
       "      <th>dog_owner</th>\n",
       "      <th>raccoons_to_fight</th>\n",
       "      <th>fast_food_budget_month</th>\n",
       "      <th>income_in_k</th>\n",
       "      <th>er_visits</th>\n",
       "    </tr>\n",
       "  </thead>\n",
       "  <tbody>\n",
       "    <tr>\n",
       "      <th>0</th>\n",
       "      <td>60.0</td>\n",
       "      <td>1.0</td>\n",
       "      <td>0.0</td>\n",
       "      <td>0.0</td>\n",
       "      <td>1.0</td>\n",
       "      <td>73.00</td>\n",
       "      <td>25.2</td>\n",
       "      <td>0</td>\n",
       "      <td>1</td>\n",
       "      <td>0</td>\n",
       "      <td>1.0</td>\n",
       "      <td>1.0</td>\n",
       "      <td>10.0</td>\n",
       "      <td>209.19</td>\n",
       "      <td>51.553645</td>\n",
       "      <td>9.0</td>\n",
       "    </tr>\n",
       "    <tr>\n",
       "      <th>1</th>\n",
       "      <td>4.0</td>\n",
       "      <td>0.0</td>\n",
       "      <td>0.0</td>\n",
       "      <td>0.0</td>\n",
       "      <td>0.0</td>\n",
       "      <td>110.15</td>\n",
       "      <td>17.1</td>\n",
       "      <td>0</td>\n",
       "      <td>0</td>\n",
       "      <td>0</td>\n",
       "      <td>0.0</td>\n",
       "      <td>1.0</td>\n",
       "      <td>13.0</td>\n",
       "      <td>176.46</td>\n",
       "      <td>45.405414</td>\n",
       "      <td>5.0</td>\n",
       "    </tr>\n",
       "    <tr>\n",
       "      <th>2</th>\n",
       "      <td>77.0</td>\n",
       "      <td>0.0</td>\n",
       "      <td>0.0</td>\n",
       "      <td>1.0</td>\n",
       "      <td>1.0</td>\n",
       "      <td>68.38</td>\n",
       "      <td>27.8</td>\n",
       "      <td>0</td>\n",
       "      <td>0</td>\n",
       "      <td>0</td>\n",
       "      <td>0.0</td>\n",
       "      <td>1.0</td>\n",
       "      <td>6.0</td>\n",
       "      <td>213.00</td>\n",
       "      <td>94.865174</td>\n",
       "      <td>8.0</td>\n",
       "    </tr>\n",
       "    <tr>\n",
       "      <th>3</th>\n",
       "      <td>37.0</td>\n",
       "      <td>0.0</td>\n",
       "      <td>0.0</td>\n",
       "      <td>1.0</td>\n",
       "      <td>1.0</td>\n",
       "      <td>95.08</td>\n",
       "      <td>30.1</td>\n",
       "      <td>0</td>\n",
       "      <td>0</td>\n",
       "      <td>0</td>\n",
       "      <td>1.0</td>\n",
       "      <td>1.0</td>\n",
       "      <td>12.0</td>\n",
       "      <td>161.90</td>\n",
       "      <td>84.123775</td>\n",
       "      <td>8.0</td>\n",
       "    </tr>\n",
       "    <tr>\n",
       "      <th>4</th>\n",
       "      <td>44.0</td>\n",
       "      <td>0.0</td>\n",
       "      <td>0.0</td>\n",
       "      <td>0.0</td>\n",
       "      <td>0.0</td>\n",
       "      <td>103.78</td>\n",
       "      <td>40.9</td>\n",
       "      <td>0</td>\n",
       "      <td>1</td>\n",
       "      <td>0</td>\n",
       "      <td>1.0</td>\n",
       "      <td>1.0</td>\n",
       "      <td>11.0</td>\n",
       "      <td>261.29</td>\n",
       "      <td>74.794596</td>\n",
       "      <td>11.0</td>\n",
       "    </tr>\n",
       "  </tbody>\n",
       "</table>\n",
       "</div>"
      ],
      "text/plain": [
       "    age  hypertension  heart_disease  ever_married  Residence_type  \\\n",
       "0  60.0           1.0            0.0           0.0             1.0   \n",
       "1   4.0           0.0            0.0           0.0             0.0   \n",
       "2  77.0           0.0            0.0           1.0             1.0   \n",
       "3  37.0           0.0            0.0           1.0             1.0   \n",
       "4  44.0           0.0            0.0           0.0             0.0   \n",
       "\n",
       "   avg_glucose_level   bmi  stroke  smoking_status_smokes  \\\n",
       "0              73.00  25.2       0                      1   \n",
       "1             110.15  17.1       0                      0   \n",
       "2              68.38  27.8       0                      0   \n",
       "3              95.08  30.1       0                      0   \n",
       "4             103.78  40.9       0                      1   \n",
       "\n",
       "   smoking_status_formerly  reg_to_vote  dog_owner  raccoons_to_fight  \\\n",
       "0                        0          1.0        1.0               10.0   \n",
       "1                        0          0.0        1.0               13.0   \n",
       "2                        0          0.0        1.0                6.0   \n",
       "3                        0          1.0        1.0               12.0   \n",
       "4                        0          1.0        1.0               11.0   \n",
       "\n",
       "   fast_food_budget_month  income_in_k  er_visits  \n",
       "0                  209.19    51.553645        9.0  \n",
       "1                  176.46    45.405414        5.0  \n",
       "2                  213.00    94.865174        8.0  \n",
       "3                  161.90    84.123775        8.0  \n",
       "4                  261.29    74.794596       11.0  "
      ]
     },
     "execution_count": 2,
     "metadata": {},
     "output_type": "execute_result"
    }
   ],
   "source": [
    "# data\n",
    "DF = pd.read_csv(\"https://raw.githubusercontent.com/cmparlettpelleriti/CPSC392ParlettPelleriti/master/Data/Proj1.csv\")\n",
    "\n",
    "DF.head()"
   ]
  },
  {
   "cell_type": "markdown",
   "metadata": {
    "id": "oMKZsp-WQtbl"
   },
   "source": [
    "# Part 1: Logistic Regression"
   ]
  },
  {
   "cell_type": "markdown",
   "metadata": {
    "id": "JLx1YfNs2mvK"
   },
   "source": [
    "# 1."
   ]
  },
  {
   "cell_type": "code",
   "execution_count": 3,
   "metadata": {
    "colab": {
     "base_uri": "https://localhost:8080/"
    },
    "id": "97g9WPq5w5Vr",
    "outputId": "f11050e3-8935-4a2b-e769-376d960feb58"
   },
   "outputs": [
    {
     "data": {
      "text/plain": [
       "age                         13\n",
       "hypertension                12\n",
       "heart_disease               21\n",
       "ever_married                 9\n",
       "Residence_type              21\n",
       "avg_glucose_level           31\n",
       "bmi                        575\n",
       "stroke                       0\n",
       "smoking_status_smokes        0\n",
       "smoking_status_formerly      0\n",
       "reg_to_vote                 14\n",
       "dog_owner                   21\n",
       "raccoons_to_fight           27\n",
       "fast_food_budget_month       8\n",
       "income_in_k                 21\n",
       "er_visits                   15\n",
       "dtype: int64"
      ]
     },
     "execution_count": 3,
     "metadata": {},
     "output_type": "execute_result"
    }
   ],
   "source": [
    "# count missing data\n",
    "\n",
    "DF.isnull().sum()"
   ]
  },
  {
   "cell_type": "code",
   "execution_count": 4,
   "metadata": {
    "colab": {
     "base_uri": "https://localhost:8080/"
    },
    "id": "lcUPOwZjxIop",
    "outputId": "16c4064d-9d15-4384-fc8e-35a292a493c1"
   },
   "outputs": [
    {
     "data": {
      "text/plain": [
       "age                        0\n",
       "hypertension               0\n",
       "heart_disease              0\n",
       "ever_married               0\n",
       "Residence_type             0\n",
       "avg_glucose_level          0\n",
       "bmi                        0\n",
       "stroke                     0\n",
       "smoking_status_smokes      0\n",
       "smoking_status_formerly    0\n",
       "reg_to_vote                0\n",
       "dog_owner                  0\n",
       "raccoons_to_fight          0\n",
       "fast_food_budget_month     0\n",
       "income_in_k                0\n",
       "er_visits                  0\n",
       "dtype: int64"
      ]
     },
     "execution_count": 4,
     "metadata": {},
     "output_type": "execute_result"
    }
   ],
   "source": [
    "# drop the missing data\n",
    "\n",
    "DF = DF.dropna()\n",
    "DF.isnull().sum()"
   ]
  },
  {
   "cell_type": "markdown",
   "metadata": {
    "id": "qdIqFX3o2uzV"
   },
   "source": [
    "# 2. "
   ]
  },
  {
   "cell_type": "code",
   "execution_count": 5,
   "metadata": {
    "id": "adVBOXA7rAtt"
   },
   "outputs": [],
   "source": [
    " # Split Data\n",
    "predictors = [\"age\", \"hypertension\", \"heart_disease\", \"ever_married\", \n",
    "              \"Residence_type\", \"avg_glucose_level\", \"bmi\", \"smoking_status_smokes\", \n",
    "              \"smoking_status_formerly\", \"reg_to_vote\", \"dog_owner\", \n",
    "              \"raccoons_to_fight\", \"fast_food_budget_month\", \"income_in_k\", \"er_visits\"]\n",
    "\n",
    "# zscore for continuous/interval variables only\n",
    "continuous_interval = [\"age\", \"avg_glucose_level\", \"bmi\", \"raccoons_to_fight\", \n",
    "                       \"fast_food_budget_month\", \"income_in_k\", \"er_visits\"]"
   ]
  },
  {
   "cell_type": "code",
   "execution_count": 6,
   "metadata": {
    "id": "Dt7A3yJFzkBz"
   },
   "outputs": [],
   "source": [
    "# Kfold\n",
    "\n",
    "X = DF[predictors]\n",
    "y = DF[\"stroke\"]\n",
    "\n",
    "# create k-fold object\n",
    "kf = KFold(n_splits = 10)\n",
    "kf.split(X)\n",
    "\n",
    "# create model\n",
    "lr = LogisticRegression() \n",
    "\n",
    "#create empty list to store accuracy for each fold\n",
    "acc_train = [] \n",
    "acc_test = []"
   ]
  },
  {
   "cell_type": "code",
   "execution_count": 7,
   "metadata": {
    "id": "fvpsS87hzlFa"
   },
   "outputs": [],
   "source": [
    "# Use a for loop to loop through each fold and train a model, \n",
    "# then add the accuracy to acc.\n",
    "\n",
    "for train_indices, test_indices in kf.split(X):\n",
    "    # Get your train/test for this fold\n",
    "    X_train = X.iloc[train_indices]\n",
    "    X_test  = X.iloc[test_indices]\n",
    "    y_train = y.iloc[train_indices]\n",
    "    y_test  = y.iloc[test_indices]\n",
    "    \n",
    "    # z\n",
    "    zscore = StandardScaler()\n",
    "    zscore.fit(X_train)\n",
    "    Xz_train = zscore.transform(X_train)\n",
    "    Xz_test = zscore.transform(X_test)\n",
    "\n",
    "    # model\n",
    "    model = lr.fit(X_train, y_train)\n",
    "    # record accuracy\n",
    "    acc_train.append(accuracy_score(y_train, model.predict(X_train)))\n",
    "    acc_test.append(accuracy_score(y_test, model.predict(X_test)))"
   ]
  },
  {
   "cell_type": "code",
   "execution_count": 8,
   "metadata": {
    "colab": {
     "base_uri": "https://localhost:8080/"
    },
    "id": "vcHgfg5q1KX_",
    "outputId": "661610fa-2406-42d9-f058-9e9d779d682f"
   },
   "outputs": [
    {
     "data": {
      "text/plain": [
       "0.9582806029767952"
      ]
     },
     "execution_count": 8,
     "metadata": {},
     "output_type": "execute_result"
    }
   ],
   "source": [
    "np.mean(acc_train)"
   ]
  },
  {
   "cell_type": "code",
   "execution_count": 9,
   "metadata": {
    "colab": {
     "base_uri": "https://localhost:8080/"
    },
    "id": "9dYVP-W41Qpg",
    "outputId": "08660bcb-7ffb-443b-f7ed-2efa69720ab2"
   },
   "outputs": [
    {
     "data": {
      "text/plain": [
       "0.9583047443397745"
      ]
     },
     "execution_count": 9,
     "metadata": {},
     "output_type": "execute_result"
    }
   ],
   "source": [
    "np.mean(acc_test)"
   ]
  },
  {
   "cell_type": "markdown",
   "metadata": {
    "id": "Mo7is7Cx1ZV1"
   },
   "source": [
    "This model is not overfitting; the train and tset set are similar. When the model has a low error rate in training data but a high error rate in testing data, we can say the model is overfitting"
   ]
  },
  {
   "cell_type": "markdown",
   "metadata": {
    "id": "K-Cn8FFN3LN6"
   },
   "source": [
    "# 3. "
   ]
  },
  {
   "cell_type": "code",
   "execution_count": 10,
   "metadata": {
    "colab": {
     "base_uri": "https://localhost:8080/"
    },
    "id": "T2Xq565mPlKX",
    "outputId": "e87051bc-0e5b-4733-a57f-136495d7b04f"
   },
   "outputs": [
    {
     "data": {
      "text/plain": [
       "LogisticRegression()"
      ]
     },
     "execution_count": 10,
     "metadata": {},
     "output_type": "execute_result"
    }
   ],
   "source": [
    "X = DF[predictors]\n",
    "y = DF[\"stroke\"]\n",
    "\n",
    "X[continuous_interval] = zscore.fit_transform(X[continuous_interval])\n",
    "\n",
    "lr = LogisticRegression() \n",
    "lr.fit(X, y)"
   ]
  },
  {
   "cell_type": "code",
   "execution_count": 11,
   "metadata": {
    "colab": {
     "base_uri": "https://localhost:8080/",
     "height": 519
    },
    "id": "0HpOkzAZ3Mbq",
    "outputId": "4df2d4d7-70ac-4ff5-9931-8e07eb593150"
   },
   "outputs": [
    {
     "data": {
      "text/html": [
       "<div>\n",
       "<style scoped>\n",
       "    .dataframe tbody tr th:only-of-type {\n",
       "        vertical-align: middle;\n",
       "    }\n",
       "\n",
       "    .dataframe tbody tr th {\n",
       "        vertical-align: top;\n",
       "    }\n",
       "\n",
       "    .dataframe thead th {\n",
       "        text-align: right;\n",
       "    }\n",
       "</style>\n",
       "<table border=\"1\" class=\"dataframe\">\n",
       "  <thead>\n",
       "    <tr style=\"text-align: right;\">\n",
       "      <th></th>\n",
       "      <th>Coefs</th>\n",
       "      <th>Names</th>\n",
       "    </tr>\n",
       "  </thead>\n",
       "  <tbody>\n",
       "    <tr>\n",
       "      <th>0</th>\n",
       "      <td>1.613121</td>\n",
       "      <td>age</td>\n",
       "    </tr>\n",
       "    <tr>\n",
       "      <th>1</th>\n",
       "      <td>0.249543</td>\n",
       "      <td>hypertension</td>\n",
       "    </tr>\n",
       "    <tr>\n",
       "      <th>2</th>\n",
       "      <td>0.423396</td>\n",
       "      <td>heart_disease</td>\n",
       "    </tr>\n",
       "    <tr>\n",
       "      <th>3</th>\n",
       "      <td>-0.187965</td>\n",
       "      <td>ever_married</td>\n",
       "    </tr>\n",
       "    <tr>\n",
       "      <th>4</th>\n",
       "      <td>-0.019790</td>\n",
       "      <td>Residence_type</td>\n",
       "    </tr>\n",
       "    <tr>\n",
       "      <th>5</th>\n",
       "      <td>0.242798</td>\n",
       "      <td>avg_glucose_level</td>\n",
       "    </tr>\n",
       "    <tr>\n",
       "      <th>6</th>\n",
       "      <td>0.111694</td>\n",
       "      <td>bmi</td>\n",
       "    </tr>\n",
       "    <tr>\n",
       "      <th>7</th>\n",
       "      <td>0.294617</td>\n",
       "      <td>smoking_status_smokes</td>\n",
       "    </tr>\n",
       "    <tr>\n",
       "      <th>8</th>\n",
       "      <td>0.145672</td>\n",
       "      <td>smoking_status_formerly</td>\n",
       "    </tr>\n",
       "    <tr>\n",
       "      <th>9</th>\n",
       "      <td>-0.059925</td>\n",
       "      <td>reg_to_vote</td>\n",
       "    </tr>\n",
       "    <tr>\n",
       "      <th>10</th>\n",
       "      <td>0.015419</td>\n",
       "      <td>dog_owner</td>\n",
       "    </tr>\n",
       "    <tr>\n",
       "      <th>11</th>\n",
       "      <td>-0.010345</td>\n",
       "      <td>raccoons_to_fight</td>\n",
       "    </tr>\n",
       "    <tr>\n",
       "      <th>12</th>\n",
       "      <td>0.708555</td>\n",
       "      <td>fast_food_budget_month</td>\n",
       "    </tr>\n",
       "    <tr>\n",
       "      <th>13</th>\n",
       "      <td>0.126058</td>\n",
       "      <td>income_in_k</td>\n",
       "    </tr>\n",
       "    <tr>\n",
       "      <th>14</th>\n",
       "      <td>0.056757</td>\n",
       "      <td>er_visits</td>\n",
       "    </tr>\n",
       "  </tbody>\n",
       "</table>\n",
       "</div>"
      ],
      "text/plain": [
       "       Coefs                    Names\n",
       "0   1.613121                      age\n",
       "1   0.249543             hypertension\n",
       "2   0.423396            heart_disease\n",
       "3  -0.187965             ever_married\n",
       "4  -0.019790           Residence_type\n",
       "5   0.242798        avg_glucose_level\n",
       "6   0.111694                      bmi\n",
       "7   0.294617    smoking_status_smokes\n",
       "8   0.145672  smoking_status_formerly\n",
       "9  -0.059925              reg_to_vote\n",
       "10  0.015419                dog_owner\n",
       "11 -0.010345        raccoons_to_fight\n",
       "12  0.708555   fast_food_budget_month\n",
       "13  0.126058              income_in_k\n",
       "14  0.056757                er_visits"
      ]
     },
     "execution_count": 11,
     "metadata": {},
     "output_type": "execute_result"
    }
   ],
   "source": [
    "coef = pd.DataFrame({\"Coefs\": lr.coef_[0],\n",
    "                     \"Names\": predictors})\n",
    "coef"
   ]
  },
  {
   "cell_type": "markdown",
   "metadata": {
    "id": "TvHF75g8Qi4D"
   },
   "source": [
    "# 4."
   ]
  },
  {
   "cell_type": "code",
   "execution_count": 12,
   "metadata": {
    "colab": {
     "base_uri": "https://localhost:8080/",
     "height": 313
    },
    "id": "b1wPkQEuP4ci",
    "outputId": "cd4a6782-a89e-41e6-92b0-ffb6ecc048b7"
   },
   "outputs": [
    {
     "data": {
      "text/plain": [
       "Text(0.5, 1.0, 'Confusion matrix of the classifier')"
      ]
     },
     "execution_count": 12,
     "metadata": {},
     "output_type": "execute_result"
    },
    {
     "data": {
      "image/png": "[encoded data removed]",
      "text/plain": [
       "<Figure size 432x288 with 2 Axes>"
      ]
     },
     "metadata": {
      "needs_background": "light"
     },
     "output_type": "display_data"
    }
   ],
   "source": [
    "plot_confusion_matrix(lr, X, y)\n",
    "plt.title('Confusion matrix of the classifier')"
   ]
  },
  {
   "cell_type": "markdown",
   "metadata": {
    "id": "I58skA2IQmEk"
   },
   "source": [
    " This confusion matrix tells the accuracy of the model between two variables. \n",
    " There are high accuracy of 13635 where the patients did not have a stroke and were predicted not to have a stroke (top left). This indicates that the prediction is strongly supported. "
   ]
  },
  {
   "cell_type": "markdown",
   "metadata": {
    "id": "R5bPkpQRQzeg"
   },
   "source": [
    "# Part 2: Data Exploration"
   ]
  },
  {
   "cell_type": "markdown",
   "metadata": {
    "id": "i6z82i5TQ6iZ"
   },
   "source": [
    "# 1. "
   ]
  },
  {
   "cell_type": "code",
   "execution_count": 13,
   "metadata": {
    "colab": {
     "base_uri": "https://localhost:8080/"
    },
    "id": "hFAY8f4-6a1L",
    "outputId": "1b62b838-467a-46d2-aa45-e6ac12e241e2"
   },
   "outputs": [
    {
     "name": "stdout",
     "output_type": "stream",
     "text": [
      "The probability of dog owners over 50 having a stroke is  0.08617290903970712\n"
     ]
    }
   ],
   "source": [
    "# Probability of dog owners over 50 having a stroke\n",
    "dog50 = (DF[\"dog_owner\"] == 1) & (DF[\"age\"] > 50)\n",
    "dog50_mean = DF.loc[dog50, \"stroke\"].mean()\n",
    "\n",
    "print(\"The probability of dog owners over 50 having a stroke is \", dog50_mean)"
   ]
  },
  {
   "cell_type": "code",
   "execution_count": 14,
   "metadata": {
    "colab": {
     "base_uri": "https://localhost:8080/"
    },
    "id": "KAOyrCOh6b12",
    "outputId": "8e827ad5-345c-4804-a8a4-e10a516aca18"
   },
   "outputs": [
    {
     "name": "stdout",
     "output_type": "stream",
     "text": [
      "The probability of non dog owners who currently smoke having a stroke is  0.0387409200968523\n"
     ]
    }
   ],
   "source": [
    "# Probability of non dog owners who currently smoke having a stroke\n",
    "nonDogSmoke = (DF[\"dog_owner\"] == 0) & (DF[\"smoking_status_smokes\"] == 1)\n",
    "nonDogSmoke_mean = DF.loc[nonDogSmoke, \"stroke\"].mean()\n",
    "\n",
    "print(\"The probability of non dog owners who currently smoke having a stroke is \", nonDogSmoke_mean)"
   ]
  },
  {
   "cell_type": "code",
   "execution_count": 15,
   "metadata": {
    "id": "1oqGp1OtaGfN"
   },
   "outputs": [],
   "source": [
    "category = [\"Dog Owners over 50\", \"Non Dog Owners who currently smoke\"]\n",
    "Prob = [dog50_mean, nonDogSmoke_mean]\n",
    "\n",
    "DF1 = pd.DataFrame({\"Name\": category, \"Probability\": Prob})"
   ]
  },
  {
   "cell_type": "code",
   "execution_count": 16,
   "metadata": {
    "colab": {
     "base_uri": "https://localhost:8080/",
     "height": 478
    },
    "id": "j7uTHfY-rlPr",
    "outputId": "7535722f-8baf-4694-ab80-22483373ac56"
   },
   "outputs": [
    {
     "data": {
      "image/png": "[encoded data removed]",
      "text/plain": [
       "<Figure size 640x480 with 1 Axes>"
      ]
     },
     "metadata": {
      "needs_background": "light"
     },
     "output_type": "display_data"
    },
    {
     "data": {
      "text/plain": [
       "<ggplot: (327838642)>"
      ]
     },
     "execution_count": 16,
     "metadata": {},
     "output_type": "execute_result"
    }
   ],
   "source": [
    "# ggplot\n",
    "(ggplot(DF1, aes(x = \"Name\", weight = \"Probability\", fill = \"Name\")) \n",
    "+ geom_bar() + theme_minimal()) "
   ]
  },
  {
   "cell_type": "markdown",
   "metadata": {
    "id": "Zj38Drqq7wD3"
   },
   "source": [
    "Dog owner over 50 has a twice greater probability of having a stroke compared to non dog owners who currently smoke. Therefore, dog owner over 50 has a higher average probability of stroke than non-dog owners who currently smoke. "
   ]
  },
  {
   "cell_type": "markdown",
   "metadata": {
    "id": "3wXTI097a1In"
   },
   "source": [
    "# 2."
   ]
  },
  {
   "cell_type": "code",
   "execution_count": 17,
   "metadata": {
    "colab": {
     "base_uri": "https://localhost:8080/",
     "height": 486
    },
    "id": "8i6wxZjpmx1-",
    "outputId": "03ef1bf5-e4da-43aa-8919-67262ed169b6"
   },
   "outputs": [
    {
     "data": {
      "image/png": "[encoded data removed]",
      "text/plain": [
       "<Figure size 640x480 with 2 Axes>"
      ]
     },
     "metadata": {},
     "output_type": "display_data"
    },
    {
     "data": {
      "text/plain": [
       "<ggplot: (327920680)>"
      ]
     },
     "execution_count": 17,
     "metadata": {},
     "output_type": "execute_result"
    }
   ],
   "source": [
    "# ggplot\n",
    "(ggplot(DF, aes(x = \"avg_glucose_level\", y = \"bmi\")) + geom_point() \n",
    "+ facet_wrap(\"~reg_to_vote\"))"
   ]
  },
  {
   "cell_type": "markdown",
   "metadata": {
    "id": "blLxshhP9bpO"
   },
   "source": [
    "The relationships between aveage blood glucose and BMI for people who are registered to vote and are not registered to vote have no significant differences. Therefore, the registration to vote does not have a significant relationship to average blood glucose and BMI. "
   ]
  },
  {
   "cell_type": "markdown",
   "metadata": {
    "id": "fL2vFi34myN3"
   },
   "source": [
    "# 3."
   ]
  },
  {
   "cell_type": "code",
   "execution_count": 18,
   "metadata": {
    "colab": {
     "base_uri": "https://localhost:8080/"
    },
    "id": "WXP6uygUm0RU",
    "outputId": "af3bcc5e-e54b-4971-8792-f130fda0e2d2"
   },
   "outputs": [
    {
     "data": {
      "text/plain": [
       "1.0"
      ]
     },
     "execution_count": 18,
     "metadata": {},
     "output_type": "execute_result"
    }
   ],
   "source": [
    "# less than 30k\n",
    "less_30k = DF[\"income_in_k\"] < 30\n",
    "df1 = DF.loc[less_30k]\n",
    "X = df1[predictors]\n",
    "y = df1[\"stroke\"]\n",
    "X[continuous_interval] = zscore.fit_transform(X[continuous_interval])\n",
    "ac1 = accuracy_score(y, lr.predict(X))\n",
    "ac1"
   ]
  },
  {
   "cell_type": "code",
   "execution_count": 19,
   "metadata": {
    "colab": {
     "base_uri": "https://localhost:8080/"
    },
    "id": "S_8JUXu8_OAH",
    "outputId": "184e2e94-b0ed-4e77-d5ba-ca37149b537f"
   },
   "outputs": [
    {
     "data": {
      "text/plain": [
       "0.9613199891804165"
      ]
     },
     "execution_count": 19,
     "metadata": {},
     "output_type": "execute_result"
    }
   ],
   "source": [
    "# between 30 to 90k \n",
    "btn_30to90k = (DF[\"income_in_k\"] > 30) & (DF[\"income_in_k\"] < 90)\n",
    "df2 = DF.loc[btn_30to90k]\n",
    "X = df2[predictors]\n",
    "y = df2[\"stroke\"]\n",
    "X[continuous_interval] = zscore.fit_transform(X[continuous_interval])\n",
    "ac2 = accuracy_score(y, lr.predict(X))\n",
    "ac2"
   ]
  },
  {
   "cell_type": "code",
   "execution_count": 20,
   "metadata": {
    "colab": {
     "base_uri": "https://localhost:8080/"
    },
    "id": "NTRzbCS3_Nxg",
    "outputId": "78214513-26c2-437c-9fb1-2a96ef6775e5"
   },
   "outputs": [
    {
     "data": {
      "text/plain": [
       "0.9540428472702143"
      ]
     },
     "execution_count": 20,
     "metadata": {},
     "output_type": "execute_result"
    }
   ],
   "source": [
    "# over 90k\n",
    "over_90k = DF[\"income_in_k\"] > 90\n",
    "df3 = DF.loc[over_90k]\n",
    "X = df3[predictors]\n",
    "y = df3[\"stroke\"]\n",
    "X[continuous_interval] = zscore.fit_transform(X[continuous_interval])\n",
    "ac3 = accuracy_score(y, lr.predict(X))\n",
    "ac3"
   ]
  },
  {
   "cell_type": "code",
   "execution_count": 21,
   "metadata": {
    "colab": {
     "base_uri": "https://localhost:8080/",
     "height": 478
    },
    "id": "_9u9RLS7QyQP",
    "outputId": "30988118-9137-4de1-ad57-363a824eac09"
   },
   "outputs": [
    {
     "data": {
      "image/png": "[encoded data removed]",
      "text/plain": [
       "<Figure size 640x480 with 1 Axes>"
      ]
     },
     "metadata": {
      "needs_background": "light"
     },
     "output_type": "display_data"
    },
    {
     "data": {
      "text/plain": [
       "<ggplot: (327585112)>"
      ]
     },
     "execution_count": 21,
     "metadata": {},
     "output_type": "execute_result"
    }
   ],
   "source": [
    "income = [\"less_30k\", \"btn_30to90k\", \"over_90k\"]\n",
    "accuracy = [ac1, ac2, ac3]\n",
    "df_accuracy = pd.DataFrame({\"Income\": income, \n",
    "                            \"Accuracy Scores\": accuracy})\n",
    "\n",
    "# ggplot\n",
    "(ggplot(df_accuracy, aes(x = \"Income\", \n",
    "                         y = \"Accuracy Scores\")) \n",
    "+ stat_summary(geom = \"bar\") + theme_minimal()) "
   ]
  },
  {
   "cell_type": "markdown",
   "metadata": {
    "id": "gZSoUw91Jg4R"
   },
   "source": [
    "Based on the accuracy score, people who make less than 30k has the most accurate logistic. The accuracy score was 1.0 which is suspicious but can be possibly caused by small amount of data (overfit). Income between 30 to 90k has the accuracy of 0.961 and over 90k has the accuracy of 0.954 which are also highly accurate. Therefore, it's hard to determine the most accurate logistic accuracy where all three variables have the high accuracy scores. "
   ]
  },
  {
   "cell_type": "markdown",
   "metadata": {
    "id": "CEQKS5fzm0gv"
   },
   "source": [
    "# 4. "
   ]
  },
  {
   "cell_type": "code",
   "execution_count": 22,
   "metadata": {
    "colab": {
     "base_uri": "https://localhost:8080/",
     "height": 175
    },
    "id": "QDTlGEAfm1pM",
    "outputId": "68038447-6ad9-46d3-c779-dbd45b120ac3"
   },
   "outputs": [
    {
     "data": {
      "text/html": [
       "<div>\n",
       "<style scoped>\n",
       "    .dataframe tbody tr th:only-of-type {\n",
       "        vertical-align: middle;\n",
       "    }\n",
       "\n",
       "    .dataframe tbody tr th {\n",
       "        vertical-align: top;\n",
       "    }\n",
       "\n",
       "    .dataframe thead th {\n",
       "        text-align: right;\n",
       "    }\n",
       "</style>\n",
       "<table border=\"1\" class=\"dataframe\">\n",
       "  <thead>\n",
       "    <tr style=\"text-align: right;\">\n",
       "      <th></th>\n",
       "      <th>Coefs</th>\n",
       "      <th>Names</th>\n",
       "    </tr>\n",
       "  </thead>\n",
       "  <tbody>\n",
       "    <tr>\n",
       "      <th>3</th>\n",
       "      <td>-0.187965</td>\n",
       "      <td>ever_married</td>\n",
       "    </tr>\n",
       "    <tr>\n",
       "      <th>4</th>\n",
       "      <td>-0.019790</td>\n",
       "      <td>Residence_type</td>\n",
       "    </tr>\n",
       "    <tr>\n",
       "      <th>9</th>\n",
       "      <td>-0.059925</td>\n",
       "      <td>reg_to_vote</td>\n",
       "    </tr>\n",
       "    <tr>\n",
       "      <th>10</th>\n",
       "      <td>0.015419</td>\n",
       "      <td>dog_owner</td>\n",
       "    </tr>\n",
       "  </tbody>\n",
       "</table>\n",
       "</div>"
      ],
      "text/plain": [
       "       Coefs           Names\n",
       "3  -0.187965    ever_married\n",
       "4  -0.019790  Residence_type\n",
       "9  -0.059925     reg_to_vote\n",
       "10  0.015419       dog_owner"
      ]
     },
     "execution_count": 22,
     "metadata": {},
     "output_type": "execute_result"
    }
   ],
   "source": [
    "variables = (coef[\"Names\"] == \"dog_owner\") | (coef[\"Names\"] == \"Residence_type\") | (coef[\"Names\"] == \"ever_married\") | (coef[\"Names\"] == \"reg_to_vote\")\n",
    "\n",
    "coef2 = coef.loc[variables]\n",
    "coef2"
   ]
  },
  {
   "cell_type": "code",
   "execution_count": 23,
   "metadata": {
    "colab": {
     "base_uri": "https://localhost:8080/",
     "height": 504
    },
    "id": "RIk9A9q0EbGX",
    "outputId": "9153bb76-48df-499c-e7d0-4e7017383a02"
   },
   "outputs": [
    {
     "data": {
      "image/png": "[encoded data removed]",
      "text/plain": [
       "<Figure size 640x480 with 1 Axes>"
      ]
     },
     "metadata": {
      "needs_background": "light"
     },
     "output_type": "display_data"
    },
    {
     "data": {
      "text/plain": [
       "<ggplot: (328220624)>"
      ]
     },
     "execution_count": 23,
     "metadata": {},
     "output_type": "execute_result"
    }
   ],
   "source": [
    "# ggplot\n",
    "(ggplot(coef2, aes(x = \"Names\", y = \"Coefs\", fill = \"Names\"))  \n",
    "+ theme_minimal() + geom_bar(stat = \"identity\") + ggtitle(\"Coefficients\"))"
   ]
  },
  {
   "cell_type": "markdown",
   "metadata": {
    "id": "PPUJcViyGGMW"
   },
   "source": [
    "Between variables, marraige had the strongest predictor of having a stroke which had the greatest coefficient compared to other variables. As ever_married unit increases by 1, the coefficient decreases by 0.188 which is the greatest among the variables. "
   ]
  },
  {
   "cell_type": "markdown",
   "metadata": {
    "id": "sjSwGnKwm2Nz"
   },
   "source": [
    "# 5."
   ]
  },
  {
   "cell_type": "code",
   "execution_count": 24,
   "metadata": {
    "colab": {
     "base_uri": "https://localhost:8080/",
     "height": 487
    },
    "id": "srVZxuhMm3Op",
    "outputId": "b88fdf5a-ca71-4560-f86a-27bdff782764"
   },
   "outputs": [
    {
     "data": {
      "text/html": [
       "<div>\n",
       "<style scoped>\n",
       "    .dataframe tbody tr th:only-of-type {\n",
       "        vertical-align: middle;\n",
       "    }\n",
       "\n",
       "    .dataframe tbody tr th {\n",
       "        vertical-align: top;\n",
       "    }\n",
       "\n",
       "    .dataframe thead th {\n",
       "        text-align: right;\n",
       "    }\n",
       "</style>\n",
       "<table border=\"1\" class=\"dataframe\">\n",
       "  <thead>\n",
       "    <tr style=\"text-align: right;\">\n",
       "      <th></th>\n",
       "      <th>age</th>\n",
       "      <th>hypertension</th>\n",
       "      <th>heart_disease</th>\n",
       "      <th>ever_married</th>\n",
       "      <th>Residence_type</th>\n",
       "      <th>avg_glucose_level</th>\n",
       "      <th>bmi</th>\n",
       "      <th>stroke</th>\n",
       "      <th>smoking_status_smokes</th>\n",
       "      <th>smoking_status_formerly</th>\n",
       "      <th>reg_to_vote</th>\n",
       "      <th>dog_owner</th>\n",
       "      <th>raccoons_to_fight</th>\n",
       "      <th>fast_food_budget_month</th>\n",
       "      <th>income_in_k</th>\n",
       "      <th>er_visits</th>\n",
       "      <th>er_visits_per_year</th>\n",
       "    </tr>\n",
       "  </thead>\n",
       "  <tbody>\n",
       "    <tr>\n",
       "      <th>0</th>\n",
       "      <td>60.0</td>\n",
       "      <td>1.0</td>\n",
       "      <td>0.0</td>\n",
       "      <td>0.0</td>\n",
       "      <td>1.0</td>\n",
       "      <td>73.00</td>\n",
       "      <td>25.2</td>\n",
       "      <td>0</td>\n",
       "      <td>1</td>\n",
       "      <td>0</td>\n",
       "      <td>1.0</td>\n",
       "      <td>1.0</td>\n",
       "      <td>10.0</td>\n",
       "      <td>209.19</td>\n",
       "      <td>51.553645</td>\n",
       "      <td>9.0</td>\n",
       "      <td>0.150000</td>\n",
       "    </tr>\n",
       "    <tr>\n",
       "      <th>1</th>\n",
       "      <td>4.0</td>\n",
       "      <td>0.0</td>\n",
       "      <td>0.0</td>\n",
       "      <td>0.0</td>\n",
       "      <td>0.0</td>\n",
       "      <td>110.15</td>\n",
       "      <td>17.1</td>\n",
       "      <td>0</td>\n",
       "      <td>0</td>\n",
       "      <td>0</td>\n",
       "      <td>0.0</td>\n",
       "      <td>1.0</td>\n",
       "      <td>13.0</td>\n",
       "      <td>176.46</td>\n",
       "      <td>45.405414</td>\n",
       "      <td>5.0</td>\n",
       "      <td>1.250000</td>\n",
       "    </tr>\n",
       "    <tr>\n",
       "      <th>2</th>\n",
       "      <td>77.0</td>\n",
       "      <td>0.0</td>\n",
       "      <td>0.0</td>\n",
       "      <td>1.0</td>\n",
       "      <td>1.0</td>\n",
       "      <td>68.38</td>\n",
       "      <td>27.8</td>\n",
       "      <td>0</td>\n",
       "      <td>0</td>\n",
       "      <td>0</td>\n",
       "      <td>0.0</td>\n",
       "      <td>1.0</td>\n",
       "      <td>6.0</td>\n",
       "      <td>213.00</td>\n",
       "      <td>94.865174</td>\n",
       "      <td>8.0</td>\n",
       "      <td>0.103896</td>\n",
       "    </tr>\n",
       "    <tr>\n",
       "      <th>3</th>\n",
       "      <td>37.0</td>\n",
       "      <td>0.0</td>\n",
       "      <td>0.0</td>\n",
       "      <td>1.0</td>\n",
       "      <td>1.0</td>\n",
       "      <td>95.08</td>\n",
       "      <td>30.1</td>\n",
       "      <td>0</td>\n",
       "      <td>0</td>\n",
       "      <td>0</td>\n",
       "      <td>1.0</td>\n",
       "      <td>1.0</td>\n",
       "      <td>12.0</td>\n",
       "      <td>161.90</td>\n",
       "      <td>84.123775</td>\n",
       "      <td>8.0</td>\n",
       "      <td>0.216216</td>\n",
       "    </tr>\n",
       "    <tr>\n",
       "      <th>4</th>\n",
       "      <td>44.0</td>\n",
       "      <td>0.0</td>\n",
       "      <td>0.0</td>\n",
       "      <td>0.0</td>\n",
       "      <td>0.0</td>\n",
       "      <td>103.78</td>\n",
       "      <td>40.9</td>\n",
       "      <td>0</td>\n",
       "      <td>1</td>\n",
       "      <td>0</td>\n",
       "      <td>1.0</td>\n",
       "      <td>1.0</td>\n",
       "      <td>11.0</td>\n",
       "      <td>261.29</td>\n",
       "      <td>74.794596</td>\n",
       "      <td>11.0</td>\n",
       "      <td>0.250000</td>\n",
       "    </tr>\n",
       "    <tr>\n",
       "      <th>...</th>\n",
       "      <td>...</td>\n",
       "      <td>...</td>\n",
       "      <td>...</td>\n",
       "      <td>...</td>\n",
       "      <td>...</td>\n",
       "      <td>...</td>\n",
       "      <td>...</td>\n",
       "      <td>...</td>\n",
       "      <td>...</td>\n",
       "      <td>...</td>\n",
       "      <td>...</td>\n",
       "      <td>...</td>\n",
       "      <td>...</td>\n",
       "      <td>...</td>\n",
       "      <td>...</td>\n",
       "      <td>...</td>\n",
       "      <td>...</td>\n",
       "    </tr>\n",
       "    <tr>\n",
       "      <th>14995</th>\n",
       "      <td>52.0</td>\n",
       "      <td>1.0</td>\n",
       "      <td>0.0</td>\n",
       "      <td>0.0</td>\n",
       "      <td>1.0</td>\n",
       "      <td>106.22</td>\n",
       "      <td>29.0</td>\n",
       "      <td>0</td>\n",
       "      <td>0</td>\n",
       "      <td>0</td>\n",
       "      <td>0.0</td>\n",
       "      <td>0.0</td>\n",
       "      <td>1.0</td>\n",
       "      <td>179.77</td>\n",
       "      <td>74.826197</td>\n",
       "      <td>9.0</td>\n",
       "      <td>0.173077</td>\n",
       "    </tr>\n",
       "    <tr>\n",
       "      <th>14996</th>\n",
       "      <td>56.0</td>\n",
       "      <td>0.0</td>\n",
       "      <td>0.0</td>\n",
       "      <td>1.0</td>\n",
       "      <td>1.0</td>\n",
       "      <td>63.18</td>\n",
       "      <td>26.5</td>\n",
       "      <td>0</td>\n",
       "      <td>0</td>\n",
       "      <td>0</td>\n",
       "      <td>1.0</td>\n",
       "      <td>0.0</td>\n",
       "      <td>15.0</td>\n",
       "      <td>143.61</td>\n",
       "      <td>52.280949</td>\n",
       "      <td>16.0</td>\n",
       "      <td>0.285714</td>\n",
       "    </tr>\n",
       "    <tr>\n",
       "      <th>14997</th>\n",
       "      <td>60.0</td>\n",
       "      <td>1.0</td>\n",
       "      <td>0.0</td>\n",
       "      <td>1.0</td>\n",
       "      <td>0.0</td>\n",
       "      <td>100.20</td>\n",
       "      <td>28.6</td>\n",
       "      <td>0</td>\n",
       "      <td>0</td>\n",
       "      <td>0</td>\n",
       "      <td>0.0</td>\n",
       "      <td>1.0</td>\n",
       "      <td>17.0</td>\n",
       "      <td>64.87</td>\n",
       "      <td>92.427118</td>\n",
       "      <td>24.0</td>\n",
       "      <td>0.400000</td>\n",
       "    </tr>\n",
       "    <tr>\n",
       "      <th>14998</th>\n",
       "      <td>77.0</td>\n",
       "      <td>0.0</td>\n",
       "      <td>0.0</td>\n",
       "      <td>1.0</td>\n",
       "      <td>0.0</td>\n",
       "      <td>90.00</td>\n",
       "      <td>32.0</td>\n",
       "      <td>0</td>\n",
       "      <td>0</td>\n",
       "      <td>0</td>\n",
       "      <td>0.0</td>\n",
       "      <td>0.0</td>\n",
       "      <td>11.0</td>\n",
       "      <td>205.92</td>\n",
       "      <td>53.042139</td>\n",
       "      <td>6.0</td>\n",
       "      <td>0.077922</td>\n",
       "    </tr>\n",
       "    <tr>\n",
       "      <th>14999</th>\n",
       "      <td>44.0</td>\n",
       "      <td>0.0</td>\n",
       "      <td>0.0</td>\n",
       "      <td>1.0</td>\n",
       "      <td>0.0</td>\n",
       "      <td>74.91</td>\n",
       "      <td>26.9</td>\n",
       "      <td>0</td>\n",
       "      <td>0</td>\n",
       "      <td>0</td>\n",
       "      <td>0.0</td>\n",
       "      <td>0.0</td>\n",
       "      <td>8.0</td>\n",
       "      <td>184.14</td>\n",
       "      <td>70.317707</td>\n",
       "      <td>4.0</td>\n",
       "      <td>0.090909</td>\n",
       "    </tr>\n",
       "  </tbody>\n",
       "</table>\n",
       "<p>14222 rows × 17 columns</p>\n",
       "</div>"
      ],
      "text/plain": [
       "        age  hypertension  heart_disease  ever_married  Residence_type  \\\n",
       "0      60.0           1.0            0.0           0.0             1.0   \n",
       "1       4.0           0.0            0.0           0.0             0.0   \n",
       "2      77.0           0.0            0.0           1.0             1.0   \n",
       "3      37.0           0.0            0.0           1.0             1.0   \n",
       "4      44.0           0.0            0.0           0.0             0.0   \n",
       "...     ...           ...            ...           ...             ...   \n",
       "14995  52.0           1.0            0.0           0.0             1.0   \n",
       "14996  56.0           0.0            0.0           1.0             1.0   \n",
       "14997  60.0           1.0            0.0           1.0             0.0   \n",
       "14998  77.0           0.0            0.0           1.0             0.0   \n",
       "14999  44.0           0.0            0.0           1.0             0.0   \n",
       "\n",
       "       avg_glucose_level   bmi  stroke  smoking_status_smokes  \\\n",
       "0                  73.00  25.2       0                      1   \n",
       "1                 110.15  17.1       0                      0   \n",
       "2                  68.38  27.8       0                      0   \n",
       "3                  95.08  30.1       0                      0   \n",
       "4                 103.78  40.9       0                      1   \n",
       "...                  ...   ...     ...                    ...   \n",
       "14995             106.22  29.0       0                      0   \n",
       "14996              63.18  26.5       0                      0   \n",
       "14997             100.20  28.6       0                      0   \n",
       "14998              90.00  32.0       0                      0   \n",
       "14999              74.91  26.9       0                      0   \n",
       "\n",
       "       smoking_status_formerly  reg_to_vote  dog_owner  raccoons_to_fight  \\\n",
       "0                            0          1.0        1.0               10.0   \n",
       "1                            0          0.0        1.0               13.0   \n",
       "2                            0          0.0        1.0                6.0   \n",
       "3                            0          1.0        1.0               12.0   \n",
       "4                            0          1.0        1.0               11.0   \n",
       "...                        ...          ...        ...                ...   \n",
       "14995                        0          0.0        0.0                1.0   \n",
       "14996                        0          1.0        0.0               15.0   \n",
       "14997                        0          0.0        1.0               17.0   \n",
       "14998                        0          0.0        0.0               11.0   \n",
       "14999                        0          0.0        0.0                8.0   \n",
       "\n",
       "       fast_food_budget_month  income_in_k  er_visits  er_visits_per_year  \n",
       "0                      209.19    51.553645        9.0            0.150000  \n",
       "1                      176.46    45.405414        5.0            1.250000  \n",
       "2                      213.00    94.865174        8.0            0.103896  \n",
       "3                      161.90    84.123775        8.0            0.216216  \n",
       "4                      261.29    74.794596       11.0            0.250000  \n",
       "...                       ...          ...        ...                 ...  \n",
       "14995                  179.77    74.826197        9.0            0.173077  \n",
       "14996                  143.61    52.280949       16.0            0.285714  \n",
       "14997                   64.87    92.427118       24.0            0.400000  \n",
       "14998                  205.92    53.042139        6.0            0.077922  \n",
       "14999                  184.14    70.317707        4.0            0.090909  \n",
       "\n",
       "[14222 rows x 17 columns]"
      ]
     },
     "execution_count": 24,
     "metadata": {},
     "output_type": "execute_result"
    }
   ],
   "source": [
    "DF[\"er_visits_per_year\"] = DF[\"er_visits\"]/DF[\"age\"]\n",
    "DF"
   ]
  },
  {
   "cell_type": "code",
   "execution_count": 25,
   "metadata": {
    "colab": {
     "base_uri": "https://localhost:8080/",
     "height": 486
    },
    "id": "mvUEvPo5GOIR",
    "outputId": "9c1b34c4-0a38-44ea-fdec-cd85e97a9b7e"
   },
   "outputs": [
    {
     "ename": "ValueError",
     "evalue": "cannot convert float NaN to integer",
     "output_type": "error",
     "traceback": [
      "\u001b[0;31m---------------------------------------------------------------------------\u001b[0m",
      "\u001b[0;31mValueError\u001b[0m                                Traceback (most recent call last)",
      "File \u001b[0;32m/usr/local/lib/python3.8/site-packages/IPython/core/formatters.py:707\u001b[0m, in \u001b[0;36mPlainTextFormatter.__call__\u001b[0;34m(self, obj)\u001b[0m\n\u001b[1;32m    <a href='file:///usr/local/lib/python3.8/site-packages/IPython/core/formatters.py?line=699'>700</a>\u001b[0m stream \u001b[39m=\u001b[39m StringIO()\n\u001b[1;32m    <a href='file:///usr/local/lib/python3.8/site-packages/IPython/core/formatters.py?line=700'>701</a>\u001b[0m printer \u001b[39m=\u001b[39m pretty\u001b[39m.\u001b[39mRepresentationPrinter(stream, \u001b[39mself\u001b[39m\u001b[39m.\u001b[39mverbose,\n\u001b[1;32m    <a href='file:///usr/local/lib/python3.8/site-packages/IPython/core/formatters.py?line=701'>702</a>\u001b[0m     \u001b[39mself\u001b[39m\u001b[39m.\u001b[39mmax_width, \u001b[39mself\u001b[39m\u001b[39m.\u001b[39mnewline,\n\u001b[1;32m    <a href='file:///usr/local/lib/python3.8/site-packages/IPython/core/formatters.py?line=702'>703</a>\u001b[0m     max_seq_length\u001b[39m=\u001b[39m\u001b[39mself\u001b[39m\u001b[39m.\u001b[39mmax_seq_length,\n\u001b[1;32m    <a href='file:///usr/local/lib/python3.8/site-packages/IPython/core/formatters.py?line=703'>704</a>\u001b[0m     singleton_pprinters\u001b[39m=\u001b[39m\u001b[39mself\u001b[39m\u001b[39m.\u001b[39msingleton_printers,\n\u001b[1;32m    <a href='file:///usr/local/lib/python3.8/site-packages/IPython/core/formatters.py?line=704'>705</a>\u001b[0m     type_pprinters\u001b[39m=\u001b[39m\u001b[39mself\u001b[39m\u001b[39m.\u001b[39mtype_printers,\n\u001b[1;32m    <a href='file:///usr/local/lib/python3.8/site-packages/IPython/core/formatters.py?line=705'>706</a>\u001b[0m     deferred_pprinters\u001b[39m=\u001b[39m\u001b[39mself\u001b[39m\u001b[39m.\u001b[39mdeferred_printers)\n\u001b[0;32m--> <a href='file:///usr/local/lib/python3.8/site-packages/IPython/core/formatters.py?line=706'>707</a>\u001b[0m printer\u001b[39m.\u001b[39;49mpretty(obj)\n\u001b[1;32m    <a href='file:///usr/local/lib/python3.8/site-packages/IPython/core/formatters.py?line=707'>708</a>\u001b[0m printer\u001b[39m.\u001b[39mflush()\n\u001b[1;32m    <a href='file:///usr/local/lib/python3.8/site-packages/IPython/core/formatters.py?line=708'>709</a>\u001b[0m \u001b[39mreturn\u001b[39;00m stream\u001b[39m.\u001b[39mgetvalue()\n",
      "File \u001b[0;32m/usr/local/lib/python3.8/site-packages/IPython/lib/pretty.py:410\u001b[0m, in \u001b[0;36mRepresentationPrinter.pretty\u001b[0;34m(self, obj)\u001b[0m\n\u001b[1;32m    <a href='file:///usr/local/lib/python3.8/site-packages/IPython/lib/pretty.py?line=406'>407</a>\u001b[0m                         \u001b[39mreturn\u001b[39;00m meth(obj, \u001b[39mself\u001b[39m, cycle)\n\u001b[1;32m    <a href='file:///usr/local/lib/python3.8/site-packages/IPython/lib/pretty.py?line=407'>408</a>\u001b[0m                 \u001b[39mif\u001b[39;00m \u001b[39mcls\u001b[39m \u001b[39mis\u001b[39;00m \u001b[39mnot\u001b[39;00m \u001b[39mobject\u001b[39m \\\n\u001b[1;32m    <a href='file:///usr/local/lib/python3.8/site-packages/IPython/lib/pretty.py?line=408'>409</a>\u001b[0m                         \u001b[39mand\u001b[39;00m callable(\u001b[39mcls\u001b[39m\u001b[39m.\u001b[39m\u001b[39m__dict__\u001b[39m\u001b[39m.\u001b[39mget(\u001b[39m'\u001b[39m\u001b[39m__repr__\u001b[39m\u001b[39m'\u001b[39m)):\n\u001b[0;32m--> <a href='file:///usr/local/lib/python3.8/site-packages/IPython/lib/pretty.py?line=409'>410</a>\u001b[0m                     \u001b[39mreturn\u001b[39;00m _repr_pprint(obj, \u001b[39mself\u001b[39;49m, cycle)\n\u001b[1;32m    <a href='file:///usr/local/lib/python3.8/site-packages/IPython/lib/pretty.py?line=411'>412</a>\u001b[0m     \u001b[39mreturn\u001b[39;00m _default_pprint(obj, \u001b[39mself\u001b[39m, cycle)\n\u001b[1;32m    <a href='file:///usr/local/lib/python3.8/site-packages/IPython/lib/pretty.py?line=412'>413</a>\u001b[0m \u001b[39mfinally\u001b[39;00m:\n",
      "File \u001b[0;32m/usr/local/lib/python3.8/site-packages/IPython/lib/pretty.py:778\u001b[0m, in \u001b[0;36m_repr_pprint\u001b[0;34m(obj, p, cycle)\u001b[0m\n\u001b[1;32m    <a href='file:///usr/local/lib/python3.8/site-packages/IPython/lib/pretty.py?line=775'>776</a>\u001b[0m \u001b[39m\"\"\"A pprint that just redirects to the normal repr function.\"\"\"\u001b[39;00m\n\u001b[1;32m    <a href='file:///usr/local/lib/python3.8/site-packages/IPython/lib/pretty.py?line=776'>777</a>\u001b[0m \u001b[39m# Find newlines and replace them with p.break_()\u001b[39;00m\n\u001b[0;32m--> <a href='file:///usr/local/lib/python3.8/site-packages/IPython/lib/pretty.py?line=777'>778</a>\u001b[0m output \u001b[39m=\u001b[39m \u001b[39mrepr\u001b[39;49m(obj)\n\u001b[1;32m    <a href='file:///usr/local/lib/python3.8/site-packages/IPython/lib/pretty.py?line=778'>779</a>\u001b[0m lines \u001b[39m=\u001b[39m output\u001b[39m.\u001b[39msplitlines()\n\u001b[1;32m    <a href='file:///usr/local/lib/python3.8/site-packages/IPython/lib/pretty.py?line=779'>780</a>\u001b[0m \u001b[39mwith\u001b[39;00m p\u001b[39m.\u001b[39mgroup():\n",
      "File \u001b[0;32m/usr/local/lib/python3.8/site-packages/plotnine/ggplot.py:97\u001b[0m, in \u001b[0;36mggplot.__repr__\u001b[0;34m(self)\u001b[0m\n\u001b[1;32m     <a href='file:///usr/local/lib/python3.8/site-packages/plotnine/ggplot.py?line=92'>93</a>\u001b[0m \u001b[39mdef\u001b[39;00m \u001b[39m__repr__\u001b[39m(\u001b[39mself\u001b[39m):\n\u001b[1;32m     <a href='file:///usr/local/lib/python3.8/site-packages/plotnine/ggplot.py?line=93'>94</a>\u001b[0m     \u001b[39m\"\"\"\u001b[39;00m\n\u001b[1;32m     <a href='file:///usr/local/lib/python3.8/site-packages/plotnine/ggplot.py?line=94'>95</a>\u001b[0m \u001b[39m    Print/show the plot\u001b[39;00m\n\u001b[1;32m     <a href='file:///usr/local/lib/python3.8/site-packages/plotnine/ggplot.py?line=95'>96</a>\u001b[0m \u001b[39m    \"\"\"\u001b[39;00m\n\u001b[0;32m---> <a href='file:///usr/local/lib/python3.8/site-packages/plotnine/ggplot.py?line=96'>97</a>\u001b[0m     \u001b[39mself\u001b[39;49m\u001b[39m.\u001b[39;49m\u001b[39m__str__\u001b[39;49m()\n\u001b[1;32m     <a href='file:///usr/local/lib/python3.8/site-packages/plotnine/ggplot.py?line=97'>98</a>\u001b[0m     \u001b[39mreturn\u001b[39;00m \u001b[39m'\u001b[39m\u001b[39m<ggplot: (\u001b[39m\u001b[39m%d\u001b[39;00m\u001b[39m)>\u001b[39m\u001b[39m'\u001b[39m \u001b[39m%\u001b[39m \u001b[39mself\u001b[39m\u001b[39m.\u001b[39m\u001b[39m__hash__\u001b[39m()\n",
      "File \u001b[0;32m/usr/local/lib/python3.8/site-packages/plotnine/ggplot.py:88\u001b[0m, in \u001b[0;36mggplot.__str__\u001b[0;34m(self)\u001b[0m\n\u001b[1;32m     <a href='file:///usr/local/lib/python3.8/site-packages/plotnine/ggplot.py?line=83'>84</a>\u001b[0m \u001b[39mdef\u001b[39;00m \u001b[39m__str__\u001b[39m(\u001b[39mself\u001b[39m):\n\u001b[1;32m     <a href='file:///usr/local/lib/python3.8/site-packages/plotnine/ggplot.py?line=84'>85</a>\u001b[0m     \u001b[39m\"\"\"\u001b[39;00m\n\u001b[1;32m     <a href='file:///usr/local/lib/python3.8/site-packages/plotnine/ggplot.py?line=85'>86</a>\u001b[0m \u001b[39m    Print/show the plot\u001b[39;00m\n\u001b[1;32m     <a href='file:///usr/local/lib/python3.8/site-packages/plotnine/ggplot.py?line=86'>87</a>\u001b[0m \u001b[39m    \"\"\"\u001b[39;00m\n\u001b[0;32m---> <a href='file:///usr/local/lib/python3.8/site-packages/plotnine/ggplot.py?line=87'>88</a>\u001b[0m     \u001b[39mself\u001b[39;49m\u001b[39m.\u001b[39;49mdraw(show\u001b[39m=\u001b[39;49m\u001b[39mTrue\u001b[39;49;00m)\n\u001b[1;32m     <a href='file:///usr/local/lib/python3.8/site-packages/plotnine/ggplot.py?line=89'>90</a>\u001b[0m     \u001b[39m# Return and empty string so that print(p) is \"pretty\"\u001b[39;00m\n\u001b[1;32m     <a href='file:///usr/local/lib/python3.8/site-packages/plotnine/ggplot.py?line=90'>91</a>\u001b[0m     \u001b[39mreturn\u001b[39;00m \u001b[39m'\u001b[39m\u001b[39m'\u001b[39m\n",
      "File \u001b[0;32m/usr/local/lib/python3.8/site-packages/plotnine/ggplot.py:205\u001b[0m, in \u001b[0;36mggplot.draw\u001b[0;34m(self, return_ggplot, show)\u001b[0m\n\u001b[1;32m    <a href='file:///usr/local/lib/python3.8/site-packages/plotnine/ggplot.py?line=202'>203</a>\u001b[0m \u001b[39mself\u001b[39m \u001b[39m=\u001b[39m deepcopy(\u001b[39mself\u001b[39m)\n\u001b[1;32m    <a href='file:///usr/local/lib/python3.8/site-packages/plotnine/ggplot.py?line=203'>204</a>\u001b[0m \u001b[39mwith\u001b[39;00m plot_context(\u001b[39mself\u001b[39m, show\u001b[39m=\u001b[39mshow):\n\u001b[0;32m--> <a href='file:///usr/local/lib/python3.8/site-packages/plotnine/ggplot.py?line=204'>205</a>\u001b[0m     \u001b[39mself\u001b[39;49m\u001b[39m.\u001b[39;49m_build()\n\u001b[1;32m    <a href='file:///usr/local/lib/python3.8/site-packages/plotnine/ggplot.py?line=206'>207</a>\u001b[0m     \u001b[39m# setup\u001b[39;00m\n\u001b[1;32m    <a href='file:///usr/local/lib/python3.8/site-packages/plotnine/ggplot.py?line=207'>208</a>\u001b[0m     figure, axs \u001b[39m=\u001b[39m \u001b[39mself\u001b[39m\u001b[39m.\u001b[39m_create_figure()\n",
      "File \u001b[0;32m/usr/local/lib/python3.8/site-packages/plotnine/ggplot.py:300\u001b[0m, in \u001b[0;36mggplot._build\u001b[0;34m(self)\u001b[0m\n\u001b[1;32m    <a href='file:///usr/local/lib/python3.8/site-packages/plotnine/ggplot.py?line=296'>297</a>\u001b[0m layout\u001b[39m.\u001b[39mmap_position(layers)\n\u001b[1;32m    <a href='file:///usr/local/lib/python3.8/site-packages/plotnine/ggplot.py?line=298'>299</a>\u001b[0m \u001b[39m# Apply and map statistics\u001b[39;00m\n\u001b[0;32m--> <a href='file:///usr/local/lib/python3.8/site-packages/plotnine/ggplot.py?line=299'>300</a>\u001b[0m layers\u001b[39m.\u001b[39;49mcompute_statistic(layout)\n\u001b[1;32m    <a href='file:///usr/local/lib/python3.8/site-packages/plotnine/ggplot.py?line=300'>301</a>\u001b[0m layers\u001b[39m.\u001b[39mmap_statistic(\u001b[39mself\u001b[39m)\n\u001b[1;32m    <a href='file:///usr/local/lib/python3.8/site-packages/plotnine/ggplot.py?line=302'>303</a>\u001b[0m \u001b[39m# Make sure missing (but required) aesthetics are added\u001b[39;00m\n",
      "File \u001b[0;32m/usr/local/lib/python3.8/site-packages/plotnine/layer.py:73\u001b[0m, in \u001b[0;36mLayers.compute_statistic\u001b[0;34m(self, layout)\u001b[0m\n\u001b[1;32m     <a href='file:///usr/local/lib/python3.8/site-packages/plotnine/layer.py?line=70'>71</a>\u001b[0m \u001b[39mdef\u001b[39;00m \u001b[39mcompute_statistic\u001b[39m(\u001b[39mself\u001b[39m, layout):\n\u001b[1;32m     <a href='file:///usr/local/lib/python3.8/site-packages/plotnine/layer.py?line=71'>72</a>\u001b[0m     \u001b[39mfor\u001b[39;00m l \u001b[39min\u001b[39;00m \u001b[39mself\u001b[39m:\n\u001b[0;32m---> <a href='file:///usr/local/lib/python3.8/site-packages/plotnine/layer.py?line=72'>73</a>\u001b[0m         l\u001b[39m.\u001b[39;49mcompute_statistic(layout)\n",
      "File \u001b[0;32m/usr/local/lib/python3.8/site-packages/plotnine/layer.py:321\u001b[0m, in \u001b[0;36mlayer.compute_statistic\u001b[0;34m(self, layout)\u001b[0m\n\u001b[1;32m    <a href='file:///usr/local/lib/python3.8/site-packages/plotnine/layer.py?line=317'>318</a>\u001b[0m \u001b[39mif\u001b[39;00m \u001b[39mnot\u001b[39;00m \u001b[39mlen\u001b[39m(data):\n\u001b[1;32m    <a href='file:///usr/local/lib/python3.8/site-packages/plotnine/layer.py?line=318'>319</a>\u001b[0m     \u001b[39mreturn\u001b[39;00m \u001b[39mtype\u001b[39m(data)()\n\u001b[0;32m--> <a href='file:///usr/local/lib/python3.8/site-packages/plotnine/layer.py?line=320'>321</a>\u001b[0m params \u001b[39m=\u001b[39m \u001b[39mself\u001b[39;49m\u001b[39m.\u001b[39;49mstat\u001b[39m.\u001b[39;49msetup_params(data)\n\u001b[1;32m    <a href='file:///usr/local/lib/python3.8/site-packages/plotnine/layer.py?line=321'>322</a>\u001b[0m data \u001b[39m=\u001b[39m \u001b[39mself\u001b[39m\u001b[39m.\u001b[39mstat\u001b[39m.\u001b[39muse_defaults(data)\n\u001b[1;32m    <a href='file:///usr/local/lib/python3.8/site-packages/plotnine/layer.py?line=322'>323</a>\u001b[0m data \u001b[39m=\u001b[39m \u001b[39mself\u001b[39m\u001b[39m.\u001b[39mstat\u001b[39m.\u001b[39msetup_data(data)\n",
      "File \u001b[0;32m/usr/local/lib/python3.8/site-packages/plotnine/stats/stat_bin.py:92\u001b[0m, in \u001b[0;36mstat_bin.setup_params\u001b[0;34m(self, data)\u001b[0m\n\u001b[1;32m     <a href='file:///usr/local/lib/python3.8/site-packages/plotnine/stats/stat_bin.py?line=87'>88</a>\u001b[0m \u001b[39mif\u001b[39;00m (params[\u001b[39m'\u001b[39m\u001b[39mbreaks\u001b[39m\u001b[39m'\u001b[39m] \u001b[39mis\u001b[39;00m \u001b[39mNone\u001b[39;00m \u001b[39mand\u001b[39;00m\n\u001b[1;32m     <a href='file:///usr/local/lib/python3.8/site-packages/plotnine/stats/stat_bin.py?line=88'>89</a>\u001b[0m         params[\u001b[39m'\u001b[39m\u001b[39mbinwidth\u001b[39m\u001b[39m'\u001b[39m] \u001b[39mis\u001b[39;00m \u001b[39mNone\u001b[39;00m \u001b[39mand\u001b[39;00m\n\u001b[1;32m     <a href='file:///usr/local/lib/python3.8/site-packages/plotnine/stats/stat_bin.py?line=89'>90</a>\u001b[0m         params[\u001b[39m'\u001b[39m\u001b[39mbins\u001b[39m\u001b[39m'\u001b[39m] \u001b[39mis\u001b[39;00m \u001b[39mNone\u001b[39;00m):\n\u001b[1;32m     <a href='file:///usr/local/lib/python3.8/site-packages/plotnine/stats/stat_bin.py?line=90'>91</a>\u001b[0m     params \u001b[39m=\u001b[39m params\u001b[39m.\u001b[39mcopy()\n\u001b[0;32m---> <a href='file:///usr/local/lib/python3.8/site-packages/plotnine/stats/stat_bin.py?line=91'>92</a>\u001b[0m     params[\u001b[39m'\u001b[39m\u001b[39mbins\u001b[39m\u001b[39m'\u001b[39m] \u001b[39m=\u001b[39m freedman_diaconis_bins(data[\u001b[39m'\u001b[39;49m\u001b[39mx\u001b[39;49m\u001b[39m'\u001b[39;49m])\n\u001b[1;32m     <a href='file:///usr/local/lib/python3.8/site-packages/plotnine/stats/stat_bin.py?line=92'>93</a>\u001b[0m     msg \u001b[39m=\u001b[39m (\u001b[39m\"\u001b[39m\u001b[39m'\u001b[39m\u001b[39mstat_bin()\u001b[39m\u001b[39m'\u001b[39m\u001b[39m using \u001b[39m\u001b[39m'\u001b[39m\u001b[39mbins = \u001b[39m\u001b[39m{}\u001b[39;00m\u001b[39m'\u001b[39m\u001b[39m. \u001b[39m\u001b[39m\"\u001b[39m\n\u001b[1;32m     <a href='file:///usr/local/lib/python3.8/site-packages/plotnine/stats/stat_bin.py?line=93'>94</a>\u001b[0m            \u001b[39m\"\u001b[39m\u001b[39mPick better value with \u001b[39m\u001b[39m'\u001b[39m\u001b[39mbinwidth\u001b[39m\u001b[39m'\u001b[39m\u001b[39m.\u001b[39m\u001b[39m\"\u001b[39m)\n\u001b[1;32m     <a href='file:///usr/local/lib/python3.8/site-packages/plotnine/stats/stat_bin.py?line=94'>95</a>\u001b[0m     warn(msg\u001b[39m.\u001b[39mformat(params[\u001b[39m'\u001b[39m\u001b[39mbins\u001b[39m\u001b[39m'\u001b[39m]), PlotnineWarning)\n",
      "File \u001b[0;32m/usr/local/lib/python3.8/site-packages/plotnine/stats/binning.py:35\u001b[0m, in \u001b[0;36mfreedman_diaconis_bins\u001b[0;34m(a)\u001b[0m\n\u001b[1;32m     <a href='file:///usr/local/lib/python3.8/site-packages/plotnine/stats/binning.py?line=31'>32</a>\u001b[0m \u001b[39melse\u001b[39;00m:\n\u001b[1;32m     <a href='file:///usr/local/lib/python3.8/site-packages/plotnine/stats/binning.py?line=32'>33</a>\u001b[0m     bins \u001b[39m=\u001b[39m np\u001b[39m.\u001b[39mceil((np\u001b[39m.\u001b[39mnanmax(a) \u001b[39m-\u001b[39m np\u001b[39m.\u001b[39mnanmin(a)) \u001b[39m/\u001b[39m h)\n\u001b[0;32m---> <a href='file:///usr/local/lib/python3.8/site-packages/plotnine/stats/binning.py?line=34'>35</a>\u001b[0m \u001b[39mreturn\u001b[39;00m np\u001b[39m.\u001b[39;49mint(bins)\n",
      "\u001b[0;31mValueError\u001b[0m: cannot convert float NaN to integer"
     ]
    }
   ],
   "source": [
    "# ggplot\n",
    "(ggplot(DF, aes(x = \"er_visits_per_year\")) + geom_histogram() \n",
    "+ facet_wrap(\"~stroke\") + xlim(0,10))"
   ]
  },
  {
   "cell_type": "markdown",
   "metadata": {
    "id": "PStk2R66IMtZ"
   },
   "source": [
    "The number of visits to the ER was higher for non-stroke patients than the stroke patients. Non-stroke patients had the greater number of ER visits per year compared to stroke patients' number of ER visits per year. "
   ]
  }
 ],
 "metadata": {
  "colab": {
   "collapsed_sections": [],
   "name": "Jane Kim - Project1_SP22.ipynb",
   "provenance": []
  },
  "hide_input": false,
  "kernelspec": {
   "display_name": "Python 3 (ipykernel)",
   "language": "python",
   "name": "python3"
  },
  "language_info": {
   "codemirror_mode": {
    "name": "ipython",
    "version": 3
   },
   "file_extension": ".py",
   "mimetype": "text/x-python",
   "name": "python",
   "nbconvert_exporter": "python",
   "pygments_lexer": "ipython3",
   "version": "3.8.5"
  },
  "toc": {
   "base_numbering": 1,
   "nav_menu": {},
   "number_sections": true,
   "sideBar": true,
   "skip_h1_title": false,
   "title_cell": "Table of Contents",
   "title_sidebar": "Contents",
   "toc_cell": false,
   "toc_position": {},
   "toc_section_display": true,
   "toc_window_display": false
  }
 },
 "nbformat": 4,
 "nbformat_minor": 1
}

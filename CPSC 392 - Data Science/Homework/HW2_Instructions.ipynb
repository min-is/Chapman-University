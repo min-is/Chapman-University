{
  "cells": [
    {
      "cell_type": "markdown",
      "metadata": {
        "id": "B0J6Qu3vbAnU"
      },
      "source": [
        "# HW2\n",
        "\n",
        "## GENERAL INSTRUCTIONS:\n",
        "\n",
        "- CLEARLY mark where you are answering each question (all questions must be answered in Markdown cells, NOT as comments in code cells)\n",
        "- Show all code necessary for the analysis, but remove superfluous code\n",
        "- Check that your final PDF does not have code/markdown cutoff\n",
        "\n",
        "---\n",
        "\n",
        "Use the [Loan Dataset](https://raw.githubusercontent.com/cmparlettpelleriti/CPSC392ParlettPelleriti/master/Data/HW2.csv) on GitHub to build the classification models described below.\n",
        "\n",
        "## Variable Descriptions:\n",
        "- `age`: age in years of person.\n",
        "- `had_cancer`: 0 if the person has NOT had cancer or has cancer, 1 if they have.\n",
        "- `gender_id`: `Male`, `Female`, `Non-Binary`, or `Survey Choices Do Not Accurately Reflect My Identity`.\n",
        "- `income_in_k`: income in thousands of dollars.\n",
        "- `state`: state person lives in.\n",
        "- `credit_score`: credit score.\n",
        "- `num_credit_sources`: number of sources of credit (includes credit cards, loans, car payments...etc).\n",
        "- `utilization_rate`: the % of a person's total credit they use on average each month. For example if you have 10,000 dollars in available credit, and use 2,000 your utilization rate would be 0.2 (20%).\n",
        "- `gave_loan`: whether or not the person got a loan.\n",
        "\n",
        "## Instructions\n",
        "1. *Build a KNN, Decision Tree, AND Logistic Regression model to predict whether or not someone got a loan using all the other variables.*\n",
        "    - If a variable/predictor has more than 2 categories, use `get_dummies()` to convert them into dummy variables (don't forget to remove the original column when training! see [here](https://github.com/cmparlettpelleriti/CPSC392ParlettPelleriti/blob/master/Extras/get_dummies.ipynb)).\n",
        "    - use the `train_test_split()` to do an 80/20 split (make sure to use the SAME split when training all 3 models, do not re-split your data. We want each model to be trained on the same training set).\n",
        "    - Appropriately z-score your continuous variables only (interval data like age...etc can be counted as continuous)\n",
        "    - For KNN, include only *continuous/interval* columns as predictors. For Decision Tree and Logistic Regression use ALL columns (other than `gave_loan`).\n",
        "    - For KNN, choose K by using `GridSearchCV`.\n",
        "    - For Decision Trees, use `GridSearchCV` to choose max_depth, and make sure to check for overfitting.\n",
        "    - Record the Train/Test accuracies, and print out confusion matrices for both train and test.\n",
        "    \n",
        "    \n",
        "2. *Evaluate Your Models (WRITE YOUR ANSWER IN MARKDOWN CELL)*\n",
        "    - A) Using accuracy AND confusion matrices, **thoroughly discuss which model did best (if you had to pick one), how can you tell?**\n",
        "    - B) **Are there differences in how accurate each of the three models you made in part 1 are for different gender IDs?** (do NOT build a new model for this question. This is simply asking whether any of our models are more accurate when applied to different gender groups, regardless of whether gender was used in the model. If it helps, imagine you're about to deploy this model in the real world, and your boss asks whether the model is biased against/for certain gender groups).\n",
        "    - C) **Are your models better at predicting people who got loans, or didn't get loans? How can you tell? Discuss thoroughly the possible implications of this.**"
      ]
    }
  ],
  "metadata": {
    "hide_input": false,
    "kernelspec": {
      "display_name": "Python 3",
      "language": "python",
      "name": "python3"
    },
    "language_info": {
      "codemirror_mode": {
        "name": "ipython",
        "version": 3
      },
      "file_extension": ".py",
      "mimetype": "text/x-python",
      "name": "python",
      "nbconvert_exporter": "python",
      "pygments_lexer": "ipython3",
      "version": "3.8.1"
    },
    "toc": {
      "base_numbering": 1,
      "nav_menu": {},
      "number_sections": true,
      "sideBar": true,
      "skip_h1_title": false,
      "title_cell": "Table of Contents",
      "title_sidebar": "Contents",
      "toc_cell": false,
      "toc_position": {},
      "toc_section_display": true,
      "toc_window_display": false
    },
    "colab": {
      "name": "HW2_SP22.ipynb",
      "provenance": []
    }
  },
  "nbformat": 4,
  "nbformat_minor": 0
}
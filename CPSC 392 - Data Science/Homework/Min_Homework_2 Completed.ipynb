{
 "cells": [
  {
   "cell_type": "code",
   "execution_count": 159,
   "metadata": {},
   "outputs": [],
   "source": [
    "# importing necessary packages\n",
    "\n",
    "import warnings\n",
    "warnings.filterwarnings('ignore')\n",
    "\n",
    "import pandas as pd\n",
    "import numpy as np\n",
    "from plotnine import *\n",
    "\n",
    "from sklearn.tree import DecisionTreeClassifier\n",
    "from sklearn.neighbors import KNeighborsClassifier\n",
    "from sklearn.linear_model import LogisticRegression\n",
    "from sklearn.model_selection import train_test_split\n",
    "from sklearn.preprocessing import StandardScaler\n",
    "\n",
    "import matplotlib.pyplot as plt\n",
    "\n",
    "from sklearn.model_selection import train_test_split\n",
    "from sklearn.metrics import accuracy_score\n",
    "from sklearn.metrics import plot_confusion_matrix\n",
    "from sklearn.model_selection import GridSearchCV\n",
    "from sklearn.pipeline import make_pipeline\n",
    "from sklearn.compose import make_column_transformer\n",
    "\n",
    "%matplotlib inline"
   ]
  },
  {
   "cell_type": "markdown",
   "metadata": {},
   "source": [
    "### 1a. K-Nearest Neighbors"
   ]
  },
  {
   "cell_type": "code",
   "execution_count": 160,
   "metadata": {},
   "outputs": [
    {
     "data": {
      "text/html": [
       "<div>\n",
       "<style scoped>\n",
       "    .dataframe tbody tr th:only-of-type {\n",
       "        vertical-align: middle;\n",
       "    }\n",
       "\n",
       "    .dataframe tbody tr th {\n",
       "        vertical-align: top;\n",
       "    }\n",
       "\n",
       "    .dataframe thead th {\n",
       "        text-align: right;\n",
       "    }\n",
       "</style>\n",
       "<table border=\"1\" class=\"dataframe\">\n",
       "  <thead>\n",
       "    <tr style=\"text-align: right;\">\n",
       "      <th></th>\n",
       "      <th>age</th>\n",
       "      <th>had_cancer</th>\n",
       "      <th>gender_id</th>\n",
       "      <th>income_in_k</th>\n",
       "      <th>state</th>\n",
       "      <th>credit_score</th>\n",
       "      <th>num_credit_sources</th>\n",
       "      <th>utilization_rate</th>\n",
       "      <th>gave_loan</th>\n",
       "    </tr>\n",
       "  </thead>\n",
       "  <tbody>\n",
       "    <tr>\n",
       "      <th>0</th>\n",
       "      <td>39</td>\n",
       "      <td>0</td>\n",
       "      <td>Female</td>\n",
       "      <td>54</td>\n",
       "      <td>TX</td>\n",
       "      <td>448</td>\n",
       "      <td>4</td>\n",
       "      <td>0.32</td>\n",
       "      <td>0</td>\n",
       "    </tr>\n",
       "    <tr>\n",
       "      <th>1</th>\n",
       "      <td>43</td>\n",
       "      <td>0</td>\n",
       "      <td>Female</td>\n",
       "      <td>66</td>\n",
       "      <td>NJ</td>\n",
       "      <td>399</td>\n",
       "      <td>4</td>\n",
       "      <td>0.35</td>\n",
       "      <td>0</td>\n",
       "    </tr>\n",
       "    <tr>\n",
       "      <th>2</th>\n",
       "      <td>42</td>\n",
       "      <td>0</td>\n",
       "      <td>Male</td>\n",
       "      <td>50</td>\n",
       "      <td>NE</td>\n",
       "      <td>509</td>\n",
       "      <td>8</td>\n",
       "      <td>0.23</td>\n",
       "      <td>0</td>\n",
       "    </tr>\n",
       "    <tr>\n",
       "      <th>3</th>\n",
       "      <td>46</td>\n",
       "      <td>0</td>\n",
       "      <td>Female</td>\n",
       "      <td>79</td>\n",
       "      <td>TX</td>\n",
       "      <td>540</td>\n",
       "      <td>6</td>\n",
       "      <td>0.15</td>\n",
       "      <td>0</td>\n",
       "    </tr>\n",
       "    <tr>\n",
       "      <th>4</th>\n",
       "      <td>43</td>\n",
       "      <td>0</td>\n",
       "      <td>Female</td>\n",
       "      <td>49</td>\n",
       "      <td>NV</td>\n",
       "      <td>485</td>\n",
       "      <td>10</td>\n",
       "      <td>0.20</td>\n",
       "      <td>0</td>\n",
       "    </tr>\n",
       "  </tbody>\n",
       "</table>\n",
       "</div>"
      ],
      "text/plain": [
       "   age  had_cancer gender_id  income_in_k state  credit_score  \\\n",
       "0   39           0    Female           54    TX           448   \n",
       "1   43           0    Female           66    NJ           399   \n",
       "2   42           0      Male           50    NE           509   \n",
       "3   46           0    Female           79    TX           540   \n",
       "4   43           0    Female           49    NV           485   \n",
       "\n",
       "   num_credit_sources  utilization_rate  gave_loan  \n",
       "0                   4              0.32          0  \n",
       "1                   4              0.35          0  \n",
       "2                   8              0.23          0  \n",
       "3                   6              0.15          0  \n",
       "4                  10              0.20          0  "
      ]
     },
     "execution_count": 160,
     "metadata": {},
     "output_type": "execute_result"
    }
   ],
   "source": [
    "# importing CSV\n",
    "\n",
    "url = 'https://raw.githubusercontent.com/cmparlettpelleriti/CPSC392ParlettPelleriti/master/Data/HW2.csv'\n",
    "df = pd.read_csv(url)\n",
    "\n",
    "df.head()"
   ]
  },
  {
   "cell_type": "code",
   "execution_count": 161,
   "metadata": {},
   "outputs": [
    {
     "data": {
      "text/plain": [
       "age                   0\n",
       "had_cancer            0\n",
       "gender_id             0\n",
       "income_in_k           0\n",
       "state                 0\n",
       "credit_score          0\n",
       "num_credit_sources    0\n",
       "utilization_rate      0\n",
       "gave_loan             0\n",
       "dtype: int64"
      ]
     },
     "execution_count": 161,
     "metadata": {},
     "output_type": "execute_result"
    }
   ],
   "source": [
    "# checking for missing data\n",
    "df.isnull().sum()"
   ]
  },
  {
   "cell_type": "code",
   "execution_count": 162,
   "metadata": {},
   "outputs": [
    {
     "data": {
      "text/html": [
       "<div>\n",
       "<style scoped>\n",
       "    .dataframe tbody tr th:only-of-type {\n",
       "        vertical-align: middle;\n",
       "    }\n",
       "\n",
       "    .dataframe tbody tr th {\n",
       "        vertical-align: top;\n",
       "    }\n",
       "\n",
       "    .dataframe thead th {\n",
       "        text-align: right;\n",
       "    }\n",
       "</style>\n",
       "<table border=\"1\" class=\"dataframe\">\n",
       "  <thead>\n",
       "    <tr style=\"text-align: right;\">\n",
       "      <th></th>\n",
       "      <th>age</th>\n",
       "      <th>had_cancer</th>\n",
       "      <th>income_in_k</th>\n",
       "      <th>state</th>\n",
       "      <th>credit_score</th>\n",
       "      <th>num_credit_sources</th>\n",
       "      <th>utilization_rate</th>\n",
       "      <th>gave_loan</th>\n",
       "      <th>Female</th>\n",
       "      <th>Male</th>\n",
       "      <th>Non-Binary</th>\n",
       "      <th>Survey Choices Do Not Accurately Reflect My Identity</th>\n",
       "    </tr>\n",
       "  </thead>\n",
       "  <tbody>\n",
       "    <tr>\n",
       "      <th>0</th>\n",
       "      <td>39</td>\n",
       "      <td>0</td>\n",
       "      <td>54</td>\n",
       "      <td>TX</td>\n",
       "      <td>448</td>\n",
       "      <td>4</td>\n",
       "      <td>0.32</td>\n",
       "      <td>0</td>\n",
       "      <td>1</td>\n",
       "      <td>0</td>\n",
       "      <td>0</td>\n",
       "      <td>0</td>\n",
       "    </tr>\n",
       "    <tr>\n",
       "      <th>1</th>\n",
       "      <td>43</td>\n",
       "      <td>0</td>\n",
       "      <td>66</td>\n",
       "      <td>NJ</td>\n",
       "      <td>399</td>\n",
       "      <td>4</td>\n",
       "      <td>0.35</td>\n",
       "      <td>0</td>\n",
       "      <td>1</td>\n",
       "      <td>0</td>\n",
       "      <td>0</td>\n",
       "      <td>0</td>\n",
       "    </tr>\n",
       "    <tr>\n",
       "      <th>2</th>\n",
       "      <td>42</td>\n",
       "      <td>0</td>\n",
       "      <td>50</td>\n",
       "      <td>NE</td>\n",
       "      <td>509</td>\n",
       "      <td>8</td>\n",
       "      <td>0.23</td>\n",
       "      <td>0</td>\n",
       "      <td>0</td>\n",
       "      <td>1</td>\n",
       "      <td>0</td>\n",
       "      <td>0</td>\n",
       "    </tr>\n",
       "    <tr>\n",
       "      <th>3</th>\n",
       "      <td>46</td>\n",
       "      <td>0</td>\n",
       "      <td>79</td>\n",
       "      <td>TX</td>\n",
       "      <td>540</td>\n",
       "      <td>6</td>\n",
       "      <td>0.15</td>\n",
       "      <td>0</td>\n",
       "      <td>1</td>\n",
       "      <td>0</td>\n",
       "      <td>0</td>\n",
       "      <td>0</td>\n",
       "    </tr>\n",
       "    <tr>\n",
       "      <th>4</th>\n",
       "      <td>43</td>\n",
       "      <td>0</td>\n",
       "      <td>49</td>\n",
       "      <td>NV</td>\n",
       "      <td>485</td>\n",
       "      <td>10</td>\n",
       "      <td>0.20</td>\n",
       "      <td>0</td>\n",
       "      <td>1</td>\n",
       "      <td>0</td>\n",
       "      <td>0</td>\n",
       "      <td>0</td>\n",
       "    </tr>\n",
       "  </tbody>\n",
       "</table>\n",
       "</div>"
      ],
      "text/plain": [
       "   age  had_cancer  income_in_k state  credit_score  num_credit_sources  \\\n",
       "0   39           0           54    TX           448                   4   \n",
       "1   43           0           66    NJ           399                   4   \n",
       "2   42           0           50    NE           509                   8   \n",
       "3   46           0           79    TX           540                   6   \n",
       "4   43           0           49    NV           485                  10   \n",
       "\n",
       "   utilization_rate  gave_loan  Female  Male  Non-Binary  \\\n",
       "0              0.32          0       1     0           0   \n",
       "1              0.35          0       1     0           0   \n",
       "2              0.23          0       0     1           0   \n",
       "3              0.15          0       1     0           0   \n",
       "4              0.20          0       1     0           0   \n",
       "\n",
       "   Survey Choices Do Not Accurately Reflect My Identity  \n",
       "0                                                  0     \n",
       "1                                                  0     \n",
       "2                                                  0     \n",
       "3                                                  0     \n",
       "4                                                  0     "
      ]
     },
     "execution_count": 162,
     "metadata": {},
     "output_type": "execute_result"
    }
   ],
   "source": [
    "# using get_dummies() to convert gender into dummy variables\n",
    "dummies = pd.get_dummies(df['gender_id'])\n",
    "\n",
    "# concating new columns to dataframe\n",
    "df = pd.concat([df,dummies], axis = 1)\n",
    "\n",
    "# removing original column from dataframe\n",
    "df.drop('gender_id', inplace = True, axis = 1)\n",
    "df.head()"
   ]
  },
  {
   "cell_type": "code",
   "execution_count": 163,
   "metadata": {},
   "outputs": [
    {
     "data": {
      "text/html": [
       "<div>\n",
       "<style scoped>\n",
       "    .dataframe tbody tr th:only-of-type {\n",
       "        vertical-align: middle;\n",
       "    }\n",
       "\n",
       "    .dataframe tbody tr th {\n",
       "        vertical-align: top;\n",
       "    }\n",
       "\n",
       "    .dataframe thead th {\n",
       "        text-align: right;\n",
       "    }\n",
       "</style>\n",
       "<table border=\"1\" class=\"dataframe\">\n",
       "  <thead>\n",
       "    <tr style=\"text-align: right;\">\n",
       "      <th></th>\n",
       "      <th>age</th>\n",
       "      <th>had_cancer</th>\n",
       "      <th>income_in_k</th>\n",
       "      <th>credit_score</th>\n",
       "      <th>num_credit_sources</th>\n",
       "      <th>utilization_rate</th>\n",
       "      <th>gave_loan</th>\n",
       "      <th>Female</th>\n",
       "      <th>Male</th>\n",
       "      <th>Non-Binary</th>\n",
       "      <th>...</th>\n",
       "      <th>SD</th>\n",
       "      <th>TN</th>\n",
       "      <th>TX</th>\n",
       "      <th>UT</th>\n",
       "      <th>VA</th>\n",
       "      <th>VT</th>\n",
       "      <th>WA</th>\n",
       "      <th>WI</th>\n",
       "      <th>WV</th>\n",
       "      <th>WY</th>\n",
       "    </tr>\n",
       "  </thead>\n",
       "  <tbody>\n",
       "    <tr>\n",
       "      <th>0</th>\n",
       "      <td>39</td>\n",
       "      <td>0</td>\n",
       "      <td>54</td>\n",
       "      <td>448</td>\n",
       "      <td>4</td>\n",
       "      <td>0.32</td>\n",
       "      <td>0</td>\n",
       "      <td>1</td>\n",
       "      <td>0</td>\n",
       "      <td>0</td>\n",
       "      <td>...</td>\n",
       "      <td>0</td>\n",
       "      <td>0</td>\n",
       "      <td>1</td>\n",
       "      <td>0</td>\n",
       "      <td>0</td>\n",
       "      <td>0</td>\n",
       "      <td>0</td>\n",
       "      <td>0</td>\n",
       "      <td>0</td>\n",
       "      <td>0</td>\n",
       "    </tr>\n",
       "    <tr>\n",
       "      <th>1</th>\n",
       "      <td>43</td>\n",
       "      <td>0</td>\n",
       "      <td>66</td>\n",
       "      <td>399</td>\n",
       "      <td>4</td>\n",
       "      <td>0.35</td>\n",
       "      <td>0</td>\n",
       "      <td>1</td>\n",
       "      <td>0</td>\n",
       "      <td>0</td>\n",
       "      <td>...</td>\n",
       "      <td>0</td>\n",
       "      <td>0</td>\n",
       "      <td>0</td>\n",
       "      <td>0</td>\n",
       "      <td>0</td>\n",
       "      <td>0</td>\n",
       "      <td>0</td>\n",
       "      <td>0</td>\n",
       "      <td>0</td>\n",
       "      <td>0</td>\n",
       "    </tr>\n",
       "    <tr>\n",
       "      <th>2</th>\n",
       "      <td>42</td>\n",
       "      <td>0</td>\n",
       "      <td>50</td>\n",
       "      <td>509</td>\n",
       "      <td>8</td>\n",
       "      <td>0.23</td>\n",
       "      <td>0</td>\n",
       "      <td>0</td>\n",
       "      <td>1</td>\n",
       "      <td>0</td>\n",
       "      <td>...</td>\n",
       "      <td>0</td>\n",
       "      <td>0</td>\n",
       "      <td>0</td>\n",
       "      <td>0</td>\n",
       "      <td>0</td>\n",
       "      <td>0</td>\n",
       "      <td>0</td>\n",
       "      <td>0</td>\n",
       "      <td>0</td>\n",
       "      <td>0</td>\n",
       "    </tr>\n",
       "    <tr>\n",
       "      <th>3</th>\n",
       "      <td>46</td>\n",
       "      <td>0</td>\n",
       "      <td>79</td>\n",
       "      <td>540</td>\n",
       "      <td>6</td>\n",
       "      <td>0.15</td>\n",
       "      <td>0</td>\n",
       "      <td>1</td>\n",
       "      <td>0</td>\n",
       "      <td>0</td>\n",
       "      <td>...</td>\n",
       "      <td>0</td>\n",
       "      <td>0</td>\n",
       "      <td>1</td>\n",
       "      <td>0</td>\n",
       "      <td>0</td>\n",
       "      <td>0</td>\n",
       "      <td>0</td>\n",
       "      <td>0</td>\n",
       "      <td>0</td>\n",
       "      <td>0</td>\n",
       "    </tr>\n",
       "    <tr>\n",
       "      <th>4</th>\n",
       "      <td>43</td>\n",
       "      <td>0</td>\n",
       "      <td>49</td>\n",
       "      <td>485</td>\n",
       "      <td>10</td>\n",
       "      <td>0.20</td>\n",
       "      <td>0</td>\n",
       "      <td>1</td>\n",
       "      <td>0</td>\n",
       "      <td>0</td>\n",
       "      <td>...</td>\n",
       "      <td>0</td>\n",
       "      <td>0</td>\n",
       "      <td>0</td>\n",
       "      <td>0</td>\n",
       "      <td>0</td>\n",
       "      <td>0</td>\n",
       "      <td>0</td>\n",
       "      <td>0</td>\n",
       "      <td>0</td>\n",
       "      <td>0</td>\n",
       "    </tr>\n",
       "  </tbody>\n",
       "</table>\n",
       "<p>5 rows × 61 columns</p>\n",
       "</div>"
      ],
      "text/plain": [
       "   age  had_cancer  income_in_k  credit_score  num_credit_sources  \\\n",
       "0   39           0           54           448                   4   \n",
       "1   43           0           66           399                   4   \n",
       "2   42           0           50           509                   8   \n",
       "3   46           0           79           540                   6   \n",
       "4   43           0           49           485                  10   \n",
       "\n",
       "   utilization_rate  gave_loan  Female  Male  Non-Binary  ...  SD  TN  TX  UT  \\\n",
       "0              0.32          0       1     0           0  ...   0   0   1   0   \n",
       "1              0.35          0       1     0           0  ...   0   0   0   0   \n",
       "2              0.23          0       0     1           0  ...   0   0   0   0   \n",
       "3              0.15          0       1     0           0  ...   0   0   1   0   \n",
       "4              0.20          0       1     0           0  ...   0   0   0   0   \n",
       "\n",
       "   VA  VT  WA  WI  WV  WY  \n",
       "0   0   0   0   0   0   0  \n",
       "1   0   0   0   0   0   0  \n",
       "2   0   0   0   0   0   0  \n",
       "3   0   0   0   0   0   0  \n",
       "4   0   0   0   0   0   0  \n",
       "\n",
       "[5 rows x 61 columns]"
      ]
     },
     "execution_count": 163,
     "metadata": {},
     "output_type": "execute_result"
    }
   ],
   "source": [
    "# using get_dummies() to convert gender into dummy variables\n",
    "dummies = pd.get_dummies(df['state'])\n",
    "\n",
    "# concating new columns to dataframe\n",
    "df = pd.concat([df,dummies], axis = 1)\n",
    "\n",
    "# removing original column from dataframe\n",
    "df.drop('state', inplace = True, axis = 1)\n",
    "\n",
    "df.head()\n",
    "\n"
   ]
  },
  {
   "cell_type": "code",
   "execution_count": 164,
   "metadata": {},
   "outputs": [
    {
     "name": "stdout",
     "output_type": "stream",
     "text": [
      "Accuracy for our training dataset with tuning is :  0.73625\n",
      "Accuracy for our test dataset with tuning is :  0.7375\n",
      "The best k value was found to be:  28\n"
     ]
    },
    {
     "data": {
      "text/plain": [
       "Text(0.5, 1.0, 'Confusion Matrix for Test Set')"
      ]
     },
     "execution_count": 164,
     "metadata": {},
     "output_type": "execute_result"
    },
    {
     "data": {
      "image/png": "[encoded data removed]",
      "text/plain": [
       "<Figure size 432x288 with 2 Axes>"
      ]
     },
     "metadata": {
      "needs_background": "light"
     },
     "output_type": "display_data"
    },
    {
     "data": {
      "image/png": "[encoded data removed]",
      "text/plain": [
       "<Figure size 432x288 with 2 Axes>"
      ]
     },
     "metadata": {
      "needs_background": "light"
     },
     "output_type": "display_data"
    }
   ],
   "source": [
    "# KNN model\n",
    "\n",
    "# all predictors\n",
    "predictors = ['age', 'had_cancer', 'income_in_k', 'AK', 'AL', 'AR', 'AZ', 'CA', 'CO', 'CT', \n",
    "'DE', 'FL', 'GA', 'HI','IA', 'ID', 'IL', 'IN', 'KS', 'KY', 'LA', 'MA', 'MD', 'ME', 'MI', 'MN', \n",
    "'MO', 'MS', 'MT', 'NC', 'ND', 'NE', 'NH', 'NJ', 'NM', 'NV', 'NY', 'OH', 'OK', 'OR', 'PA', 'RI', \n",
    "'SC', 'SD', 'TN', 'TX', 'UT', 'VA', 'VT', 'WA', 'WI', 'WV', 'WY', 'credit_score', 'num_credit_sources', \n",
    "'utilization_rate', 'Female', 'Male', 'Non-Binary', 'Survey Choices Do Not Accurately Reflect My Identity']\n",
    "\n",
    "# predictors with only continuous/interval columns\n",
    "contin = ['age', 'credit_score', 'income_in_k', 'num_credit_sources', 'utilization_rate']\n",
    "\n",
    "X = df[predictors]\n",
    "y = df['gave_loan']\n",
    "\n",
    "# split into training and test\n",
    "X_train, X_test, y_train, y_test = train_test_split(X, y, test_size = 0.2)\n",
    "\n",
    "# create model\n",
    "knn = KNeighborsClassifier()\n",
    "\n",
    "# create z score object\n",
    "z = make_column_transformer((StandardScaler(), contin))\n",
    "\n",
    "# make pipeline\n",
    "pipe = make_pipeline(z, knn)\n",
    "\n",
    "# find the k 'key'\n",
    "pipe.get_params().keys()\n",
    "\n",
    "# choose potential values of k\n",
    "ks = {\"kneighborsclassifier__n_neighbors\": range(1,30)}\n",
    "\n",
    "# use grid search to find best parameters\n",
    "grid = GridSearchCV(pipe, ks, scoring = \"accuracy\", cv = 5, refit = True)\n",
    "\n",
    "# fit model\n",
    "knnmod = grid.fit(X_train, y_train)\n",
    "\n",
    "# finding the accuracy of the training/test datasets\n",
    "print('Accuracy for our training dataset with tuning is : ', knnmod.score(X_train, y_train))\n",
    "print('Accuracy for our test dataset with tuning is : ', knnmod.score(X_test, y_test))\n",
    "\n",
    "# getting the k value used for the KNN model\n",
    "print('The best k value was found to be: ', knnmod.best_estimator_.get_params()['kneighborsclassifier__n_neighbors'])\n",
    "\n",
    "# plotting the confusion matrices\n",
    "plot_confusion_matrix(knnmod, X_train, y_train)\n",
    "plt.title('Confusion Matrix for Train Set')\n",
    "\n",
    "plot_confusion_matrix(knnmod, X_test, y_test)\n",
    "plt.title('Confusion Matrix for Test Set')"
   ]
  },
  {
   "cell_type": "markdown",
   "metadata": {},
   "source": [
    "### 1b. Decision Tree"
   ]
  },
  {
   "cell_type": "code",
   "execution_count": 172,
   "metadata": {},
   "outputs": [
    {
     "name": "stdout",
     "output_type": "stream",
     "text": [
      "Accuracy for our training dataset with tuning is :  0.7334375\n",
      "Accuracy for our test dataset with tuning is :  0.7325\n",
      "The best max_depth value was found to be:  1\n"
     ]
    },
    {
     "data": {
      "text/plain": [
       "Text(0.5, 1.0, 'Confusion Matrix for Test Set')"
      ]
     },
     "execution_count": 172,
     "metadata": {},
     "output_type": "execute_result"
    },
    {
     "data": {
      "image/png": "[encoded data removed]",
      "text/plain": [
       "<Figure size 432x288 with 2 Axes>"
      ]
     },
     "metadata": {
      "needs_background": "light"
     },
     "output_type": "display_data"
    },
    {
     "data": {
      "image/png": "[encoded data removed]",
      "text/plain": [
       "<Figure size 432x288 with 2 Axes>"
      ]
     },
     "metadata": {
      "needs_background": "light"
     },
     "output_type": "display_data"
    }
   ],
   "source": [
    "# Decision Tree Model\n",
    "\n",
    "X = df[predictors]\n",
    "y = df['gave_loan']\n",
    "\n",
    "# a new TTS is not made in this model because we want to use the same training set\n",
    "\n",
    "# z-scoring\n",
    "z = make_column_transformer((StandardScaler(), contin))\n",
    "\n",
    "# creating decision tree model\n",
    "tree = DecisionTreeClassifier()\n",
    "\n",
    "# making pipeline\n",
    "pipe = make_pipeline(z, tree)\n",
    "\n",
    "# find the max_depth 'key'\n",
    "pipe.get_params().keys()\n",
    "\n",
    "# choose potential values of max_depth\n",
    "depths = {\"decisiontreeclassifier__max_depth\": range(1,9)}\n",
    "\n",
    "# use grid search to find best value\n",
    "grid = GridSearchCV(pipe, depths, scoring = \"accuracy\", cv = 5, refit = True)\n",
    "\n",
    "# fit model\n",
    "dtmod = grid.fit(X_train, y_train)\n",
    "\n",
    "# finding the accuracy of the training dataset\n",
    "print('Accuracy for our training dataset with tuning is : ', dtmod.score(X_train, y_train))\n",
    "print('Accuracy for our test dataset with tuning is : ', dtmod.score(X_test, y_test))\n",
    "\n",
    "print('The best max_depth value was found to be: ', dtmod.best_estimator_.get_params()['decisiontreeclassifier__max_depth'])\n",
    "\n",
    "plot_confusion_matrix(dtmod, X_train, y_train)\n",
    "plt.title('Confusion Matrix for Train Set')\n",
    "\n",
    "plot_confusion_matrix(dtmod, X_test, y_test)\n",
    "plt.title('Confusion Matrix for Test Set')\n",
    "\n",
    "\n"
   ]
  },
  {
   "cell_type": "markdown",
   "metadata": {},
   "source": [
    "### 1c. Logistic Regression"
   ]
  },
  {
   "cell_type": "code",
   "execution_count": null,
   "metadata": {},
   "outputs": [
    {
     "name": "stdout",
     "output_type": "stream",
     "text": [
      "The accuracy score of the train set is:  0.733125\n",
      "The accuracy score of the test set is:  0.73875\n"
     ]
    },
    {
     "data": {
      "text/plain": [
       "Text(0.5, 1.0, 'Confusion Matrix for Test Set')"
      ]
     },
     "execution_count": 154,
     "metadata": {},
     "output_type": "execute_result"
    },
    {
     "data": {
      "image/png": "[encoded data removed]",
      "text/plain": [
       "<Figure size 432x288 with 2 Axes>"
      ]
     },
     "metadata": {
      "needs_background": "light"
     },
     "output_type": "display_data"
    },
    {
     "data": {
      "image/png": "[encoded data removed]",
      "text/plain": [
       "<Figure size 432x288 with 2 Axes>"
      ]
     },
     "metadata": {
      "needs_background": "light"
     },
     "output_type": "display_data"
    }
   ],
   "source": [
    "# Logistic Regression Model\n",
    "\n",
    "# a new TTS is not made in this model because we want to use the same training set\n",
    "\n",
    "# creating Logistic Regression model\n",
    "lr = LogisticRegression()\n",
    "\n",
    "# z scoring continuous/interval variables\n",
    "zscore = StandardScaler()\n",
    "zscore.fit(X_train[contin])\n",
    "Xz_train = zscore.transform(X_train[contin])\n",
    "Xz_test = zscore.transform(X_test[contin])\n",
    "\n",
    "# fit model\n",
    "model = lr.fit(X_train, y_train)\n",
    "    \n",
    "a = accuracy_score(y_test, model.predict(X_test))\n",
    "b = accuracy_score(y_train, model.predict(X_train))\n",
    "print('The accuracy score of the train set is: ', b)\n",
    "print('The accuracy score of the test set is: ', a)\n",
    "\n",
    "plot_confusion_matrix(model, X_train, y_train)\n",
    "plt.title('Confusion Matrix for Test Set')\n",
    "\n",
    "plot_confusion_matrix(model, X_train, y_train)\n",
    "plt.title('Confusion Matrix for Test Set')\n"
   ]
  },
  {
   "cell_type": "markdown",
   "metadata": {},
   "source": [
    "### 2a. Using accuracy AND confusion matrices, **thoroughly discuss which model did best (if you had to pick one), how can you tell?**\n",
    "\n",
    "Based on the confusion matricies for the test and train set for each of the models (KNN, Decision Trees, Logistic Regression), the Logistic Regression model performed the best. The accuracy score for the test set in the logistic regression model was ~0.739, which was the highest compared to the  K-Nearest Neighbors (KNN) and Decision Tree models, which had accuracy scores of of ~0.738 and ~0.733 respectively. The confusion matrices across all three models had similar characteristics, with a majority of the predicted label being '0,' which represented individuals that were predicted to not recieve a loan. The confusion matrix of the Decision Tree model was the \"worst,\" with the model giving no prediction that any individual would recieve a loan. The K-Nearest Neighbor and Logistic Regression model had more spread out results, but both models predicted that most individuals would not recieve a loan. Although the confusion matrices seem to heavily favor giving no loans, the high accuracy shows that most people did in fact recieve a loan. Reviewing the accuracy scores and confusion matrices showed that Logistic Regression would be best suited (although it is only marginally better than K-Nearest Neighbors).\n",
    "\n",
    "### 2b.  **Are there differences in how accurate each of the three models you made in part 1 are for different gender IDs?** (do NOT build a new model for this question. This is simply asking whether any of our models are more accurate when applied to different gender groups, regardless of whether gender was used in the model. If it helps, imagine you're about to deploy this model in the real world, and your boss asks whether the model is biased against/for certain gender groups).\n",
    "\n",
    "### 2c. **Are your models better at predicting people who got loans, or didn't get loans? How can you tell? Discuss thoroughly the possible implications of this.**\n"
   ]
  }
 ],
 "metadata": {
  "interpreter": {
   "hash": "be60b416b2c528e90308df9fac4e2020212f6a74b9554901ff9fcab4e99b7ca6"
  },
  "kernelspec": {
   "display_name": "Python 3.9.1 64-bit",
   "language": "python",
   "name": "python3"
  },
  "language_info": {
   "codemirror_mode": {
    "name": "ipython",
    "version": 3
   },
   "file_extension": ".py",
   "mimetype": "text/x-python",
   "name": "python",
   "nbconvert_exporter": "python",
   "pygments_lexer": "ipython3",
   "version": "3.9.1"
  },
  "orig_nbformat": 4
 },
 "nbformat": 4,
 "nbformat_minor": 2
}

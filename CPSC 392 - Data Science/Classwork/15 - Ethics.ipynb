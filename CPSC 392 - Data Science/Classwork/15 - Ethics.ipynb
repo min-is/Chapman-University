{
  "cells": [
    {
      "cell_type": "markdown",
      "metadata": {
        "id": "0StdfLtPK2Bk"
      },
      "source": [
        "# Ethics\n",
        "\n",
        "[Case Studies Here](https://aiethics.princeton.edu/case-studies/case-study-pdfs/)\n",
        "\n",
        "## Questions to Discuss as a Group \n",
        "- What ethical issues do you see here? How could the people in this case study overcome these issues, or at least reduce their severity/risk?\n",
        "- What good things do you see being done in order to be ethical, fair, and not cause harm?\n",
        "- Are there groups of people who will be harmed *disproportionately* by the actions described in this case study?\n",
        "- How could having a diverse team (in terms of race, gender, socioecomonic status, expertise...etc) working on the project described, *help* prevent some or any of the ethical issues you encountered?\n",
        "- What is one *specific* thing this case study has made you aware of that you will now check for in all of your future work?\n",
        "\n",
        "\n",
        "Choose 1 person to be your main \"speaker\", who will summarize what you found to the class when we come back together.\n"
      ]
    }
  ],
  "metadata": {
    "hide_input": false,
    "kernelspec": {
      "display_name": "Python 3",
      "language": "python",
      "name": "python3"
    },
    "language_info": {
      "codemirror_mode": {
        "name": "ipython",
        "version": 3
      },
      "file_extension": ".py",
      "mimetype": "text/x-python",
      "name": "python",
      "nbconvert_exporter": "python",
      "pygments_lexer": "ipython3",
      "version": "3.8.1"
    },
    "toc": {
      "base_numbering": 1,
      "nav_menu": {},
      "number_sections": true,
      "sideBar": true,
      "skip_h1_title": false,
      "title_cell": "Table of Contents",
      "title_sidebar": "Contents",
      "toc_cell": false,
      "toc_position": {},
      "toc_section_display": true,
      "toc_window_display": false
    },
    "colab": {
      "name": "EthicsClass15.ipynb",
      "provenance": []
    }
  },
  "nbformat": 4,
  "nbformat_minor": 0
}
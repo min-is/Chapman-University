{
  "cells": [
    {
      "cell_type": "code",
      "execution_count": null,
      "metadata": {
        "id": "KBvAuPU0U5Mc"
      },
      "outputs": [],
      "source": [
        "import warnings\n",
        "warnings.filterwarnings('ignore')\n",
        "from plotnine import *\n",
        "\n",
        "from sklearn.decomposition import PCA\n",
        "import pandas as pd\n",
        "\n",
        "from sklearn.preprocessing import StandardScaler\n",
        "from sklearn.linear_model import LinearRegression, Ridge, Lasso, ElasticNet\n",
        "from sklearn.preprocessing import StandardScaler #Z-score variables\n",
        "from sklearn.metrics import r2_score, mean_squared_error, mean_absolute_error\n",
        "from sklearn.model_selection import train_test_split # simple TT split cv\n",
        "\n",
        "\n",
        "import numpy as np"
      ]
    },
    {
      "cell_type": "markdown",
      "metadata": {
        "id": "4NNzM0x0U5Mf"
      },
      "source": [
        "# 0. Together\n",
        "\n",
        "Regularization is a way to adjust your *loss function* to reflect the belief that very small relationships between variables are *probably* due to weird quirks of our particular sample, and don't apply to the population as a whole. Forcing these small relationships to be smaller (Ridge) or zero (LASSO) can help our model perform better on *other* samples of data, therefore helping to combat overfitting.\n",
        "\n",
        "LASSO specifically is used as a method of **variable selection**, because reducing a variables coefficient to zero is essentially the same thing as *removing* it from the model. While in ML we often don't care about or use p-values, the Statistician part of me needs to tell you this: *if you use LASSO to choose the variables in your model, the p-values and confidence intervals are NO LONGER VALID.* If you want to use p-values and CIs still, you need to correct for the fact that you \"cherry-picked\" the best variables from the model. See [this paper](https://www.pnas.org/content/112/25/7629) if you're ever going to do this. PLEASE.\n",
        "\n",
        "## Ridge\n",
        "Ridge Regression adds an extra penalty to the typical regression loss function: the L2 Norm. L2 refers to the fact that we take every coefficient, square it (i.e. take it to the 2nd power), add them together, and take the square root. You might notice that the L2 norm is also how we calculate distances, which is why the `np.linalg.norm()` function has been helpful to calculate distances!\n",
        "\n",
        "$$ L2 = \\sqrt{\\sum_{i = 1}^N X_N^2}$$\n",
        "\n",
        "## LASSO\n",
        "LASSO adds a *different* extra penalty to the typical regression loss function: the L1 Norm. L1 refers to the fact that we take every coefficient, take the absolute value, and add them together. \n",
        "\n",
        "$$ L1 = \\sum_{i = 1}^N \\lvert X_N\\rvert $$\n",
        "\n",
        "\n",
        "\n",
        "## Alternative Regularization Explanation\n",
        "\n",
        "You can also think of Ridge and LASSO as having a \"budget\" for how big the sum of your (squared or absolute valued) coefficients can be.\n",
        "\n",
        "![](https://qph.fs.quoracdn.net/main-qimg-2a88e2acc009fa4de3edeb51e683ca02.webp)\n",
        "\n",
        "This graph shows the concept of LASSO and RIDGE in a simple 2-parameter situation. The teal/blue circle (right) and square (left) represent the values for $\\beta_1$ and $\\beta_2$ that satisfy the \"budget\" for our coefficients. The dot in the middle of the red rings represents what the coefficients would be if we did not add a penalty at all. As you move from the inner to the outer red rings, the Residual Sums of Squares (RSS) goes up, meaning that our model is worse at accurately predicting data in our sample (remember that we're giving up accuracy in the *current* sample, to hopefully gain accuracy out-of-sample).\n",
        "\n",
        "You can see that the coefficients chosen by LASSO/Ridge occur at the point of the teal/blue area that meets the red rings. This is because 1) when we penalize our model, it HAS to fit within the contraints we give it (the teal/blue area) but 2) we still want the RSS to be as small as possible (a model that's bad on ALL data sets isn't useful).\n",
        "\n",
        "## How to choose between LASSO and Ridge?\n",
        "\n",
        "In general: if you want to do variable selection (i.e. completely remove some variables), choose LASSO. But in the real world, people often use something called Elastic Net, which adds both LASSO (L1) *and* Ridge (L2) penalties to the loss function:\n",
        "\n",
        "$$ ElasticNet = \\alpha \\sum_{i = 1}^N \\lvert X_N\\rvert + (1-\\alpha)\\sqrt{\\sum_{i = 1}^N X_N^2} $$"
      ]
    },
    {
      "cell_type": "markdown",
      "metadata": {
        "id": "_UNh-gl6U5Mh"
      },
      "source": [
        "# Hyperparameter Tuning + Regularization\n",
        "\n",
        "The penalty terms (called `alpha` in LASSO and Ridge) have a huge impact on how much LASSO and Ridge drag coefficients towards (or to) zero. The bigger alpha, the bigger the penalty. So we often need to use hyperparameter tuning in order to choose `alpha`.\n",
        "\n",
        "We can do this the exact same way we did with things like `max_depth` and `n_neighbors`."
      ]
    },
    {
      "cell_type": "code",
      "execution_count": null,
      "metadata": {
        "id": "4cHnSgu3U5Mh"
      },
      "outputs": [],
      "source": [
        "from sklearn.pipeline import make_pipeline\n",
        "from sklearn.compose import make_column_transformer\n",
        "from sklearn.model_selection import GridSearchCV\n",
        "\n",
        "\n",
        "df = pd.read_csv(\"https://raw.githubusercontent.com/cmparlettpelleriti/CPSC392ParlettPelleriti/master/Data/spotifypandas.csv\")\n",
        "\n",
        "\n",
        "# from All the Stuff You Need to Know (Python)\n",
        "num = ['int16', 'int32', 'int64', 'float16', 'float32', 'float64']\n",
        "\n",
        "df_numeric = df.select_dtypes(include = num)\n",
        "\n",
        "predictors = [x for x in df_numeric.columns if x != \"tempo\"]\n",
        "continuous = [x for x in predictors if x != \"mode\"]\n",
        "\n",
        "\n",
        "X = df_numeric[predictors]\n",
        "y = df_numeric[\"tempo\"]\n",
        "\n",
        "# TTS\n",
        "X_train, X_test, y_train, y_test = train_test_split(X,y, test_size = 0.2, random_state = 42)\n",
        "\n",
        "# pipeline\n",
        "\n",
        "# print(pipe.get_params().keys())\n",
        "\n",
        "# gridsearch\n",
        "a = {\"lasso__alpha\": [0.0001, 0.001, 0.01, 0.05, 0.1, 0.25, 0.5, 0.75, 1, 2, 3, 5]}\n",
        "\n",
        "\n",
        "# evaluate model\n",
        "print(\"PENALTY:\", grid.best_estimator_.get_params()[\"lasso__alpha\"])\n",
        "print(\"TRAIN:\", r2_score(y_train, grid.predict(X_train)))\n",
        "print(\"TEST :\", r2_score(y_test, grid.predict(X_test)))\n"
      ]
    },
    {
      "cell_type": "markdown",
      "metadata": {
        "id": "qY444tbkU5Mi"
      },
      "source": [
        "# 1. Comparing Coefficients of Regression, LASSO, and Ridge\n",
        "\n",
        "The function `compare()` simulates a large dataset with 17 variables. 7 of those variables (the vowels, AEIOUYW) do have real relationships with the outcome, `X`. You can see the true coefficients in the part of the code that looks like this:\n",
        "\n",
        "```\n",
        " # coefficients\n",
        "    a = 8.23\n",
        "    e = 3.48\n",
        "    i = 2.97\n",
        "    o = 5.12\n",
        "    u = 7.83\n",
        "    y = 12.34\n",
        "    w = 1.38\n",
        "    \n",
        "```\n",
        "\n",
        "10 of the variables (the consonants, BCDFGHJKLMN) do not have *any* relationship with `X` (i.e. their true coefficient is 0).\n",
        "\n",
        "\n",
        "`compare()` then runs regular Regression (no penalty), Ridge Regression (L2 penalty) and LASSO (L1 penalty). "
      ]
    },
    {
      "cell_type": "code",
      "execution_count": null,
      "metadata": {
        "id": "UqWdU_cSU5Mi"
      },
      "outputs": [],
      "source": [
        "n = 1000 #number of samples per model\n",
        "nsims = 1000 # number of simulations\n",
        "alpha = 0.1 # how harshly we penalize"
      ]
    },
    {
      "cell_type": "code",
      "execution_count": null,
      "metadata": {
        "id": "QF8v1UjlU5Mj"
      },
      "outputs": [],
      "source": [
        "def compare(n = 10000, alpha = 1):\n",
        "    \n",
        "    # Real Variables\n",
        "    A = np.random.normal(0,1,n)\n",
        "    E = np.random.normal(0,1,n)\n",
        "    I = np.random.normal(0,1,n)\n",
        "    O = np.random.normal(0,1,n)\n",
        "    U = np.random.normal(0,1,n)\n",
        "    Y = np.random.normal(0,1,n)\n",
        "    W = np.random.normal(0,1,n)\n",
        "\n",
        "    # Unrelated Variables\n",
        "    B = np.random.normal(0,1,n)\n",
        "    C = np.random.normal(0,1,n)\n",
        "    D = np.random.normal(0,1,n)\n",
        "    G = np.random.normal(0,1,n)\n",
        "    H = np.random.normal(0,1,n)\n",
        "    J = np.random.normal(0,1,n)\n",
        "    K = np.random.normal(0,1,n)\n",
        "    L = np.random.normal(0,1,n)\n",
        "    M = np.random.normal(0,1,n)\n",
        "    N = np.random.normal(0,1,n)\n",
        "    \n",
        "    \n",
        "    # coefficients\n",
        "    a = 8.23\n",
        "    e = 3.48\n",
        "    i = 2.97\n",
        "    o = 5.12\n",
        "    u = 7.83\n",
        "    y = 12.34\n",
        "    w = 1.38\n",
        "    \n",
        "    # Outcome\n",
        "    X = 100 + A*a + E*e + I*i + O*o + U*u + Y*y + W*w + np.random.normal(0,15,n)\n",
        "    \n",
        "    \n",
        "    X = (X - np.mean(X))/np.std(X) # z-score X\n",
        "    # the other variables already have a mean of 0 and sd of 1\n",
        "    \n",
        "\n",
        "    # Data Frame\n",
        "    df = pd.DataFrame({\"A\": A,\"E\": E, \"I\":I,\"O\":O,\"U\":U,\n",
        "                       \"B\":B,\"C\":C,\"D\":D,\"G\":G,\"H\":H,\"J\":J,\n",
        "                       \"K\":K,\"L\":L,\"M\":M,\"N\":N,\"Y\":Y,\"W\":W,\n",
        "                       \"X\":X})\n",
        "\n",
        "    feat = [\"A\",\"B\",\"C\",\"D\",\"E\",\"G\",\"H\",\"I\",\"O\", \"U\", \"J\",\"K\",\"L\",\"M\",\"N\", \"Y\",\"W\"]\n",
        "\n",
        "    #linear\n",
        "    lr = LinearRegression()\n",
        "    lr.fit(df[feat], df[\"X\"])\n",
        "    lr_co = lr.coef_\n",
        "\n",
        "    #lasso\n",
        "    lasso = Lasso(alpha = alpha,\n",
        "                       fit_intercept = True, normalize = False,\n",
        "                       tol=0.0000001, max_iter = 100000)\n",
        "    lasso.fit(df[feat], df[\"X\"])\n",
        "    lasso_co = lasso.coef_\n",
        "\n",
        "    #ridge\n",
        "    ridge = Ridge(alpha = n*alpha, fit_intercept = True,\n",
        "                       normalize = False, tol=0.0000001, max_iter = 100000)\n",
        "    ridge.fit(df[feat], df[\"X\"])\n",
        "    ridge_co = ridge.coef_\n",
        "\n",
        "\n",
        "    conames = feat*3\n",
        "    coefs = np.concatenate([lr_co,lasso_co,ridge_co])\n",
        "\n",
        "    model = np.repeat(np.array([\"Linear\", \"LASSO\", \"Ridge\"]), [17, 17, 17], axis=0)\n",
        "\n",
        "    df = pd.DataFrame({\"conames\": conames,\n",
        "                      \"coefs\": coefs,\n",
        "                      \"model\": model})\n",
        "\n",
        "\n",
        "    return(df)\n"
      ]
    },
    {
      "cell_type": "markdown",
      "metadata": {
        "id": "V4sCy2TYU5Mk"
      },
      "source": [
        "This simulation below runs `compare()`, `nsims` times, and stores the results."
      ]
    },
    {
      "cell_type": "code",
      "execution_count": null,
      "metadata": {
        "id": "z-jNtH3YU5Mk"
      },
      "outputs": [],
      "source": [
        "# running the simulation\n",
        "sim = compare(n = n, alpha = alpha)\n",
        "\n",
        "for i in range(1,nsims):\n",
        "    sim = sim.append(compare(n = n, alpha = alpha), ignore_index = True)\n"
      ]
    },
    {
      "cell_type": "markdown",
      "metadata": {
        "id": "SgUhNFZnU5Ml"
      },
      "source": [
        "## Plotting the Coefficients from the Simulation"
      ]
    },
    {
      "cell_type": "code",
      "execution_count": null,
      "metadata": {
        "id": "nQaEVSN1U5Ml",
        "outputId": "eab96528-bc36-4529-ca39-afe0af70a18f"
      },
      "outputs": [
        {
          "data": {
            "image/png": "[encoded data removed]",
            "text/plain": [
              "<Figure size 640x480 with 1 Axes>"
            ]
          },
          "metadata": {
            "needs_background": "light"
          },
          "output_type": "display_data"
        },
        {
          "data": {
            "text/plain": [
              "<ggplot: (8774550230194)>"
            ]
          },
          "execution_count": 5,
          "metadata": {},
          "output_type": "execute_result"
        }
      ],
      "source": [
        "#put the coefficents in order\n",
        "sim[\"conames\"] = pd.Categorical(sim[\"conames\"], categories=[\"A\", \"E\", \"I\", \"O\", \"U\", \"Y\", \"W\",\n",
        "                                              \"B\",\"C\",\"D\",\"G\",\"H\",\"J\",\"K\",\"L\", \"M\",\"N\"])\n",
        "\n",
        "    \n",
        "# all coefficients\n",
        "(ggplot(sim, aes(x = \"conames\",\n",
        "                y = \"coefs\",\n",
        "                fill = \"model\")) +\n",
        "  geom_boxplot() + ggtitle(\"All Coefficients\") + theme_minimal())\n",
        "\n"
      ]
    },
    {
      "cell_type": "code",
      "execution_count": null,
      "metadata": {
        "id": "rvR3o4KdU5Mm",
        "outputId": "b8869ec9-4cc7-4d2c-af79-cb0c7aee6ea0"
      },
      "outputs": [
        {
          "data": {
            "image/png": "[encoded data removed]",
            "text/plain": [
              "<Figure size 640x480 with 1 Axes>"
            ]
          },
          "metadata": {
            "needs_background": "light"
          },
          "output_type": "display_data"
        },
        {
          "data": {
            "text/plain": [
              "<ggplot: (8774544626586)>"
            ]
          },
          "execution_count": 6,
          "metadata": {},
          "output_type": "execute_result"
        }
      ],
      "source": [
        "#just vowels (these are the variables that DO have relationships with X)\n",
        "(ggplot(sim.loc[sim['conames'].isin([\"A\", \"E\", \"I\", \"O\", \"U\", \"Y\", \"W\"]),]\n",
        ", aes(x = \"conames\",\n",
        "      y = \"coefs\",\n",
        "      fill = \"model\")) +\n",
        "  geom_boxplot() + ggtitle(\"Real Coefficients\") + theme_minimal())\n",
        "      "
      ]
    },
    {
      "cell_type": "code",
      "execution_count": null,
      "metadata": {
        "id": "EYLycPL8U5Mm",
        "outputId": "834558d5-b701-4af3-978a-0f7b18cdbea9"
      },
      "outputs": [
        {
          "data": {
            "image/png": "[encoded data removed]",
            "text/plain": [
              "<Figure size 640x480 with 1 Axes>"
            ]
          },
          "metadata": {
            "needs_background": "light"
          },
          "output_type": "display_data"
        },
        {
          "data": {
            "text/plain": [
              "<ggplot: (8774550313412)>"
            ]
          },
          "execution_count": 7,
          "metadata": {},
          "output_type": "execute_result"
        }
      ],
      "source": [
        "#just consonants (these are the variables that DO NOT have relationships with X)\n",
        "\n",
        "(ggplot(sim.loc[sim['conames'].isin([\"B\",\"C\",\"D\",\"G\",\"H\",\"J\",\"K\",\"L\", \"M\",\"N\"]),],\n",
        "        aes(x = \"conames\",\n",
        "        y = \"coefs\",\n",
        "        fill = \"model\")) +\n",
        "  geom_boxplot() + ggtitle(\"Unrelated Coefficients\") + theme_minimal())"
      ]
    },
    {
      "cell_type": "markdown",
      "metadata": {
        "id": "VpiI_U1lU5Mn"
      },
      "source": [
        "### *Question*\n",
        "\n",
        "Compare the ranges (using the boxplots generated above) of coefficients when using Linear Regression (unpenalized), LASSO (L1 penalty), and Ridge (L2 penalty). What patterns do you see in the coefficients that *do* have relationships with X (vowels)? What patterns do you see in the coefficients that *do not* have relationships with X (consonants)?\n",
        "\n",
        "<img src=\"https://drive.google.com/uc?export=view&id=1ghyQPx1N8dmU3MV4TrANvqNhGwnLni72\" width = 200px />"
      ]
    },
    {
      "cell_type": "markdown",
      "metadata": {
        "id": "B1nMr3TcU5Mn"
      },
      "source": [
        "### *Question*\n",
        "\n",
        "What do you think will happen if you increase `alpha`, which controls how much we penalize large coefficients? Try it out below:\n",
        "\n",
        "<img src=\"https://drive.google.com/uc?export=view&id=1ghyQPx1N8dmU3MV4TrANvqNhGwnLni72\" width = 200px />"
      ]
    },
    {
      "cell_type": "code",
      "execution_count": null,
      "metadata": {
        "id": "TNFNhSL-U5Mn"
      },
      "outputs": [],
      "source": [
        "n = 1000 #number of samples per model\n",
        "nsims = 1000 # number of simulations\n",
        "alpha =  # how harshly we penalize\n",
        "\n",
        "\n",
        "# running the simulation\n",
        "sim = compare(n = n, alpha = alpha)\n",
        "\n",
        "for i in range(1,nsims):\n",
        "    sim = sim.append(compare(n = n, alpha = alpha), ignore_index = True)\n",
        "\n",
        "    \n",
        "    \n",
        "#put the coefficents in order\n",
        "sim[\"conames\"] = pd.Categorical(sim[\"conames\"], categories=[\"A\", \"E\", \"I\", \"O\", \"U\", \"Y\", \"W\",\n",
        "                                              \"B\",\"C\",\"D\",\"G\",\"H\",\"J\",\"K\",\"L\", \"M\",\"N\"])\n",
        "\n",
        "    \n",
        "# all coefficients\n",
        "(ggplot(sim, aes(x = \"conames\",\n",
        "                y = \"coefs\",\n",
        "                fill = \"model\")) +\n",
        "  geom_boxplot() + ggtitle(\"All Coefficients\") + theme_minimal())\n",
        "\n"
      ]
    },
    {
      "cell_type": "markdown",
      "metadata": {
        "id": "9IQaS0t5U5Mo"
      },
      "source": [
        "### *Question*\n",
        "\n",
        "What do you think will happen if you decrease `alpha`, which controls how much we penalize large coefficients? Try it out below (you can set `alpha` to be very small, but for computational reasons, don't set it to be exactly zero):\n",
        "\n",
        "<img src=\"https://drive.google.com/uc?export=view&id=1ghyQPx1N8dmU3MV4TrANvqNhGwnLni72\" width = 200px />"
      ]
    },
    {
      "cell_type": "code",
      "execution_count": null,
      "metadata": {
        "id": "67y11e62U5Mo"
      },
      "outputs": [],
      "source": [
        "n = 1000 #number of samples per model\n",
        "nsims = 1000 # number of simulations\n",
        "alpha =  # how harshly we penalize\n",
        "\n",
        "\n",
        "# running the simulation\n",
        "sim = compare(n = n, alpha = alpha)\n",
        "\n",
        "for i in range(1,nsims):\n",
        "    sim = sim.append(compare(n = n, alpha = alpha), ignore_index = True)\n",
        "\n",
        "    \n",
        "    \n",
        "#put the coefficents in order\n",
        "sim[\"conames\"] = pd.Categorical(sim[\"conames\"], categories=[\"A\", \"E\", \"I\", \"O\", \"U\", \"Y\", \"W\",\n",
        "                                              \"B\",\"C\",\"D\",\"G\",\"H\",\"J\",\"K\",\"L\", \"M\",\"N\"])\n",
        "\n",
        "    \n",
        "# all coefficients\n",
        "(ggplot(sim, aes(x = \"conames\",\n",
        "                y = \"coefs\",\n",
        "                fill = \"model\")) +\n",
        "  geom_boxplot() + ggtitle(\"All Coefficients\") + theme_minimal())\n",
        "\n"
      ]
    },
    {
      "cell_type": "markdown",
      "metadata": {
        "id": "nkIV1iYOU5Mo"
      },
      "source": [
        "# 2. Building your own Regularized Models\n",
        "\n",
        "Back when we learned Logistic Regression, I briefly mentioned that in sklearn, `LogisticRegression()` does regularization by default. Now you know what that really means!\n",
        "\n",
        "Using the Beyonce data below, use dancebility, energy, speechiness, acousticness, instrumentalness, duration_ms, and liveness to predict mode. \n",
        "\n",
        "Build one model with NO penalty, and one with a LASSO (L1) penalty. See [documentaion](https://scikit-learn.org/stable/modules/generated/sklearn.linear_model.LogisticRegression.html) if you need a refresher on how to change the `penalty` argument.\n",
        "\n",
        "\n",
        "How do the coefficients compare between the two models?\n",
        "\n",
        "<img src=\"https://drive.google.com/uc?export=view&id=1ghyQPx1N8dmU3MV4TrANvqNhGwnLni72\" width = 200px />"
      ]
    },
    {
      "cell_type": "code",
      "execution_count": null,
      "metadata": {
        "id": "wyet39iXU5Mp"
      },
      "outputs": [],
      "source": [
        "bey = pd.read_csv(\"https://raw.githubusercontent.com/cmparlettpelleriti/CPSC392ParlettPelleriti/master/Data/Beyonce_data.csv\")\n",
        "\n"
      ]
    },
    {
      "cell_type": "markdown",
      "metadata": {
        "id": "sFHzeB5QU5Mp"
      },
      "source": [
        "# 3. Taking a Look at Regularization and Overfitting\n",
        "\n",
        "In lecture (and hopefully in class), we've talked about the fact that regularization helps prevent overfitting. The datasets X1, X2, X3, and X4 are all (fake; **already z-scored**) samples from the **same** population. Fit a regular linear regression model on dataset X1, and then see how well it performs (in terms of MSE) on X2, X3, and X4. Essentiall, you're treating X1 as the train set, and X2, X3, and X4 as the test set.\n",
        "\n",
        "Then fit a Ridge model on X1, and then see how well it performs (in terms of MSE) on X2, X3, and X4. Make sure you're aware of when the numbers are in scientific notation. \n",
        "\n",
        "\n",
        "Which (Linear or Ridge) is higher on X1? What about on X2, X3, and X4? What does that indicate?\n",
        "\n",
        "<img src=\"https://drive.google.com/uc?export=view&id=1ghyQPx1N8dmU3MV4TrANvqNhGwnLni72\" width = 200px />"
      ]
    },
    {
      "cell_type": "code",
      "execution_count": null,
      "metadata": {
        "id": "ciewNXy5U5Mp"
      },
      "outputs": [],
      "source": [
        "X1 = pd.read_csv(\"https://raw.githubusercontent.com/cmparlettpelleriti/CPSC392ParlettPelleriti/master/Data/regX1.csv\")\n",
        "X2 = pd.read_csv(\"https://raw.githubusercontent.com/cmparlettpelleriti/CPSC392ParlettPelleriti/master/Data/regX2.csv\")\n",
        "X3 = pd.read_csv(\"https://raw.githubusercontent.com/cmparlettpelleriti/CPSC392ParlettPelleriti/master/Data/regX3.csv\")\n",
        "X4 = pd.read_csv(\"https://raw.githubusercontent.com/cmparlettpelleriti/CPSC392ParlettPelleriti/master/Data/regX4.csv\")\n",
        "\n",
        "\n",
        "predictors = [\"X\" + str(i) for i in range(1,100)]\n",
        "\n",
        "X1.shape\n",
        "\n"
      ]
    },
    {
      "cell_type": "code",
      "execution_count": null,
      "metadata": {
        "id": "fJqeYYPEU5Mp"
      },
      "outputs": [],
      "source": [
        "l1 = LinearRegression()\n",
        "r1 = Ridge(alpha = 750)\n",
        "\n",
        "l1.fit(X1[predictors], X1[\"outcome\"])\n",
        "r1.fit(X1[predictors], X1[\"outcome\"])"
      ]
    },
    {
      "cell_type": "code",
      "execution_count": null,
      "metadata": {
        "id": "vqWfee47U5Mq"
      },
      "outputs": [],
      "source": [
        "# CALCULATE ALL THE MSE's below:\n",
        "\n",
        "### YOUR CODE HERE ###\n",
        "\n",
        "# MSEs for X1\n",
        "lin1 = # linear regression\n",
        "rid1 = # ridge regression\n",
        "\n",
        "print(\"linear mse is : \", lin1)\n",
        "print(\"ridge mse is  : \", rid1)\n",
        "\n",
        "# MSEs for X2\n",
        "lin2 = # linear regression\n",
        "rid2 = # ridge regression\n",
        "\n",
        "print(\"linear mse is : \", lin2)\n",
        "print(\"ridge mse is  : \", rid2)\n",
        "\n",
        "# MSEs for X3\n",
        "lin3 = # linear regression\n",
        "rid3 = # ridge regression\n",
        "\n",
        "print(\"linear mse is : \", lin3)\n",
        "print(\"ridge mse is  : \", rid3)\n",
        "\n",
        "# MSEs for X4\n",
        "lin4 = # linear regression\n",
        "rid4 = # ridge regression\n",
        "\n",
        "print(\"linear mse is : \", lin4)\n",
        "print(\"ridge mse is  : \", rid4)\n",
        "\n",
        "plotdf = pd.DataFrame({\"MSE\": [lin1, lin2, lin3, lin4, rid1, rid2, rid3, rid4],\n",
        "                     \"dataset\": [1,2,3,4,1,2,3,4],\n",
        "                     \"model\": [\"LR\", \"LR\", \"LR\", \"LR\", \"RR\", \"RR\",\"RR\", \"RR\"]})\n",
        "\n",
        "ggplot(plotdf, aes(x = \"dataset\", y = \"MSE\", color = \"model\")) + geom_line() + geom_point() + theme_minimal()"
      ]
    }
  ],
  "metadata": {
    "hide_input": false,
    "kernelspec": {
      "display_name": "Python 3",
      "language": "python",
      "name": "python3"
    },
    "language_info": {
      "codemirror_mode": {
        "name": "ipython",
        "version": 3
      },
      "file_extension": ".py",
      "mimetype": "text/x-python",
      "name": "python",
      "nbconvert_exporter": "python",
      "pygments_lexer": "ipython3",
      "version": "3.8.1"
    },
    "toc": {
      "base_numbering": 1,
      "nav_menu": {},
      "number_sections": true,
      "sideBar": true,
      "skip_h1_title": false,
      "title_cell": "Table of Contents",
      "title_sidebar": "Contents",
      "toc_cell": false,
      "toc_position": {},
      "toc_section_display": true,
      "toc_window_display": false
    },
    "colab": {
      "name": "Regularization_Class23.ipynb",
      "provenance": []
    }
  },
  "nbformat": 4,
  "nbformat_minor": 0
}
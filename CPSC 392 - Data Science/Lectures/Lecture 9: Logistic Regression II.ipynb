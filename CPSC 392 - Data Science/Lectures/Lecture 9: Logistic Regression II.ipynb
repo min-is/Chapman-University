{
  "cells": [
    {
      "cell_type": "markdown",
      "metadata": {
        "id": "A-l2eRVXJkQc"
      },
      "source": [
        "# Prediction"
      ]
    },
    {
      "cell_type": "code",
      "execution_count": null,
      "metadata": {
        "id": "WynD6PJuJkQe"
      },
      "outputs": [],
      "source": [
        "import warnings\n",
        "warnings.filterwarnings('ignore')\n",
        "\n",
        "\n",
        "import pandas as pd\n",
        "import numpy as np\n",
        "from plotnine import *\n",
        "\n",
        "from sklearn.linear_model import LogisticRegression # Logistic Regression Model\n",
        "from sklearn.preprocessing import StandardScaler #Z-score variables\n",
        "from sklearn.metrics import accuracy_score, confusion_matrix\n",
        "\n",
        "from sklearn.model_selection import train_test_split # simple TT split cv\n",
        "from sklearn.model_selection import KFold # k-fold cv\n",
        "from sklearn.model_selection import LeaveOneOut #LOO cv\n",
        "from sklearn.model_selection import cross_val_score # cross validation metrics\n",
        "from sklearn.model_selection import cross_val_predict # cross validation metrics"
      ]
    },
    {
      "cell_type": "markdown",
      "metadata": {
        "id": "n-60H5GgJkQf"
      },
      "source": [
        "## Framework\n",
        "1. Model\n",
        "2. Fit\n",
        "3. Predict"
      ]
    },
    {
      "cell_type": "code",
      "execution_count": null,
      "metadata": {
        "id": "3ufvDgQuJkQg",
        "outputId": "d1f7c3ba-23fa-4880-f10a-eb7133e6dc58"
      },
      "outputs": [
        {
          "data": {
            "text/html": [
              "<div>\n",
              "<style scoped>\n",
              "    .dataframe tbody tr th:only-of-type {\n",
              "        vertical-align: middle;\n",
              "    }\n",
              "\n",
              "    .dataframe tbody tr th {\n",
              "        vertical-align: top;\n",
              "    }\n",
              "\n",
              "    .dataframe thead th {\n",
              "        text-align: right;\n",
              "    }\n",
              "</style>\n",
              "<table border=\"1\" class=\"dataframe\">\n",
              "  <thead>\n",
              "    <tr style=\"text-align: right;\">\n",
              "      <th></th>\n",
              "      <th>age</th>\n",
              "      <th>income</th>\n",
              "      <th>months_subbed</th>\n",
              "      <th>upgrade</th>\n",
              "    </tr>\n",
              "  </thead>\n",
              "  <tbody>\n",
              "    <tr>\n",
              "      <th>0</th>\n",
              "      <td>22</td>\n",
              "      <td>55.89</td>\n",
              "      <td>14</td>\n",
              "      <td>0</td>\n",
              "    </tr>\n",
              "    <tr>\n",
              "      <th>1</th>\n",
              "      <td>32</td>\n",
              "      <td>86.03</td>\n",
              "      <td>57</td>\n",
              "      <td>0</td>\n",
              "    </tr>\n",
              "    <tr>\n",
              "      <th>2</th>\n",
              "      <td>38</td>\n",
              "      <td>49.22</td>\n",
              "      <td>37</td>\n",
              "      <td>1</td>\n",
              "    </tr>\n",
              "    <tr>\n",
              "      <th>3</th>\n",
              "      <td>14</td>\n",
              "      <td>92.71</td>\n",
              "      <td>51</td>\n",
              "      <td>1</td>\n",
              "    </tr>\n",
              "    <tr>\n",
              "      <th>4</th>\n",
              "      <td>33</td>\n",
              "      <td>94.06</td>\n",
              "      <td>37</td>\n",
              "      <td>0</td>\n",
              "    </tr>\n",
              "  </tbody>\n",
              "</table>\n",
              "</div>"
            ],
            "text/plain": [
              "   age  income  months_subbed  upgrade\n",
              "0   22   55.89             14        0\n",
              "1   32   86.03             57        0\n",
              "2   38   49.22             37        1\n",
              "3   14   92.71             51        1\n",
              "4   33   94.06             37        0"
            ]
          },
          "execution_count": 2,
          "metadata": {},
          "output_type": "execute_result"
        }
      ],
      "source": [
        "# data\n",
        "fashionBIG = pd.read_csv(\"https://raw.githubusercontent.com/cmparlettpelleriti/CPSC392ParlettPelleriti/master/Data/SKP_fashionBIG.csv\")\n",
        "fashionBIG.head()"
      ]
    },
    {
      "cell_type": "code",
      "execution_count": null,
      "metadata": {
        "id": "MDt9uwkwJkQh"
      },
      "outputs": [],
      "source": [
        "predictors = [\"age\", \"income\", \"months_subbed\"]\n",
        "\n",
        "X_train, X_test, y_train, y_test = train_test_split(fashionBIG[predictors], fashionBIG[\"upgrade\"], test_size=0.2)\n",
        "X_train.head()\n",
        "\n",
        "zscore = StandardScaler()\n",
        "zscore.fit(X_train)\n",
        "Xz_train = zscore.transform(X_train)\n",
        "Xz_test = zscore.transform(X_test)"
      ]
    },
    {
      "cell_type": "code",
      "execution_count": null,
      "metadata": {
        "id": "DtYiEqHxJkQi"
      },
      "outputs": [],
      "source": [
        "myLogit = LogisticRegression(penalty = \"none\") #create"
      ]
    },
    {
      "cell_type": "code",
      "execution_count": null,
      "metadata": {
        "id": "QZvqedigJkQi",
        "outputId": "fb3cf6e2-e1ff-4b46-9a10-5516065db62d"
      },
      "outputs": [
        {
          "data": {
            "text/plain": [
              "LogisticRegression(penalty='none')"
            ]
          },
          "execution_count": 5,
          "metadata": {},
          "output_type": "execute_result"
        }
      ],
      "source": [
        "myLogit.fit(Xz_train,y_train) #fit"
      ]
    },
    {
      "cell_type": "code",
      "execution_count": null,
      "metadata": {
        "id": "m3sVq66sJkQi"
      },
      "outputs": [],
      "source": [
        "predictedVals = myLogit.predict(Xz_test) #predict"
      ]
    },
    {
      "cell_type": "code",
      "execution_count": null,
      "metadata": {
        "id": "qOaSK3kJJkQj",
        "outputId": "141cae2f-fec9-435d-bd5a-e69c7991a139"
      },
      "outputs": [
        {
          "data": {
            "text/plain": [
              "0.605"
            ]
          },
          "execution_count": 7,
          "metadata": {},
          "output_type": "execute_result"
        }
      ],
      "source": [
        "accuracy_score(y_test,predictedVals)"
      ]
    },
    {
      "cell_type": "code",
      "execution_count": null,
      "metadata": {
        "id": "2lblykXFJkQj",
        "outputId": "cf572ccc-503b-45e6-a656-0b8dfbf28d5f"
      },
      "outputs": [
        {
          "data": {
            "text/plain": [
              "array([[ 14,  66],\n",
              "       [ 13, 107]])"
            ]
          },
          "execution_count": 8,
          "metadata": {},
          "output_type": "execute_result"
        }
      ],
      "source": [
        "confusion_matrix(y_test,predictedVals)"
      ]
    },
    {
      "cell_type": "markdown",
      "metadata": {
        "id": "SwI69v_AJkQj"
      },
      "source": [
        "## LR Coef interpretation\n"
      ]
    },
    {
      "cell_type": "code",
      "execution_count": null,
      "metadata": {
        "id": "kt6LIQNoJkQk",
        "outputId": "5c3fc05e-d089-4f34-92d4-87fed814981d"
      },
      "outputs": [
        {
          "data": {
            "text/html": [
              "<div>\n",
              "<style scoped>\n",
              "    .dataframe tbody tr th:only-of-type {\n",
              "        vertical-align: middle;\n",
              "    }\n",
              "\n",
              "    .dataframe tbody tr th {\n",
              "        vertical-align: top;\n",
              "    }\n",
              "\n",
              "    .dataframe thead th {\n",
              "        text-align: right;\n",
              "    }\n",
              "</style>\n",
              "<table border=\"1\" class=\"dataframe\">\n",
              "  <thead>\n",
              "    <tr style=\"text-align: right;\">\n",
              "      <th></th>\n",
              "      <th>Coefs</th>\n",
              "      <th>Names</th>\n",
              "    </tr>\n",
              "  </thead>\n",
              "  <tbody>\n",
              "    <tr>\n",
              "      <th>0</th>\n",
              "      <td>0.433659</td>\n",
              "      <td>age</td>\n",
              "    </tr>\n",
              "    <tr>\n",
              "      <th>1</th>\n",
              "      <td>-0.024124</td>\n",
              "      <td>income</td>\n",
              "    </tr>\n",
              "    <tr>\n",
              "      <th>2</th>\n",
              "      <td>0.022078</td>\n",
              "      <td>months_subbed</td>\n",
              "    </tr>\n",
              "    <tr>\n",
              "      <th>3</th>\n",
              "      <td>0.310342</td>\n",
              "      <td>intercept</td>\n",
              "    </tr>\n",
              "  </tbody>\n",
              "</table>\n",
              "</div>"
            ],
            "text/plain": [
              "      Coefs          Names\n",
              "0  0.433659            age\n",
              "1 -0.024124         income\n",
              "2  0.022078  months_subbed\n",
              "3  0.310342      intercept"
            ]
          },
          "execution_count": 9,
          "metadata": {},
          "output_type": "execute_result"
        }
      ],
      "source": [
        "coef = pd.DataFrame({\"Coefs\": myLogit.coef_[0],\n",
        "                     \"Names\": predictors})\n",
        "coef = coef.append({\"Coefs\": myLogit.intercept_[0],\n",
        "                    \"Names\": \"intercept\"}, ignore_index = True)\n",
        "coef"
      ]
    },
    {
      "cell_type": "code",
      "execution_count": null,
      "metadata": {
        "id": "FsyA-USbJkQk",
        "outputId": "b8bd1be3-7b1a-40f5-b6cf-2bd3e0e520b3"
      },
      "outputs": [
        {
          "data": {
            "text/html": [
              "<div>\n",
              "<style scoped>\n",
              "    .dataframe tbody tr th:only-of-type {\n",
              "        vertical-align: middle;\n",
              "    }\n",
              "\n",
              "    .dataframe tbody tr th {\n",
              "        vertical-align: top;\n",
              "    }\n",
              "\n",
              "    .dataframe thead th {\n",
              "        text-align: right;\n",
              "    }\n",
              "</style>\n",
              "<table border=\"1\" class=\"dataframe\">\n",
              "  <thead>\n",
              "    <tr style=\"text-align: right;\">\n",
              "      <th></th>\n",
              "      <th>Coefs</th>\n",
              "      <th>Names</th>\n",
              "      <th>Odds Coefs</th>\n",
              "    </tr>\n",
              "  </thead>\n",
              "  <tbody>\n",
              "    <tr>\n",
              "      <th>0</th>\n",
              "      <td>0.433659</td>\n",
              "      <td>age</td>\n",
              "      <td>1.542893</td>\n",
              "    </tr>\n",
              "    <tr>\n",
              "      <th>1</th>\n",
              "      <td>-0.024124</td>\n",
              "      <td>income</td>\n",
              "      <td>0.976164</td>\n",
              "    </tr>\n",
              "    <tr>\n",
              "      <th>2</th>\n",
              "      <td>0.022078</td>\n",
              "      <td>months_subbed</td>\n",
              "      <td>1.022324</td>\n",
              "    </tr>\n",
              "    <tr>\n",
              "      <th>3</th>\n",
              "      <td>0.310342</td>\n",
              "      <td>intercept</td>\n",
              "      <td>1.363892</td>\n",
              "    </tr>\n",
              "  </tbody>\n",
              "</table>\n",
              "</div>"
            ],
            "text/plain": [
              "      Coefs          Names  Odds Coefs\n",
              "0  0.433659            age    1.542893\n",
              "1 -0.024124         income    0.976164\n",
              "2  0.022078  months_subbed    1.022324\n",
              "3  0.310342      intercept    1.363892"
            ]
          },
          "execution_count": 10,
          "metadata": {},
          "output_type": "execute_result"
        }
      ],
      "source": [
        "coef[\"Odds Coefs\"] = np.exp(coef[\"Coefs\"])\n",
        "coef"
      ]
    },
    {
      "cell_type": "markdown",
      "metadata": {
        "id": "CQmh_4yqJkQk"
      },
      "source": [
        "## LR different thresholds\n"
      ]
    },
    {
      "cell_type": "code",
      "execution_count": null,
      "metadata": {
        "id": "S6KbzgQFJkQl"
      },
      "outputs": [],
      "source": [
        "fashionNEW = pd.read_csv(\"https://raw.githubusercontent.com/cmparlettpelleriti/CPSC392ParlettPelleriti/master/Data/SKP_fashionNEW.csv\")\n",
        "\n",
        "Xnew = fashionNEW.iloc[:,0:3]\n",
        "Xnewz = zscore.transform(Xnew)"
      ]
    },
    {
      "cell_type": "code",
      "execution_count": null,
      "metadata": {
        "id": "y8jAYZPsJkQl",
        "outputId": "dfd9a7de-23c6-41a8-abbc-ef862f8f7b08"
      },
      "outputs": [
        {
          "data": {
            "text/plain": [
              "array([[0.33352391, 0.66647609],\n",
              "       [0.51058513, 0.48941487],\n",
              "       [0.48671225, 0.51328775],\n",
              "       [0.38736389, 0.61263611],\n",
              "       [0.43731095, 0.56268905],\n",
              "       [0.49350338, 0.50649662],\n",
              "       [0.42049844, 0.57950156],\n",
              "       [0.34288072, 0.65711928],\n",
              "       [0.59666517, 0.40333483]])"
            ]
          },
          "execution_count": 12,
          "metadata": {},
          "output_type": "execute_result"
        }
      ],
      "source": [
        "Ypred_prob = myLogit.predict_proba(Xnewz)\n",
        "Ypred_prob[1:10]"
      ]
    },
    {
      "cell_type": "code",
      "execution_count": null,
      "metadata": {
        "id": "9oYnAwolJkQl",
        "outputId": "ae7571c4-0faf-4598-b5a9-b10b7b4c0468"
      },
      "outputs": [
        {
          "data": {
            "text/plain": [
              "array([0.66647609, 0.48941487, 0.51328775, 0.61263611, 0.56268905,\n",
              "       0.50649662, 0.57950156, 0.65711928, 0.40333483, 0.61200779,\n",
              "       0.60617051, 0.34096115, 0.53596495, 0.50472389, 0.50366817,\n",
              "       0.36774573, 0.5639286 , 0.7543641 , 0.59683045, 0.55232896,\n",
              "       0.5772686 , 0.62792199, 0.61281989, 0.40396542, 0.66434867,\n",
              "       0.58509306, 0.53827871, 0.61374145, 0.55089943, 0.55508281,\n",
              "       0.49800652, 0.44133272, 0.5791442 , 0.45438523, 0.3577695 ,\n",
              "       0.76940625, 0.67256025, 0.60801952, 0.34885152, 0.55530006,\n",
              "       0.72217162, 0.57143869, 0.7460572 , 0.53706677, 0.60180222,\n",
              "       0.59056411, 0.69688744, 0.64757569, 0.58100633, 0.54584336,\n",
              "       0.63367889, 0.66643261, 0.65575346, 0.60943103, 0.4216202 ,\n",
              "       0.55249512, 0.7102608 , 0.64387191, 0.53848637, 0.5892712 ,\n",
              "       0.70687109, 0.58040648, 0.63726799, 0.51695323, 0.61262162,\n",
              "       0.68954718, 0.65447797, 0.75650424, 0.60437214, 0.49803398,\n",
              "       0.72278565, 0.33622437, 0.4540138 , 0.43607022, 0.73422247,\n",
              "       0.72040697, 0.6188865 , 0.60075235, 0.57315137, 0.66301054,\n",
              "       0.38059151, 0.50003793, 0.40566417, 0.57870519, 0.49519432,\n",
              "       0.65436085, 0.61810912, 0.58076948, 0.72040941, 0.45414102,\n",
              "       0.62277935, 0.62916587, 0.77054975, 0.73855931, 0.58514123,\n",
              "       0.70044265, 0.59745073, 0.57335464, 0.70406655])"
            ]
          },
          "execution_count": 13,
          "metadata": {},
          "output_type": "execute_result"
        }
      ],
      "source": [
        "Ypred_prob1 = Ypred_prob[:, 1]\n",
        "Ypred_prob1[1:100]"
      ]
    },
    {
      "cell_type": "code",
      "execution_count": null,
      "metadata": {
        "id": "tfnSGVSyJkQm",
        "outputId": "33eb1a6e-6252-4b7b-fecf-3b9e86192dc4"
      },
      "outputs": [
        {
          "data": {
            "text/plain": [
              "array([1, 1, 1, 1, 1, 1, 1, 1, 1, 1, 1, 1, 1, 1, 1, 1, 1, 1, 1, 1, 1, 1,\n",
              "       1, 1, 1, 1, 1, 1, 1, 1, 1, 1, 1, 1, 1, 1, 1, 1, 1, 1, 1, 1, 1, 1,\n",
              "       1, 1, 1, 1, 1, 1, 1, 1, 1, 1, 1, 1, 1, 1, 1, 1, 1, 1, 1, 1, 1, 1,\n",
              "       1, 1, 1, 1, 1, 1, 1, 1, 1, 1, 1, 1, 1, 1, 1, 1, 1, 1, 1, 1, 1, 1,\n",
              "       1, 1, 1, 1, 1, 1, 1, 1, 1, 1, 1])"
            ]
          },
          "execution_count": 14,
          "metadata": {},
          "output_type": "execute_result"
        }
      ],
      "source": [
        "thresh = 0.3\n",
        "\n",
        "Ypred_prob1_thresh = (Ypred_prob1 > thresh) * 1\n",
        "Ypred_prob1_thresh[1:100]"
      ]
    },
    {
      "cell_type": "code",
      "execution_count": null,
      "metadata": {
        "id": "09hnsBiqJkQm",
        "outputId": "accaedab-f124-4793-8ad5-b2928480ef81"
      },
      "outputs": [
        {
          "data": {
            "text/plain": [
              "0.604"
            ]
          },
          "execution_count": 15,
          "metadata": {},
          "output_type": "execute_result"
        }
      ],
      "source": [
        "accuracy_score(fashionNEW[\"upgrade\"], Ypred_prob1_thresh)"
      ]
    },
    {
      "cell_type": "markdown",
      "metadata": {
        "id": "PpQsn7OEJkQn"
      },
      "source": [
        "## LR with Cross Validation"
      ]
    },
    {
      "cell_type": "code",
      "execution_count": null,
      "metadata": {
        "id": "cnkMN9gZJkQn"
      },
      "outputs": [],
      "source": [
        "# Kfold\n",
        "\n",
        "X = fashionBIG[[\"age\",\"income\",\"months_subbed\"]]\n",
        "y = fashionBIG[\"upgrade\"]\n",
        "\n",
        "# create k-fold object\n",
        "kf = KFold(n_splits = 5)\n",
        "kf.split(X)\n",
        "\n",
        "lr = LogisticRegression() #create model\n",
        "\n",
        "acc = [] #create empty list to store accuracy for each fold"
      ]
    },
    {
      "cell_type": "code",
      "execution_count": null,
      "metadata": {
        "id": "fJGycsWZJkQn",
        "outputId": "a1ddd98e-cbd0-4afb-837c-b3b3d04decb7"
      },
      "outputs": [
        {
          "name": "stdout",
          "output_type": "stream",
          "text": [
            "[0.58, 0.605, 0.54, 0.565, 0.645]\n"
          ]
        },
        {
          "data": {
            "text/plain": [
              "0.587"
            ]
          },
          "execution_count": 17,
          "metadata": {},
          "output_type": "execute_result"
        }
      ],
      "source": [
        "# Use a for loop to loop through each fold and train a model, then add the accuracy to acc.\n",
        "\n",
        "for train_indices, test_indices in kf.split(X):\n",
        "    # Get your train/test for this fold\n",
        "    X_train = X.iloc[train_indices]\n",
        "    X_test  = X.iloc[test_indices]\n",
        "    y_train = y[train_indices]\n",
        "    y_test  = y[test_indices]\n",
        "    \n",
        "    # model\n",
        "    model = lr.fit(X_train, y_train)\n",
        "    # record accuracy\n",
        "    acc.append(accuracy_score(y_test, model.predict(X_test)))\n",
        "    \n",
        "#print overall acc\n",
        "print(acc)\n",
        "np.mean(acc)"
      ]
    },
    {
      "cell_type": "markdown",
      "metadata": {
        "id": "HZws9FXhJkQo"
      },
      "source": [
        "## Regularization"
      ]
    },
    {
      "cell_type": "code",
      "execution_count": null,
      "metadata": {
        "id": "rj3A2WUlJkQo",
        "outputId": "f2aa3e1f-4fba-43b1-e08f-eb5c267b86ae"
      },
      "outputs": [
        {
          "name": "stdout",
          "output_type": "stream",
          "text": [
            "[[-0.06250222 -0.01314886  0.09062657]]\n",
            "[0.27249525]\n"
          ]
        }
      ],
      "source": [
        "# Default Regularization\n",
        "# https://scikit-learn.org/stable/modules/generated/sklearn.linear_model.LogisticRegression.html\n",
        "\n",
        "myLogit = LogisticRegression() #create\n",
        "myLogit.fit(Xz_train,y_train) #fit\n",
        "\n",
        "print(myLogit.coef_)\n",
        "print(myLogit.intercept_)"
      ]
    },
    {
      "cell_type": "code",
      "execution_count": null,
      "metadata": {
        "id": "cADYQbp5JkQp",
        "outputId": "5743c385-d533-4f90-ad47-0bba28c58623"
      },
      "outputs": [
        {
          "name": "stdout",
          "output_type": "stream",
          "text": [
            "[[-0.06281615 -0.01320505  0.09108865]]\n",
            "[0.27250372]\n"
          ]
        }
      ],
      "source": [
        "myLogit2 = LogisticRegression(penalty = \"none\") #create\n",
        "myLogit2.fit(Xz_train,y_train) #fit\n",
        "\n",
        "print(myLogit2.coef_)\n",
        "print(myLogit2.intercept_)"
      ]
    }
  ],
  "metadata": {
    "hide_input": false,
    "kernelspec": {
      "display_name": "Python 3",
      "language": "python",
      "name": "python3"
    },
    "language_info": {
      "codemirror_mode": {
        "name": "ipython",
        "version": 3
      },
      "file_extension": ".py",
      "mimetype": "text/x-python",
      "name": "python",
      "nbconvert_exporter": "python",
      "pygments_lexer": "ipython3",
      "version": "3.7.3"
    },
    "toc": {
      "base_numbering": 1,
      "nav_menu": {},
      "number_sections": true,
      "sideBar": true,
      "skip_h1_title": false,
      "title_cell": "Table of Contents",
      "title_sidebar": "Contents",
      "toc_cell": false,
      "toc_position": {},
      "toc_section_display": true,
      "toc_window_display": false
    },
    "colab": {
      "name": "Logistic Regression II--Class9.ipynb",
      "provenance": []
    }
  },
  "nbformat": 4,
  "nbformat_minor": 0
}
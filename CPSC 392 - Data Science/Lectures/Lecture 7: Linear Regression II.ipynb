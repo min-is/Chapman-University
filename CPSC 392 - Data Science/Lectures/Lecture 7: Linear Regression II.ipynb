{
  "cells": [
    {
      "cell_type": "code",
      "execution_count": null,
      "metadata": {
        "id": "DWRuflsmImRY"
      },
      "outputs": [],
      "source": [
        "import warnings\n",
        "warnings.filterwarnings('ignore')\n",
        "\n",
        "\n",
        "import pandas as pd\n",
        "import numpy as np\n",
        "from plotnine import *\n",
        "import statsmodels.api as sm\n",
        "\n",
        "from sklearn.linear_model import LinearRegression # Linear Regression Model\n",
        "from sklearn.preprocessing import StandardScaler #Z-score variables\n",
        "from sklearn.metrics import mean_squared_error, mean_absolute_error, r2_score #model evaluation\n",
        "\n",
        "from sklearn.model_selection import train_test_split # simple TT split cv\n",
        "from sklearn.model_selection import KFold # k-fold cv\n",
        "from sklearn.model_selection import LeaveOneOut #LOO cv\n",
        "\n",
        "\n",
        "%matplotlib inline"
      ]
    },
    {
      "cell_type": "code",
      "execution_count": null,
      "metadata": {
        "id": "jHKdb06QImRc",
        "outputId": "51cbc630-9a87-43cc-eb69-4d7e4a194a4d"
      },
      "outputs": [
        {
          "data": {
            "text/html": [
              "<div>\n",
              "<style scoped>\n",
              "    .dataframe tbody tr th:only-of-type {\n",
              "        vertical-align: middle;\n",
              "    }\n",
              "\n",
              "    .dataframe tbody tr th {\n",
              "        vertical-align: top;\n",
              "    }\n",
              "\n",
              "    .dataframe thead th {\n",
              "        text-align: right;\n",
              "    }\n",
              "</style>\n",
              "<table border=\"1\" class=\"dataframe\">\n",
              "  <thead>\n",
              "    <tr style=\"text-align: right;\">\n",
              "      <th></th>\n",
              "      <th>Unnamed: 0</th>\n",
              "      <th>artist_name</th>\n",
              "      <th>danceability</th>\n",
              "      <th>energy</th>\n",
              "      <th>key</th>\n",
              "      <th>loudness</th>\n",
              "      <th>mode</th>\n",
              "      <th>speechiness</th>\n",
              "      <th>acousticness</th>\n",
              "      <th>instrumentalness</th>\n",
              "      <th>liveness</th>\n",
              "      <th>valence</th>\n",
              "      <th>duration_ms</th>\n",
              "      <th>track_name</th>\n",
              "    </tr>\n",
              "  </thead>\n",
              "  <tbody>\n",
              "    <tr>\n",
              "      <th>0</th>\n",
              "      <td>1</td>\n",
              "      <td>Jonas Brothers</td>\n",
              "      <td>0.594</td>\n",
              "      <td>0.464</td>\n",
              "      <td>0</td>\n",
              "      <td>-7.898</td>\n",
              "      <td>1</td>\n",
              "      <td>0.0340</td>\n",
              "      <td>0.306000</td>\n",
              "      <td>0.000000</td>\n",
              "      <td>0.1870</td>\n",
              "      <td>0.545</td>\n",
              "      <td>193866</td>\n",
              "      <td>Please Be Mine</td>\n",
              "    </tr>\n",
              "    <tr>\n",
              "      <th>1</th>\n",
              "      <td>2</td>\n",
              "      <td>Jonas Brothers</td>\n",
              "      <td>0.582</td>\n",
              "      <td>0.697</td>\n",
              "      <td>7</td>\n",
              "      <td>-3.842</td>\n",
              "      <td>1</td>\n",
              "      <td>0.0695</td>\n",
              "      <td>0.000745</td>\n",
              "      <td>0.000000</td>\n",
              "      <td>0.1850</td>\n",
              "      <td>0.701</td>\n",
              "      <td>153346</td>\n",
              "      <td>S.O.S.</td>\n",
              "    </tr>\n",
              "    <tr>\n",
              "      <th>2</th>\n",
              "      <td>3</td>\n",
              "      <td>Jonas Brothers</td>\n",
              "      <td>0.442</td>\n",
              "      <td>0.961</td>\n",
              "      <td>1</td>\n",
              "      <td>-2.914</td>\n",
              "      <td>1</td>\n",
              "      <td>0.0928</td>\n",
              "      <td>0.000035</td>\n",
              "      <td>0.000036</td>\n",
              "      <td>0.0619</td>\n",
              "      <td>0.405</td>\n",
              "      <td>168480</td>\n",
              "      <td>Mandy</td>\n",
              "    </tr>\n",
              "    <tr>\n",
              "      <th>3</th>\n",
              "      <td>4</td>\n",
              "      <td>Jonas Brothers</td>\n",
              "      <td>0.659</td>\n",
              "      <td>0.857</td>\n",
              "      <td>11</td>\n",
              "      <td>-5.850</td>\n",
              "      <td>1</td>\n",
              "      <td>0.0437</td>\n",
              "      <td>0.004500</td>\n",
              "      <td>0.000002</td>\n",
              "      <td>0.3350</td>\n",
              "      <td>0.798</td>\n",
              "      <td>201960</td>\n",
              "      <td>Year 3000</td>\n",
              "    </tr>\n",
              "    <tr>\n",
              "      <th>4</th>\n",
              "      <td>5</td>\n",
              "      <td>Jonas Brothers</td>\n",
              "      <td>0.468</td>\n",
              "      <td>0.893</td>\n",
              "      <td>11</td>\n",
              "      <td>-3.554</td>\n",
              "      <td>1</td>\n",
              "      <td>0.1300</td>\n",
              "      <td>0.003890</td>\n",
              "      <td>0.000000</td>\n",
              "      <td>0.3670</td>\n",
              "      <td>0.810</td>\n",
              "      <td>164973</td>\n",
              "      <td>Hold On</td>\n",
              "    </tr>\n",
              "  </tbody>\n",
              "</table>\n",
              "</div>"
            ],
            "text/plain": [
              "   Unnamed: 0     artist_name  danceability  energy  key  loudness  mode  \\\n",
              "0           1  Jonas Brothers         0.594   0.464    0    -7.898     1   \n",
              "1           2  Jonas Brothers         0.582   0.697    7    -3.842     1   \n",
              "2           3  Jonas Brothers         0.442   0.961    1    -2.914     1   \n",
              "3           4  Jonas Brothers         0.659   0.857   11    -5.850     1   \n",
              "4           5  Jonas Brothers         0.468   0.893   11    -3.554     1   \n",
              "\n",
              "   speechiness  acousticness  instrumentalness  liveness  valence  \\\n",
              "0       0.0340      0.306000          0.000000    0.1870    0.545   \n",
              "1       0.0695      0.000745          0.000000    0.1850    0.701   \n",
              "2       0.0928      0.000035          0.000036    0.0619    0.405   \n",
              "3       0.0437      0.004500          0.000002    0.3350    0.798   \n",
              "4       0.1300      0.003890          0.000000    0.3670    0.810   \n",
              "\n",
              "   duration_ms      track_name  \n",
              "0       193866  Please Be Mine  \n",
              "1       153346          S.O.S.  \n",
              "2       168480           Mandy  \n",
              "3       201960       Year 3000  \n",
              "4       164973         Hold On  "
            ]
          },
          "execution_count": 2,
          "metadata": {},
          "output_type": "execute_result"
        }
      ],
      "source": [
        "# Data\n",
        "m = pd.read_csv(\"https://raw.githubusercontent.com/cmparlettpelleriti/CPSC392ParlettPelleriti/master/Data/Music_data.csv\")\n",
        "\n",
        "m.head()"
      ]
    },
    {
      "cell_type": "code",
      "execution_count": null,
      "metadata": {
        "id": "1stUPDjUImRd",
        "outputId": "d5d0aaab-be34-4368-87a9-b63af977ed2a"
      },
      "outputs": [
        {
          "data": {
            "text/plain": [
              "(2553, 14)"
            ]
          },
          "execution_count": 3,
          "metadata": {},
          "output_type": "execute_result"
        }
      ],
      "source": [
        "# shape\n",
        "m.shape"
      ]
    },
    {
      "cell_type": "markdown",
      "metadata": {
        "id": "mvyxGhojImRe"
      },
      "source": [
        "# Train Test Split"
      ]
    },
    {
      "cell_type": "code",
      "execution_count": null,
      "metadata": {
        "id": "PMRHQ08jImRf"
      },
      "outputs": [],
      "source": [
        "# Split Data\n",
        "predictors = [\"energy\", \"key\", \"loudness\", \"mode\", \"speechiness\", \"acousticness\",\n",
        "              \"instrumentalness\", \"liveness\", \"valence\", \"duration_ms\"]\n",
        "\n",
        "X_train, X_test, y_train, y_test = train_test_split(m[predictors],m[\"danceability\"], test_size = 0.2)"
      ]
    },
    {
      "cell_type": "code",
      "execution_count": null,
      "metadata": {
        "id": "QUCVgccOImRg",
        "outputId": "49ecd695-2ef1-4812-853b-5fa84d76f2c2"
      },
      "outputs": [
        {
          "name": "stdout",
          "output_type": "stream",
          "text": [
            "(2042, 10)\n",
            "(511, 10)\n"
          ]
        },
        {
          "data": {
            "text/html": [
              "<div>\n",
              "<style scoped>\n",
              "    .dataframe tbody tr th:only-of-type {\n",
              "        vertical-align: middle;\n",
              "    }\n",
              "\n",
              "    .dataframe tbody tr th {\n",
              "        vertical-align: top;\n",
              "    }\n",
              "\n",
              "    .dataframe thead th {\n",
              "        text-align: right;\n",
              "    }\n",
              "</style>\n",
              "<table border=\"1\" class=\"dataframe\">\n",
              "  <thead>\n",
              "    <tr style=\"text-align: right;\">\n",
              "      <th></th>\n",
              "      <th>energy</th>\n",
              "      <th>key</th>\n",
              "      <th>loudness</th>\n",
              "      <th>mode</th>\n",
              "      <th>speechiness</th>\n",
              "      <th>acousticness</th>\n",
              "      <th>instrumentalness</th>\n",
              "      <th>liveness</th>\n",
              "      <th>valence</th>\n",
              "      <th>duration_ms</th>\n",
              "    </tr>\n",
              "  </thead>\n",
              "  <tbody>\n",
              "    <tr>\n",
              "      <th>1752</th>\n",
              "      <td>0.754</td>\n",
              "      <td>4</td>\n",
              "      <td>-3.982</td>\n",
              "      <td>1</td>\n",
              "      <td>0.0428</td>\n",
              "      <td>0.45100</td>\n",
              "      <td>0.0</td>\n",
              "      <td>0.223</td>\n",
              "      <td>0.790</td>\n",
              "      <td>238693</td>\n",
              "    </tr>\n",
              "    <tr>\n",
              "      <th>2471</th>\n",
              "      <td>0.631</td>\n",
              "      <td>0</td>\n",
              "      <td>-5.886</td>\n",
              "      <td>1</td>\n",
              "      <td>0.2630</td>\n",
              "      <td>0.04580</td>\n",
              "      <td>0.0</td>\n",
              "      <td>0.130</td>\n",
              "      <td>0.369</td>\n",
              "      <td>233706</td>\n",
              "    </tr>\n",
              "    <tr>\n",
              "      <th>76</th>\n",
              "      <td>0.836</td>\n",
              "      <td>2</td>\n",
              "      <td>-4.073</td>\n",
              "      <td>1</td>\n",
              "      <td>0.0478</td>\n",
              "      <td>0.00369</td>\n",
              "      <td>0.0</td>\n",
              "      <td>0.108</td>\n",
              "      <td>0.602</td>\n",
              "      <td>169333</td>\n",
              "    </tr>\n",
              "    <tr>\n",
              "      <th>1767</th>\n",
              "      <td>0.560</td>\n",
              "      <td>0</td>\n",
              "      <td>-7.392</td>\n",
              "      <td>1</td>\n",
              "      <td>0.0279</td>\n",
              "      <td>0.46900</td>\n",
              "      <td>0.0</td>\n",
              "      <td>0.087</td>\n",
              "      <td>0.228</td>\n",
              "      <td>239346</td>\n",
              "    </tr>\n",
              "    <tr>\n",
              "      <th>2024</th>\n",
              "      <td>0.791</td>\n",
              "      <td>5</td>\n",
              "      <td>-3.010</td>\n",
              "      <td>1</td>\n",
              "      <td>0.0309</td>\n",
              "      <td>0.04310</td>\n",
              "      <td>0.0</td>\n",
              "      <td>0.159</td>\n",
              "      <td>0.358</td>\n",
              "      <td>262920</td>\n",
              "    </tr>\n",
              "  </tbody>\n",
              "</table>\n",
              "</div>"
            ],
            "text/plain": [
              "      energy  key  loudness  mode  speechiness  acousticness  \\\n",
              "1752   0.754    4    -3.982     1       0.0428       0.45100   \n",
              "2471   0.631    0    -5.886     1       0.2630       0.04580   \n",
              "76     0.836    2    -4.073     1       0.0478       0.00369   \n",
              "1767   0.560    0    -7.392     1       0.0279       0.46900   \n",
              "2024   0.791    5    -3.010     1       0.0309       0.04310   \n",
              "\n",
              "      instrumentalness  liveness  valence  duration_ms  \n",
              "1752               0.0     0.223    0.790       238693  \n",
              "2471               0.0     0.130    0.369       233706  \n",
              "76                 0.0     0.108    0.602       169333  \n",
              "1767               0.0     0.087    0.228       239346  \n",
              "2024               0.0     0.159    0.358       262920  "
            ]
          },
          "execution_count": 6,
          "metadata": {},
          "output_type": "execute_result"
        }
      ],
      "source": [
        "# size of train and test\n",
        "print(X_train.shape)\n",
        "print(X_test.shape)\n",
        "\n",
        "X_train.head()"
      ]
    },
    {
      "cell_type": "code",
      "execution_count": null,
      "metadata": {
        "id": "D0ZUIlA8ImRg",
        "outputId": "a3eb9e3b-80d9-4d06-85f3-fa68649570fa"
      },
      "outputs": [
        {
          "data": {
            "text/plain": [
              "LinearRegression()"
            ]
          },
          "execution_count": 7,
          "metadata": {},
          "output_type": "execute_result"
        }
      ],
      "source": [
        "# create and fit\n",
        "model = LinearRegression()\n",
        "model.fit(X_train, y_train)"
      ]
    },
    {
      "cell_type": "code",
      "execution_count": null,
      "metadata": {
        "id": "9R--OW-hImRh"
      },
      "outputs": [],
      "source": [
        "# predictions\n",
        "y_pred = model.predict(X_test)"
      ]
    },
    {
      "cell_type": "code",
      "execution_count": null,
      "metadata": {
        "id": "qVxvP0meImRi",
        "outputId": "733ee89b-3b6f-412f-ddd4-58e790bd75e9"
      },
      "outputs": [
        {
          "data": {
            "text/plain": [
              "0.30594831269341394"
            ]
          },
          "execution_count": 14,
          "metadata": {},
          "output_type": "execute_result"
        }
      ],
      "source": [
        "#testing R2\n",
        "model.score(X_test, y_test)"
      ]
    },
    {
      "cell_type": "code",
      "execution_count": null,
      "metadata": {
        "id": "uZ1DnLb4ImRj",
        "outputId": "a658d306-6272-46d5-8ec5-83708697d6f9"
      },
      "outputs": [
        {
          "data": {
            "text/plain": [
              "0.3727429529312335"
            ]
          },
          "execution_count": 15,
          "metadata": {},
          "output_type": "execute_result"
        }
      ],
      "source": [
        "#training R2\n",
        "model.score(X_train, y_train)"
      ]
    },
    {
      "cell_type": "code",
      "execution_count": null,
      "metadata": {
        "id": "-W1CREahImRj",
        "outputId": "57594a1f-02df-44c0-d9e1-61d59292895c"
      },
      "outputs": [
        {
          "data": {
            "text/html": [
              "<div>\n",
              "<style scoped>\n",
              "    .dataframe tbody tr th:only-of-type {\n",
              "        vertical-align: middle;\n",
              "    }\n",
              "\n",
              "    .dataframe tbody tr th {\n",
              "        vertical-align: top;\n",
              "    }\n",
              "\n",
              "    .dataframe thead th {\n",
              "        text-align: right;\n",
              "    }\n",
              "</style>\n",
              "<table border=\"1\" class=\"dataframe\">\n",
              "  <thead>\n",
              "    <tr style=\"text-align: right;\">\n",
              "      <th></th>\n",
              "      <th>predicted</th>\n",
              "      <th>true</th>\n",
              "    </tr>\n",
              "  </thead>\n",
              "  <tbody>\n",
              "    <tr>\n",
              "      <th>704</th>\n",
              "      <td>0.592932</td>\n",
              "      <td>0.602</td>\n",
              "    </tr>\n",
              "    <tr>\n",
              "      <th>621</th>\n",
              "      <td>0.713220</td>\n",
              "      <td>0.623</td>\n",
              "    </tr>\n",
              "    <tr>\n",
              "      <th>1874</th>\n",
              "      <td>0.678621</td>\n",
              "      <td>0.755</td>\n",
              "    </tr>\n",
              "    <tr>\n",
              "      <th>2170</th>\n",
              "      <td>0.558893</td>\n",
              "      <td>0.541</td>\n",
              "    </tr>\n",
              "    <tr>\n",
              "      <th>1687</th>\n",
              "      <td>0.649818</td>\n",
              "      <td>0.800</td>\n",
              "    </tr>\n",
              "    <tr>\n",
              "      <th>...</th>\n",
              "      <td>...</td>\n",
              "      <td>...</td>\n",
              "    </tr>\n",
              "    <tr>\n",
              "      <th>1609</th>\n",
              "      <td>0.742036</td>\n",
              "      <td>0.826</td>\n",
              "    </tr>\n",
              "    <tr>\n",
              "      <th>609</th>\n",
              "      <td>0.499051</td>\n",
              "      <td>0.336</td>\n",
              "    </tr>\n",
              "    <tr>\n",
              "      <th>1317</th>\n",
              "      <td>0.613745</td>\n",
              "      <td>0.691</td>\n",
              "    </tr>\n",
              "    <tr>\n",
              "      <th>1402</th>\n",
              "      <td>0.536478</td>\n",
              "      <td>0.596</td>\n",
              "    </tr>\n",
              "    <tr>\n",
              "      <th>376</th>\n",
              "      <td>0.609296</td>\n",
              "      <td>0.714</td>\n",
              "    </tr>\n",
              "  </tbody>\n",
              "</table>\n",
              "<p>511 rows × 2 columns</p>\n",
              "</div>"
            ],
            "text/plain": [
              "      predicted   true\n",
              "704    0.592932  0.602\n",
              "621    0.713220  0.623\n",
              "1874   0.678621  0.755\n",
              "2170   0.558893  0.541\n",
              "1687   0.649818  0.800\n",
              "...         ...    ...\n",
              "1609   0.742036  0.826\n",
              "609    0.499051  0.336\n",
              "1317   0.613745  0.691\n",
              "1402   0.536478  0.596\n",
              "376    0.609296  0.714\n",
              "\n",
              "[511 rows x 2 columns]"
            ]
          },
          "execution_count": 16,
          "metadata": {},
          "output_type": "execute_result"
        }
      ],
      "source": [
        "# true vs. pred\n",
        "true_vs_pred = pd.DataFrame({\"predicted\": y_pred, \n",
        "                            \"true\": y_test})\n",
        "\n",
        "true_vs_pred"
      ]
    },
    {
      "cell_type": "code",
      "execution_count": null,
      "metadata": {
        "id": "Lo5BgqPkImRk",
        "outputId": "03d4f698-a894-498e-eaf0-8d81dbe4b8f8"
      },
      "outputs": [
        {
          "data": {
            "image/png": "[encoded data removed]",
            "text/plain": [
              "<Figure size 640x480 with 1 Axes>"
            ]
          },
          "metadata": {},
          "output_type": "display_data"
        },
        {
          "data": {
            "text/plain": [
              "<ggplot: (-9223372036520312418)>"
            ]
          },
          "execution_count": 17,
          "metadata": {},
          "output_type": "execute_result"
        }
      ],
      "source": [
        "# plot\n",
        "(ggplot(true_vs_pred, aes(x = \"true\", y = \"predicted\")) + geom_point())"
      ]
    },
    {
      "cell_type": "markdown",
      "metadata": {
        "id": "aCZZehwrImRk"
      },
      "source": [
        "# K Fold"
      ]
    },
    {
      "cell_type": "code",
      "execution_count": null,
      "metadata": {
        "id": "J1oD01kkImRl"
      },
      "outputs": [],
      "source": [
        "# kf\n",
        "kf = KFold(n_splits = 10, shuffle = True)"
      ]
    },
    {
      "cell_type": "code",
      "execution_count": null,
      "metadata": {
        "id": "9yg3L1cPImRl"
      },
      "outputs": [],
      "source": [
        "# set up\n",
        "X = m[predictors]\n",
        "y = m[\"danceability\"]\n",
        "\n",
        "mse = []\n",
        "r2 = []\n",
        "\n",
        "lr = LinearRegression()"
      ]
    },
    {
      "cell_type": "code",
      "execution_count": null,
      "metadata": {
        "id": "yUSeEMFUImRm"
      },
      "outputs": [],
      "source": [
        "# loop\n",
        "\n",
        "for train, test in kf.split(X):\n",
        "    X_train = X.iloc[train]\n",
        "    X_test  = X.iloc[test]\n",
        "    y_train = y[train]\n",
        "    y_test  = y[test]\n",
        "    \n",
        "    # model\n",
        "    lr.fit(X_train, y_train)\n",
        "    \n",
        "    # metrics\n",
        "    mse.append(mean_squared_error(y_test, lr.predict(X_test)))\n",
        "    r2.append(r2_score(y_test, lr.predict(X_test)))\n",
        "    "
      ]
    },
    {
      "cell_type": "code",
      "execution_count": null,
      "metadata": {
        "id": "_C33ucsNImRm",
        "outputId": "6e1343f8-9227-4b36-e21e-2a896120de93"
      },
      "outputs": [
        {
          "data": {
            "text/plain": [
              "[0.01701435222248067,\n",
              " 0.016176244574289685,\n",
              " 0.01649042791730348,\n",
              " 0.01745577443368145,\n",
              " 0.013731356009763567,\n",
              " 0.0159065517631108,\n",
              " 0.0165891692810537,\n",
              " 0.016195037494384258,\n",
              " 0.01486383231975921,\n",
              " 0.013480677178226734]"
            ]
          },
          "execution_count": 21,
          "metadata": {},
          "output_type": "execute_result"
        }
      ],
      "source": [
        "# mse\n",
        "mse"
      ]
    },
    {
      "cell_type": "code",
      "execution_count": null,
      "metadata": {
        "id": "cKqFDGj9ImRm",
        "outputId": "d5c71449-9e25-428b-d32d-57f203ed2415"
      },
      "outputs": [
        {
          "data": {
            "text/plain": [
              "0.015790342319405355"
            ]
          },
          "execution_count": 22,
          "metadata": {},
          "output_type": "execute_result"
        }
      ],
      "source": [
        "# mean mse\n",
        "np.mean(mse)"
      ]
    },
    {
      "cell_type": "code",
      "execution_count": null,
      "metadata": {
        "id": "W36Iof-mImRn",
        "outputId": "1b1932f3-202c-4ed4-c721-64189c60e669"
      },
      "outputs": [
        {
          "data": {
            "text/plain": [
              "[0.3733556036786616,\n",
              " 0.34942133564176914,\n",
              " 0.3967056647616126,\n",
              " 0.3765149293047986,\n",
              " 0.3040186213610878,\n",
              " 0.3516652429474775,\n",
              " 0.3375517799888147,\n",
              " 0.24567467740544435,\n",
              " 0.39788871036243434,\n",
              " 0.3474395448101071]"
            ]
          },
          "execution_count": 23,
          "metadata": {},
          "output_type": "execute_result"
        }
      ],
      "source": [
        "# r2\n",
        "r2"
      ]
    },
    {
      "cell_type": "code",
      "execution_count": null,
      "metadata": {
        "id": "f4LW7suEImRn",
        "outputId": "e05cfe94-4904-4b4e-da28-8bd7db1d65eb"
      },
      "outputs": [
        {
          "data": {
            "text/plain": [
              "0.3480236110262208"
            ]
          },
          "execution_count": 24,
          "metadata": {},
          "output_type": "execute_result"
        }
      ],
      "source": [
        "# mean r2\n",
        "\n",
        "np.mean(r2)"
      ]
    },
    {
      "cell_type": "markdown",
      "metadata": {
        "id": "_9wT304qImRo"
      },
      "source": [
        "# Leave One Out"
      ]
    },
    {
      "cell_type": "code",
      "execution_count": null,
      "metadata": {
        "id": "98Ibm9OmImRo"
      },
      "outputs": [],
      "source": [
        "# loo set up\n",
        "loo = LeaveOneOut()\n",
        "\n",
        "mse = []\n",
        "\n",
        "lr = LinearRegression()"
      ]
    },
    {
      "cell_type": "code",
      "execution_count": null,
      "metadata": {
        "id": "2ho3FKG2ImRo"
      },
      "outputs": [],
      "source": [
        "# loo loop\n",
        "\n",
        "for train, test in loo.split(X):\n",
        "    X_train = X.iloc[train]\n",
        "    X_test  = X.iloc[test]\n",
        "    y_train = y[train]\n",
        "    y_test  = y[test]\n",
        "    \n",
        "    # model\n",
        "    lr.fit(X_train, y_train)\n",
        "    \n",
        "    # metrics\n",
        "    mse.append(mean_squared_error(y_test, lr.predict(X_test)))"
      ]
    },
    {
      "cell_type": "code",
      "execution_count": null,
      "metadata": {
        "id": "JN3OAe1tImRp",
        "outputId": "81105bfc-e077-47ec-8d52-7879a0bfd55d"
      },
      "outputs": [
        {
          "data": {
            "text/plain": [
              "0.01577326185227478"
            ]
          },
          "execution_count": 28,
          "metadata": {},
          "output_type": "execute_result"
        }
      ],
      "source": [
        "# mean mse\n",
        "np.mean(mse)"
      ]
    },
    {
      "cell_type": "markdown",
      "metadata": {
        "id": "Qr98ZA7RImRp"
      },
      "source": [
        "# Always Get the Same Split!\n",
        "When you do KFold or TTS, you may get slightly different splits every time you run the function, even with the same data! This is because the data is split randomly. \n",
        "\n",
        "If you want the same split every time, use the `random_state` argument."
      ]
    },
    {
      "cell_type": "code",
      "execution_count": null,
      "metadata": {
        "id": "5qbZs52fImRp"
      },
      "outputs": [],
      "source": [
        "X_train, X_test, y_train, y_test = train_test_split(m[predictors],\n",
        "                                                m[\"danceability\"],\n",
        "                                                test_size=0.2,\n",
        "                                                random_state = 42)\n",
        "kf = KFold(n_splits = 10, shuffle = True, random_state = 42) #we'll talk more about this later..."
      ]
    },
    {
      "cell_type": "markdown",
      "metadata": {
        "id": "ysQQP7KsImRp"
      },
      "source": [
        "# Quick Note about Data Leakage..."
      ]
    },
    {
      "cell_type": "code",
      "execution_count": null,
      "metadata": {
        "id": "t00qNteQImRp"
      },
      "outputs": [],
      "source": [
        "# Say you want to standardize...\n",
        "# Split Data\n",
        "predictors = [\"energy\", \"key\", \"loudness\", \"mode\", \"speechiness\", \"acousticness\",\n",
        "              \"instrumentalness\", \"liveness\", \"valence\", \"duration_ms\"]\n",
        "contin = [\"energy\", \"loudness\", \"speechiness\", \"acousticness\",\n",
        "              \"instrumentalness\", \"liveness\", \"valence\", \"duration_ms\"]\n",
        "\n",
        "X = m[predictors]\n",
        "y = m[\"danceability\"]\n",
        "\n",
        "\n",
        "# tts\n",
        "X_train, X_test, y_train, y_test = train_test_split(X, y, test_size=0.2)"
      ]
    },
    {
      "cell_type": "code",
      "execution_count": null,
      "metadata": {
        "id": "1_0DYT49ImRq",
        "outputId": "81906cab-5de2-4e22-bb26-5017b250f675"
      },
      "outputs": [
        {
          "data": {
            "text/plain": [
              "array([[-1.00470833, -0.03753225, -0.55161617, ..., -0.88123003,\n",
              "        -1.20359262, -0.23182332],\n",
              "       [-0.12478813,  0.27343227, -0.43932514, ..., -0.2478556 ,\n",
              "         1.09062338,  0.39964525],\n",
              "       [ 0.59956607,  0.82545232, -0.21736671, ..., -0.750891  ,\n",
              "         1.5786574 ,  1.0125593 ],\n",
              "       ...,\n",
              "       [ 1.52323921,  0.92291882,  0.69617852, ...,  0.6681818 ,\n",
              "         0.36997501, -0.19590049],\n",
              "       [ 0.34190988, -0.0259291 , -0.42515759, ..., -0.87756588,\n",
              "        -1.49550082,  0.94058184],\n",
              "       [-0.02269794,  0.13129364, -0.47867948, ..., -0.62264576,\n",
              "         0.84432584, -0.67487643]])"
            ]
          },
          "execution_count": 32,
          "metadata": {},
          "output_type": "execute_result"
        }
      ],
      "source": [
        "# z\n",
        "z = StandardScaler()\n",
        "\n",
        "z.fit(X_train[contin])\n",
        "Xz_train = z.transform(X_train[contin])\n",
        "Xz_test = z.transform(X_test[contin])\n",
        "\n",
        "Xz_train"
      ]
    },
    {
      "cell_type": "code",
      "execution_count": null,
      "metadata": {
        "id": "mpCskUkHImRq"
      },
      "outputs": [],
      "source": [
        "# in KF\n",
        "\n",
        "X = m[predictors]\n",
        "y = m[\"danceability\"]\n",
        "\n",
        "lr = LinearRegression()\n",
        "\n",
        "kf = KFold(n_splits = 5, shuffle = True)\n",
        "\n",
        "mse = []\n",
        "mse_train = []\n",
        "r2 = []\n",
        "\n",
        "for train, test in kf.split(X):\n",
        "    X_train = X.iloc[train]\n",
        "    X_test  = X.iloc[test]\n",
        "    y_train = y[train]\n",
        "    y_test  = y[test]\n",
        "    \n",
        "    # z\n",
        "    z = StandardScaler()\n",
        "    \n",
        "    z.fit(X_train[contin])\n",
        "    \n",
        "    X_train[contin] = z.transform(X_train[contin])\n",
        "    X_test[contin] = z.transform(X_test[contin])\n",
        "    \n",
        "    # model\n",
        "    lr.fit(X_train, y_train)\n",
        "    \n",
        "    # metrics\n",
        "    mse.append(mean_squared_error(y_test, lr.predict(X_test)))\n",
        "    mse_train.append(mean_squared_error(y_train, lr.predict(X_train)))\n",
        "    \n",
        "    r2.append(r2_score(y_test, lr.predict(X_test)))\n",
        "    "
      ]
    },
    {
      "cell_type": "code",
      "execution_count": null,
      "metadata": {
        "id": "m_j7dHFPImRr",
        "outputId": "bd6282a3-d6c1-4669-acf7-7dec6cd396de"
      },
      "outputs": [
        {
          "data": {
            "text/plain": [
              "0.01577361552493547"
            ]
          },
          "execution_count": 34,
          "metadata": {},
          "output_type": "execute_result"
        }
      ],
      "source": [
        "np.mean(mse)\n"
      ]
    },
    {
      "cell_type": "code",
      "execution_count": null,
      "metadata": {
        "id": "SFFal1GcImRr",
        "outputId": "1a34e612-6dd4-46b2-8915-05521f4b8b57"
      },
      "outputs": [
        {
          "data": {
            "text/plain": [
              "0.01559909421398574"
            ]
          },
          "execution_count": 35,
          "metadata": {},
          "output_type": "execute_result"
        }
      ],
      "source": [
        "np.mean(mse_train)"
      ]
    },
    {
      "cell_type": "code",
      "execution_count": null,
      "metadata": {
        "id": "Sh8XTS9dImRr",
        "outputId": "1cb720fd-3036-47bb-8efa-256c638311c8"
      },
      "outputs": [
        {
          "data": {
            "text/plain": [
              "0.35149628945488426"
            ]
          },
          "execution_count": 36,
          "metadata": {},
          "output_type": "execute_result"
        }
      ],
      "source": [
        "np.mean(r2)"
      ]
    },
    {
      "cell_type": "code",
      "execution_count": null,
      "metadata": {
        "id": "IL54Rf1YImRr"
      },
      "outputs": [],
      "source": [
        ""
      ]
    }
  ],
  "metadata": {
    "hide_input": false,
    "kernelspec": {
      "display_name": "Python 3",
      "language": "python",
      "name": "python3"
    },
    "language_info": {
      "codemirror_mode": {
        "name": "ipython",
        "version": 3
      },
      "file_extension": ".py",
      "mimetype": "text/x-python",
      "name": "python",
      "nbconvert_exporter": "python",
      "pygments_lexer": "ipython3",
      "version": "3.7.3"
    },
    "toc": {
      "base_numbering": 1,
      "nav_menu": {},
      "number_sections": true,
      "sideBar": true,
      "skip_h1_title": false,
      "title_cell": "Table of Contents",
      "title_sidebar": "Contents",
      "toc_cell": false,
      "toc_position": {},
      "toc_section_display": true,
      "toc_window_display": false
    },
    "colab": {
      "name": "Linear Regression II--Class 7.ipynb",
      "provenance": []
    }
  },
  "nbformat": 4,
  "nbformat_minor": 0
}
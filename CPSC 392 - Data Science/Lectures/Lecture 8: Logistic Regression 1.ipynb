{
  "cells": [
    {
      "cell_type": "code",
      "execution_count": 1,
      "metadata": {
        "id": "McuCc4NiJSZ4"
      },
      "outputs": [],
      "source": [
        "import warnings\n",
        "warnings.filterwarnings('ignore')\n",
        "\n",
        "\n",
        "import pandas as pd\n",
        "import numpy as np\n",
        "from plotnine import *\n",
        "\n",
        "from sklearn.linear_model import LogisticRegression # Logistic Regression Model\n",
        "from sklearn.preprocessing import StandardScaler #Z-score variables\n",
        "from sklearn.metrics import accuracy_score, confusion_matrix, plot_confusion_matrix\n",
        "\n",
        "import matplotlib.pyplot as plt\n",
        "\n",
        "from sklearn.model_selection import train_test_split # simple TT split cv\n",
        "from sklearn.model_selection import KFold # k-fold cv\n",
        "from sklearn.model_selection import LeaveOneOut #LOO cv\n",
        "from sklearn.model_selection import cross_val_score # cross validation metrics\n",
        "from sklearn.model_selection import cross_val_predict # cross validation metrics\n",
        "\n",
        "\n",
        "%matplotlib inline"
      ]
    },
    {
      "cell_type": "code",
      "execution_count": 2,
      "metadata": {
        "id": "ilO3IF0gJSZ8",
        "outputId": "91b51881-339c-4983-faaf-28bbd02ffb23"
      },
      "outputs": [
        {
          "data": {
            "text/html": [
              "<div>\n",
              "<style scoped>\n",
              "    .dataframe tbody tr th:only-of-type {\n",
              "        vertical-align: middle;\n",
              "    }\n",
              "\n",
              "    .dataframe tbody tr th {\n",
              "        vertical-align: top;\n",
              "    }\n",
              "\n",
              "    .dataframe thead th {\n",
              "        text-align: right;\n",
              "    }\n",
              "</style>\n",
              "<table border=\"1\" class=\"dataframe\">\n",
              "  <thead>\n",
              "    <tr style=\"text-align: right;\">\n",
              "      <th></th>\n",
              "      <th>age</th>\n",
              "      <th>income</th>\n",
              "      <th>months_subbed</th>\n",
              "      <th>upgrade</th>\n",
              "    </tr>\n",
              "  </thead>\n",
              "  <tbody>\n",
              "    <tr>\n",
              "      <th>0</th>\n",
              "      <td>22</td>\n",
              "      <td>55.89</td>\n",
              "      <td>14</td>\n",
              "      <td>0</td>\n",
              "    </tr>\n",
              "    <tr>\n",
              "      <th>1</th>\n",
              "      <td>32</td>\n",
              "      <td>86.03</td>\n",
              "      <td>57</td>\n",
              "      <td>0</td>\n",
              "    </tr>\n",
              "    <tr>\n",
              "      <th>2</th>\n",
              "      <td>38</td>\n",
              "      <td>49.22</td>\n",
              "      <td>37</td>\n",
              "      <td>1</td>\n",
              "    </tr>\n",
              "    <tr>\n",
              "      <th>3</th>\n",
              "      <td>14</td>\n",
              "      <td>92.71</td>\n",
              "      <td>51</td>\n",
              "      <td>1</td>\n",
              "    </tr>\n",
              "    <tr>\n",
              "      <th>4</th>\n",
              "      <td>33</td>\n",
              "      <td>94.06</td>\n",
              "      <td>37</td>\n",
              "      <td>0</td>\n",
              "    </tr>\n",
              "  </tbody>\n",
              "</table>\n",
              "</div>"
            ],
            "text/plain": [
              "   age  income  months_subbed  upgrade\n",
              "0   22   55.89             14        0\n",
              "1   32   86.03             57        0\n",
              "2   38   49.22             37        1\n",
              "3   14   92.71             51        1\n",
              "4   33   94.06             37        0"
            ]
          },
          "execution_count": 2,
          "metadata": {},
          "output_type": "execute_result"
        }
      ],
      "source": [
        "# data\n",
        "fashionBIG = pd.read_csv(\"https://raw.githubusercontent.com/cmparlettpelleriti/CPSC392ParlettPelleriti/master/Data/SKP_fashionBIG.csv\")\n",
        "fashionBIG.head()"
      ]
    },
    {
      "cell_type": "code",
      "execution_count": 3,
      "metadata": {
        "id": "Sl5faz_5JSZ-"
      },
      "outputs": [],
      "source": [
        "predictors = [\"age\", \"income\", \"months_subbed\"]\n",
        "\n",
        "X_train, X_test, y_train, y_test = train_test_split(fashionBIG[predictors], fashionBIG[\"upgrade\"], test_size=0.2)\n",
        "X_train.head()\n",
        "\n",
        "zscore = StandardScaler()\n",
        "zscore.fit(X_train)\n",
        "Xz_train = zscore.transform(X_train)\n",
        "Xz_test = zscore.transform(X_test)"
      ]
    },
    {
      "cell_type": "code",
      "execution_count": 4,
      "metadata": {
        "id": "dm8Dk6L-JSZ-"
      },
      "outputs": [],
      "source": [
        "myLogit = LogisticRegression() #create"
      ]
    },
    {
      "cell_type": "code",
      "execution_count": 5,
      "metadata": {
        "id": "qP0HJER6JSZ_",
        "outputId": "02272987-8ede-49d0-dc78-8d1f9db2228d"
      },
      "outputs": [
        {
          "data": {
            "text/plain": [
              "LogisticRegression()"
            ]
          },
          "execution_count": 5,
          "metadata": {},
          "output_type": "execute_result"
        }
      ],
      "source": [
        "myLogit.fit(Xz_train,y_train) #fit"
      ]
    },
    {
      "cell_type": "code",
      "execution_count": 6,
      "metadata": {
        "id": "Uyius-brJSZ_"
      },
      "outputs": [],
      "source": [
        "predictedVals = myLogit.predict(Xz_test) #predict"
      ]
    },
    {
      "cell_type": "code",
      "execution_count": 7,
      "metadata": {
        "id": "e4W12AGrJSaA",
        "outputId": "5dd13b36-6916-4f38-eec3-9bd6586872de"
      },
      "outputs": [
        {
          "data": {
            "text/plain": [
              "0.645"
            ]
          },
          "execution_count": 7,
          "metadata": {},
          "output_type": "execute_result"
        }
      ],
      "source": [
        "accuracy_score(y_test,predictedVals)"
      ]
    },
    {
      "cell_type": "code",
      "execution_count": 8,
      "metadata": {
        "id": "DitfUraKJSaB",
        "outputId": "59750741-eacf-42a5-98a7-06d51fabd0ba"
      },
      "outputs": [
        {
          "data": {
            "text/plain": [
              "Text(0.5, 1.0, 'Confusion matrix of the classifier')"
            ]
          },
          "execution_count": 8,
          "metadata": {},
          "output_type": "execute_result"
        },
        {
          "data": {
            "image/png": "[encoded data removed]",
            "text/plain": [
              "<Figure size 432x288 with 2 Axes>"
            ]
          },
          "metadata": {
            "needs_background": "light"
          },
          "output_type": "display_data"
        }
      ],
      "source": [
        "plot_confusion_matrix(myLogit,X_test, y_test)\n",
        "plt.title('Confusion matrix of the classifier')"
      ]
    },
    {
      "cell_type": "markdown",
      "metadata": {
        "id": "22WR81WrJSaB"
      },
      "source": [
        "## Predict new Data"
      ]
    },
    {
      "cell_type": "code",
      "execution_count": 9,
      "metadata": {
        "id": "a4s092CQJSaD"
      },
      "outputs": [],
      "source": [
        "fashionNEW = pd.read_csv(\"https://raw.githubusercontent.com/cmparlettpelleriti/CPSC392ParlettPelleriti/master/Data/SKP_fashionNEW.csv\")\n",
        "\n",
        "Xnew = fashionNEW.iloc[:,0:3]\n",
        "Xnewz = zscore.transform(Xnew)"
      ]
    },
    {
      "cell_type": "code",
      "execution_count": 10,
      "metadata": {
        "id": "2tHF3uHxJSaE"
      },
      "outputs": [],
      "source": [
        "Ypred = myLogit.predict(Xnewz)"
      ]
    },
    {
      "cell_type": "code",
      "execution_count": 11,
      "metadata": {
        "id": "wncMU6X6JSaE",
        "outputId": "4063efb7-a903-4c90-f901-bf41b9cd024e"
      },
      "outputs": [
        {
          "data": {
            "text/plain": [
              "0.6"
            ]
          },
          "execution_count": 11,
          "metadata": {},
          "output_type": "execute_result"
        }
      ],
      "source": [
        "accuracy_score(fashionNEW[\"upgrade\"], Ypred)"
      ]
    },
    {
      "cell_type": "code",
      "execution_count": 12,
      "metadata": {
        "id": "nKarfHfqJSaF",
        "outputId": "7da7f800-9bb9-4c16-9564-34181e9c213c"
      },
      "outputs": [
        {
          "data": {
            "text/plain": [
              "array([[ 85, 312],\n",
              "       [ 88, 515]])"
            ]
          },
          "execution_count": 12,
          "metadata": {},
          "output_type": "execute_result"
        }
      ],
      "source": [
        "confusion_matrix(fashionNEW[\"upgrade\"], Ypred)"
      ]
    },
    {
      "cell_type": "markdown",
      "metadata": {
        "id": "x57Mr1cYJSaF"
      },
      "source": [
        "## LR with Cross Validation"
      ]
    },
    {
      "cell_type": "code",
      "execution_count": 13,
      "metadata": {
        "id": "q-cZgCazJSaF"
      },
      "outputs": [],
      "source": [
        "# Kfold\n",
        "\n",
        "X = fashionBIG[[\"age\",\"income\",\"months_subbed\"]]\n",
        "y = fashionBIG[\"upgrade\"]\n",
        "\n",
        "# create k-fold object\n",
        "kf = KFold(n_splits = 5)\n",
        "kf.split(X)\n",
        "\n",
        "lr = LogisticRegression() #create model\n",
        "\n",
        "acc = [] #create empty list to store accuracy for each fold"
      ]
    },
    {
      "cell_type": "code",
      "execution_count": 14,
      "metadata": {
        "id": "HSr9sxE4JSaG",
        "outputId": "5625f54b-2908-49a5-818f-abab91ccca9c"
      },
      "outputs": [
        {
          "name": "stdout",
          "output_type": "stream",
          "text": [
            "[0.58, 0.605, 0.54, 0.565, 0.645]\n"
          ]
        },
        {
          "data": {
            "text/plain": [
              "0.587"
            ]
          },
          "execution_count": 14,
          "metadata": {},
          "output_type": "execute_result"
        }
      ],
      "source": [
        "# Use a for loop to loop through each fold and train a model, then add the accuracy to acc.\n",
        "\n",
        "for train_indices, test_indices in kf.split(X):\n",
        "    # Get your train/test for this fold\n",
        "    X_train = X.iloc[train_indices]\n",
        "    X_test  = X.iloc[test_indices]\n",
        "    y_train = y[train_indices]\n",
        "    y_test  = y[test_indices]\n",
        "    \n",
        "    # z score\n",
        "    z = StandardScaler()\n",
        "    X_train = z.fit_transform(X_train)\n",
        "    X_test  = z.transform(X_test)\n",
        "    \n",
        "    # model\n",
        "    model = lr.fit(X_train, y_train)\n",
        "    # record accuracy\n",
        "    acc.append(accuracy_score(y_test, model.predict(X_test)))\n",
        "    \n",
        "#print overall acc\n",
        "print(acc)\n",
        "np.mean(acc)"
      ]
    }
  ],
  "metadata": {
    "colab": {
      "name": "Logistic Regression I--Class 8.ipynb",
      "provenance": []
    },
    "hide_input": false,
    "kernelspec": {
      "display_name": "Python 3",
      "language": "python",
      "name": "python3"
    },
    "language_info": {
      "codemirror_mode": {
        "name": "ipython",
        "version": 3
      },
      "file_extension": ".py",
      "mimetype": "text/x-python",
      "name": "python",
      "nbconvert_exporter": "python",
      "pygments_lexer": "ipython3",
      "version": "3.8.5"
    },
    "toc": {
      "base_numbering": 1,
      "nav_menu": {},
      "number_sections": true,
      "sideBar": true,
      "skip_h1_title": false,
      "title_cell": "Table of Contents",
      "title_sidebar": "Contents",
      "toc_cell": false,
      "toc_position": {},
      "toc_section_display": true,
      "toc_window_display": false
    }
  },
  "nbformat": 4,
  "nbformat_minor": 0
}

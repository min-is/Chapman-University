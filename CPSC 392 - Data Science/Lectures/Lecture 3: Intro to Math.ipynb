{
  "cells": [
    {
      "cell_type": "code",
      "execution_count": null,
      "metadata": {
        "id": "8hAW0fPVCSWr"
      },
      "outputs": [],
      "source": [
        "import numpy as np\n",
        "import pandas as pd\n",
        "from scipy import stats\n",
        "\n",
        "from plotnine import *"
      ]
    },
    {
      "cell_type": "markdown",
      "metadata": {
        "id": "3HIo7s1zCSWs"
      },
      "source": [
        "# Together\n",
        "\n",
        "## Distributions\n",
        "\n",
        "A distribution is a curve (although sometimes it's pretty straight) that shows how common or uncommon different values are. For example, this is a normal distribution with mean = 0 and standard deviation = 1. Which values are relatively common under this distribution? Uncommon?\n",
        "\n",
        "<img src=\"https://drive.google.com/uc?export=view&id=1G0l7s0oheMJRt0I0j9qm_rNbRpogVobo\" width = 600px />\n",
        "\n",
        "\n",
        "What about this one?\n",
        "<img src=\"https://drive.google.com/uc?export=view&id=1FZ0YZCHBIZZ-4RYo7pUssuSz-fwGc2Jn\" width = 600px />\n",
        "\n",
        "\n",
        "## Function Optimization\n",
        "\n",
        "In our lecture we talked about derivatives, and that we often want to *minimize* functions when doing Data Scienc e + Machine Learning. While I won't dive into ALL the calculus now (if this kind of thing excites you, you should take CPSC 393!) I want to talk about some of the ideas behind minimizing functions.\n",
        "\n",
        "<img src=\"https://drive.google.com/uc?export=view&id=1GP0gQm1spsSU5qZWZJseENIz6q7XUfvK\" width = 600px />\n",
        "or\n",
        "\n",
        "<img src=\"https://drive.google.com/uc?export=view&id=1UT7GKUDqjNU1yHcQHK2bLmgHsxWBUNJv\" width = 600px />\n",
        "\n",
        "or\n",
        "\n",
        "<img src=\"https://drive.google.com/uc?export=view&id=1Fn8W3IMhYZDk-Ut7VtWgA_gyQw3uSJCq\" width = 600px />"
      ]
    },
    {
      "cell_type": "markdown",
      "metadata": {
        "id": "AeDGhTS-CSWt"
      },
      "source": [
        "# In Your Groups\n",
        "\n",
        "## Logarithms\n",
        "\n",
        "Use your new pandas skills to add a column, `logX` to the dataframe DF that contains the log ([`np.log()`](https://numpy.org/doc/stable/reference/generated/numpy.log.html)) of the column `X`.\n",
        "\n",
        "Then run the pre-written code (no need to change anything) to plot the log function.\n",
        "\n",
        "What range of values can the log() function take in? What range of values can the log function spit out? What happens to values < 1 when you log() them? What about values > 1?\n",
        "\n",
        "<img src=\"https://drive.google.com/uc?export=view&id=1ghyQPx1N8dmU3MV4TrANvqNhGwnLni72\" width = 200px />"
      ]
    },
    {
      "cell_type": "code",
      "execution_count": null,
      "metadata": {
        "id": "cJhDkhJ0CSWu"
      },
      "outputs": [],
      "source": [
        "DF = pd.DataFrame({\"X\": np.linspace(0.0001,10, 10000)})\n",
        "\n",
        "### YOUR CODE HERE ###\n",
        "\n",
        "DF[\"logX\"] = np.log(DF)\n",
        "\n",
        "### /YOUR CODE HERE ###"
      ]
    },
    {
      "cell_type": "code",
      "execution_count": null,
      "metadata": {
        "id": "Yuc0OV69CSWu",
        "outputId": "f6b803f5-cfe4-4cf1-fc9c-8a505b052398",
        "colab": {
          "base_uri": "https://localhost:8080/",
          "height": 465
        }
      },
      "outputs": [
        {
          "output_type": "display_data",
          "data": {
            "image/png": "[encoded data removed]",
            "text/plain": [
              "<Figure size 640x480 with 1 Axes>"
            ]
          },
          "metadata": {}
        },
        {
          "output_type": "execute_result",
          "data": {
            "text/plain": [
              "<ggplot: (8764057544293)>"
            ]
          },
          "metadata": {},
          "execution_count": 3
        }
      ],
      "source": [
        "# DONT CHANGE, JUST RUN\n",
        "\n",
        "(ggplot(DF, aes(x = \"X\", y = \"logX\")) +\n",
        " geom_line(color = \"darkblue\", size = 3) +\n",
        " theme_bw() +\n",
        "theme(panel_border = element_blank(),\n",
        "     panel_grid_minor = element_blank()))"
      ]
    },
    {
      "cell_type": "markdown",
      "metadata": {
        "id": "ButZZiSbCSWv"
      },
      "source": [
        "## Data Types\n",
        "\n",
        "In your lecture, you learned about different types of data/variables we could have. Go to our course github and click on the *Data* folder. Get the raw URL for the **Beyonce_data.csv** dataset and load it in using `pd.read_csv()`. Store your dataframe in the variable `bey`, and print the head of the dataframe.\n",
        "<img src=\"https://drive.google.com/uc?export=view&id=1ghyQPx1N8dmU3MV4TrANvqNhGwnLni72\" width = 200px />"
      ]
    },
    {
      "cell_type": "code",
      "execution_count": null,
      "metadata": {
        "id": "Mo7Eq17MCSWv",
        "outputId": "8bef987d-f01d-406b-dc20-1d2f0ecc1c89",
        "colab": {
          "base_uri": "https://localhost:8080/",
          "height": 409
        }
      },
      "outputs": [
        {
          "output_type": "execute_result",
          "data": {
            "text/html": [
              "\n",
              "  <div id=\"df-30e2dc1f-8585-439e-8d76-fe4f024b4267\">\n",
              "    <div class=\"colab-df-container\">\n",
              "      <div>\n",
              "<style scoped>\n",
              "    .dataframe tbody tr th:only-of-type {\n",
              "        vertical-align: middle;\n",
              "    }\n",
              "\n",
              "    .dataframe tbody tr th {\n",
              "        vertical-align: top;\n",
              "    }\n",
              "\n",
              "    .dataframe thead th {\n",
              "        text-align: right;\n",
              "    }\n",
              "</style>\n",
              "<table border=\"1\" class=\"dataframe\">\n",
              "  <thead>\n",
              "    <tr style=\"text-align: right;\">\n",
              "      <th></th>\n",
              "      <th>Unnamed: 0</th>\n",
              "      <th>artist_name</th>\n",
              "      <th>danceability</th>\n",
              "      <th>energy</th>\n",
              "      <th>key</th>\n",
              "      <th>loudness</th>\n",
              "      <th>mode</th>\n",
              "      <th>speechiness</th>\n",
              "      <th>acousticness</th>\n",
              "      <th>instrumentalness</th>\n",
              "      <th>liveness</th>\n",
              "      <th>valence</th>\n",
              "      <th>duration_ms</th>\n",
              "      <th>track_name</th>\n",
              "    </tr>\n",
              "  </thead>\n",
              "  <tbody>\n",
              "    <tr>\n",
              "      <th>0</th>\n",
              "      <td>1</td>\n",
              "      <td>Beyoncé</td>\n",
              "      <td>0.386</td>\n",
              "      <td>0.28800</td>\n",
              "      <td>1</td>\n",
              "      <td>-18.513</td>\n",
              "      <td>1</td>\n",
              "      <td>0.0602</td>\n",
              "      <td>0.533</td>\n",
              "      <td>0.01670</td>\n",
              "      <td>0.1410</td>\n",
              "      <td>0.399</td>\n",
              "      <td>43850</td>\n",
              "      <td>balance (mufasa interlude)</td>\n",
              "    </tr>\n",
              "    <tr>\n",
              "      <th>1</th>\n",
              "      <td>2</td>\n",
              "      <td>Beyoncé</td>\n",
              "      <td>0.484</td>\n",
              "      <td>0.36300</td>\n",
              "      <td>5</td>\n",
              "      <td>-8.094</td>\n",
              "      <td>0</td>\n",
              "      <td>0.0368</td>\n",
              "      <td>0.645</td>\n",
              "      <td>0.00000</td>\n",
              "      <td>0.1250</td>\n",
              "      <td>0.201</td>\n",
              "      <td>226479</td>\n",
              "      <td>BIGGER</td>\n",
              "    </tr>\n",
              "    <tr>\n",
              "      <th>2</th>\n",
              "      <td>3</td>\n",
              "      <td>Beyoncé</td>\n",
              "      <td>0.537</td>\n",
              "      <td>0.24700</td>\n",
              "      <td>2</td>\n",
              "      <td>-17.750</td>\n",
              "      <td>1</td>\n",
              "      <td>0.0793</td>\n",
              "      <td>0.199</td>\n",
              "      <td>0.00001</td>\n",
              "      <td>0.4230</td>\n",
              "      <td>0.170</td>\n",
              "      <td>46566</td>\n",
              "      <td>the stars (mufasa interlude)</td>\n",
              "    </tr>\n",
              "    <tr>\n",
              "      <th>3</th>\n",
              "      <td>4</td>\n",
              "      <td>Beyoncé</td>\n",
              "      <td>0.672</td>\n",
              "      <td>0.69600</td>\n",
              "      <td>4</td>\n",
              "      <td>-6.693</td>\n",
              "      <td>0</td>\n",
              "      <td>0.1770</td>\n",
              "      <td>0.200</td>\n",
              "      <td>0.02750</td>\n",
              "      <td>0.0736</td>\n",
              "      <td>0.642</td>\n",
              "      <td>162353</td>\n",
              "      <td>FIND YOUR WAY BACK</td>\n",
              "    </tr>\n",
              "    <tr>\n",
              "      <th>4</th>\n",
              "      <td>5</td>\n",
              "      <td>Beyoncé</td>\n",
              "      <td>0.000</td>\n",
              "      <td>0.00515</td>\n",
              "      <td>9</td>\n",
              "      <td>-22.612</td>\n",
              "      <td>0</td>\n",
              "      <td>0.0000</td>\n",
              "      <td>0.524</td>\n",
              "      <td>0.95000</td>\n",
              "      <td>0.1140</td>\n",
              "      <td>0.000</td>\n",
              "      <td>13853</td>\n",
              "      <td>uncle scar (scar interlude)</td>\n",
              "    </tr>\n",
              "  </tbody>\n",
              "</table>\n",
              "</div>\n",
              "      <button class=\"colab-df-convert\" onclick=\"convertToInteractive('df-30e2dc1f-8585-439e-8d76-fe4f024b4267')\"\n",
              "              title=\"Convert this dataframe to an interactive table.\"\n",
              "              style=\"display:none;\">\n",
              "        \n",
              "  <svg xmlns=\"http://www.w3.org/2000/svg\" height=\"24px\"viewBox=\"0 0 24 24\"\n",
              "       width=\"24px\">\n",
              "    <path d=\"M0 0h24v24H0V0z\" fill=\"none\"/>\n",
              "    <path d=\"M18.56 5.44l.94 2.06.94-2.06 2.06-.94-2.06-.94-.94-2.06-.94 2.06-2.06.94zm-11 1L8.5 8.5l.94-2.06 2.06-.94-2.06-.94L8.5 2.5l-.94 2.06-2.06.94zm10 10l.94 2.06.94-2.06 2.06-.94-2.06-.94-.94-2.06-.94 2.06-2.06.94z\"/><path d=\"M17.41 7.96l-1.37-1.37c-.4-.4-.92-.59-1.43-.59-.52 0-1.04.2-1.43.59L10.3 9.45l-7.72 7.72c-.78.78-.78 2.05 0 2.83L4 21.41c.39.39.9.59 1.41.59.51 0 1.02-.2 1.41-.59l7.78-7.78 2.81-2.81c.8-.78.8-2.07 0-2.86zM5.41 20L4 18.59l7.72-7.72 1.47 1.35L5.41 20z\"/>\n",
              "  </svg>\n",
              "      </button>\n",
              "      \n",
              "  <style>\n",
              "    .colab-df-container {\n",
              "      display:flex;\n",
              "      flex-wrap:wrap;\n",
              "      gap: 12px;\n",
              "    }\n",
              "\n",
              "    .colab-df-convert {\n",
              "      background-color: #E8F0FE;\n",
              "      border: none;\n",
              "      border-radius: 50%;\n",
              "      cursor: pointer;\n",
              "      display: none;\n",
              "      fill: #1967D2;\n",
              "      height: 32px;\n",
              "      padding: 0 0 0 0;\n",
              "      width: 32px;\n",
              "    }\n",
              "\n",
              "    .colab-df-convert:hover {\n",
              "      background-color: #E2EBFA;\n",
              "      box-shadow: 0px 1px 2px rgba(60, 64, 67, 0.3), 0px 1px 3px 1px rgba(60, 64, 67, 0.15);\n",
              "      fill: #174EA6;\n",
              "    }\n",
              "\n",
              "    [theme=dark] .colab-df-convert {\n",
              "      background-color: #3B4455;\n",
              "      fill: #D2E3FC;\n",
              "    }\n",
              "\n",
              "    [theme=dark] .colab-df-convert:hover {\n",
              "      background-color: #434B5C;\n",
              "      box-shadow: 0px 1px 3px 1px rgba(0, 0, 0, 0.15);\n",
              "      filter: drop-shadow(0px 1px 2px rgba(0, 0, 0, 0.3));\n",
              "      fill: #FFFFFF;\n",
              "    }\n",
              "  </style>\n",
              "\n",
              "      <script>\n",
              "        const buttonEl =\n",
              "          document.querySelector('#df-30e2dc1f-8585-439e-8d76-fe4f024b4267 button.colab-df-convert');\n",
              "        buttonEl.style.display =\n",
              "          google.colab.kernel.accessAllowed ? 'block' : 'none';\n",
              "\n",
              "        async function convertToInteractive(key) {\n",
              "          const element = document.querySelector('#df-30e2dc1f-8585-439e-8d76-fe4f024b4267');\n",
              "          const dataTable =\n",
              "            await google.colab.kernel.invokeFunction('convertToInteractive',\n",
              "                                                     [key], {});\n",
              "          if (!dataTable) return;\n",
              "\n",
              "          const docLinkHtml = 'Like what you see? Visit the ' +\n",
              "            '<a target=\"_blank\" href=https://colab.research.google.com/notebooks/data_table.ipynb>data table notebook</a>'\n",
              "            + ' to learn more about interactive tables.';\n",
              "          element.innerHTML = '';\n",
              "          dataTable['output_type'] = 'display_data';\n",
              "          await google.colab.output.renderOutput(dataTable, element);\n",
              "          const docLink = document.createElement('div');\n",
              "          docLink.innerHTML = docLinkHtml;\n",
              "          element.appendChild(docLink);\n",
              "        }\n",
              "      </script>\n",
              "    </div>\n",
              "  </div>\n",
              "  "
            ],
            "text/plain": [
              "   Unnamed: 0 artist_name  ...  duration_ms                    track_name\n",
              "0           1     Beyoncé  ...        43850    balance (mufasa interlude)\n",
              "1           2     Beyoncé  ...       226479                        BIGGER\n",
              "2           3     Beyoncé  ...        46566  the stars (mufasa interlude)\n",
              "3           4     Beyoncé  ...       162353            FIND YOUR WAY BACK\n",
              "4           5     Beyoncé  ...        13853   uncle scar (scar interlude)\n",
              "\n",
              "[5 rows x 14 columns]"
            ]
          },
          "metadata": {},
          "execution_count": 4
        }
      ],
      "source": [
        "bey_url = \"https://raw.githubusercontent.com/cmparlettpelleriti/CPSC392ParlettPelleriti/master/Data/Beyonce_data.csv\"\n",
        "bey = pd.read_csv(bey_url)\n",
        "bey.head()"
      ]
    },
    {
      "cell_type": "markdown",
      "metadata": {
        "id": "nAmA8RAlCSWw"
      },
      "source": [
        "What types are all the variables?\n",
        "\n",
        "- Categorical:\n",
        "    - nominal: artist_name\n",
        "    - ordinal:\n",
        "    - interval: key\n",
        "- Numeric: danceability, energy, energy, loudness, speechiness, acousticness, instrumentalness, liveness, valence\n",
        "- Boolean: mode\n",
        "- Text: track_name\n",
        "\n",
        "If a variable is Categorical, how do you decide if it's nominal, ordinal, or interval? Give an example of each.\n",
        "<img src=\"https://drive.google.com/uc?export=view&id=1ghyQPx1N8dmU3MV4TrANvqNhGwnLni72\" width = 200px />"
      ]
    },
    {
      "cell_type": "markdown",
      "metadata": {
        "id": "A6yrK0W0CSWw"
      },
      "source": [
        "## Probabilities and Conditional Probabilities\n",
        "\n",
        "Remember that in general, probabilities are\n",
        "\n",
        "$\\frac{\\text{# of events of interest}}{\\text{total # of events}}$\n",
        "\n",
        "Given this information, and the dataframe `voters`, calculate the probability of:\n",
        "\n",
        "- being a registered voter\n",
        "- being a vegetarian AND a registered voter\n",
        "\n",
        "<img src=\"https://drive.google.com/uc?export=view&id=1ghyQPx1N8dmU3MV4TrANvqNhGwnLni72\" width = 200px />"
      ]
    },
    {
      "cell_type": "code",
      "execution_count": null,
      "metadata": {
        "id": "QNmo4fCsCSWx",
        "outputId": "e55b61c8-3910-4058-953e-7a5a57bc95cf",
        "colab": {
          "base_uri": "https://localhost:8080/"
        }
      },
      "outputs": [
        {
          "output_type": "stream",
          "name": "stdout",
          "text": [
            "0.45\n",
            "0.3\n"
          ]
        },
        {
          "output_type": "stream",
          "name": "stderr",
          "text": [
            "/usr/local/lib/python3.7/dist-packages/ipykernel_launcher.py:18: UserWarning: Boolean Series key will be reindexed to match DataFrame index.\n"
          ]
        }
      ],
      "source": [
        "registered = ['no', 'yes', 'yes', 'no', 'no', 'yes', 'yes', 'yes', 'no', 'no',\n",
        "       'yes', 'no', 'no', 'no', 'yes', 'yes', 'no', 'no', 'no', 'yes']\n",
        "\n",
        "diet = ['Meat_Eater', 'Vegetarian', 'Vegetarian', 'Vegan', 'Vegetarian',\n",
        "       'Vegetarian', 'Vegetarian', 'Vegetarian', 'Meat_Eater', 'Vegan',\n",
        "       'Vegan', 'Vegetarian', 'Meat_Eater', 'Meat_Eater', 'Vegan',\n",
        "       'Vegan', 'Vegetarian', 'Meat_Eater', 'Meat_Eater', 'Vegetarian']\n",
        "\n",
        "voters = pd.DataFrame({\"RegisteredToVote\": registered, \"Diet\": diet})\n",
        "\n",
        "voters_veg = voters['Diet'] == 'Vegetarian'\n",
        "\n",
        "voters_reg = voters[\"RegisteredToVote\"] == \"yes\"\n",
        "\n",
        "total = len(registered)\n",
        "\n",
        "probability = len(voters[voters_reg]) / total\n",
        "probability2 = len(voters[voters_reg][voters_veg]) / len(voters[\"RegisteredToVote\"])\n",
        "\n",
        " # print(voters_reg)\n",
        "\n",
        "voters[voters_veg]\n",
        "\n",
        "print(probability)\n",
        "print(probability2)\n"
      ]
    },
    {
      "cell_type": "markdown",
      "metadata": {
        "id": "SH-yz5FkCSWx"
      },
      "source": [
        "**Conditional probabilities** are just probabilities where the total events are *restricted* by some kind of information.\n",
        "\n",
        "For example: $P(\\textbf{Vegetarian | registered to vote})$ (in words we'd say this as \"the Probability of being Vegetarian *given* that you are registered to vote\") means that we want to know the probability of being Vegetarian when ONLY looking at registered voters. This means that the denominator of our probability will only count registered voters.\n",
        "\n",
        "There are 9 registered voters in our data frame, and out of those 9, 6 are Vegetarian. So $P(\\textbf{Vegetarian | registered to vote})$  = $\\frac{6}{9}$.\n",
        "\n",
        "Using the data frame `booksRead` below which indicates the responses from 25 people about which books they had read in the past 5 years, calculate (using code or by hand) the following probabilites:\n",
        "- P(read Tale of Two Cities)\n",
        "- P(read the Bible)\n",
        "- P(read What to Expect When You're Expecting **|** read Tale of Two Cities)\n",
        "- P(read What to Expect When You're Expecting **|** read Tale of Two Cities **AND** the Bible)\n",
        "- P(read How to Win Friends and Influence People **|** did not read LOTR)\n",
        "- P(read LOTR **AND** Tale of Two Cities)\n",
        "\n",
        "<img src=\"https://drive.google.com/uc?export=view&id=1ghyQPx1N8dmU3MV4TrANvqNhGwnLni72\" width = 200px />"
      ]
    },
    {
      "cell_type": "code",
      "execution_count": null,
      "metadata": {
        "id": "2_t4D6ekCSWx",
        "outputId": "55c89ee8-8521-45c1-b6f2-a91c3056aeac",
        "colab": {
          "base_uri": "https://localhost:8080/"
        }
      },
      "outputs": [
        {
          "output_type": "stream",
          "name": "stdout",
          "text": [
            "The total number of people in this dataset is: 25\n",
            "The probability of reading Tale of Two Cities is:  0.84\n",
            "The probability of reading the Bible is:  0.96\n",
            "The probability of reading What to Expect When You're Expecting given reading Tale of Two Cities is:  0.84\n",
            "The probability of reading What to Expect When You're Expecting given reading the Bible and TOTC is:  0.81\n",
            "The probability of reading HTWFAIP given not reading LOTR is:  0.68\n",
            "The probability of reading LOTR and Tale of Two Cities is:  0.27\n"
          ]
        }
      ],
      "source": [
        "taleOfTwoCities = ['yes', 'yes', 'yes', 'no', 'yes', 'yes', 'no', 'yes', 'yes', 'no',\n",
        "       'yes', 'no', 'yes', 'yes', 'yes', 'yes', 'yes', 'yes', 'yes',\n",
        "       'yes', 'yes', 'yes', 'yes', 'yes', 'yes']\n",
        "\n",
        "bible = ['yes', 'yes', 'yes', 'yes', 'yes', 'yes', 'yes', 'yes', 'yes',\n",
        "       'yes', 'yes', 'yes', 'yes', 'yes', 'yes', 'yes', 'yes', 'yes',\n",
        "       'yes', 'yes', 'yes', 'no', 'yes', 'yes', 'yes']\n",
        "\n",
        "howToWinFriendsAndInfluencePeople = ['yes', 'no', 'no', 'no', 'no', 'no', 'yes', 'yes', 'no', 'no',\n",
        "       'yes', 'no', 'no', 'no', 'no', 'yes', 'no', 'no', 'no', 'no', 'no',\n",
        "       'no', 'no', 'no', 'yes']\n",
        "\n",
        "whatToExpectWhenYoureExpecting = ['yes', 'yes', 'yes', 'no', 'yes', 'yes', 'yes', 'no', 'no', 'yes',\n",
        "       'no', 'no', 'yes', 'no', 'no', 'no', 'no', 'no', 'no', 'no', 'no',\n",
        "       'no', 'yes', 'no', 'yes']\n",
        "\n",
        "LOTR = ['yes', 'yes', 'no', 'no', 'no', 'no', 'no', 'yes', 'no', 'no',\n",
        "       'no', 'no', 'no', 'yes', 'yes', 'no', 'no', 'no', 'no', 'no',\n",
        "       'yes', 'yes', 'no', 'yes', 'no']\n",
        "\n",
        "booksRead = pd.DataFrame({\"taleOfTwoCities\": taleOfTwoCities,\n",
        "                         \"bible\": bible,\n",
        "                         \"howToWinFriendsAndInfluencePeople\": howToWinFriendsAndInfluencePeople,\n",
        "                         \"whatToExpectWhenYoureExpecting\": whatToExpectWhenYoureExpecting,\n",
        "                         \"LOTR\": LOTR})\n",
        "\n",
        "read_TOTC = booksRead[\"taleOfTwoCities\"] == \"yes\"\n",
        "read_bible = booksRead[\"bible\"] ==\"yes\"\n",
        "read_HTWFAIP = booksRead[\"howToWinFriendsAndInfluencePeople\"] == \"yes\"\n",
        "read_WTEWYE = booksRead[\"whatToExpectWhenYoureExpecting\"] == \"yes\"\n",
        "read_LOTR = booksRead[\"LOTR\"] == \"yes\"\n",
        "\n",
        "total = len(booksRead)\n",
        "print(\"The total number of people in this dataset is:\", total)\n",
        "\n",
        "# P(read Tale of Two Cities)\n",
        "prob_TOTC = len(booksRead[read_TOTC]) / total\n",
        "print(\"The probability of reading Tale of Two Cities is: \", prob_TOTC)\n",
        "\n",
        "# P(read the Bible)\n",
        "prob_bible = len(booksRead[read_bible]) / total\n",
        "print(\"The probability of reading the Bible is: \", prob_bible)\n",
        "\n",
        "# P(read What to Expect When You're Expecting | read Tale of Two Cities)\n",
        "prob_WTEWYE = len(booksRead[read_WTEWYE]) / total\n",
        "prob_WTEWYE_and_TOTC = prob_WTEWYE * prob_TOTC\n",
        "prob_WTEWYE_TOTC_f = prob_WTEWYE_and_TOTC / prob_WTEWYE\n",
        "print(\"The probability of reading What to Expect When You're Expecting given reading Tale of Two Cities is: \", prob_WTEWYE_TOTC_f)\n",
        "\n",
        "# P(read What to Expect When You're Expecting | read Tale of Two Cities AND the Bible)\n",
        "prob_TOTC_and_bible = prob_TOTC * (len(booksRead[read_bible]) / total)\n",
        "A = prob_TOTC_and_bible * prob_WTEWYE\n",
        "B = round(A / prob_WTEWYE, 2)\n",
        "print(\"The probability of reading What to Expect When You're Expecting given reading the Bible and TOTC is: \", B)\n",
        "\n",
        "# P(read How to Win Friends and Influence People | did not read LOTR)\n",
        "prob_LOTR = len(booksRead[read_LOTR]) / total\n",
        "prob_didntread_LOTR = 1 - prob_LOTR\n",
        "prob_HTWFAIP = len(booksRead[read_HTWFAIP]) / total\n",
        "prob_HTWFAIP_and_didntread_LOTR = prob_HTWFAIP * prob_didntread_LOTR\n",
        "prob_HTWFAIP_given_didntread_LOTR = round(prob_HTWFAIP_and_didntread_LOTR / prob_HTWFAIP, 2)\n",
        "print(\"The probability of reading HTWFAIP given not reading LOTR is: \", prob_HTWFAIP_given_didntread_LOTR)\n",
        "\n",
        "# P(read LOTR AND Tale of Two Cities)\n",
        "prob_LOTR_and_TOTC = round(prob_LOTR * prob_TOTC, 2)\n",
        "print(\"The probability of reading LOTR and Tale of Two Cities is: \", prob_LOTR_and_TOTC)\n"
      ]
    },
    {
      "cell_type": "markdown",
      "metadata": {
        "id": "kqjASMTvCSWy"
      },
      "source": [
        "## Odds"
      ]
    },
    {
      "cell_type": "markdown",
      "metadata": {
        "id": "QPpajF_8CSWy"
      },
      "source": [
        "Odds are the probability of something happening, divided by the probabilit of it not happening. What are the **Odds** of the following events:\n",
        "\n",
        "- The odds of Bob scoring a goal during a soccer game if P(Bob scoring a goal during a soccer game) = 0.2\n",
        "- The odds of flipping a heads on a fair coin if P(head) = 0.5\n",
        "- The odds of your professor showing up in a Dinosaur costume today if P(professor showing up in a Dinosaur costume) = 0.7\n",
        "- The odds of NOT winning the lottery if P(winning the lottery) = 0.0000001\n",
        "\n",
        "<img src=\"https://drive.google.com/uc?export=view&id=1ghyQPx1N8dmU3MV4TrANvqNhGwnLni72\" width = 200px />\n",
        "\n",
        "If my odds of ordering pizza tonight are 3, what is the probability that I order pizza? If I increase my odds by 10x and my odds are now 30, what is the probability that I order pizza?\n",
        "\n",
        "<img src=\"https://drive.google.com/uc?export=view&id=1ghyQPx1N8dmU3MV4TrANvqNhGwnLni72\" width = 200px />"
      ]
    }
  ],
  "metadata": {
    "hide_input": false,
    "kernelspec": {
      "display_name": "Python 3",
      "language": "python",
      "name": "python3"
    },
    "language_info": {
      "codemirror_mode": {
        "name": "ipython",
        "version": 3
      },
      "file_extension": ".py",
      "mimetype": "text/x-python",
      "name": "python",
      "nbconvert_exporter": "python",
      "pygments_lexer": "ipython3",
      "version": "3.8.1"
    },
    "toc": {
      "base_numbering": 1,
      "nav_menu": {},
      "number_sections": true,
      "sideBar": true,
      "skip_h1_title": false,
      "title_cell": "Table of Contents",
      "title_sidebar": "Contents",
      "toc_cell": false,
      "toc_position": {},
      "toc_section_display": true,
      "toc_window_display": false
    },
    "colab": {
      "name": "Min - All the stuff you need to know (Math)_Class3.ipynb",
      "provenance": []
    }
  },
  "nbformat": 4,
  "nbformat_minor": 0
}
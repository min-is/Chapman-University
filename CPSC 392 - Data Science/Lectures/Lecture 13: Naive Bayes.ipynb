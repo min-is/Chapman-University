{
  "cells": [
    {
      "cell_type": "code",
      "execution_count": null,
      "metadata": {
        "id": "mZNCejmYBose"
      },
      "outputs": [],
      "source": [
        "import warnings\n",
        "warnings.filterwarnings('ignore')\n",
        "\n",
        "\n",
        "import pandas as pd\n",
        "import numpy as np\n",
        "from plotnine import *\n",
        "\n",
        "\n",
        "from sklearn.naive_bayes import GaussianNB, BernoulliNB, CategoricalNB\n",
        "from sklearn.model_selection import train_test_split\n",
        "\n",
        "from sklearn import metrics \n",
        "from sklearn.preprocessing import StandardScaler #Z-score variables\n",
        "\n",
        "from sklearn.model_selection import train_test_split # simple TT split cv\n",
        "from sklearn.model_selection import KFold # k-fold cv\n",
        "from sklearn.model_selection import LeaveOneOut #LOO cv\n",
        "\n",
        "from sklearn.metrics import accuracy_score, confusion_matrix\n",
        "from sklearn.metrics import plot_confusion_matrix\n",
        "\n",
        "\n",
        "%precision %.7g\n",
        "%matplotlib inline"
      ]
    },
    {
      "cell_type": "markdown",
      "metadata": {
        "id": "kbNhPqCbBosg"
      },
      "source": [
        "# Explore"
      ]
    },
    {
      "cell_type": "code",
      "execution_count": null,
      "metadata": {
        "id": "Yqh_SygHBosh",
        "outputId": "d61bca84-d219-49ff-b6a5-6110ddc80554"
      },
      "outputs": [
        {
          "data": {
            "text/html": [
              "<div>\n",
              "<style scoped>\n",
              "    .dataframe tbody tr th:only-of-type {\n",
              "        vertical-align: middle;\n",
              "    }\n",
              "\n",
              "    .dataframe tbody tr th {\n",
              "        vertical-align: top;\n",
              "    }\n",
              "\n",
              "    .dataframe thead th {\n",
              "        text-align: right;\n",
              "    }\n",
              "</style>\n",
              "<table border=\"1\" class=\"dataframe\">\n",
              "  <thead>\n",
              "    <tr style=\"text-align: right;\">\n",
              "      <th></th>\n",
              "      <th>is_spam</th>\n",
              "      <th>viagra</th>\n",
              "      <th>love</th>\n",
              "      <th>dollar</th>\n",
              "      <th>buy</th>\n",
              "    </tr>\n",
              "  </thead>\n",
              "  <tbody>\n",
              "    <tr>\n",
              "      <th>0</th>\n",
              "      <td>1</td>\n",
              "      <td>0</td>\n",
              "      <td>0</td>\n",
              "      <td>0</td>\n",
              "      <td>0</td>\n",
              "    </tr>\n",
              "    <tr>\n",
              "      <th>1</th>\n",
              "      <td>1</td>\n",
              "      <td>0</td>\n",
              "      <td>0</td>\n",
              "      <td>1</td>\n",
              "      <td>1</td>\n",
              "    </tr>\n",
              "    <tr>\n",
              "      <th>2</th>\n",
              "      <td>0</td>\n",
              "      <td>0</td>\n",
              "      <td>0</td>\n",
              "      <td>0</td>\n",
              "      <td>0</td>\n",
              "    </tr>\n",
              "    <tr>\n",
              "      <th>3</th>\n",
              "      <td>1</td>\n",
              "      <td>1</td>\n",
              "      <td>0</td>\n",
              "      <td>1</td>\n",
              "      <td>1</td>\n",
              "    </tr>\n",
              "    <tr>\n",
              "      <th>4</th>\n",
              "      <td>1</td>\n",
              "      <td>1</td>\n",
              "      <td>0</td>\n",
              "      <td>0</td>\n",
              "      <td>0</td>\n",
              "    </tr>\n",
              "  </tbody>\n",
              "</table>\n",
              "</div>"
            ],
            "text/plain": [
              "   is_spam  viagra  love  dollar  buy\n",
              "0        1       0     0       0    0\n",
              "1        1       0     0       1    1\n",
              "2        0       0     0       0    0\n",
              "3        1       1     0       1    1\n",
              "4        1       1     0       0    0"
            ]
          },
          "execution_count": 2,
          "metadata": {},
          "output_type": "execute_result"
        }
      ],
      "source": [
        "spam = pd.read_csv(\"https://raw.githubusercontent.com/cmparlettpelleriti/CPSC392ParlettPelleriti/master/Data/spam.csv\")\n",
        "\n",
        "spam.head()"
      ]
    },
    {
      "cell_type": "code",
      "execution_count": null,
      "metadata": {
        "id": "QQLZsGRNBosi",
        "outputId": "b3d0e15e-752a-4822-a7d3-cc6213510b94"
      },
      "outputs": [
        {
          "data": {
            "image/png": "[encoded data removed]",
            "text/plain": [
              "<Figure size 640x480 with 1 Axes>"
            ]
          },
          "metadata": {},
          "output_type": "display_data"
        },
        {
          "data": {
            "text/plain": [
              "<ggplot: (287051384)>"
            ]
          },
          "execution_count": 4,
          "metadata": {},
          "output_type": "execute_result"
        }
      ],
      "source": [
        "(ggplot(spam, aes(x = \"factor(is_spam)\", fill = \"factor(viagra)\")) + geom_bar() + theme_bw())"
      ]
    },
    {
      "cell_type": "markdown",
      "metadata": {
        "id": "I1uF6jFcBosj"
      },
      "source": [
        "# Build and Evaluate Model"
      ]
    },
    {
      "cell_type": "code",
      "execution_count": null,
      "metadata": {
        "id": "2S8outlTBosj",
        "outputId": "803cc24d-4ece-4178-85ac-31fdc25367e7"
      },
      "outputs": [
        {
          "name": "stdout",
          "output_type": "stream",
          "text": [
            "Test Acc: 0.905\n",
            "Train Acc: 0.905\n"
          ]
        },
        {
          "data": {
            "image/png": "[encoded data removed]",
            "text/plain": [
              "<Figure size 432x288 with 2 Axes>"
            ]
          },
          "metadata": {
            "needs_background": "light"
          },
          "output_type": "display_data"
        },
        {
          "data": {
            "image/png": "[encoded data removed]",
            "text/plain": [
              "<Figure size 432x288 with 2 Axes>"
            ]
          },
          "metadata": {
            "needs_background": "light"
          },
          "output_type": "display_data"
        },
        {
          "data": {
            "image/png": "[encoded data removed]",
            "text/plain": [
              "<Figure size 432x288 with 2 Axes>"
            ]
          },
          "metadata": {
            "needs_background": "light"
          },
          "output_type": "display_data"
        },
        {
          "data": {
            "image/png": "[encoded data removed]",
            "text/plain": [
              "<Figure size 432x288 with 2 Axes>"
            ]
          },
          "metadata": {
            "needs_background": "light"
          },
          "output_type": "display_data"
        },
        {
          "data": {
            "image/png": "[encoded data removed]",
            "text/plain": [
              "<Figure size 432x288 with 2 Axes>"
            ]
          },
          "metadata": {
            "needs_background": "light"
          },
          "output_type": "display_data"
        }
      ],
      "source": [
        "X = spam[[\"viagra\", \"love\", \"dollar\", \"buy\"]]\n",
        "y = spam[\"is_spam\"]\n",
        "\n",
        "kf = KFold(n_splits = 5)\n",
        "\n",
        "acc_train = []\n",
        "acc_test = []\n",
        "\n",
        "nb = BernoulliNB()\n",
        "\n",
        "for train,test in kf.split(X):\n",
        "    X_train = X.iloc[train]\n",
        "    X_test = X.iloc[test]\n",
        "    y_train = y[train]\n",
        "    y_test = y[test]\n",
        "    \n",
        "    nb.fit(X_train, y_train)\n",
        "    \n",
        "    acc_train.append(accuracy_score(y_train, nb.predict(X_train)))\n",
        "    acc_test.append(accuracy_score(y_test, nb.predict(X_test)))\n",
        "    \n",
        "    plot_confusion_matrix(nb, X_test, y_test)\n",
        "    \n",
        "print(\"Test Acc: \" + str(np.mean(acc_test)))\n",
        "print(\"Train Acc: \" + str(np.mean(acc_train)))"
      ]
    },
    {
      "cell_type": "code",
      "execution_count": null,
      "metadata": {
        "id": "u1pgBtynBosk",
        "outputId": "eea57dff-bf0c-4dc9-a889-0a9cc804b060"
      },
      "outputs": [
        {
          "data": {
            "text/plain": [
              "array([1])"
            ]
          },
          "execution_count": 6,
          "metadata": {},
          "output_type": "execute_result"
        }
      ],
      "source": [
        "# Let's check by hand\n",
        "\n",
        "# Hello,\n",
        "# I hope you are well. Honestly I am doing super well! I have the urge to buy something crazy.\n",
        "# Maybe one of those giant bean bags from the mall. A love sac. Well. Another day, another dollar.\n",
        "# Sincerely,\n",
        "# Dad\n",
        "\n",
        "# 0,1,1,1\n",
        "nb.predict(np.array([0,1,1,1]).reshape(1,-1))"
      ]
    },
    {
      "cell_type": "code",
      "execution_count": null,
      "metadata": {
        "id": "leAZ9SGYBosl",
        "outputId": "029d9914-bfbe-4fde-a249-be847a556cf9"
      },
      "outputs": [
        {
          "data": {
            "text/html": [
              "<div>\n",
              "<style scoped>\n",
              "    .dataframe tbody tr th:only-of-type {\n",
              "        vertical-align: middle;\n",
              "    }\n",
              "\n",
              "    .dataframe tbody tr th {\n",
              "        vertical-align: top;\n",
              "    }\n",
              "\n",
              "    .dataframe thead th {\n",
              "        text-align: right;\n",
              "    }\n",
              "</style>\n",
              "<table border=\"1\" class=\"dataframe\">\n",
              "  <thead>\n",
              "    <tr style=\"text-align: right;\">\n",
              "      <th></th>\n",
              "      <th>viagra</th>\n",
              "      <th>love</th>\n",
              "      <th>dollar</th>\n",
              "      <th>buy</th>\n",
              "    </tr>\n",
              "    <tr>\n",
              "      <th>is_spam</th>\n",
              "      <th></th>\n",
              "      <th></th>\n",
              "      <th></th>\n",
              "      <th></th>\n",
              "    </tr>\n",
              "  </thead>\n",
              "  <tbody>\n",
              "    <tr>\n",
              "      <th>0</th>\n",
              "      <td>0.03</td>\n",
              "      <td>0.36</td>\n",
              "      <td>0.02</td>\n",
              "      <td>0.02</td>\n",
              "    </tr>\n",
              "    <tr>\n",
              "      <th>1</th>\n",
              "      <td>0.32</td>\n",
              "      <td>0.05</td>\n",
              "      <td>0.83</td>\n",
              "      <td>0.74</td>\n",
              "    </tr>\n",
              "  </tbody>\n",
              "</table>\n",
              "</div>"
            ],
            "text/plain": [
              "         viagra  love  dollar   buy\n",
              "is_spam                            \n",
              "0          0.03  0.36    0.02  0.02\n",
              "1          0.32  0.05    0.83  0.74"
            ]
          },
          "execution_count": 7,
          "metadata": {},
          "output_type": "execute_result"
        }
      ],
      "source": [
        "spam.groupby(\"is_spam\").mean()"
      ]
    },
    {
      "cell_type": "code",
      "execution_count": null,
      "metadata": {
        "id": "1WCIUKXrBosm",
        "outputId": "72c3ea69-c84d-49dd-ba09-acd77ea02f59"
      },
      "outputs": [
        {
          "name": "stdout",
          "output_type": "stream",
          "text": [
            "Spam 0.010441400\n",
            "Ham 0.000069840\n"
          ]
        }
      ],
      "source": [
        "# probabilities by hand \n",
        "spam_score = (1-0.32)*(0.05)*(0.83)*(0.74)*0.5\n",
        "ham_score = (1-0.03)*(0.36)*(0.02)*(0.02)*0.5\n",
        "\n",
        "print(\"Spam\", f\"{spam_score:.9f}\")\n",
        "print(\"Ham\", f\"{ham_score:.9f}\")"
      ]
    },
    {
      "cell_type": "markdown",
      "metadata": {
        "id": "3MDPcu-uBosm"
      },
      "source": [
        "# NB in sklearn\n",
        "In sklearn there are 3 main functions you can use to perform Naive Bayes:\n",
        "\n",
        "* `GaussianNB()`: Assumes that features follow a Normal/Gaussian Distribution.\n",
        "* `BernoulliNB()`: Assumes features are binary (0/1)\n",
        "* `CategoricalNB()`: Assumes features are discrete categories (can have more than 2 categories)\n",
        "\n",
        "This means that if your features are continuous you'd use `GaussianNB()`, if they are only binary, use `BernoulliNB()` and if they are only Categorical, use `CategoricalNB()`. In practice, we'll often use either `GaussianNB()` or `CategoricalNB()` (since `CategoricalNB()` can also handle it when we have binary + categorical).\n",
        "\n",
        "This means that computationally, we cannot have both continuous + categorical predictors in one sklearn NB model. (There are workarounds for this: see [here](https://stackoverflow.com/questions/14254203/mixing-categorial-and-continuous-data-in-naive-bayes-classifier-using-scikit-lea), but for now, we'll be using only one or the other).\n"
      ]
    },
    {
      "cell_type": "code",
      "execution_count": null,
      "metadata": {
        "id": "0DcvJ1_IBosn"
      },
      "outputs": [],
      "source": [
        "# generate fake continuous predictors\n",
        "n = 1000\n",
        "outcome = np.random.binomial(1,p = 0.6, size = n)\n",
        "x1 = np.random.normal(loc = outcome*0.5 , scale = 1, size = n)\n",
        "x2 = np.random.normal(loc = outcome*-0.01 , scale = 1, size = n)\n",
        "x3 = np.random.normal(loc = 0 , scale = 1, size = n) #no relationship to outcome\n"
      ]
    },
    {
      "cell_type": "code",
      "execution_count": null,
      "metadata": {
        "id": "AUAUWwWgBoso",
        "outputId": "3ffdd5bd-52ee-4453-a00e-826110bae595"
      },
      "outputs": [
        {
          "data": {
            "text/html": [
              "<div>\n",
              "<style scoped>\n",
              "    .dataframe tbody tr th:only-of-type {\n",
              "        vertical-align: middle;\n",
              "    }\n",
              "\n",
              "    .dataframe tbody tr th {\n",
              "        vertical-align: top;\n",
              "    }\n",
              "\n",
              "    .dataframe thead th {\n",
              "        text-align: right;\n",
              "    }\n",
              "</style>\n",
              "<table border=\"1\" class=\"dataframe\">\n",
              "  <thead>\n",
              "    <tr style=\"text-align: right;\">\n",
              "      <th></th>\n",
              "      <th>y</th>\n",
              "      <th>x1</th>\n",
              "      <th>x2</th>\n",
              "      <th>x3</th>\n",
              "    </tr>\n",
              "  </thead>\n",
              "  <tbody>\n",
              "    <tr>\n",
              "      <th>0</th>\n",
              "      <td>0</td>\n",
              "      <td>-0.639415</td>\n",
              "      <td>1.934902</td>\n",
              "      <td>-0.842697</td>\n",
              "    </tr>\n",
              "    <tr>\n",
              "      <th>1</th>\n",
              "      <td>0</td>\n",
              "      <td>-0.562001</td>\n",
              "      <td>-0.779741</td>\n",
              "      <td>-0.432348</td>\n",
              "    </tr>\n",
              "    <tr>\n",
              "      <th>2</th>\n",
              "      <td>0</td>\n",
              "      <td>1.099570</td>\n",
              "      <td>-0.237491</td>\n",
              "      <td>-0.349029</td>\n",
              "    </tr>\n",
              "    <tr>\n",
              "      <th>3</th>\n",
              "      <td>0</td>\n",
              "      <td>0.684867</td>\n",
              "      <td>-0.939055</td>\n",
              "      <td>0.777900</td>\n",
              "    </tr>\n",
              "    <tr>\n",
              "      <th>4</th>\n",
              "      <td>0</td>\n",
              "      <td>-0.710975</td>\n",
              "      <td>-0.193240</td>\n",
              "      <td>0.071525</td>\n",
              "    </tr>\n",
              "  </tbody>\n",
              "</table>\n",
              "</div>"
            ],
            "text/plain": [
              "   y        x1        x2        x3\n",
              "0  0 -0.639415  1.934902 -0.842697\n",
              "1  0 -0.562001 -0.779741 -0.432348\n",
              "2  0  1.099570 -0.237491 -0.349029\n",
              "3  0  0.684867 -0.939055  0.777900\n",
              "4  0 -0.710975 -0.193240  0.071525"
            ]
          },
          "execution_count": 12,
          "metadata": {},
          "output_type": "execute_result"
        }
      ],
      "source": [
        "df = pd.DataFrame({\"y\": outcome,\n",
        "                  \"x1\": x1,\n",
        "                  \"x2\": x2,\n",
        "                  \"x3\": x3,})\n",
        "\n",
        "df.head()"
      ]
    },
    {
      "cell_type": "code",
      "execution_count": null,
      "metadata": {
        "id": "CblzWDh1Boso",
        "outputId": "40dfc1a2-d2c1-4831-ce65-e1ddfc5a3066"
      },
      "outputs": [
        {
          "name": "stdout",
          "output_type": "stream",
          "text": [
            "Test Acc: 0.628\n",
            "Train Acc: 0.635\n"
          ]
        },
        {
          "data": {
            "image/png": "[encoded data removed]",
            "text/plain": [
              "<Figure size 432x288 with 2 Axes>"
            ]
          },
          "metadata": {
            "needs_background": "light"
          },
          "output_type": "display_data"
        },
        {
          "data": {
            "image/png": "[encoded data removed]",
            "text/plain": [
              "<Figure size 432x288 with 2 Axes>"
            ]
          },
          "metadata": {
            "needs_background": "light"
          },
          "output_type": "display_data"
        },
        {
          "data": {
            "image/png": "[encoded data removed]",
            "text/plain": [
              "<Figure size 432x288 with 2 Axes>"
            ]
          },
          "metadata": {
            "needs_background": "light"
          },
          "output_type": "display_data"
        },
        {
          "data": {
            "image/png": "[encoded data removed]",
            "text/plain": [
              "<Figure size 432x288 with 2 Axes>"
            ]
          },
          "metadata": {
            "needs_background": "light"
          },
          "output_type": "display_data"
        },
        {
          "data": {
            "image/png": "[encoded data removed]",
            "text/plain": [
              "<Figure size 432x288 with 2 Axes>"
            ]
          },
          "metadata": {
            "needs_background": "light"
          },
          "output_type": "display_data"
        }
      ],
      "source": [
        "X = df[[\"x1\", \"x2\", \"x3\"]]\n",
        "y = df[\"y\"]\n",
        "\n",
        "kf = KFold(n_splits = 5)\n",
        "\n",
        "nb2 = GaussianNB()\n",
        "\n",
        "acc_train = []\n",
        "acc_test = []\n",
        "\n",
        "for train,test in kf.split(X):\n",
        "    X_train = X.iloc[train]\n",
        "    X_test = X.iloc[test]\n",
        "    y_train = y[train]\n",
        "    y_test = y[test]\n",
        "    \n",
        "    z = StandardScaler()\n",
        "    X_train = z.fit_transform(X_train)\n",
        "    X_test = z.transform(X_test)\n",
        "    \n",
        "    nb2.fit(X_train,y_train)\n",
        "    \n",
        "    acc_test.append(accuracy_score(y_test, nb2.predict(X_test)))\n",
        "    acc_train.append(accuracy_score(y_train, nb2.predict(X_train)))\n",
        "    plot_confusion_matrix(nb2, X_test,y_test)\n",
        "\n",
        "print(\"Test Acc: \" + str(np.mean(acc_test)))\n",
        "print(\"Train Acc: \" + str(np.mean(acc_train)))"
      ]
    },
    {
      "cell_type": "code",
      "execution_count": null,
      "metadata": {
        "collapsed": true,
        "id": "jXy7a9qMBosp"
      },
      "outputs": [],
      "source": [
        "()"
      ]
    }
  ],
  "metadata": {
    "hide_input": false,
    "kernelspec": {
      "display_name": "Python 3",
      "language": "python",
      "name": "python3"
    },
    "language_info": {
      "codemirror_mode": {
        "name": "ipython",
        "version": 3
      },
      "file_extension": ".py",
      "mimetype": "text/x-python",
      "name": "python",
      "nbconvert_exporter": "python",
      "pygments_lexer": "ipython3",
      "version": "3.7.3"
    },
    "toc": {
      "base_numbering": 1,
      "nav_menu": {},
      "number_sections": true,
      "sideBar": true,
      "skip_h1_title": false,
      "title_cell": "Table of Contents",
      "title_sidebar": "Contents",
      "toc_cell": false,
      "toc_position": {},
      "toc_section_display": true,
      "toc_window_display": false
    },
    "colab": {
      "name": "NaiveBayes--Class 13.ipynb",
      "provenance": []
    }
  },
  "nbformat": 4,
  "nbformat_minor": 0
}
{
  "cells": [
    {
      "cell_type": "markdown",
      "metadata": {
        "id": "It-Vfjxl64kv"
      },
      "source": [
        "# Project 1\n",
        "\n",
        "[This dataset](https://raw.githubusercontent.com/cmparlettpelleriti/CPSC392ParlettPelleriti/master/Data/Proj1.csv) is adapted from the World Health Organization on Strokes (it's based on real data but is NOT REAL). Use this dataset to answer the following questions and perform the following tasks. Feel free to add extra cells as needed, but <strong>clearly identify where each question is answered, both the code and Markdown cells</strong>. Please remove any superflous code. Please put any written/typed responses in MARKDOWN CELLS.\n",
        "\n",
        "## Data Information\n",
        "\n",
        "- `reg_to_vote`: 0 if no, 1 if yes.\n",
        "- `age`: age of the patient in years.\n",
        "- `hypertension`: 0 if the patient doesn't have hypertension, 1 if the patient has hypertension.\n",
        "- `heart_disease`: 0 if the patient doesn't have any heart diseases, 1 if the patient has a heart disease.\n",
        "- `ever_married`: 0 if no, 1 if yes.\n",
        "- `Residence_type`: 0 for Rural, 1 for Urban.\n",
        "- `avg_glucose_level`: average glucose level in blood.\n",
        "- `bmi`: body mass index.\n",
        "- `smoking_status_smokes`, `smoking_status_formerly`: Whether or not the person smokes, or formerly smoked. If a person has 0's for both these columns, they never smoked.\n",
        "- `stroke`: 1 if the patient had a stroke or 0 if not.\n",
        "- `dog_owner`: 0 if no, 1 if yes.\n",
        "- `income_in_k`: income in thousands\n",
        "- `er_visits`: number of recorded Emergency Room visits in lifetime.\n",
        "- `raccoons_to_fight`: number of racoons the patient belives they could fight off at once.\n",
        "- `fast_food_budget_month`: amount (in US dollars) spent on fast food per month.\n",
        "\n",
        "\n",
        "## Part I: Logistic Regression\n",
        "Build a logistic regression model to predict whether or not someone had a `stroke` based on **all** the other variables in the dataset.\n",
        "\n",
        "1. Count the missing data per column, and remove rows with missing data (if any).\n",
        "2. Use 10 fold cross validation for your model validation. Z-score your continuous/interval variables only. Store both the train and test accuracies to check for overfitting. **Is the model overfit? How can you tell?**\n",
        "3. After completing steps 1-2, fit another logistic regression model on ALL of the data (no model validation; but do z score) using the same predictors as before, and put the coefficients into a dataframe called `coef`.\n",
        "4. print out a confusion matrix for the model you made in part 3. **What does this confusion matrix tell you about your model? How can you tell?**\n",
        "\n",
        "## Part II: Data Exploration\n",
        "The WHO has asked the following five questions, create **at least 1 ggplot graph per question** (using the above data + model when needed) to help answer each question, and **explicitly answer the question in a Markdown cell** below your graph. You may use other calculations to help support your answer but MUST pair it with a graph. Write your answer as if you were explaining it to a non-data scientist. You will be graded on the effectiveness and clarity of your graph, as well as the completeness, clarity, and correctness of your responses and justifications.\n",
        "\n",
        "1. In this specific data set, do dog-owners over 50 have a higher average probability of stoke than non-dog owners who currently smoke? How can you tell? (Do not use the model for this question, it's asking you to compare the observed probability of having a stroke in the two groups described).\n",
        "2. What is the relationship between average blood glucose and BMI? Is the relationship between those two variables different for people who are and are not registered to vote? How can you tell?\n",
        "3. Is your logistic regression model most accurate for people who make less than 30k, between 30-90k, or over 90k? Discuss the potential accuracy *and* ethical implications if your model *were* more accurate for different groups (you can use the full model from part I-3 to check accuracy for each of these groups; DO NOT create/fit new models for each income range, use the model from part I-3 to calculate the accuracy for each of these groups.)\n",
        "4. Which of the following variables is the strongest predictor of having a stroke (owning a dog, residence type, marriage, being registered to vote)? How were you able to tell?\n",
        "5. Create a variable `er_visits_per_year` that calculates the # of visits to the ER that a person has had per year of life. Store this variable in your data frame (no need to include this variable in the previous logistic regression model). Is the # of ER visits per year different for stroke and non-stroke patients? How can you tell?"
      ]
    },
    {
      "cell_type": "code",
      "execution_count": null,
      "metadata": {
        "id": "kVvBQD0r64kz"
      },
      "outputs": [],
      "source": [
        ""
      ]
    }
  ],
  "metadata": {
    "hide_input": false,
    "kernelspec": {
      "display_name": "Python 3",
      "language": "python",
      "name": "python3"
    },
    "language_info": {
      "codemirror_mode": {
        "name": "ipython",
        "version": 3
      },
      "file_extension": ".py",
      "mimetype": "text/x-python",
      "name": "python",
      "nbconvert_exporter": "python",
      "pygments_lexer": "ipython3",
      "version": "3.8.1"
    },
    "toc": {
      "base_numbering": 1,
      "nav_menu": {},
      "number_sections": true,
      "sideBar": true,
      "skip_h1_title": false,
      "title_cell": "Table of Contents",
      "title_sidebar": "Contents",
      "toc_cell": false,
      "toc_position": {},
      "toc_section_display": true,
      "toc_window_display": false
    },
    "colab": {
      "name": "Project1_SP22.ipynb",
      "provenance": []
    }
  },
  "nbformat": 4,
  "nbformat_minor": 0
}
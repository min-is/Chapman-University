{
  "cells": [
    {
      "cell_type": "markdown",
      "metadata": {
        "id": "BxFW-vPo6QBT"
      },
      "source": [
        "# Project 2\n",
        "\n",
        "## GENERAL INSTRUCTIONS:\n",
        "\n",
        "**this is NOT a group project**\n",
        "- **CLEARLY** mark where you are answering each question (all written questions must be answered in Markdown cells, NOT as comments in code cells)\n",
        "- Show all code necessary for the analysis, but remove superfluous code\n",
        "\n",
        "---\n",
        "\n",
        "\n",
        "# DONUTS\n",
        "\n",
        "Using the dataset [*krispykreme.csv*](https://raw.githubusercontent.com/cmparlettpelleriti/CPSC392ParlettPelleriti/master/Data/KrispyKreme.csv),\n",
        "\n",
        "- **a)** make 3 scatterplots using ggplot to show:\n",
        "    - `Sodium_100g` vs `Total_Fat_100g`\n",
        "    - `Sodium_100g` vs. `Sugar_100g`\n",
        "    - `Sugar_100g` vs `Total_Fat_100g`\n",
        "    \n",
        "    You will be graded on the effectiveness of the graphs as well as their content.\n",
        "    \n",
        "    \n",
        "- **b)** Using the scatterplots from part **a** as well as the donuts dataset, **thouroughly discuss which clustering method** (KMeans, Gaussian Mixture Models (EM), Hierarchical Clustering, or DBSCAN) **you think would be best for this data and WHY**. Be sure to include discussions of assumptions each algorithm does/does not make, and what types of data they are good/bad for (**mention each of the 4 algorithms at least once**) and how they apply to this specific dataset. (*IN A MARKDOWN CELL*)\n",
        "    - you should be making statements that both 1) discuss characteristics of the algorithm and 2) specifically discuss how that characteristic applies (or doesn't) to this dataset.\n",
        "\n",
        "Please note that for this assignment, \"It's easier to code\" does not count as a valid reason. The reasons should be based on the algorithms/data.\n",
        "\n",
        "\n",
        "(You must use \"\\*\\*\" to make any mention of one of the algorithms bold in your discussion. For example \"I think \\*\\*DBSCAN\\*\\* is the best algorithm ever!\" will make the word \"**DBSCAN**\" bold in a Markdown cell).\n",
        "\n",
        "- **c)** **Implement the TWO algorithms** you think will work BEST (1 algo) and WORST (1 algo) here using all 3 variables `Sodium_100g`, `Total_Fat_100g` and `Sugar_100g`, and describe **how you chose any hyperparameters** (such as distance, # of clusters, min_samples, eps, linkage...etc). Make sure to z-score your variables. (*IN A MARKDOWN CELL*)\n",
        "\n",
        "\n",
        "\n",
        "- **d)** **Thouroughly discuss the performance** of your clustering models. For each algorithm (best and worst): \n",
        "    - which metric did you use to asses your model? (*IN A MARKDOWN CELL*)\n",
        "    - how did your model perform? (*IN A MARKDOWN CELL*)\n",
        "    - remake the 3 graphs from part a, but color by cluster assignment. Describe what characterizes each cluster, and give an example of a label for that cluster (e.g. \"these donuts are low fat, and low sugar so I would call these healthy donuts\") (*IN A MARKDOWN CELL*)\n",
        "\n",
        "\n",
        "\n",
        "- **e)** Choose ONE other of the `_100g` variables from the data set to **add to your clustering model** to improve it.\n",
        "    - explain why you chose this variable. Either based on improvement in metrics, or outside knowledge you have about food/donuts (*IN A MARKDOWN CELL*)\n",
        "    - make a new model, identical to the model you thought would be best in part c, but also including your new variable.\n",
        "    - did this variable improve the fit of your clustering model? How can you tell? (*IN A MARKDOWN CELL*)\n",
        "    \n",
        "    \n",
        "    \n",
        "Note: The columns with `_100g` at the end represent the amount of that nutrient per 100 grams of the food. For example, `Total_Fat` tells you the total amount of fat in that food, whereas `Total_Fat_100g` tells you how much fat there is per 100 grams of that food."
      ]
    },
    {
      "cell_type": "code",
      "execution_count": null,
      "metadata": {
        "id": "y4bUVmFk6QBV"
      },
      "outputs": [],
      "source": [
        "# import necessary packages\n",
        "\n"
      ]
    },
    {
      "cell_type": "code",
      "execution_count": null,
      "metadata": {
        "id": "Bwhe3oD86QBW"
      },
      "outputs": [],
      "source": [
        "# a\n"
      ]
    },
    {
      "cell_type": "markdown",
      "metadata": {
        "id": "74_JzDan6QBX"
      },
      "source": [
        "b) "
      ]
    },
    {
      "cell_type": "code",
      "execution_count": null,
      "metadata": {
        "id": "8noAyALV6QBX"
      },
      "outputs": [],
      "source": [
        "# c"
      ]
    },
    {
      "cell_type": "markdown",
      "metadata": {
        "id": "rbZXDmBu6QBX"
      },
      "source": [
        "c)"
      ]
    },
    {
      "cell_type": "markdown",
      "metadata": {
        "id": "1KC1ZjFo6QBX"
      },
      "source": [
        "d)"
      ]
    },
    {
      "cell_type": "code",
      "execution_count": null,
      "metadata": {
        "id": "kU7OjtN06QBX"
      },
      "outputs": [],
      "source": [
        "# e"
      ]
    },
    {
      "cell_type": "markdown",
      "metadata": {
        "id": "g3_KsBFB6QBY"
      },
      "source": [
        "e)"
      ]
    }
  ],
  "metadata": {
    "hide_input": false,
    "kernelspec": {
      "display_name": "Python 3",
      "language": "python",
      "name": "python3"
    },
    "language_info": {
      "codemirror_mode": {
        "name": "ipython",
        "version": 3
      },
      "file_extension": ".py",
      "mimetype": "text/x-python",
      "name": "python",
      "nbconvert_exporter": "python",
      "pygments_lexer": "ipython3",
      "version": "3.7.3"
    },
    "toc": {
      "base_numbering": 1,
      "nav_menu": {},
      "number_sections": true,
      "sideBar": true,
      "skip_h1_title": false,
      "title_cell": "Table of Contents",
      "title_sidebar": "Contents",
      "toc_cell": false,
      "toc_position": {},
      "toc_section_display": true,
      "toc_window_display": false
    },
    "colab": {
      "name": "Project2_SP22.ipynb",
      "provenance": []
    }
  },
  "nbformat": 4,
  "nbformat_minor": 0
}